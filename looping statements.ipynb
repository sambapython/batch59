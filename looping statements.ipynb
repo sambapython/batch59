{
 "cells": [
  {
   "cell_type": "code",
   "execution_count": 1,
   "metadata": {},
   "outputs": [
    {
     "name": "stdout",
     "output_type": "stream",
     "text": [
      "st1\n",
      "st2\n",
      "st3\n",
      "st4\n"
     ]
    }
   ],
   "source": [
    "print(\"st1\")\n",
    "print(\"st2\")\n",
    "print(\"st3\")\n",
    "print(\"st4\")"
   ]
  },
  {
   "cell_type": "code",
   "execution_count": 3,
   "metadata": {},
   "outputs": [
    {
     "name": "stdout",
     "output_type": "stream",
     "text": [
      "welcome\n",
      "0\n",
      "thank you\n"
     ]
    }
   ],
   "source": [
    "print(\"welcome\")\n",
    "i=0\n",
    "if i<4:\n",
    "    print(i)\n",
    "    i=i+1\n",
    "print(\"thank you\")"
   ]
  },
  {
   "cell_type": "code",
   "execution_count": 4,
   "metadata": {},
   "outputs": [
    {
     "name": "stdout",
     "output_type": "stream",
     "text": [
      "welcome\n",
      "0\n",
      "1\n",
      "2\n",
      "3\n",
      "thank you\n"
     ]
    }
   ],
   "source": [
    "print(\"welcome\")\n",
    "i=0\n",
    "while i<4:\n",
    "    print(i)\n",
    "    i=i+1\n",
    "print(\"thank you\")"
   ]
  },
  {
   "cell_type": "code",
   "execution_count": 5,
   "metadata": {},
   "outputs": [
    {
     "name": "stdout",
     "output_type": "stream",
     "text": [
      "welcome\n",
      "thank you\n"
     ]
    }
   ],
   "source": [
    "print(\"welcome\")\n",
    "i=10\n",
    "while i<4:\n",
    "    print(i)\n",
    "    i=i+1\n",
    "print(\"thank you\")"
   ]
  },
  {
   "cell_type": "code",
   "execution_count": 6,
   "metadata": {},
   "outputs": [
    {
     "name": "stdout",
     "output_type": "stream",
     "text": [
      "welcome\n",
      "thank you\n"
     ]
    }
   ],
   "source": [
    "print(\"welcome\")\n",
    "i=0\n",
    "while i<-4:\n",
    "    print(i)\n",
    "    i=i+1\n",
    "print(\"thank you\")"
   ]
  },
  {
   "cell_type": "code",
   "execution_count": null,
   "metadata": {},
   "outputs": [],
   "source": [
    "print(\"welcome\")\n",
    "i=0\n",
    "while i<4:\n",
    "    print(i)\n",
    "    i=i-1\n",
    "print(\"thank you\")"
   ]
  },
  {
   "cell_type": "code",
   "execution_count": 7,
   "metadata": {},
   "outputs": [
    {
     "data": {
      "text/plain": [
       "'apple'"
      ]
     },
     "execution_count": 7,
     "metadata": {},
     "output_type": "execute_result"
    }
   ],
   "source": [
    "l=[\"apple\",\"banana\",\"orange\",\"guwa\"]\n",
    "l[0]"
   ]
  },
  {
   "cell_type": "code",
   "execution_count": 8,
   "metadata": {},
   "outputs": [
    {
     "data": {
      "text/plain": [
       "'banana'"
      ]
     },
     "execution_count": 8,
     "metadata": {},
     "output_type": "execute_result"
    }
   ],
   "source": [
    "l[1]"
   ]
  },
  {
   "cell_type": "code",
   "execution_count": 9,
   "metadata": {},
   "outputs": [
    {
     "data": {
      "text/plain": [
       "'orange'"
      ]
     },
     "execution_count": 9,
     "metadata": {},
     "output_type": "execute_result"
    }
   ],
   "source": [
    "l[2]"
   ]
  },
  {
   "cell_type": "code",
   "execution_count": 10,
   "metadata": {},
   "outputs": [
    {
     "data": {
      "text/plain": [
       "'guwa'"
      ]
     },
     "execution_count": 10,
     "metadata": {},
     "output_type": "execute_result"
    }
   ],
   "source": [
    "l[3]"
   ]
  },
  {
   "cell_type": "code",
   "execution_count": 11,
   "metadata": {},
   "outputs": [
    {
     "ename": "IndexError",
     "evalue": "list index out of range",
     "output_type": "error",
     "traceback": [
      "\u001b[0;31m---------------------------------------------------------------------------\u001b[0m",
      "\u001b[0;31mIndexError\u001b[0m                                Traceback (most recent call last)",
      "\u001b[0;32m<ipython-input-11-32713d2680e6>\u001b[0m in \u001b[0;36m<module>\u001b[0;34m()\u001b[0m\n\u001b[0;32m----> 1\u001b[0;31m \u001b[0ml\u001b[0m\u001b[0;34m[\u001b[0m\u001b[0;36m4\u001b[0m\u001b[0;34m]\u001b[0m\u001b[0;34m\u001b[0m\u001b[0m\n\u001b[0m",
      "\u001b[0;31mIndexError\u001b[0m: list index out of range"
     ]
    }
   ],
   "source": [
    "l[4]"
   ]
  },
  {
   "cell_type": "code",
   "execution_count": 13,
   "metadata": {},
   "outputs": [
    {
     "name": "stdout",
     "output_type": "stream",
     "text": [
      "apple\n",
      "banana\n",
      "orange\n",
      "guwa\n",
      "grapes\n",
      "pineapple\n",
      "pomogranite\n"
     ]
    }
   ],
   "source": [
    "l=[\"apple\",\"banana\",\"orange\",\"guwa\",\"grapes\",\"pineapple\",\"pomogranite\"]\n",
    "print(l[0])\n",
    "print(l[1])\n",
    "print(l[2])\n",
    "print(l[3])\n",
    "print(l[4])\n",
    "print(l[5])\n",
    "print(l[6])"
   ]
  },
  {
   "cell_type": "code",
   "execution_count": 14,
   "metadata": {},
   "outputs": [
    {
     "name": "stdout",
     "output_type": "stream",
     "text": [
      "0\n",
      "1\n",
      "2\n",
      "3\n",
      "4\n",
      "5\n",
      "6\n"
     ]
    }
   ],
   "source": [
    "l=[\"apple\",\"banana\",\"orange\",\"guwa\",\"grapes\",\"pineapple\",\"pomogranite\"]\n",
    "i=0\n",
    "while i<7:\n",
    "    print(i)\n",
    "    i=i+1"
   ]
  },
  {
   "cell_type": "code",
   "execution_count": 15,
   "metadata": {},
   "outputs": [
    {
     "name": "stdout",
     "output_type": "stream",
     "text": [
      "apple\n",
      "banana\n",
      "orange\n",
      "guwa\n",
      "grapes\n",
      "pineapple\n",
      "pomogranite\n"
     ]
    }
   ],
   "source": [
    "l=[\"apple\",\"banana\",\"orange\",\"guwa\",\"grapes\",\"pineapple\",\"pomogranite\"]\n",
    "i=0\n",
    "while i<7:\n",
    "    print(l[i])\n",
    "    i=i+1"
   ]
  },
  {
   "cell_type": "code",
   "execution_count": 16,
   "metadata": {},
   "outputs": [
    {
     "name": "stdout",
     "output_type": "stream",
     "text": [
      "apple\n",
      "banana\n",
      "orange\n",
      "guwa\n",
      "grapes\n",
      "pineapple\n",
      "pomogranite\n"
     ]
    }
   ],
   "source": [
    "l=[\"apple\",\"banana\",\"orange\",\"guwa\",\"grapes\",\"pineapple\",\"pomogranite\"]\n",
    "i=0\n",
    "while i<len(l):\n",
    "    print(l[i])\n",
    "    i=i+1"
   ]
  },
  {
   "cell_type": "code",
   "execution_count": 17,
   "metadata": {},
   "outputs": [
    {
     "name": "stdout",
     "output_type": "stream",
     "text": [
      "apple\n",
      "banana\n",
      "orange\n",
      "guwa\n",
      "grapes\n",
      "pineapple\n",
      "pomogranite\n"
     ]
    }
   ],
   "source": [
    "l=[\"apple\",\"banana\",\"orange\",\"guwa\",\"grapes\",\"pineapple\",\"pomogranite\"]\n",
    "for i in l:\n",
    "    print(i)"
   ]
  },
  {
   "cell_type": "code",
   "execution_count": 18,
   "metadata": {},
   "outputs": [
    {
     "name": "stdout",
     "output_type": "stream",
     "text": [
      "********************\n",
      "apple\n",
      "********************\n",
      "banana\n",
      "********************\n",
      "orange\n",
      "********************\n",
      "guwa\n",
      "********************\n",
      "grapes\n",
      "********************\n",
      "pineapple\n",
      "********************\n",
      "pomogranite\n"
     ]
    }
   ],
   "source": [
    "l=[\"apple\",\"banana\",\"orange\",\"guwa\",\"grapes\",\"pineapple\",\"pomogranite\"]\n",
    "for i in l:\n",
    "    print(\"*\"*20)\n",
    "    print(i)"
   ]
  },
  {
   "cell_type": "code",
   "execution_count": 19,
   "metadata": {},
   "outputs": [
    {
     "name": "stdout",
     "output_type": "stream",
     "text": [
      "welcome\n",
      "********************\n",
      "apple\n",
      "********************\n",
      "banana\n",
      "********************\n",
      "orange\n",
      "********************\n",
      "guwa\n",
      "********************\n",
      "grapes\n",
      "********************\n",
      "pineapple\n",
      "********************\n",
      "pomogranite\n",
      "thank you\n"
     ]
    }
   ],
   "source": [
    "print(\"welcome\")\n",
    "l=[\"apple\",\"banana\",\"orange\",\"guwa\",\"grapes\",\"pineapple\",\"pomogranite\"]\n",
    "for i in l:\n",
    "    print(\"*\"*20)\n",
    "    print(i)\n",
    "print(\"thank you\")"
   ]
  },
  {
   "cell_type": "code",
   "execution_count": null,
   "metadata": {},
   "outputs": [],
   "source": [
    "print(\"welcome\")\n",
    "l=\"python\"\n",
    "for i in l:\n",
    "    print(\"*\"*20)\n",
    "    print(i)\n",
    "print(\"thank you\")"
   ]
  },
  {
   "cell_type": "code",
   "execution_count": 20,
   "metadata": {},
   "outputs": [
    {
     "name": "stdout",
     "output_type": "stream",
     "text": [
      "1\n",
      "20\n",
      "34\n",
      "54\n",
      "67\n",
      "89\n",
      "90\n",
      "60\n"
     ]
    }
   ],
   "source": [
    "l=[1,20,34,54,67,89,90,60]\n",
    "# 1-->odd\n",
    "#20-->even\n",
    "for i in l:\n",
    "    print(i)"
   ]
  },
  {
   "cell_type": "code",
   "execution_count": 21,
   "metadata": {},
   "outputs": [
    {
     "name": "stdout",
     "output_type": "stream",
     "text": [
      "1-->ODD\n",
      "20-->EVEN\n",
      "34-->EVEN\n",
      "54-->EVEN\n",
      "67-->ODD\n",
      "89-->ODD\n",
      "90-->EVEN\n",
      "60-->EVEN\n"
     ]
    }
   ],
   "source": [
    "l=[1,20,34,54,67,89,90,60]\n",
    "# 1-->odd\n",
    "#20-->even\n",
    "for i in l:\n",
    "    if i%2==0:\n",
    "        print(f\"{i}-->EVEN\")\n",
    "    else:\n",
    "        print(f\"{i}-->ODD\")"
   ]
  },
  {
   "cell_type": "code",
   "execution_count": 22,
   "metadata": {},
   "outputs": [
    {
     "name": "stdout",
     "output_type": "stream",
     "text": [
      "1-->ODD\n",
      "20-->EVEN\n",
      "34-->EVEN\n",
      "54-->EVEN\n",
      "67-->ODD\n",
      "89-->ODD\n",
      "90-->EVEN\n",
      "60-->EVEN\n"
     ]
    }
   ],
   "source": [
    "l=[1,20,34,54,67,89,90,60]\n",
    "# 1-->odd\n",
    "#20-->even\n",
    "for i in l:\n",
    "    if i%2==0:\n",
    "        print(\"%s-->EVEN\"%i)\n",
    "    else:\n",
    "        print(\"%s-->ODD\"%i)"
   ]
  },
  {
   "cell_type": "code",
   "execution_count": 23,
   "metadata": {},
   "outputs": [
    {
     "name": "stdout",
     "output_type": "stream",
     "text": [
      "20-->EVEN\n",
      "34-->EVEN\n",
      "54-->EVEN\n",
      "90-->EVEN\n",
      "60-->EVEN\n"
     ]
    }
   ],
   "source": [
    "l=[1,20,34,54,67,89,90,60]\n",
    "# 1-->odd\n",
    "#20-->even\n",
    "for i in l:\n",
    "    if i%2==0:\n",
    "        print(\"%s-->EVEN\"%i)\n",
    "    "
   ]
  },
  {
   "cell_type": "code",
   "execution_count": 24,
   "metadata": {},
   "outputs": [
    {
     "name": "stdout",
     "output_type": "stream",
     "text": [
      "1-->ODD\n",
      "20-->EVEN\n",
      "34-->EVEN\n",
      "54-->EVEN\n",
      "67-->ODD\n",
      "89-->ODD\n",
      "90-->EVEN\n",
      "60-->EVEN\n"
     ]
    },
    {
     "ename": "TypeError",
     "evalue": "not all arguments converted during string formatting",
     "output_type": "error",
     "traceback": [
      "\u001b[0;31m---------------------------------------------------------------------------\u001b[0m",
      "\u001b[0;31mTypeError\u001b[0m                                 Traceback (most recent call last)",
      "\u001b[0;32m<ipython-input-24-839c8026337c>\u001b[0m in \u001b[0;36m<module>\u001b[0;34m()\u001b[0m\n\u001b[1;32m      3\u001b[0m \u001b[0;31m#20-->even\u001b[0m\u001b[0;34m\u001b[0m\u001b[0;34m\u001b[0m\u001b[0m\n\u001b[1;32m      4\u001b[0m \u001b[0;32mfor\u001b[0m \u001b[0mi\u001b[0m \u001b[0;32min\u001b[0m \u001b[0ml\u001b[0m\u001b[0;34m:\u001b[0m\u001b[0;34m\u001b[0m\u001b[0m\n\u001b[0;32m----> 5\u001b[0;31m     \u001b[0;32mif\u001b[0m \u001b[0mi\u001b[0m\u001b[0;34m%\u001b[0m\u001b[0;36m2\u001b[0m\u001b[0;34m==\u001b[0m\u001b[0;36m0\u001b[0m\u001b[0;34m:\u001b[0m\u001b[0;34m\u001b[0m\u001b[0m\n\u001b[0m\u001b[1;32m      6\u001b[0m         \u001b[0mprint\u001b[0m\u001b[0;34m(\u001b[0m\u001b[0;34m\"%s-->EVEN\"\u001b[0m\u001b[0;34m%\u001b[0m\u001b[0mi\u001b[0m\u001b[0;34m)\u001b[0m\u001b[0;34m\u001b[0m\u001b[0m\n\u001b[1;32m      7\u001b[0m     \u001b[0;32melse\u001b[0m\u001b[0;34m:\u001b[0m\u001b[0;34m\u001b[0m\u001b[0m\n",
      "\u001b[0;31mTypeError\u001b[0m: not all arguments converted during string formatting"
     ]
    }
   ],
   "source": [
    "l=[1,20,34,54,67,89,90,60,\"wert\"]\n",
    "# 1-->odd\n",
    "#20-->even\n",
    "for i in l:\n",
    "    if i%2==0:\n",
    "        print(\"%s-->EVEN\"%i)\n",
    "    else:\n",
    "        print(\"%s-->ODD\"%i)"
   ]
  },
  {
   "cell_type": "code",
   "execution_count": 25,
   "metadata": {},
   "outputs": [
    {
     "name": "stdout",
     "output_type": "stream",
     "text": [
      "1-->ODD\n",
      "20-->EVEN\n",
      "34-->EVEN\n",
      "54-->EVEN\n",
      "67-->ODD\n",
      "89-->ODD\n",
      "90-->EVEN\n",
      "60-->EVEN\n",
      "Could not take a decision\n"
     ]
    }
   ],
   "source": [
    "l=[1,20,34,54,67,89,90,60,\"wert\"]\n",
    "# 1-->odd\n",
    "#20-->even\n",
    "for i in l:\n",
    "    if isinstance(i,int):\n",
    "        if i%2==0:\n",
    "            print(\"%s-->EVEN\"%i)\n",
    "        else:\n",
    "            print(\"%s-->ODD\"%i)\n",
    "    else:\n",
    "        print(\"Could not take a decision\")"
   ]
  },
  {
   "cell_type": "code",
   "execution_count": 26,
   "metadata": {},
   "outputs": [
    {
     "data": {
      "text/plain": [
       "True"
      ]
     },
     "execution_count": 26,
     "metadata": {},
     "output_type": "execute_result"
    }
   ],
   "source": [
    "isinstance(10,int)"
   ]
  },
  {
   "cell_type": "code",
   "execution_count": 27,
   "metadata": {},
   "outputs": [
    {
     "data": {
      "text/plain": [
       "False"
      ]
     },
     "execution_count": 27,
     "metadata": {},
     "output_type": "execute_result"
    }
   ],
   "source": [
    "isinstance(10,float)"
   ]
  },
  {
   "cell_type": "code",
   "execution_count": 28,
   "metadata": {},
   "outputs": [
    {
     "data": {
      "text/plain": [
       "False"
      ]
     },
     "execution_count": 28,
     "metadata": {},
     "output_type": "execute_result"
    }
   ],
   "source": [
    "isinstance(\"10\",float)"
   ]
  },
  {
   "cell_type": "code",
   "execution_count": 29,
   "metadata": {},
   "outputs": [
    {
     "data": {
      "text/plain": [
       "False"
      ]
     },
     "execution_count": 29,
     "metadata": {},
     "output_type": "execute_result"
    }
   ],
   "source": [
    "isinstance(\"10\",int)"
   ]
  },
  {
   "cell_type": "code",
   "execution_count": 30,
   "metadata": {},
   "outputs": [
    {
     "data": {
      "text/plain": [
       "True"
      ]
     },
     "execution_count": 30,
     "metadata": {},
     "output_type": "execute_result"
    }
   ],
   "source": [
    "isinstance(\"10\",str)"
   ]
  },
  {
   "cell_type": "code",
   "execution_count": 1,
   "metadata": {},
   "outputs": [
    {
     "name": "stdout",
     "output_type": "stream",
     "text": [
      "12\n",
      "24\n",
      "33\n",
      "35\n",
      "37\n",
      "39\n",
      "27\n",
      "68\n",
      "80\n"
     ]
    }
   ],
   "source": [
    "# WAP to check whether given list contains atleast one even number or not. \"YES\", \"NO\"\n",
    "l=[12,24,33,35,37,39,27,68,80]\n",
    "for i in l:\n",
    "    print(i)"
   ]
  },
  {
   "cell_type": "code",
   "execution_count": 2,
   "metadata": {},
   "outputs": [
    {
     "name": "stdout",
     "output_type": "stream",
     "text": [
      "welcome\n",
      "yes\n",
      "yes\n",
      "no\n",
      "no\n",
      "no\n",
      "no\n",
      "no\n",
      "yes\n",
      "yes\n",
      "thank you!!\n"
     ]
    }
   ],
   "source": [
    "# WAP to check whether given list contains atleast one even number or not. \"YES\", \"NO\"\n",
    "print(\"welcome\")\n",
    "l=[12,24,33,35,37,39,27,68,80]\n",
    "for i in l:\n",
    "    if i%2==0:\n",
    "        print(\"yes\")\n",
    "    else:\n",
    "        print(\"no\")\n",
    "print(\"thank you!!\")"
   ]
  },
  {
   "cell_type": "code",
   "execution_count": 4,
   "metadata": {},
   "outputs": [
    {
     "name": "stdout",
     "output_type": "stream",
     "text": [
      "welcome\n",
      "12\n",
      "yes\n",
      "thank you!!\n"
     ]
    }
   ],
   "source": [
    "# WAP to check whether given list contains atleast one even number or not. \"YES\", \"NO\"\n",
    "print(\"welcome\")\n",
    "l=[12,24,33,35,37,39,27,68,80]\n",
    "for i in l:\n",
    "    print(i)\n",
    "    if i%2==0:\n",
    "        print(\"yes\")\n",
    "        break\n",
    "    else:\n",
    "        print(\"no\")\n",
    "print(\"thank you!!\")"
   ]
  },
  {
   "cell_type": "code",
   "execution_count": null,
   "metadata": {},
   "outputs": [],
   "source": [
    "# WAP to check whether given list contains atleast one even number or not. \"YES\", \"NO\"\n",
    "print(\"welcome\")\n",
    "l=[21,23,12,24,33,35,37,39,27,68,80]\n",
    "for i in l:\n",
    "    print(i)\n",
    "    if i%2==0:\n",
    "        print(\"yes\")\n",
    "        break\n",
    "    else:\n",
    "        print(\"no\")\n",
    "print(\"thank you!!\")"
   ]
  },
  {
   "cell_type": "code",
   "execution_count": 5,
   "metadata": {},
   "outputs": [
    {
     "name": "stdout",
     "output_type": "stream",
     "text": [
      "welcome\n",
      "21\n",
      "thnk you!!\n"
     ]
    }
   ],
   "source": [
    "print(\"welcome\")\n",
    "l=[21,23,12,24,33,35,37,39,27,68,80]\n",
    "for i in l:\n",
    "    print(i)\n",
    "    break\n",
    "print(\"thnk you!!\")"
   ]
  },
  {
   "cell_type": "code",
   "execution_count": 6,
   "metadata": {},
   "outputs": [
    {
     "name": "stdout",
     "output_type": "stream",
     "text": [
      "welcome\n",
      "21\n",
      "23\n",
      "12\n",
      "24\n",
      "33\n",
      "thnk you!!\n"
     ]
    }
   ],
   "source": [
    "print(\"welcome\")\n",
    "l=[21,23,12,24,33]\n",
    "for i in l:\n",
    "    print(i)\n",
    "    if i==100:\n",
    "        break\n",
    "print(\"thnk you!!\")"
   ]
  },
  {
   "cell_type": "code",
   "execution_count": 7,
   "metadata": {},
   "outputs": [
    {
     "name": "stdout",
     "output_type": "stream",
     "text": [
      "welcome\n",
      "21\n",
      "23\n",
      "12\n",
      "thnk you!!\n"
     ]
    }
   ],
   "source": [
    "print(\"welcome\")\n",
    "l=[21,23,12,24,33]\n",
    "for i in l:\n",
    "    print(i)\n",
    "    if i==12:\n",
    "        break\n",
    "print(\"thnk you!!\")"
   ]
  },
  {
   "cell_type": "code",
   "execution_count": 8,
   "metadata": {},
   "outputs": [
    {
     "name": "stdout",
     "output_type": "stream",
     "text": [
      "welcome\n",
      "21\n",
      "23\n",
      "12\n",
      "3 12\n",
      "thnk you!!\n"
     ]
    }
   ],
   "source": [
    "print(\"welcome\")\n",
    "l=[21,23,12,24,33]\n",
    "c=0\n",
    "for i in l:\n",
    "    print(i)\n",
    "    c=c+1\n",
    "    if i==12:\n",
    "        break\n",
    "print(c,i)\n",
    "print(\"thnk you!!\")"
   ]
  },
  {
   "cell_type": "code",
   "execution_count": 9,
   "metadata": {},
   "outputs": [
    {
     "name": "stdout",
     "output_type": "stream",
     "text": [
      "welcome\n",
      "21\n",
      "no\n",
      "23\n",
      "no\n",
      "12\n",
      "yes\n",
      "thank you!!\n"
     ]
    }
   ],
   "source": [
    "# WAP to check whether given list contains atleast one even number or not. \"YES\", \"NO\"\n",
    "print(\"welcome\")\n",
    "l=[21,23,12,24,33]\n",
    "for i in l:\n",
    "    print(i)\n",
    "    if i%2==0:\n",
    "        print(\"yes\")\n",
    "        break\n",
    "    else:\n",
    "        print(\"no\")\n",
    "print(\"thank you!!\")"
   ]
  },
  {
   "cell_type": "code",
   "execution_count": 10,
   "metadata": {},
   "outputs": [
    {
     "name": "stdout",
     "output_type": "stream",
     "text": [
      "welcome\n",
      "count: 2\n",
      "thank you!!\n"
     ]
    }
   ],
   "source": [
    "# WAP to check whether given list contains atleast one even number or not. \"YES\", \"NO\"\n",
    "print(\"welcome\")\n",
    "l=[21,23,12,24,33]\n",
    "even_count = 0\n",
    "for i in l:\n",
    "    if i%2==0:\n",
    "        even_count=even_count+1\n",
    "print(\"count:\",even_count)\n",
    "print(\"thank you!!\")"
   ]
  },
  {
   "cell_type": "code",
   "execution_count": 12,
   "metadata": {},
   "outputs": [
    {
     "name": "stdout",
     "output_type": "stream",
     "text": [
      "welcome\n",
      "21\n",
      "23\n",
      "12\n",
      "24\n",
      "33\n",
      "this is an else block\n",
      "thank you!!\n"
     ]
    }
   ],
   "source": [
    "print(\"welcome\")\n",
    "l=[21,23,12,24,33]\n",
    "for i in l:\n",
    "    print(i)\n",
    "else:\n",
    "    print(\"this is an else block\")\n",
    "print(\"thank you!!\")"
   ]
  },
  {
   "cell_type": "code",
   "execution_count": 13,
   "metadata": {},
   "outputs": [
    {
     "name": "stdout",
     "output_type": "stream",
     "text": [
      "welcome\n",
      "21\n",
      "thank you!!\n"
     ]
    }
   ],
   "source": [
    "print(\"welcome\")\n",
    "l=[21,23,12,24,33]\n",
    "for i in l:\n",
    "    print(i)\n",
    "    break\n",
    "else:\n",
    "    print(\"this is an else block\")\n",
    "print(\"thank you!!\")"
   ]
  },
  {
   "cell_type": "code",
   "execution_count": 14,
   "metadata": {},
   "outputs": [
    {
     "name": "stdout",
     "output_type": "stream",
     "text": [
      "welcome\n",
      "21\n",
      "23\n",
      "12\n",
      "24\n",
      "33\n",
      "this is an else block\n",
      "thank you!!\n"
     ]
    }
   ],
   "source": [
    "print(\"welcome\")\n",
    "l=[21,23,12,24,33]\n",
    "for i in l:\n",
    "    print(i)\n",
    "    if i==100:\n",
    "        break\n",
    "else:\n",
    "    print(\"this is an else block\")\n",
    "print(\"thank you!!\")"
   ]
  },
  {
   "cell_type": "code",
   "execution_count": 15,
   "metadata": {},
   "outputs": [
    {
     "name": "stdout",
     "output_type": "stream",
     "text": [
      "welcome\n",
      "21\n",
      "23\n",
      "thank you!!\n"
     ]
    }
   ],
   "source": [
    "print(\"welcome\")\n",
    "l=[21,23,12,24,33]\n",
    "for i in l:\n",
    "    print(i)\n",
    "    if i==23:\n",
    "        break\n",
    "else:\n",
    "    print(\"this is an else block\")\n",
    "print(\"thank you!!\")"
   ]
  },
  {
   "cell_type": "code",
   "execution_count": null,
   "metadata": {},
   "outputs": [],
   "source": []
  }
 ],
 "metadata": {
  "kernelspec": {
   "display_name": "Python 3",
   "language": "python",
   "name": "python3"
  },
  "language_info": {
   "codemirror_mode": {
    "name": "ipython",
    "version": 3
   },
   "file_extension": ".py",
   "mimetype": "text/x-python",
   "name": "python",
   "nbconvert_exporter": "python",
   "pygments_lexer": "ipython3",
   "version": "3.7.0"
  }
 },
 "nbformat": 4,
 "nbformat_minor": 2
}
