{
 "cells": [
  {
   "cell_type": "code",
   "execution_count": 1,
   "metadata": {},
   "outputs": [
    {
     "name": "stdout",
     "output_type": "stream",
     "text": [
      "st1\n",
      "st2\n",
      "st3\n"
     ]
    }
   ],
   "source": [
    "print(\"st1\")\n",
    "print(\"st2\")\n",
    "print(\"st3\")"
   ]
  },
  {
   "cell_type": "code",
   "execution_count": 2,
   "metadata": {},
   "outputs": [
    {
     "name": "stdout",
     "output_type": "stream",
     "text": [
      "enter a value:12\n",
      "enter b value:34\n",
      "n1 is big\n",
      "n2 is big\n"
     ]
    }
   ],
   "source": [
    "n1=input(\"enter a value:\")\n",
    "n2=input(\"enter b value:\")\n",
    "print(\"n1 is big\")\n",
    "print(\"n2 is big\")"
   ]
  },
  {
   "cell_type": "code",
   "execution_count": 3,
   "metadata": {},
   "outputs": [
    {
     "name": "stdout",
     "output_type": "stream",
     "text": [
      "enter a value:34\n",
      "enter b value:12\n",
      "n1 is big\n",
      "n2 is big\n"
     ]
    }
   ],
   "source": [
    "n1=input(\"enter a value:\")\n",
    "n2=input(\"enter b value:\")\n",
    "print(\"n1 is big\")\n",
    "print(\"n2 is big\")"
   ]
  },
  {
   "cell_type": "code",
   "execution_count": 4,
   "metadata": {},
   "outputs": [
    {
     "name": "stdout",
     "output_type": "stream",
     "text": [
      "enter a value:2\n",
      "enter b value:3\n",
      "False\n",
      "n2 is big\n",
      "thank you\n"
     ]
    }
   ],
   "source": [
    "n1=input(\"enter a value:\")\n",
    "n2=input(\"enter b value:\")\n",
    "print(n1>n2)\n",
    "if n1>n2:\n",
    "    print(\"n1 is big\")\n",
    "else:\n",
    "    print(\"n2 is big\")\n",
    "print(\"thank you\")"
   ]
  },
  {
   "cell_type": "code",
   "execution_count": 5,
   "metadata": {},
   "outputs": [
    {
     "name": "stdout",
     "output_type": "stream",
     "text": [
      "enter a value:3\n",
      "enter b value:2\n",
      "True\n",
      "n1 is big\n",
      "thank you\n"
     ]
    }
   ],
   "source": [
    "n1=input(\"enter a value:\")\n",
    "n2=input(\"enter b value:\")\n",
    "print(n1>n2)\n",
    "if n1>n2:\n",
    "    print(\"n1 is big\")\n",
    "else:\n",
    "    print(\"n2 is big\")\n",
    "print(\"thank you\")"
   ]
  },
  {
   "cell_type": "code",
   "execution_count": 6,
   "metadata": {},
   "outputs": [
    {
     "name": "stdout",
     "output_type": "stream",
     "text": [
      "enter a value:2\n",
      "enter b value:3\n",
      "False\n",
      "n1 is big\n",
      "thank you\n"
     ]
    }
   ],
   "source": [
    "n1=input(\"enter a value:\")\n",
    "n2=input(\"enter b value:\")\n",
    "print(n1>n2)\n",
    "if n1>n2:\n",
    "    print(\"n2 is big\")\n",
    "else:\n",
    "    print(\"n1 is big\")\n",
    "print(\"thank you\")"
   ]
  },
  {
   "cell_type": "code",
   "execution_count": 7,
   "metadata": {},
   "outputs": [
    {
     "name": "stdout",
     "output_type": "stream",
     "text": [
      "enter string:pythion\n"
     ]
    }
   ],
   "source": [
    "# take a string from the user and print length of the string if the user enters any data. print invalid string if the user\n",
    "# enters empy\n",
    "s=input(\"enter string:\")"
   ]
  },
  {
   "cell_type": "code",
   "execution_count": 8,
   "metadata": {},
   "outputs": [
    {
     "name": "stdout",
     "output_type": "stream",
     "text": [
      "enter string:\n"
     ]
    }
   ],
   "source": [
    "# take a string from the user and print length of the string if the user enters any data. print invalid string if the user\n",
    "# enters empy\n",
    "s=input(\"enter string:\")"
   ]
  },
  {
   "cell_type": "code",
   "execution_count": 9,
   "metadata": {},
   "outputs": [
    {
     "data": {
      "text/plain": [
       "0"
      ]
     },
     "execution_count": 9,
     "metadata": {},
     "output_type": "execute_result"
    }
   ],
   "source": [
    "len(s)"
   ]
  },
  {
   "cell_type": "code",
   "execution_count": 10,
   "metadata": {},
   "outputs": [
    {
     "name": "stdout",
     "output_type": "stream",
     "text": [
      "Enter string:python\n",
      "6\n",
      "thank you!!\n"
     ]
    }
   ],
   "source": [
    "s=input(\"Enter string:\")\n",
    "len_s = len(s)\n",
    "if len_s!=0:\n",
    "    print(len_s)\n",
    "else:\n",
    "    print(\"invalid string\")\n",
    "print(\"thank you!!\")"
   ]
  },
  {
   "cell_type": "code",
   "execution_count": 11,
   "metadata": {},
   "outputs": [
    {
     "name": "stdout",
     "output_type": "stream",
     "text": [
      "Enter string:\n",
      "invalid string\n",
      "thank you!!\n"
     ]
    }
   ],
   "source": [
    "s=input(\"Enter string:\")\n",
    "len_s = len(s)\n",
    "if len_s!=0:\n",
    "    print(len_s)\n",
    "else:\n",
    "    print(\"invalid string\")\n",
    "print(\"thank you!!\")"
   ]
  },
  {
   "cell_type": "code",
   "execution_count": 13,
   "metadata": {},
   "outputs": [
    {
     "name": "stdout",
     "output_type": "stream",
     "text": [
      "ok\n"
     ]
    }
   ],
   "source": [
    "if True:\n",
    "    print(\"ok\")\n",
    "else:\n",
    "    print(\"not ok\")"
   ]
  },
  {
   "cell_type": "code",
   "execution_count": 12,
   "metadata": {},
   "outputs": [
    {
     "data": {
      "text/plain": [
       "True"
      ]
     },
     "execution_count": 12,
     "metadata": {},
     "output_type": "execute_result"
    }
   ],
   "source": [
    "bool(True)"
   ]
  },
  {
   "cell_type": "code",
   "execution_count": 14,
   "metadata": {},
   "outputs": [
    {
     "name": "stdout",
     "output_type": "stream",
     "text": [
      "ok\n"
     ]
    }
   ],
   "source": [
    "if 1:\n",
    "    print(\"ok\")\n",
    "else:\n",
    "    print(\"not ok\")"
   ]
  },
  {
   "cell_type": "code",
   "execution_count": 15,
   "metadata": {},
   "outputs": [
    {
     "name": "stdout",
     "output_type": "stream",
     "text": [
      "not ok\n"
     ]
    }
   ],
   "source": [
    "if 0:\n",
    "    print(\"ok\")\n",
    "else:\n",
    "    print(\"not ok\")"
   ]
  },
  {
   "cell_type": "code",
   "execution_count": 16,
   "metadata": {},
   "outputs": [
    {
     "name": "stdout",
     "output_type": "stream",
     "text": [
      "ok\n"
     ]
    }
   ],
   "source": [
    "if \"python\":\n",
    "    print(\"ok\")\n",
    "else:\n",
    "    print(\"not ok\")"
   ]
  },
  {
   "cell_type": "code",
   "execution_count": 17,
   "metadata": {},
   "outputs": [
    {
     "name": "stdout",
     "output_type": "stream",
     "text": [
      "Enter string:\n",
      "invalid string\n",
      "thank you!!\n"
     ]
    }
   ],
   "source": [
    "s=input(\"Enter string:\")\n",
    "if s:\n",
    "    print(len(s))\n",
    "else:\n",
    "    print(\"invalid string\")\n",
    "print(\"thank you!!\")"
   ]
  },
  {
   "cell_type": "code",
   "execution_count": 18,
   "metadata": {},
   "outputs": [
    {
     "name": "stdout",
     "output_type": "stream",
     "text": [
      "Enter string:python\n",
      "6\n",
      "thank you!!\n"
     ]
    }
   ],
   "source": [
    "s=input(\"Enter string:\")\n",
    "if s:\n",
    "    print(len(s))\n",
    "else:\n",
    "    print(\"invalid string\")\n",
    "print(\"thank you!!\")"
   ]
  },
  {
   "cell_type": "code",
   "execution_count": 19,
   "metadata": {},
   "outputs": [
    {
     "name": "stdout",
     "output_type": "stream",
     "text": [
      "Enter string:python\n",
      "6\n"
     ]
    }
   ],
   "source": [
    "s=input(\"Enter string:\")\n",
    "res=len(s) if s else \"invalid string\"\n",
    "print(res)"
   ]
  },
  {
   "cell_type": "code",
   "execution_count": 20,
   "metadata": {},
   "outputs": [
    {
     "name": "stdout",
     "output_type": "stream",
     "text": [
      "Enter string:\n",
      "invalid string\n"
     ]
    }
   ],
   "source": [
    "s=input(\"Enter string:\")\n",
    "res=len(s) if s else \"invalid string\"\n",
    "print(res)"
   ]
  },
  {
   "cell_type": "code",
   "execution_count": 21,
   "metadata": {},
   "outputs": [
    {
     "name": "stdout",
     "output_type": "stream",
     "text": [
      "Enter string:pyt\n",
      "3\n"
     ]
    }
   ],
   "source": [
    "s=input(\"Enter string:\")\n",
    "print(len(s) if s else \"invalid string\")"
   ]
  },
  {
   "cell_type": "code",
   "execution_count": 22,
   "metadata": {},
   "outputs": [
    {
     "name": "stdout",
     "output_type": "stream",
     "text": [
      "Enter number:12\n",
      "EVEN\n"
     ]
    }
   ],
   "source": [
    "s=input(\"Enter number:\")\n",
    "s=float(s)\n",
    "print(\"EVEN\" if s%2==0 else \"ODD\")"
   ]
  },
  {
   "cell_type": "code",
   "execution_count": 23,
   "metadata": {},
   "outputs": [
    {
     "data": {
      "text/plain": [
       "5.0"
      ]
     },
     "execution_count": 23,
     "metadata": {},
     "output_type": "execute_result"
    }
   ],
   "source": [
    "10/2"
   ]
  },
  {
   "cell_type": "code",
   "execution_count": 24,
   "metadata": {},
   "outputs": [
    {
     "data": {
      "text/plain": [
       "5.5"
      ]
     },
     "execution_count": 24,
     "metadata": {},
     "output_type": "execute_result"
    }
   ],
   "source": [
    "11/2"
   ]
  },
  {
   "cell_type": "code",
   "execution_count": 25,
   "metadata": {},
   "outputs": [
    {
     "data": {
      "text/plain": [
       "True"
      ]
     },
     "execution_count": 25,
     "metadata": {},
     "output_type": "execute_result"
    }
   ],
   "source": [
    "10%2==0"
   ]
  },
  {
   "cell_type": "code",
   "execution_count": 26,
   "metadata": {},
   "outputs": [
    {
     "data": {
      "text/plain": [
       "False"
      ]
     },
     "execution_count": 26,
     "metadata": {},
     "output_type": "execute_result"
    }
   ],
   "source": [
    "11%2==0"
   ]
  },
  {
   "cell_type": "code",
   "execution_count": 27,
   "metadata": {},
   "outputs": [
    {
     "ename": "TypeError",
     "evalue": "not all arguments converted during string formatting",
     "output_type": "error",
     "traceback": [
      "\u001b[0;31m---------------------------------------------------------------------------\u001b[0m",
      "\u001b[0;31mTypeError\u001b[0m                                 Traceback (most recent call last)",
      "\u001b[0;32m<ipython-input-27-4e0667985930>\u001b[0m in \u001b[0;36m<module>\u001b[0;34m()\u001b[0m\n\u001b[0;32m----> 1\u001b[0;31m \u001b[0;34m\"11\"\u001b[0m\u001b[0;34m%\u001b[0m\u001b[0;36m2\u001b[0m\u001b[0;34m==\u001b[0m\u001b[0;36m0\u001b[0m\u001b[0;34m\u001b[0m\u001b[0m\n\u001b[0m",
      "\u001b[0;31mTypeError\u001b[0m: not all arguments converted during string formatting"
     ]
    }
   ],
   "source": [
    "\"11\"%2==0"
   ]
  },
  {
   "cell_type": "code",
   "execution_count": 29,
   "metadata": {},
   "outputs": [
    {
     "name": "stdout",
     "output_type": "stream",
     "text": [
      "\n"
     ]
    }
   ],
   "source": [
    "\"\"\"\n",
    "Which party want to vote:\n",
    "    1. X\n",
    "    2. Y\n",
    "    3. Z\n",
    "    4. NOTA\n",
    "    Enter your option:\n",
    "\"\"\"\n",
    "print()"
   ]
  },
  {
   "cell_type": "code",
   "execution_count": 30,
   "metadata": {},
   "outputs": [
    {
     "name": "stdout",
     "output_type": "stream",
     "text": [
      "Which party want to vote:\n",
      "\t1. X\n"
     ]
    }
   ],
   "source": [
    "print(\"Which party want to vote:\\n\\t1. X\")"
   ]
  },
  {
   "cell_type": "code",
   "execution_count": 31,
   "metadata": {},
   "outputs": [
    {
     "name": "stdout",
     "output_type": "stream",
     "text": [
      "Which party want to vote:\n",
      "\t1. X\n",
      "\t2. Y\n",
      "\t3. X\n",
      "\t4. NOTA\n",
      "enter an option:2\n",
      "2\n"
     ]
    }
   ],
   "source": [
    "print(\"Which party want to vote:\\n\\t1. X\\n\\t2. Y\\n\\t3. X\\n\\t4. NOTA\")\n",
    "opt=input(\"enter an option:\")\n",
    "print(opt)"
   ]
  },
  {
   "cell_type": "code",
   "execution_count": 33,
   "metadata": {},
   "outputs": [
    {
     "name": "stdout",
     "output_type": "stream",
     "text": [
      "\n",
      "Which party want to vote:\n",
      "    1. X\n",
      "    2. Y\n",
      "    3. X\n",
      "    4. NOTA\n",
      "\n",
      "enter an option:2\n",
      "2\n"
     ]
    }
   ],
   "source": [
    "print(\"\"\"\n",
    "Which party want to vote:\n",
    "    1. X\n",
    "    2. Y\n",
    "    3. X\n",
    "    4. NOTA\n",
    "\"\"\")\n",
    "opt=input(\"enter an option:\")\n",
    "print(opt)"
   ]
  },
  {
   "cell_type": "code",
   "execution_count": 34,
   "metadata": {},
   "outputs": [
    {
     "ename": "SyntaxError",
     "evalue": "EOL while scanning string literal (<ipython-input-34-a364a7d24696>, line 1)",
     "output_type": "error",
     "traceback": [
      "\u001b[0;36m  File \u001b[0;32m\"<ipython-input-34-a364a7d24696>\"\u001b[0;36m, line \u001b[0;32m1\u001b[0m\n\u001b[0;31m    print(\"\u001b[0m\n\u001b[0m           ^\u001b[0m\n\u001b[0;31mSyntaxError\u001b[0m\u001b[0;31m:\u001b[0m EOL while scanning string literal\n"
     ]
    }
   ],
   "source": [
    "print(\"\n",
    "Which party want to vote:\n",
    "    1. X\n",
    "    2. Y\n",
    "    3. X\n",
    "    4. NOTA\n",
    "\")\n",
    "opt=input(\"enter an option:\")\n",
    "print(opt)"
   ]
  },
  {
   "cell_type": "code",
   "execution_count": 35,
   "metadata": {},
   "outputs": [
    {
     "name": "stdout",
     "output_type": "stream",
     "text": [
      "Which party want to vote:    1. X    2. Y    3. X    4. NOTA\n",
      "enter an option:2\n",
      "2\n"
     ]
    }
   ],
   "source": [
    "print(\"\\\n",
    "Which party want to vote:\\\n",
    "    1. X\\\n",
    "    2. Y\\\n",
    "    3. X\\\n",
    "    4. NOTA\\\n",
    "\")\n",
    "opt=input(\"enter an option:\")\n",
    "print(opt)"
   ]
  },
  {
   "cell_type": "code",
   "execution_count": 36,
   "metadata": {},
   "outputs": [
    {
     "name": "stdout",
     "output_type": "stream",
     "text": [
      "\n",
      "Which party want to vote:\n",
      "    1. X\n",
      "    2. Y\n",
      "    3. Z\n",
      "    4. NOTA\n",
      "\n",
      "enter an option:2\n",
      "2\n"
     ]
    }
   ],
   "source": [
    "print(\"\"\"\n",
    "Which party want to vote:\n",
    "    1. X\n",
    "    2. Y\n",
    "    3. Z\n",
    "    4. NOTA\n",
    "\"\"\")\n",
    "opt=input(\"enter an option:\")\n",
    "print(opt)"
   ]
  },
  {
   "cell_type": "code",
   "execution_count": 37,
   "metadata": {},
   "outputs": [
    {
     "name": "stdout",
     "output_type": "stream",
     "text": [
      "\n",
      "Which party want to vote:\n",
      "    1. X\n",
      "    2. Y\n",
      "    3. Z\n",
      "    4. NOTA\n",
      "\n",
      "enter an option:2\n",
      "KEEP VOTING\n"
     ]
    }
   ],
   "source": [
    "print(\"\"\"\n",
    "Which party want to vote:\n",
    "    1. X\n",
    "    2. Y\n",
    "    3. Z\n",
    "    4. NOTA\n",
    "\"\"\")\n",
    "opt=input(\"enter an option:\")\n",
    "if opt==1:\n",
    "    print(\"Given vote for party x\")\n",
    "if opt==2:\n",
    "    print(\"given vote for party y\")\n",
    "if opt==3:\n",
    "    print(\"given vote fro party z\")\n",
    "if opt==4:\n",
    "    print(\"Not given vote for any party\")\n",
    "print(\"KEEP VOTING\")\n"
   ]
  },
  {
   "cell_type": "code",
   "execution_count": 38,
   "metadata": {},
   "outputs": [
    {
     "data": {
      "text/plain": [
       "False"
      ]
     },
     "execution_count": 38,
     "metadata": {},
     "output_type": "execute_result"
    }
   ],
   "source": [
    "\"1\"==1"
   ]
  },
  {
   "cell_type": "code",
   "execution_count": 39,
   "metadata": {},
   "outputs": [
    {
     "data": {
      "text/plain": [
       "False"
      ]
     },
     "execution_count": 39,
     "metadata": {},
     "output_type": "execute_result"
    }
   ],
   "source": [
    "\"2\"==2"
   ]
  },
  {
   "cell_type": "code",
   "execution_count": 40,
   "metadata": {},
   "outputs": [
    {
     "data": {
      "text/plain": [
       "True"
      ]
     },
     "execution_count": 40,
     "metadata": {},
     "output_type": "execute_result"
    }
   ],
   "source": [
    "\"2\"==\"2\""
   ]
  },
  {
   "cell_type": "code",
   "execution_count": 41,
   "metadata": {},
   "outputs": [
    {
     "name": "stdout",
     "output_type": "stream",
     "text": [
      "\n",
      "Which party want to vote:\n",
      "    1. X\n",
      "    2. Y\n",
      "    3. Z\n",
      "    4. NOTA\n",
      "\n",
      "enter an option:2\n",
      "given vote for party y\n",
      "KEEP VOTING\n"
     ]
    }
   ],
   "source": [
    "print(\"\"\"\n",
    "Which party want to vote:\n",
    "    1. X\n",
    "    2. Y\n",
    "    3. Z\n",
    "    4. NOTA\n",
    "\"\"\")\n",
    "opt=input(\"enter an option:\")\n",
    "if opt==\"1\":\n",
    "    print(\"Given vote for party x\")\n",
    "if opt==\"2\":\n",
    "    print(\"given vote for party y\")\n",
    "if opt==\"3\":\n",
    "    print(\"given vote fro party z\")\n",
    "if opt==\"4\":\n",
    "    print(\"Not given vote for any party\")\n",
    "print(\"KEEP VOTING\")\n"
   ]
  },
  {
   "cell_type": "code",
   "execution_count": 42,
   "metadata": {},
   "outputs": [
    {
     "name": "stdout",
     "output_type": "stream",
     "text": [
      "\n",
      "Which party want to vote:\n",
      "    1. X\n",
      "    2. Y\n",
      "    3. Z\n",
      "    4. NOTA\n",
      "\n",
      "enter an option:5\n",
      "KEEP VOTING\n"
     ]
    }
   ],
   "source": [
    "print(\"\"\"\n",
    "Which party want to vote:\n",
    "    1. X\n",
    "    2. Y\n",
    "    3. Z\n",
    "    4. NOTA\n",
    "\"\"\")\n",
    "opt=input(\"enter an option:\")\n",
    "if opt==\"1\":\n",
    "    print(\"Given vote for party x\")\n",
    "if opt==\"2\":\n",
    "    print(\"given vote for party y\")\n",
    "if opt==\"3\":\n",
    "    print(\"given vote fro party z\")\n",
    "if opt==\"4\":\n",
    "    print(\"Not given vote for any party\")\n",
    "print(\"KEEP VOTING\")\n"
   ]
  },
  {
   "cell_type": "code",
   "execution_count": 43,
   "metadata": {},
   "outputs": [
    {
     "name": "stdout",
     "output_type": "stream",
     "text": [
      "\n",
      "Which party want to vote:\n",
      "    1. X\n",
      "    2. Y\n",
      "    3. Z\n",
      "    4. NOTA\n",
      "\n",
      "enter an option:5\n",
      "invalid vote\n",
      "KEEP VOTING\n"
     ]
    }
   ],
   "source": [
    "print(\"\"\"\n",
    "Which party want to vote:\n",
    "    1. X\n",
    "    2. Y\n",
    "    3. Z\n",
    "    4. NOTA\n",
    "\"\"\")\n",
    "opt=input(\"enter an option:\")\n",
    "if opt==\"1\":\n",
    "    print(\"Given vote for party x\")\n",
    "if opt==\"2\":\n",
    "    print(\"given vote for party y\")\n",
    "if opt==\"3\":\n",
    "    print(\"given vote fro party z\")\n",
    "if opt==\"4\":\n",
    "    print(\"Not given vote for any party\")\n",
    "else:\n",
    "    print(\"invalid vote\")\n",
    "print(\"KEEP VOTING\")\n"
   ]
  },
  {
   "cell_type": "code",
   "execution_count": 44,
   "metadata": {},
   "outputs": [
    {
     "name": "stdout",
     "output_type": "stream",
     "text": [
      "\n",
      "Which party want to vote:\n",
      "    1. X\n",
      "    2. Y\n",
      "    3. Z\n",
      "    4. NOTA\n",
      "\n",
      "enter an option:4\n",
      "Not given vote for any party\n",
      "KEEP VOTING\n"
     ]
    }
   ],
   "source": [
    "print(\"\"\"\n",
    "Which party want to vote:\n",
    "    1. X\n",
    "    2. Y\n",
    "    3. Z\n",
    "    4. NOTA\n",
    "\"\"\")\n",
    "opt=input(\"enter an option:\")\n",
    "if opt==\"1\":\n",
    "    print(\"Given vote for party x\")\n",
    "if opt==\"2\":\n",
    "    print(\"given vote for party y\")\n",
    "if opt==\"3\":\n",
    "    print(\"given vote fro party z\")\n",
    "if opt==\"4\":\n",
    "    print(\"Not given vote for any party\")\n",
    "else:\n",
    "    print(\"invalid vote\")\n",
    "print(\"KEEP VOTING\")\n"
   ]
  },
  {
   "cell_type": "code",
   "execution_count": 45,
   "metadata": {},
   "outputs": [
    {
     "name": "stdout",
     "output_type": "stream",
     "text": [
      "\n",
      "Which party want to vote:\n",
      "    1. X\n",
      "    2. Y\n",
      "    3. Z\n",
      "    4. NOTA\n",
      "\n",
      "enter an option:3\n",
      "given vote fro party z\n",
      "invalid vote\n",
      "KEEP VOTING\n"
     ]
    }
   ],
   "source": [
    "print(\"\"\"\n",
    "Which party want to vote:\n",
    "    1. X\n",
    "    2. Y\n",
    "    3. Z\n",
    "    4. NOTA\n",
    "\"\"\")\n",
    "opt=input(\"enter an option:\")\n",
    "if opt==\"1\":\n",
    "    print(\"Given vote for party x\")\n",
    "if opt==\"2\":\n",
    "    print(\"given vote for party y\")\n",
    "if opt==\"3\":\n",
    "    print(\"given vote fro party z\")\n",
    "if opt==\"4\":\n",
    "    print(\"Not given vote for any party\")\n",
    "else:\n",
    "    print(\"invalid vote\")\n",
    "print(\"KEEP VOTING\")\n"
   ]
  },
  {
   "cell_type": "code",
   "execution_count": 46,
   "metadata": {},
   "outputs": [
    {
     "name": "stdout",
     "output_type": "stream",
     "text": [
      "\n",
      "Which party want to vote:\n",
      "    1. X\n",
      "    2. Y\n",
      "    3. Z\n",
      "    4. NOTA\n",
      "\n",
      "enter an option:6\n",
      "invalid vote\n",
      "KEEP VOTING\n"
     ]
    }
   ],
   "source": [
    "print(\"\"\"\n",
    "Which party want to vote:\n",
    "    1. X\n",
    "    2. Y\n",
    "    3. Z\n",
    "    4. NOTA\n",
    "\"\"\")\n",
    "opt=input(\"enter an option:\")\n",
    "if opt>\"4\":\n",
    "    print(\"invalid vote\")\n",
    "if opt==\"1\":\n",
    "    print(\"Given vote for party x\")\n",
    "if opt==\"2\":\n",
    "    print(\"given vote for party y\")\n",
    "if opt==\"3\":\n",
    "    print(\"given vote fro party z\")\n",
    "if opt==\"4\":\n",
    "    print(\"Not given vote for any party\")\n",
    "\n",
    "print(\"KEEP VOTING\")\n"
   ]
  },
  {
   "cell_type": "code",
   "execution_count": 47,
   "metadata": {},
   "outputs": [
    {
     "name": "stdout",
     "output_type": "stream",
     "text": [
      "\n",
      "Which party want to vote:\n",
      "    1. X\n",
      "    2. Y\n",
      "    3. Z\n",
      "    4. NOTA\n",
      "\n",
      "enter an option:2\n",
      "given vote for party y\n",
      "KEEP VOTING\n"
     ]
    }
   ],
   "source": [
    "print(\"\"\"\n",
    "Which party want to vote:\n",
    "    1. X\n",
    "    2. Y\n",
    "    3. Z\n",
    "    4. NOTA\n",
    "\"\"\")\n",
    "opt=input(\"enter an option:\")\n",
    "if opt>\"4\":\n",
    "    print(\"invalid vote\")\n",
    "if opt==\"1\":\n",
    "    print(\"Given vote for party x\")\n",
    "if opt==\"2\":\n",
    "    print(\"given vote for party y\")\n",
    "if opt==\"3\":\n",
    "    print(\"given vote fro party z\")\n",
    "if opt==\"4\":\n",
    "    print(\"Not given vote for any party\")\n",
    "\n",
    "print(\"KEEP VOTING\")\n"
   ]
  },
  {
   "cell_type": "code",
   "execution_count": 48,
   "metadata": {},
   "outputs": [
    {
     "name": "stdout",
     "output_type": "stream",
     "text": [
      "\n",
      "Which party want to vote:\n",
      "    1. X\n",
      "    2. Y\n",
      "    3. Z\n",
      "    4. NOTA\n",
      "\n",
      "enter an option:12\n",
      "KEEP VOTING\n"
     ]
    }
   ],
   "source": [
    "print(\"\"\"\n",
    "Which party want to vote:\n",
    "    1. X\n",
    "    2. Y\n",
    "    3. Z\n",
    "    4. NOTA\n",
    "\"\"\")\n",
    "opt=input(\"enter an option:\")\n",
    "if opt>\"4\":\n",
    "    print(\"invalid vote\")\n",
    "if opt==\"1\":\n",
    "    print(\"Given vote for party x\")\n",
    "if opt==\"2\":\n",
    "    print(\"given vote for party y\")\n",
    "if opt==\"3\":\n",
    "    print(\"given vote fro party z\")\n",
    "if opt==\"4\":\n",
    "    print(\"Not given vote for any party\")\n",
    "\n",
    "print(\"KEEP VOTING\")\n"
   ]
  },
  {
   "cell_type": "code",
   "execution_count": 49,
   "metadata": {},
   "outputs": [
    {
     "name": "stdout",
     "output_type": "stream",
     "text": [
      "\n",
      "Which party want to vote:\n",
      "    1. X\n",
      "    2. Y\n",
      "    3. Z\n",
      "    4. NOTA\n",
      "\n",
      "enter an option:2\n",
      "given vote for party y\n",
      "KEEP VOTING\n"
     ]
    }
   ],
   "source": [
    "print(\"\"\"\n",
    "Which party want to vote:\n",
    "    1. X\n",
    "    2. Y\n",
    "    3. Z\n",
    "    4. NOTA\n",
    "\"\"\")\n",
    "opt=input(\"enter an option:\")\n",
    "opt=float(opt)\n",
    "if opt>4:\n",
    "    print(\"invalid vote\")\n",
    "if opt==1:\n",
    "    print(\"Given vote for party x\")\n",
    "if opt==2:\n",
    "    print(\"given vote for party y\")\n",
    "if opt==3:\n",
    "    print(\"given vote fro party z\")\n",
    "if opt==4:\n",
    "    print(\"Not given vote for any party\")\n",
    "\n",
    "print(\"KEEP VOTING\")\n"
   ]
  },
  {
   "cell_type": "code",
   "execution_count": 50,
   "metadata": {},
   "outputs": [
    {
     "name": "stdout",
     "output_type": "stream",
     "text": [
      "\n",
      "Which party want to vote:\n",
      "    1. X\n",
      "    2. Y\n",
      "    3. Z\n",
      "    4. NOTA\n",
      "\n",
      "enter an option:12\n",
      "invalid vote\n",
      "KEEP VOTING\n"
     ]
    }
   ],
   "source": [
    "print(\"\"\"\n",
    "Which party want to vote:\n",
    "    1. X\n",
    "    2. Y\n",
    "    3. Z\n",
    "    4. NOTA\n",
    "\"\"\")\n",
    "opt=input(\"enter an option:\")\n",
    "opt=float(opt)\n",
    "if opt>4:\n",
    "    print(\"invalid vote\")\n",
    "if opt==1:\n",
    "    print(\"Given vote for party x\")\n",
    "if opt==2:\n",
    "    print(\"given vote for party y\")\n",
    "if opt==3:\n",
    "    print(\"given vote fro party z\")\n",
    "if opt==4:\n",
    "    print(\"Not given vote for any party\")\n",
    "\n",
    "print(\"KEEP VOTING\")\n"
   ]
  },
  {
   "cell_type": "code",
   "execution_count": 51,
   "metadata": {},
   "outputs": [
    {
     "name": "stdout",
     "output_type": "stream",
     "text": [
      "\n",
      "Which party want to vote:\n",
      "    1. X\n",
      "    2. Y\n",
      "    3. Z\n",
      "    4. NOTA\n",
      "\n",
      "enter an option:12\n",
      "invalid vote\n",
      "KEEP VOTING\n"
     ]
    }
   ],
   "source": [
    "print(\"\"\"\n",
    "Which party want to vote:\n",
    "    1. X\n",
    "    2. Y\n",
    "    3. Z\n",
    "    4. NOTA\n",
    "\"\"\")\n",
    "opt=input(\"enter an option:\")\n",
    "opt=float(opt)\n",
    "if opt>4:\n",
    "    print(\"invalid vote\")\n",
    "else:\n",
    "    if opt==1:\n",
    "        print(\"Given vote for party x\")\n",
    "    if opt==2:\n",
    "        print(\"given vote for party y\")\n",
    "    if opt==3:\n",
    "        print(\"given vote fro party z\")\n",
    "    if opt==4:\n",
    "        print(\"Not given vote for any party\")\n",
    "\n",
    "print(\"KEEP VOTING\")\n"
   ]
  },
  {
   "cell_type": "code",
   "execution_count": 52,
   "metadata": {},
   "outputs": [
    {
     "name": "stdout",
     "output_type": "stream",
     "text": [
      "\n",
      "Which party want to vote:\n",
      "    1. X\n",
      "    2. Y\n",
      "    3. Z\n",
      "    4. NOTA\n",
      "\n",
      "enter an option:3\n",
      "given vote fro party z\n",
      "KEEP VOTING\n"
     ]
    }
   ],
   "source": [
    "print(\"\"\"\n",
    "Which party want to vote:\n",
    "    1. X\n",
    "    2. Y\n",
    "    3. Z\n",
    "    4. NOTA\n",
    "\"\"\")\n",
    "opt=input(\"enter an option:\")\n",
    "opt=float(opt)\n",
    "if opt>4:\n",
    "    print(\"invalid vote\")\n",
    "else:\n",
    "    if opt==1:\n",
    "        print(\"Given vote for party x\")\n",
    "    if opt==2:\n",
    "        print(\"given vote for party y\")\n",
    "    if opt==3:\n",
    "        print(\"given vote fro party z\")\n",
    "    if opt==4:\n",
    "        print(\"Not given vote for any party\")\n",
    "\n",
    "print(\"KEEP VOTING\")\n"
   ]
  },
  {
   "cell_type": "code",
   "execution_count": 53,
   "metadata": {},
   "outputs": [
    {
     "name": "stdout",
     "output_type": "stream",
     "text": [
      "\n",
      "Which party want to vote:\n",
      "    1. X\n",
      "    2. Y\n",
      "    3. Z\n",
      "    4. NOTA\n",
      "\n",
      "enter an option:1\n",
      "Given vote for party x\n",
      "KEEP VOTING\n"
     ]
    }
   ],
   "source": [
    "print(\"\"\"\n",
    "Which party want to vote:\n",
    "    1. X\n",
    "    2. Y\n",
    "    3. Z\n",
    "    4. NOTA\n",
    "\"\"\")\n",
    "opt=input(\"enter an option:\")\n",
    "opt=float(opt)\n",
    "if opt==1:\n",
    "    print(\"Given vote for party x\")\n",
    "elif opt==2:\n",
    "    print(\"given vote for party y\")\n",
    "elif opt==3:\n",
    "    print(\"given vote fro party z\")\n",
    "elif opt==4:\n",
    "    print(\"Not given vote for any party\")\n",
    "else:\n",
    "    print(\"invalid vote\")\n",
    "print(\"KEEP VOTING\")\n"
   ]
  },
  {
   "cell_type": "code",
   "execution_count": 54,
   "metadata": {},
   "outputs": [
    {
     "name": "stdout",
     "output_type": "stream",
     "text": [
      "\n",
      "Which party want to vote:\n",
      "    1. X\n",
      "    2. Y\n",
      "    3. Z\n",
      "    4. NOTA\n",
      "\n",
      "enter an option:2\n",
      "given vote for party y\n",
      "KEEP VOTING\n"
     ]
    }
   ],
   "source": [
    "print(\"\"\"\n",
    "Which party want to vote:\n",
    "    1. X\n",
    "    2. Y\n",
    "    3. Z\n",
    "    4. NOTA\n",
    "\"\"\")\n",
    "opt=input(\"enter an option:\")\n",
    "opt=float(opt)\n",
    "if opt==1:\n",
    "    print(\"Given vote for party x\")\n",
    "elif opt==2:\n",
    "    print(\"given vote for party y\")\n",
    "elif opt==3:\n",
    "    print(\"given vote fro party z\")\n",
    "elif opt==4:\n",
    "    print(\"Not given vote for any party\")\n",
    "else:\n",
    "    print(\"invalid vote\")\n",
    "print(\"KEEP VOTING\")\n"
   ]
  },
  {
   "cell_type": "code",
   "execution_count": 55,
   "metadata": {},
   "outputs": [
    {
     "name": "stdout",
     "output_type": "stream",
     "text": [
      "\n",
      "Which party want to vote:\n",
      "    1. X\n",
      "    2. Y\n",
      "    3. Z\n",
      "    4. NOTA\n",
      "\n",
      "enter an option:12\n",
      "invalid vote\n",
      "KEEP VOTING\n"
     ]
    }
   ],
   "source": [
    "print(\"\"\"\n",
    "Which party want to vote:\n",
    "    1. X\n",
    "    2. Y\n",
    "    3. Z\n",
    "    4. NOTA\n",
    "\"\"\")\n",
    "opt=input(\"enter an option:\")\n",
    "opt=float(opt)\n",
    "if opt==1:\n",
    "    print(\"Given vote for party x\")\n",
    "elif opt==2:\n",
    "    print(\"given vote for party y\")\n",
    "elif opt==3:\n",
    "    print(\"given vote fro party z\")\n",
    "elif opt==4:\n",
    "    print(\"Not given vote for any party\")\n",
    "else:\n",
    "    print(\"invalid vote\")\n",
    "print(\"KEEP VOTING\")\n"
   ]
  },
  {
   "cell_type": "code",
   "execution_count": null,
   "metadata": {},
   "outputs": [],
   "source": []
  }
 ],
 "metadata": {
  "kernelspec": {
   "display_name": "Python 3",
   "language": "python",
   "name": "python3"
  },
  "language_info": {
   "codemirror_mode": {
    "name": "ipython",
    "version": 3
   },
   "file_extension": ".py",
   "mimetype": "text/x-python",
   "name": "python",
   "nbconvert_exporter": "python",
   "pygments_lexer": "ipython3",
   "version": "3.7.0"
  }
 },
 "nbformat": 4,
 "nbformat_minor": 2
}
