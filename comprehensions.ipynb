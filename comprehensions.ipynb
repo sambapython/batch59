{
 "cells": [
  {
   "cell_type": "code",
   "execution_count": 1,
   "metadata": {},
   "outputs": [
    {
     "name": "stdout",
     "output_type": "stream",
     "text": [
      "hello\n"
     ]
    }
   ],
   "source": [
    "#take temperature from the user and convert foreign heat -> Celsius.\n",
    "print(\"hello\")"
   ]
  },
  {
   "cell_type": "code",
   "execution_count": 1,
   "metadata": {},
   "outputs": [
    {
     "data": {
      "text/plain": [
       "97"
      ]
     },
     "execution_count": 1,
     "metadata": {},
     "output_type": "execute_result"
    }
   ],
   "source": [
    "ord(\"a\")"
   ]
  },
  {
   "cell_type": "code",
   "execution_count": 2,
   "metadata": {},
   "outputs": [
    {
     "data": {
      "text/plain": [
       "65"
      ]
     },
     "execution_count": 2,
     "metadata": {},
     "output_type": "execute_result"
    }
   ],
   "source": [
    "ord(\"A\")"
   ]
  },
  {
   "cell_type": "code",
   "execution_count": 3,
   "metadata": {},
   "outputs": [
    {
     "data": {
      "text/plain": [
       "32"
      ]
     },
     "execution_count": 3,
     "metadata": {},
     "output_type": "execute_result"
    }
   ],
   "source": [
    "97-65"
   ]
  },
  {
   "cell_type": "code",
   "execution_count": 4,
   "metadata": {},
   "outputs": [
    {
     "data": {
      "text/plain": [
       "65"
      ]
     },
     "execution_count": 4,
     "metadata": {},
     "output_type": "execute_result"
    }
   ],
   "source": [
    "ord(\"a\")-32"
   ]
  },
  {
   "cell_type": "code",
   "execution_count": 5,
   "metadata": {},
   "outputs": [
    {
     "data": {
      "text/plain": [
       "'A'"
      ]
     },
     "execution_count": 5,
     "metadata": {},
     "output_type": "execute_result"
    }
   ],
   "source": [
    "chr(65)"
   ]
  },
  {
   "cell_type": "code",
   "execution_count": 6,
   "metadata": {},
   "outputs": [
    {
     "data": {
      "text/plain": [
       "'A'"
      ]
     },
     "execution_count": 6,
     "metadata": {},
     "output_type": "execute_result"
    }
   ],
   "source": [
    "chr(ord(\"a\")-32)"
   ]
  },
  {
   "cell_type": "code",
   "execution_count": 7,
   "metadata": {},
   "outputs": [
    {
     "name": "stdout",
     "output_type": "stream",
     "text": [
      "Enter only small letter:r\n"
     ]
    },
    {
     "data": {
      "text/plain": [
       "'R'"
      ]
     },
     "execution_count": 7,
     "metadata": {},
     "output_type": "execute_result"
    }
   ],
   "source": [
    "chr(ord(input(\"Enter only small letter:\"))-32)"
   ]
  },
  {
   "cell_type": "code",
   "execution_count": 8,
   "metadata": {},
   "outputs": [
    {
     "name": "stdout",
     "output_type": "stream",
     "text": [
      "Enter only small letter:t\n"
     ]
    },
    {
     "data": {
      "text/plain": [
       "'T'"
      ]
     },
     "execution_count": 8,
     "metadata": {},
     "output_type": "execute_result"
    }
   ],
   "source": [
    "chr(ord(input(\"Enter only small letter:\"))-32)"
   ]
  },
  {
   "cell_type": "code",
   "execution_count": 9,
   "metadata": {},
   "outputs": [
    {
     "name": "stdout",
     "output_type": "stream",
     "text": [
      "Enter only small letter:1\n"
     ]
    },
    {
     "data": {
      "text/plain": [
       "'\\x11'"
      ]
     },
     "execution_count": 9,
     "metadata": {},
     "output_type": "execute_result"
    }
   ],
   "source": [
    "chr(ord(input(\"Enter only small letter:\"))-32)"
   ]
  },
  {
   "cell_type": "code",
   "execution_count": 10,
   "metadata": {},
   "outputs": [
    {
     "name": "stdout",
     "output_type": "stream",
     "text": [
      "2³\n"
     ]
    }
   ],
   "source": [
    "print(\"2\\u00b3\")"
   ]
  },
  {
   "cell_type": "code",
   "execution_count": 12,
   "metadata": {},
   "outputs": [
    {
     "name": "stdout",
     "output_type": "stream",
     "text": [
      "enter a value:12\n",
      "enter a value:34\n",
      "enter a value:5\n",
      "34.0\n",
      "5.0\n",
      "17.0\n"
     ]
    }
   ],
   "source": [
    "a,b,c=float(input(\"enter a value:\")),float(input(\"enter a value:\")),float(input(\"enter a value:\"))\n",
    "list_numbers = [a,b,c]\n",
    "print(max(list_numbers))\n",
    "print(min(list_numbers))\n",
    "print(sum(list_numbers)/len(list_numbers))"
   ]
  },
  {
   "cell_type": "code",
   "execution_count": 13,
   "metadata": {},
   "outputs": [
    {
     "name": "stdout",
     "output_type": "stream",
     "text": [
      "enter numberof people:120\n",
      "Enter number of seats in a bus:60\n",
      "2.0\n"
     ]
    }
   ],
   "source": [
    "people_count = float(input(\"enter numberof people:\"))\n",
    "seats_count = float(input(\"Enter number of seats in a bus:\"))\n",
    "print(people_count/seats_count)"
   ]
  },
  {
   "cell_type": "code",
   "execution_count": 14,
   "metadata": {},
   "outputs": [
    {
     "name": "stdout",
     "output_type": "stream",
     "text": [
      "enter numberof people:150\n",
      "Enter number of seats in a bus:60\n",
      "2.5\n"
     ]
    }
   ],
   "source": [
    "people_count = float(input(\"enter numberof people:\"))\n",
    "seats_count = float(input(\"Enter number of seats in a bus:\"))\n",
    "print(people_count/seats_count)"
   ]
  },
  {
   "cell_type": "code",
   "execution_count": 15,
   "metadata": {},
   "outputs": [],
   "source": [
    "import math"
   ]
  },
  {
   "cell_type": "code",
   "execution_count": 16,
   "metadata": {},
   "outputs": [
    {
     "data": {
      "text/plain": [
       "3"
      ]
     },
     "execution_count": 16,
     "metadata": {},
     "output_type": "execute_result"
    }
   ],
   "source": [
    "math.ceil(2.4)"
   ]
  },
  {
   "cell_type": "code",
   "execution_count": 18,
   "metadata": {},
   "outputs": [
    {
     "data": {
      "text/plain": [
       "2"
      ]
     },
     "execution_count": 18,
     "metadata": {},
     "output_type": "execute_result"
    }
   ],
   "source": [
    "math.ceil(2.0)"
   ]
  },
  {
   "cell_type": "code",
   "execution_count": 19,
   "metadata": {},
   "outputs": [
    {
     "name": "stdout",
     "output_type": "stream",
     "text": [
      "enter numberof people:120\n",
      "Enter number of seats in a bus:60\n",
      "2\n"
     ]
    }
   ],
   "source": [
    "people_count = float(input(\"enter numberof people:\"))\n",
    "seats_count = float(input(\"Enter number of seats in a bus:\"))\n",
    "print(math.ceil(people_count/seats_count))"
   ]
  },
  {
   "cell_type": "code",
   "execution_count": 20,
   "metadata": {},
   "outputs": [
    {
     "name": "stdout",
     "output_type": "stream",
     "text": [
      "enter numberof people:150\n",
      "Enter number of seats in a bus:60\n",
      "3\n"
     ]
    }
   ],
   "source": [
    "people_count = float(input(\"enter numberof people:\"))\n",
    "seats_count = float(input(\"Enter number of seats in a bus:\"))\n",
    "print(math.ceil(people_count/seats_count))"
   ]
  },
  {
   "cell_type": "code",
   "execution_count": 1,
   "metadata": {},
   "outputs": [
    {
     "name": "stdout",
     "output_type": "stream",
     "text": [
      "Enter sub string:python\n",
      "string found\n"
     ]
    }
   ],
   "source": [
    "# check whether gives string is there in actual string or not.\n",
    "act=\"python is pure object oriented programing language.\"\n",
    "sub = input(\"Enter sub string:\")\n",
    "if sub in act:\n",
    "    print(\"string found\")\n",
    "else:\n",
    "    print(\"string not found\")"
   ]
  },
  {
   "cell_type": "code",
   "execution_count": 2,
   "metadata": {},
   "outputs": [
    {
     "data": {
      "text/plain": [
       "False"
      ]
     },
     "execution_count": 2,
     "metadata": {},
     "output_type": "execute_result"
    }
   ],
   "source": [
    "act=\"python is pure object oriented programing language.\"\n",
    "\"java\" in act"
   ]
  },
  {
   "cell_type": "code",
   "execution_count": 3,
   "metadata": {},
   "outputs": [
    {
     "name": "stdout",
     "output_type": "stream",
     "text": [
      "Enter sub string:python\n",
      "found a string\n"
     ]
    }
   ],
   "source": [
    "# check whether gives string is there in actual string or not.\n",
    "act=\"python is pure object oriented programing language.\"\n",
    "sub = input(\"Enter sub string:\")\n",
    "if sub:\n",
    "    sub_length = len(sub)\n",
    "    i=0\n",
    "    while i<len(sub):\n",
    "        i_sub = act[i:i+sub_length]\n",
    "        if i_sub==sub:\n",
    "            print(\"found a string\")\n",
    "            break\n",
    "else:\n",
    "    print(\"invalid string\")"
   ]
  },
  {
   "cell_type": "code",
   "execution_count": 5,
   "metadata": {},
   "outputs": [
    {
     "name": "stdout",
     "output_type": "stream",
     "text": [
      "Enter sub string:java\n",
      "string not found..\n"
     ]
    }
   ],
   "source": [
    "# check whether gives string is there in actual string or not.\n",
    "act=\"python is pure object oriented programing language.\"\n",
    "sub = input(\"Enter sub string:\")\n",
    "if sub:\n",
    "    sub_length = len(sub)\n",
    "    i=0\n",
    "    while i<len(sub):\n",
    "        i_sub = act[i:i+sub_length]\n",
    "        if i_sub==sub:\n",
    "            print(\"found a string\")\n",
    "            break\n",
    "        i=i+1\n",
    "    else:\n",
    "        print(\"string not found..\")\n",
    "else:\n",
    "    print(\"invalid string\")"
   ]
  },
  {
   "cell_type": "code",
   "execution_count": 6,
   "metadata": {},
   "outputs": [],
   "source": [
    "act=\"python is pure object oriented programing language.\"\n",
    "sub=\"cpp\""
   ]
  },
  {
   "cell_type": "code",
   "execution_count": 8,
   "metadata": {},
   "outputs": [
    {
     "name": "stdout",
     "output_type": "stream",
     "text": [
      "Enter sub string:java\n",
      "string not found..\n"
     ]
    }
   ],
   "source": [
    "# check whether gives string is there in actual string or not.\n",
    "act=\"python is pure object oriented programing language.\"\n",
    "sub = input(\"Enter sub string:\")\n",
    "if sub:\n",
    "    sub_length = len(sub)\n",
    "    i=0\n",
    "    while i<len(sub):\n",
    "        if sub[0]==act[i]:\n",
    "            i_sub = act[i:i+sub_length]\n",
    "            if i_sub==sub:\n",
    "                print(\"found a string\")\n",
    "                break\n",
    "        i=i+1\n",
    "    else:\n",
    "        print(\"string not found..\")\n",
    "else:\n",
    "    print(\"invalid string\")"
   ]
  },
  {
   "cell_type": "code",
   "execution_count": 15,
   "metadata": {},
   "outputs": [
    {
     "name": "stdout",
     "output_type": "stream",
     "text": [
      "Enter sub string:pro\n",
      "found a string\n"
     ]
    }
   ],
   "source": [
    "# check whether gives string is there in actual string or not.\n",
    "act=\"python is pure object oriented programing language.\"\n",
    "sub = input(\"Enter sub string:\")\n",
    "if sub:\n",
    "    sub_length = len(sub)\n",
    "    i=0\n",
    "    while i<len(act):\n",
    "        if sub[0]==act[i]:\n",
    "            i_sub = act[i:i+sub_length]\n",
    "            if i_sub==sub:\n",
    "                print(\"found a string\")\n",
    "                break\n",
    "        i=i+1\n",
    "    else:\n",
    "        print(\"string not found..\")\n",
    "else:\n",
    "    print(\"invalid string\")"
   ]
  },
  {
   "cell_type": "code",
   "execution_count": 17,
   "metadata": {},
   "outputs": [
    {
     "name": "stdout",
     "output_type": "stream",
     "text": [
      "Enter sub string:pro\n",
      "pyt\n",
      "pur\n",
      "pro\n",
      "found a string\n"
     ]
    }
   ],
   "source": [
    "# check whether gives string is there in actual string or not.\n",
    "act=\"python is pure object oriented programing language.\"\n",
    "sub = input(\"Enter sub string:\")\n",
    "if sub:\n",
    "    sub_length = len(sub)\n",
    "    i=0\n",
    "    while i<len(act):\n",
    "        if sub[0]==act[i]:\n",
    "            i_sub = act[i:i+sub_length]\n",
    "            print(i_sub)\n",
    "            if i_sub==sub:\n",
    "                print(\"found a string\")\n",
    "                break\n",
    "        i=i+1\n",
    "    else:\n",
    "        print(\"string not found..\")\n",
    "else:\n",
    "    print(\"invalid string\")"
   ]
  },
  {
   "cell_type": "code",
   "execution_count": 18,
   "metadata": {},
   "outputs": [
    {
     "name": "stdout",
     "output_type": "stream",
     "text": [
      "Enter sub string:p\n",
      "p\n",
      "found a string\n"
     ]
    }
   ],
   "source": [
    "# check whether gives string is there in actual string or not.\n",
    "act=\"python is pure object oriented programing language.\"\n",
    "sub = input(\"Enter sub string:\")\n",
    "if sub:\n",
    "    sub_length = len(sub)\n",
    "    i=0\n",
    "    while i<len(act):\n",
    "        if sub[0]==act[i]:\n",
    "            i_sub = act[i:i+sub_length]\n",
    "            print(i_sub)\n",
    "            if i_sub==sub:\n",
    "                print(\"found a string\")\n",
    "                break\n",
    "        i=i+1\n",
    "    else:\n",
    "        print(\"string not found..\")\n",
    "else:\n",
    "    print(\"invalid string\")"
   ]
  },
  {
   "cell_type": "code",
   "execution_count": 19,
   "metadata": {},
   "outputs": [
    {
     "name": "stdout",
     "output_type": "stream",
     "text": [
      "Enter sub string:p\n",
      "p\n",
      "found a string\n",
      "0\n"
     ]
    }
   ],
   "source": [
    "# check whether gives string is there in actual string or not.\n",
    "act=\"python is pure object oriented programing language.\"\n",
    "sub = input(\"Enter sub string:\")\n",
    "if sub:\n",
    "    sub_length = len(sub)\n",
    "    i=0\n",
    "    while i<len(act):\n",
    "        if sub[0]==act[i]:\n",
    "            i_sub = act[i:i+sub_length]\n",
    "            print(i_sub)\n",
    "            if i_sub==sub:\n",
    "                print(\"found a string\")\n",
    "                print(i)\n",
    "                break\n",
    "        i=i+1\n",
    "    else:\n",
    "        print(\"string not found..\")\n",
    "else:\n",
    "    print(\"invalid string\")"
   ]
  },
  {
   "cell_type": "code",
   "execution_count": 20,
   "metadata": {},
   "outputs": [
    {
     "name": "stdout",
     "output_type": "stream",
     "text": [
      "Enter sub string:p\n",
      "which occurance want to find:2\n",
      "p\n",
      "p\n",
      "found a string\n",
      "10\n"
     ]
    }
   ],
   "source": [
    "# find an index of the nth occurance string\n",
    "act=\"python is pure object oriented programing language.\"\n",
    "sub = input(\"Enter sub string:\")\n",
    "n_oc = input(\"which occurance want to find:\")\n",
    "oc=0\n",
    "n_oc=int(n_oc)\n",
    "if sub:\n",
    "    sub_length = len(sub)\n",
    "    i=0\n",
    "    while i<len(act):\n",
    "        if sub[0]==act[i]:\n",
    "            i_sub = act[i:i+sub_length]\n",
    "            print(i_sub)\n",
    "            if i_sub==sub:\n",
    "                oc = oc+1\n",
    "                if oc == n_oc:\n",
    "                    print(\"found a string\")\n",
    "                    print(i)\n",
    "                    break\n",
    "        i=i+1\n",
    "    else:\n",
    "        print(\"string not found..\")\n",
    "else:\n",
    "    print(\"invalid string\")"
   ]
  },
  {
   "cell_type": "code",
   "execution_count": 21,
   "metadata": {},
   "outputs": [
    {
     "name": "stdout",
     "output_type": "stream",
     "text": [
      "Enter sub string:p\n",
      "which occurance want to find:3\n",
      "p\n",
      "p\n",
      "p\n",
      "found a string\n",
      "31\n"
     ]
    }
   ],
   "source": [
    "# find an index of the nth occurance string\n",
    "act=\"python is pure object oriented programing language.\"\n",
    "sub = input(\"Enter sub string:\")\n",
    "n_oc = input(\"which occurance want to find:\")\n",
    "oc=0\n",
    "n_oc=int(n_oc)\n",
    "if sub:\n",
    "    sub_length = len(sub)\n",
    "    i=0\n",
    "    while i<len(act):\n",
    "        if sub[0]==act[i]:\n",
    "            i_sub = act[i:i+sub_length]\n",
    "            print(i_sub)\n",
    "            if i_sub==sub:\n",
    "                oc = oc+1\n",
    "                if oc == n_oc:\n",
    "                    print(\"found a string\")\n",
    "                    print(i)\n",
    "                    break\n",
    "        i=i+1\n",
    "    else:\n",
    "        print(\"string not found..\")\n",
    "else:\n",
    "    print(\"invalid string\")"
   ]
  },
  {
   "cell_type": "code",
   "execution_count": 22,
   "metadata": {},
   "outputs": [
    {
     "name": "stdout",
     "output_type": "stream",
     "text": [
      "Enter sub string:p\n",
      "which occurance want to find:5\n",
      "string not found..\n"
     ]
    }
   ],
   "source": [
    "# find an index of the nth occurance string\n",
    "act=\"python is pure object oriented programing language.\"\n",
    "sub = input(\"Enter sub string:\")\n",
    "n_oc = input(\"which occurance want to find:\")\n",
    "oc=0\n",
    "n_oc=int(n_oc)\n",
    "if sub:\n",
    "    sub_length = len(sub)\n",
    "    i=0\n",
    "    while i<len(act):\n",
    "        if sub[0]==act[i]:\n",
    "            i_sub = act[i:i+sub_length]\n",
    "            if i_sub==sub:\n",
    "                oc = oc+1\n",
    "                if oc == n_oc:\n",
    "                    print(\"found a string\")\n",
    "                    print(i)\n",
    "                    break\n",
    "        i=i+1\n",
    "    else:\n",
    "        print(\"string not found..\")\n",
    "else:\n",
    "    print(\"invalid string\")"
   ]
  },
  {
   "cell_type": "code",
   "execution_count": 2,
   "metadata": {},
   "outputs": [
    {
     "name": "stdout",
     "output_type": "stream",
     "text": [
      "140017615767472\n",
      "140017615767888\n"
     ]
    }
   ],
   "source": [
    "a=1000\n",
    "b=1000\n",
    "print(id(a),id(b),sep=\"\\n\")"
   ]
  },
  {
   "cell_type": "code",
   "execution_count": 3,
   "metadata": {},
   "outputs": [
    {
     "name": "stdout",
     "output_type": "stream",
     "text": [
      "94684414743616\n",
      "94684414743616\n"
     ]
    }
   ],
   "source": [
    "a=10\n",
    "b=10\n",
    "print(id(a),id(b),sep=\"\\n\")"
   ]
  },
  {
   "cell_type": "code",
   "execution_count": 4,
   "metadata": {},
   "outputs": [
    {
     "name": "stdout",
     "output_type": "stream",
     "text": [
      "94684414743136\n",
      "94684414743136\n"
     ]
    }
   ],
   "source": [
    "# -5 -->256\n",
    "a=-5\n",
    "b=-5\n",
    "print(id(a),id(b),sep=\"\\n\")"
   ]
  },
  {
   "cell_type": "code",
   "execution_count": 5,
   "metadata": {},
   "outputs": [
    {
     "name": "stdout",
     "output_type": "stream",
     "text": [
      "140017615766864\n",
      "140017615767664\n"
     ]
    }
   ],
   "source": [
    "# -5 -->256\n",
    "a=-6\n",
    "b=-6\n",
    "print(id(a),id(b),sep=\"\\n\")"
   ]
  },
  {
   "cell_type": "code",
   "execution_count": 6,
   "metadata": {},
   "outputs": [
    {
     "name": "stdout",
     "output_type": "stream",
     "text": [
      "94684414751456\n",
      "94684414751456\n"
     ]
    }
   ],
   "source": [
    "# -5 -->256\n",
    "a=255\n",
    "b=255\n",
    "print(id(a),id(b),sep=\"\\n\")"
   ]
  },
  {
   "cell_type": "code",
   "execution_count": 7,
   "metadata": {},
   "outputs": [
    {
     "name": "stdout",
     "output_type": "stream",
     "text": [
      "94684414751488\n",
      "94684414751488\n"
     ]
    }
   ],
   "source": [
    "# -5 -->256\n",
    "a=256\n",
    "b=256\n",
    "print(id(a),id(b),sep=\"\\n\")"
   ]
  },
  {
   "cell_type": "code",
   "execution_count": 8,
   "metadata": {},
   "outputs": [
    {
     "name": "stdout",
     "output_type": "stream",
     "text": [
      "140017615767632\n",
      "140017615767824\n"
     ]
    }
   ],
   "source": [
    "# -5 -->256\n",
    "a=257\n",
    "b=257\n",
    "print(id(a),id(b),sep=\"\\n\")"
   ]
  },
  {
   "cell_type": "code",
   "execution_count": 9,
   "metadata": {},
   "outputs": [
    {
     "name": "stdout",
     "output_type": "stream",
     "text": [
      "140017615415424\n",
      "140017615415424\n"
     ]
    }
   ],
   "source": [
    "s1=\"apple\"\n",
    "s2=\"apple\"\n",
    "\n",
    "print(id(s1),id(s2),sep=\"\\n\")"
   ]
  },
  {
   "cell_type": "code",
   "execution_count": 10,
   "metadata": {},
   "outputs": [
    {
     "name": "stdout",
     "output_type": "stream",
     "text": [
      "140017615415704\n",
      "140017615415760\n"
     ]
    }
   ],
   "source": [
    "s1=\"apple \"\n",
    "s2=\"apple \"\n",
    "\n",
    "print(id(s1),id(s2),sep=\"\\n\")"
   ]
  },
  {
   "cell_type": "code",
   "execution_count": 11,
   "metadata": {},
   "outputs": [
    {
     "name": "stdout",
     "output_type": "stream",
     "text": [
      "140017615417272\n",
      "140017615417272\n"
     ]
    }
   ],
   "source": [
    "s1=\"apple1\"\n",
    "s2=\"apple1\"\n",
    "\n",
    "print(id(s1),id(s2),sep=\"\\n\")"
   ]
  },
  {
   "cell_type": "code",
   "execution_count": 12,
   "metadata": {},
   "outputs": [],
   "source": [
    "a=-2\n",
    "b=-2\n",
    "c=-2\n",
    "d=-2"
   ]
  },
  {
   "cell_type": "code",
   "execution_count": 13,
   "metadata": {},
   "outputs": [],
   "source": [
    "a=-6\n",
    "b=-6\n",
    "c=-6\n",
    "d=-6"
   ]
  },
  {
   "cell_type": "code",
   "execution_count": 14,
   "metadata": {},
   "outputs": [
    {
     "name": "stdout",
     "output_type": "stream",
     "text": [
      "python program\n"
     ]
    }
   ],
   "source": [
    "s=\"python program\"\n",
    "s.replace(\"python\",\"PYTHON\")\n",
    "print(s)"
   ]
  },
  {
   "cell_type": "code",
   "execution_count": 15,
   "metadata": {},
   "outputs": [
    {
     "ename": "TypeError",
     "evalue": "sequence item 0: expected str instance, int found",
     "output_type": "error",
     "traceback": [
      "\u001b[0;31m---------------------------------------------------------------------------\u001b[0m",
      "\u001b[0;31mTypeError\u001b[0m                                 Traceback (most recent call last)",
      "\u001b[0;32m<ipython-input-15-39f48037768c>\u001b[0m in \u001b[0;36m<module>\u001b[0;34m()\u001b[0m\n\u001b[1;32m      1\u001b[0m \u001b[0ma\u001b[0m\u001b[0;34m=\u001b[0m\u001b[0;36m82\u001b[0m\u001b[0;34m,\u001b[0m\u001b[0;36m500\u001b[0m\u001b[0;34m\u001b[0m\u001b[0m\n\u001b[0;32m----> 2\u001b[0;31m \u001b[0ms\u001b[0m\u001b[0;34m=\u001b[0m\u001b[0;34m\"\"\u001b[0m\u001b[0;34m.\u001b[0m\u001b[0mjoin\u001b[0m\u001b[0;34m(\u001b[0m\u001b[0ma\u001b[0m\u001b[0;34m)\u001b[0m\u001b[0;34m\u001b[0m\u001b[0m\n\u001b[0m\u001b[1;32m      3\u001b[0m \u001b[0mprint\u001b[0m\u001b[0;34m(\u001b[0m\u001b[0ms\u001b[0m\u001b[0;34m)\u001b[0m\u001b[0;34m\u001b[0m\u001b[0m\n",
      "\u001b[0;31mTypeError\u001b[0m: sequence item 0: expected str instance, int found"
     ]
    }
   ],
   "source": [
    "a=82,500\n",
    "s=\"\".join(a)\n",
    "print(s)"
   ]
  },
  {
   "cell_type": "code",
   "execution_count": 16,
   "metadata": {},
   "outputs": [
    {
     "name": "stdout",
     "output_type": "stream",
     "text": [
      "['82', '500']\n"
     ]
    }
   ],
   "source": [
    "a=82,500\n",
    "l=[]\n",
    "for i in a:\n",
    "    l.append(str(i))\n",
    "print(l)\n"
   ]
  },
  {
   "cell_type": "code",
   "execution_count": 18,
   "metadata": {},
   "outputs": [
    {
     "data": {
      "text/plain": [
       "'82500'"
      ]
     },
     "execution_count": 18,
     "metadata": {},
     "output_type": "execute_result"
    }
   ],
   "source": [
    "a=82,500\n",
    "l=[]\n",
    "for i in a:\n",
    "    l.append(str(i))\n",
    "s = \"\".join(l)\n",
    "s"
   ]
  },
  {
   "cell_type": "code",
   "execution_count": 20,
   "metadata": {},
   "outputs": [
    {
     "name": "stdout",
     "output_type": "stream",
     "text": [
      "82500\n"
     ]
    }
   ],
   "source": [
    "a=82,500\n",
    "l=[]\n",
    "for i in a:\n",
    "    l.append(str(i))\n",
    "s = \"\".join(l)\n",
    "number = int(s)\n",
    "print(number)"
   ]
  },
  {
   "cell_type": "code",
   "execution_count": 21,
   "metadata": {},
   "outputs": [
    {
     "name": "stdout",
     "output_type": "stream",
     "text": [
      "82500\n"
     ]
    }
   ],
   "source": [
    "a=82,500\n",
    "print(int(\"\".join(map(str,a))))"
   ]
  },
  {
   "cell_type": "code",
   "execution_count": 22,
   "metadata": {},
   "outputs": [],
   "source": [
    "a=82,500\n",
    "number = int(\"\".join(map(str,a)))"
   ]
  },
  {
   "cell_type": "code",
   "execution_count": 23,
   "metadata": {},
   "outputs": [
    {
     "data": {
      "text/plain": [
       "82500"
      ]
     },
     "execution_count": 23,
     "metadata": {},
     "output_type": "execute_result"
    }
   ],
   "source": [
    "number"
   ]
  },
  {
   "cell_type": "code",
   "execution_count": 24,
   "metadata": {},
   "outputs": [
    {
     "data": {
      "text/plain": [
       "int"
      ]
     },
     "execution_count": 24,
     "metadata": {},
     "output_type": "execute_result"
    }
   ],
   "source": [
    "type(number)"
   ]
  },
  {
   "cell_type": "code",
   "execution_count": 25,
   "metadata": {},
   "outputs": [
    {
     "name": "stdout",
     "output_type": "stream",
     "text": [
      "['82', '500']\n"
     ]
    }
   ],
   "source": [
    "a=82,500\n",
    "l=[]\n",
    "for i in a:\n",
    "    l.append(str(i))\n",
    "print(l)"
   ]
  },
  {
   "cell_type": "code",
   "execution_count": 26,
   "metadata": {},
   "outputs": [
    {
     "name": "stdout",
     "output_type": "stream",
     "text": [
      "['1', '12', '82', '500']\n"
     ]
    }
   ],
   "source": [
    "a=1,12,82,500\n",
    "l=[]\n",
    "for i in a:\n",
    "    l.append(str(i))\n",
    "print(l)"
   ]
  },
  {
   "cell_type": "code",
   "execution_count": 27,
   "metadata": {},
   "outputs": [],
   "source": [
    "l=[\"10\",\"20\",\"9\",\"46\",\"34\",\"46\",\"34\"]"
   ]
  },
  {
   "cell_type": "code",
   "execution_count": 28,
   "metadata": {},
   "outputs": [
    {
     "name": "stdout",
     "output_type": "stream",
     "text": [
      "[10, 20, 9, 46, 34, 46, 34]\n"
     ]
    }
   ],
   "source": [
    "l=[\"10\",\"20\",\"9\",\"46\",\"34\",\"46\",\"34\"]\n",
    "res=[]\n",
    "for i in l:\n",
    "    res.append(int(i))\n",
    "print(res)"
   ]
  },
  {
   "cell_type": "code",
   "execution_count": 29,
   "metadata": {},
   "outputs": [
    {
     "name": "stdout",
     "output_type": "stream",
     "text": [
      "[10, 20, 9, 46, 34, 46, 34]\n"
     ]
    }
   ],
   "source": [
    "l=[\"10\",\"20\",\"9\",\"46\",\"34\",\"46\",\"34\"]\n",
    "res=[int(i) for i in l]\n",
    "print(res)"
   ]
  },
  {
   "cell_type": "code",
   "execution_count": 31,
   "metadata": {},
   "outputs": [
    {
     "name": "stdout",
     "output_type": "stream",
     "text": [
      "[11, 12, 13, 14, 15]\n"
     ]
    }
   ],
   "source": [
    "l=[1,2,3,4,5]\n",
    "# ad 10 to each and every element..\n",
    "res = [i+10 for i in l]\n",
    "print(res)"
   ]
  },
  {
   "cell_type": "code",
   "execution_count": 32,
   "metadata": {},
   "outputs": [
    {
     "ename": "ValueError",
     "evalue": "invalid literal for int() with base 10: 'asd23'",
     "output_type": "error",
     "traceback": [
      "\u001b[0;31m---------------------------------------------------------------------------\u001b[0m",
      "\u001b[0;31mValueError\u001b[0m                                Traceback (most recent call last)",
      "\u001b[0;32m<ipython-input-32-18e5a8ec3c83>\u001b[0m in \u001b[0;36m<module>\u001b[0;34m()\u001b[0m\n\u001b[1;32m      1\u001b[0m \u001b[0ml\u001b[0m\u001b[0;34m=\u001b[0m\u001b[0;34m[\u001b[0m\u001b[0;34m\"10\"\u001b[0m\u001b[0;34m,\u001b[0m\u001b[0;34m\"20\"\u001b[0m\u001b[0;34m,\u001b[0m\u001b[0;34m\"9\"\u001b[0m\u001b[0;34m,\u001b[0m\u001b[0;34m\"46\"\u001b[0m\u001b[0;34m,\u001b[0m\u001b[0;34m\"34\"\u001b[0m\u001b[0;34m,\u001b[0m\u001b[0;34m\"46\"\u001b[0m\u001b[0;34m,\u001b[0m\u001b[0;34m\"34\"\u001b[0m\u001b[0;34m,\u001b[0m\u001b[0;34m\"asd23\"\u001b[0m\u001b[0;34m]\u001b[0m\u001b[0;34m\u001b[0m\u001b[0m\n\u001b[0;32m----> 2\u001b[0;31m \u001b[0mres\u001b[0m\u001b[0;34m=\u001b[0m\u001b[0;34m[\u001b[0m\u001b[0mint\u001b[0m\u001b[0;34m(\u001b[0m\u001b[0mi\u001b[0m\u001b[0;34m)\u001b[0m \u001b[0;32mfor\u001b[0m \u001b[0mi\u001b[0m \u001b[0;32min\u001b[0m \u001b[0ml\u001b[0m\u001b[0;34m]\u001b[0m\u001b[0;34m\u001b[0m\u001b[0m\n\u001b[0m\u001b[1;32m      3\u001b[0m \u001b[0mprint\u001b[0m\u001b[0;34m(\u001b[0m\u001b[0mres\u001b[0m\u001b[0;34m)\u001b[0m\u001b[0;34m\u001b[0m\u001b[0m\n",
      "\u001b[0;32m<ipython-input-32-18e5a8ec3c83>\u001b[0m in \u001b[0;36m<listcomp>\u001b[0;34m(.0)\u001b[0m\n\u001b[1;32m      1\u001b[0m \u001b[0ml\u001b[0m\u001b[0;34m=\u001b[0m\u001b[0;34m[\u001b[0m\u001b[0;34m\"10\"\u001b[0m\u001b[0;34m,\u001b[0m\u001b[0;34m\"20\"\u001b[0m\u001b[0;34m,\u001b[0m\u001b[0;34m\"9\"\u001b[0m\u001b[0;34m,\u001b[0m\u001b[0;34m\"46\"\u001b[0m\u001b[0;34m,\u001b[0m\u001b[0;34m\"34\"\u001b[0m\u001b[0;34m,\u001b[0m\u001b[0;34m\"46\"\u001b[0m\u001b[0;34m,\u001b[0m\u001b[0;34m\"34\"\u001b[0m\u001b[0;34m,\u001b[0m\u001b[0;34m\"asd23\"\u001b[0m\u001b[0;34m]\u001b[0m\u001b[0;34m\u001b[0m\u001b[0m\n\u001b[0;32m----> 2\u001b[0;31m \u001b[0mres\u001b[0m\u001b[0;34m=\u001b[0m\u001b[0;34m[\u001b[0m\u001b[0mint\u001b[0m\u001b[0;34m(\u001b[0m\u001b[0mi\u001b[0m\u001b[0;34m)\u001b[0m \u001b[0;32mfor\u001b[0m \u001b[0mi\u001b[0m \u001b[0;32min\u001b[0m \u001b[0ml\u001b[0m\u001b[0;34m]\u001b[0m\u001b[0;34m\u001b[0m\u001b[0m\n\u001b[0m\u001b[1;32m      3\u001b[0m \u001b[0mprint\u001b[0m\u001b[0;34m(\u001b[0m\u001b[0mres\u001b[0m\u001b[0;34m)\u001b[0m\u001b[0;34m\u001b[0m\u001b[0m\n",
      "\u001b[0;31mValueError\u001b[0m: invalid literal for int() with base 10: 'asd23'"
     ]
    }
   ],
   "source": [
    "l=[\"10\",\"20\",\"9\",\"46\",\"34\",\"46\",\"34\",\"asd23\"]\n",
    "res=[int(i) for i in l]\n",
    "print(res)"
   ]
  },
  {
   "cell_type": "code",
   "execution_count": 34,
   "metadata": {},
   "outputs": [
    {
     "name": "stdout",
     "output_type": "stream",
     "text": [
      "[10, 20, 9, 0, 46, 34, 46, 34, 0]\n"
     ]
    }
   ],
   "source": [
    "l=[\"10\",\"20\",\"9\",\"asdfasd\",\"46\",\"34\",\"46\",\"34\",\"sdfsd\"]\n",
    "res=[]\n",
    "for i in l:\n",
    "    if i.isdigit():\n",
    "        res.append(int(i))\n",
    "    else:\n",
    "        res.append(0)\n",
    "print(res)"
   ]
  },
  {
   "cell_type": "code",
   "execution_count": 35,
   "metadata": {},
   "outputs": [
    {
     "name": "stdout",
     "output_type": "stream",
     "text": [
      "[10, 20, 9, 0, 46, 34, 46, 34, 0]\n"
     ]
    }
   ],
   "source": [
    "l=[\"10\",\"20\",\"9\",\"asdfasd\",\"46\",\"34\",\"46\",\"34\",\"sdfsd\"]\n",
    "res=[]\n",
    "for i in l:\n",
    "    res.append(int(i)) if i.isdigit()  else res.append(0)\n",
    "print(res)"
   ]
  },
  {
   "cell_type": "code",
   "execution_count": 36,
   "metadata": {},
   "outputs": [
    {
     "name": "stdout",
     "output_type": "stream",
     "text": [
      "[10, 20, 9, 0, 46, 34, 46, 34, 0]\n"
     ]
    }
   ],
   "source": [
    "l=[\"10\",\"20\",\"9\",\"asdfasd\",\"46\",\"34\",\"46\",\"34\",\"sdfsd\"]\n",
    "res=[int(i) if i.isdigit() else 0 for i in l]\n",
    "print(res)"
   ]
  },
  {
   "cell_type": "code",
   "execution_count": 37,
   "metadata": {},
   "outputs": [
    {
     "ename": "AttributeError",
     "evalue": "'float' object has no attribute 'isdigit'",
     "output_type": "error",
     "traceback": [
      "\u001b[0;31m---------------------------------------------------------------------------\u001b[0m",
      "\u001b[0;31mAttributeError\u001b[0m                            Traceback (most recent call last)",
      "\u001b[0;32m<ipython-input-37-24193bc16897>\u001b[0m in \u001b[0;36m<module>\u001b[0;34m()\u001b[0m\n\u001b[1;32m      1\u001b[0m \u001b[0ml\u001b[0m\u001b[0;34m=\u001b[0m\u001b[0;34m[\u001b[0m\u001b[0;34m\"10\"\u001b[0m\u001b[0;34m,\u001b[0m\u001b[0;34m\"20\"\u001b[0m\u001b[0;34m,\u001b[0m\u001b[0;36m23.45\u001b[0m\u001b[0;34m,\u001b[0m\u001b[0;34m\"9\"\u001b[0m\u001b[0;34m,\u001b[0m\u001b[0;34m\"asdfasd\"\u001b[0m\u001b[0;34m,\u001b[0m\u001b[0;34m\"46\"\u001b[0m\u001b[0;34m,\u001b[0m\u001b[0;34m\"34\"\u001b[0m\u001b[0;34m,\u001b[0m\u001b[0;34m\"46\"\u001b[0m\u001b[0;34m,\u001b[0m\u001b[0;34m\"34\"\u001b[0m\u001b[0;34m,\u001b[0m\u001b[0;34m\"sdfsd\"\u001b[0m\u001b[0;34m,\u001b[0m\u001b[0;36m12\u001b[0m\u001b[0;34m]\u001b[0m\u001b[0;34m\u001b[0m\u001b[0m\n\u001b[0;32m----> 2\u001b[0;31m \u001b[0mres\u001b[0m\u001b[0;34m=\u001b[0m\u001b[0;34m[\u001b[0m\u001b[0mint\u001b[0m\u001b[0;34m(\u001b[0m\u001b[0mi\u001b[0m\u001b[0;34m)\u001b[0m \u001b[0;32mif\u001b[0m \u001b[0mi\u001b[0m\u001b[0;34m.\u001b[0m\u001b[0misdigit\u001b[0m\u001b[0;34m(\u001b[0m\u001b[0;34m)\u001b[0m \u001b[0;32melse\u001b[0m \u001b[0;36m0\u001b[0m \u001b[0;32mfor\u001b[0m \u001b[0mi\u001b[0m \u001b[0;32min\u001b[0m \u001b[0ml\u001b[0m\u001b[0;34m]\u001b[0m\u001b[0;34m\u001b[0m\u001b[0m\n\u001b[0m\u001b[1;32m      3\u001b[0m \u001b[0mprint\u001b[0m\u001b[0;34m(\u001b[0m\u001b[0mres\u001b[0m\u001b[0;34m)\u001b[0m\u001b[0;34m\u001b[0m\u001b[0m\n",
      "\u001b[0;32m<ipython-input-37-24193bc16897>\u001b[0m in \u001b[0;36m<listcomp>\u001b[0;34m(.0)\u001b[0m\n\u001b[1;32m      1\u001b[0m \u001b[0ml\u001b[0m\u001b[0;34m=\u001b[0m\u001b[0;34m[\u001b[0m\u001b[0;34m\"10\"\u001b[0m\u001b[0;34m,\u001b[0m\u001b[0;34m\"20\"\u001b[0m\u001b[0;34m,\u001b[0m\u001b[0;36m23.45\u001b[0m\u001b[0;34m,\u001b[0m\u001b[0;34m\"9\"\u001b[0m\u001b[0;34m,\u001b[0m\u001b[0;34m\"asdfasd\"\u001b[0m\u001b[0;34m,\u001b[0m\u001b[0;34m\"46\"\u001b[0m\u001b[0;34m,\u001b[0m\u001b[0;34m\"34\"\u001b[0m\u001b[0;34m,\u001b[0m\u001b[0;34m\"46\"\u001b[0m\u001b[0;34m,\u001b[0m\u001b[0;34m\"34\"\u001b[0m\u001b[0;34m,\u001b[0m\u001b[0;34m\"sdfsd\"\u001b[0m\u001b[0;34m,\u001b[0m\u001b[0;36m12\u001b[0m\u001b[0;34m]\u001b[0m\u001b[0;34m\u001b[0m\u001b[0m\n\u001b[0;32m----> 2\u001b[0;31m \u001b[0mres\u001b[0m\u001b[0;34m=\u001b[0m\u001b[0;34m[\u001b[0m\u001b[0mint\u001b[0m\u001b[0;34m(\u001b[0m\u001b[0mi\u001b[0m\u001b[0;34m)\u001b[0m \u001b[0;32mif\u001b[0m \u001b[0mi\u001b[0m\u001b[0;34m.\u001b[0m\u001b[0misdigit\u001b[0m\u001b[0;34m(\u001b[0m\u001b[0;34m)\u001b[0m \u001b[0;32melse\u001b[0m \u001b[0;36m0\u001b[0m \u001b[0;32mfor\u001b[0m \u001b[0mi\u001b[0m \u001b[0;32min\u001b[0m \u001b[0ml\u001b[0m\u001b[0;34m]\u001b[0m\u001b[0;34m\u001b[0m\u001b[0m\n\u001b[0m\u001b[1;32m      3\u001b[0m \u001b[0mprint\u001b[0m\u001b[0;34m(\u001b[0m\u001b[0mres\u001b[0m\u001b[0;34m)\u001b[0m\u001b[0;34m\u001b[0m\u001b[0m\n",
      "\u001b[0;31mAttributeError\u001b[0m: 'float' object has no attribute 'isdigit'"
     ]
    }
   ],
   "source": [
    "l=[\"10\",\"20\",23.45,\"9\",\"asdfasd\",\"46\",\"34\",\"46\",\"34\",\"sdfsd\",12]\n",
    "res=[int(i) if i.isdigit() else 0 for i in l]\n",
    "print(res)"
   ]
  },
  {
   "cell_type": "code",
   "execution_count": 39,
   "metadata": {},
   "outputs": [
    {
     "name": "stdout",
     "output_type": "stream",
     "text": [
      "[10, 20, 9, 0, 46, 34, 46, 34, 0]\n"
     ]
    }
   ],
   "source": [
    "l=[\"10\",\"20\",23.45,\"9\",\"asdfasd\",\"46\",\"34\",\"46\",\"34\",\"sdfsd\",12]\n",
    "res=[]\n",
    "for i in l:\n",
    "    if isinstance(i,str):\n",
    "        res.append(int(i)) if i.isdigit()  else res.append(0)\n",
    "print(res)"
   ]
  },
  {
   "cell_type": "code",
   "execution_count": 40,
   "metadata": {},
   "outputs": [
    {
     "name": "stdout",
     "output_type": "stream",
     "text": [
      "[10, 20, 9, 0, 46, 34, 46, 34, 0]\n"
     ]
    }
   ],
   "source": [
    "l=[\"10\",\"20\",23.45,\"9\",\"asdfasd\",\"46\",\"34\",\"46\",\"34\",\"sdfsd\",12]\n",
    "res=[int(i) if i.isdigit() else 0 for i in l if isinstance(i,str)]\n",
    "print(res)"
   ]
  },
  {
   "cell_type": "code",
   "execution_count": 43,
   "metadata": {},
   "outputs": [
    {
     "ename": "SyntaxError",
     "evalue": "invalid syntax (<ipython-input-43-955fe6c0776f>, line 2)",
     "output_type": "error",
     "traceback": [
      "\u001b[0;36m  File \u001b[0;32m\"<ipython-input-43-955fe6c0776f>\"\u001b[0;36m, line \u001b[0;32m2\u001b[0m\n\u001b[0;31m    res=[int(i) if i.isdigit() 1 elif i.isalpha() else 0 for i in l if isinstance(i,str)]\u001b[0m\n\u001b[0m                               ^\u001b[0m\n\u001b[0;31mSyntaxError\u001b[0m\u001b[0;31m:\u001b[0m invalid syntax\n"
     ]
    }
   ],
   "source": [
    "l=[\"10\",\"20\",23.45,\"9\",\"asdfasd\",\"46\",\"34\",\"46\",\"34\",\"sdfsd\",12]\n",
    "res=[int(i) if i.isdigit() 1 elif i.isalpha() else 0 for i in l if isinstance(i,str)]\n",
    "print(res)"
   ]
  },
  {
   "cell_type": "code",
   "execution_count": 44,
   "metadata": {},
   "outputs": [
    {
     "name": "stdout",
     "output_type": "stream",
     "text": [
      "<generator object <genexpr> at 0x7f58643515e8>\n"
     ]
    }
   ],
   "source": [
    "l=[\"10\",\"20\",23.45,\"9\",\"asdfasd\",\"46\",\"34\",\"46\",\"34\",\"sdfsd\",12]\n",
    "res=(int(i) if i.isdigit() else 0 for i in l if isinstance(i,str))\n",
    "print(res)"
   ]
  },
  {
   "cell_type": "code",
   "execution_count": 45,
   "metadata": {},
   "outputs": [
    {
     "name": "stdout",
     "output_type": "stream",
     "text": [
      "10\n",
      "20\n",
      "9\n",
      "0\n",
      "46\n",
      "34\n",
      "46\n",
      "34\n",
      "0\n"
     ]
    }
   ],
   "source": [
    "l=[\"10\",\"20\",23.45,\"9\",\"asdfasd\",\"46\",\"34\",\"46\",\"34\",\"sdfsd\",12]\n",
    "res=(int(i) if i.isdigit() else 0 for i in l if isinstance(i,str))\n",
    "for i in res:\n",
    "    print(i)"
   ]
  },
  {
   "cell_type": "code",
   "execution_count": 46,
   "metadata": {},
   "outputs": [
    {
     "name": "stdout",
     "output_type": "stream",
     "text": [
      "{'10': 10, '20': 20, '9': 9, 'asdfasd': 0, '46': 46, '34': 34, 'sdfsd': 0}\n"
     ]
    }
   ],
   "source": [
    "l=[\"10\",\"20\",23.45,\"9\",\"asdfasd\",\"46\",\"34\",\"46\",\"34\",\"sdfsd\",12]\n",
    "res={i:int(i) if i.isdigit() else 0 for i in l if isinstance(i,str)}\n",
    "print(res)"
   ]
  },
  {
   "cell_type": "code",
   "execution_count": 47,
   "metadata": {},
   "outputs": [
    {
     "name": "stdout",
     "output_type": "stream",
     "text": [
      "even\n"
     ]
    }
   ],
   "source": [
    "def fun(x):\n",
    "    return \"even\" if x%2==0 else \"odd\"\n",
    "res=fun(10)\n",
    "print(res)"
   ]
  },
  {
   "cell_type": "code",
   "execution_count": 48,
   "metadata": {},
   "outputs": [
    {
     "name": "stdout",
     "output_type": "stream",
     "text": [
      "<class 'function'>\n"
     ]
    }
   ],
   "source": [
    "def fun(x):\n",
    "    return \"even\" if x%2==0 else \"odd\"\n",
    "f=lambda x:\"even\" if x%2==0 else \"odd\"\n",
    "print(type(f))"
   ]
  },
  {
   "cell_type": "code",
   "execution_count": 49,
   "metadata": {},
   "outputs": [
    {
     "data": {
      "text/plain": [
       "'even'"
      ]
     },
     "execution_count": 49,
     "metadata": {},
     "output_type": "execute_result"
    }
   ],
   "source": [
    "def fun(x):\n",
    "    return \"even\" if x%2==0 else \"odd\"\n",
    "f=lambda x:\"even\" if x%2==0 else \"odd\"\n",
    "f(10)"
   ]
  },
  {
   "cell_type": "code",
   "execution_count": 50,
   "metadata": {},
   "outputs": [
    {
     "data": {
      "text/plain": [
       "'even'"
      ]
     },
     "execution_count": 50,
     "metadata": {},
     "output_type": "execute_result"
    }
   ],
   "source": [
    "def fun(x):\n",
    "    return \"even\" if x%2==0 else \"odd\"\n",
    "f=lambda x:\"even\" if x%2==0 else \"odd\"\n",
    "fun(10)"
   ]
  },
  {
   "cell_type": "code",
   "execution_count": 51,
   "metadata": {},
   "outputs": [
    {
     "data": {
      "text/plain": [
       "'even'"
      ]
     },
     "execution_count": 51,
     "metadata": {},
     "output_type": "execute_result"
    }
   ],
   "source": [
    "f=lambda x:\"even\" if x%2==0 else \"odd\"\n",
    "fun(10)"
   ]
  },
  {
   "cell_type": "code",
   "execution_count": 52,
   "metadata": {},
   "outputs": [
    {
     "data": {
      "text/plain": [
       "30"
      ]
     },
     "execution_count": 52,
     "metadata": {},
     "output_type": "execute_result"
    }
   ],
   "source": [
    "# write a lambda function to add two numbers\n",
    "f=lambda x,y:x+y\n",
    "f(10,20)"
   ]
  },
  {
   "cell_type": "code",
   "execution_count": 53,
   "metadata": {},
   "outputs": [
    {
     "data": {
      "text/plain": [
       "10"
      ]
     },
     "execution_count": 53,
     "metadata": {},
     "output_type": "execute_result"
    }
   ],
   "source": [
    "# write a lambda function to add two numbers\n",
    "f=lambda x,y=0:x+y\n",
    "f(10)"
   ]
  },
  {
   "cell_type": "code",
   "execution_count": 54,
   "metadata": {},
   "outputs": [
    {
     "data": {
      "text/plain": [
       "150"
      ]
     },
     "execution_count": 54,
     "metadata": {},
     "output_type": "execute_result"
    }
   ],
   "source": [
    "# write a lambda function to add two numbers\n",
    "f=lambda *k:sum(k)\n",
    "f(10,20,30,40,50)"
   ]
  },
  {
   "cell_type": "code",
   "execution_count": 56,
   "metadata": {},
   "outputs": [
    {
     "data": {
      "text/plain": [
       "dict_items([('a', 10), ('b', 20), ('c', 30)])"
      ]
     },
     "execution_count": 56,
     "metadata": {},
     "output_type": "execute_result"
    }
   ],
   "source": [
    "# write a lambda function to add two numbers\n",
    "f=lambda **k:k.items()\n",
    "f(a=10,b=20,c=30)"
   ]
  },
  {
   "cell_type": "code",
   "execution_count": 57,
   "metadata": {},
   "outputs": [
    {
     "data": {
      "text/plain": [
       "[(1, 5), (2, 6), (3, 7), (4, 8)]"
      ]
     },
     "execution_count": 57,
     "metadata": {},
     "output_type": "execute_result"
    }
   ],
   "source": [
    "k=[1,2,3,4]\n",
    "l=[5,6,7,8]\n",
    "list(zip(k,l))"
   ]
  },
  {
   "cell_type": "code",
   "execution_count": 58,
   "metadata": {},
   "outputs": [
    {
     "name": "stdout",
     "output_type": "stream",
     "text": [
      "apple\n",
      "orange\n",
      "grape\n",
      "banana\n"
     ]
    }
   ],
   "source": [
    "s=[\"apple\",\"orange\",\"grape\",\"banana\"]\n",
    "for i in s:\n",
    "    print(i)"
   ]
  },
  {
   "cell_type": "code",
   "execution_count": 59,
   "metadata": {},
   "outputs": [
    {
     "name": "stdout",
     "output_type": "stream",
     "text": [
      "(0, 'apple')\n",
      "(1, 'orange')\n",
      "(2, 'grape')\n",
      "(3, 'banana')\n"
     ]
    }
   ],
   "source": [
    "s=[\"apple\",\"orange\",\"grape\",\"banana\"]\n",
    "for i in enumerate(s):\n",
    "    print(i)"
   ]
  },
  {
   "cell_type": "code",
   "execution_count": 60,
   "metadata": {},
   "outputs": [
    {
     "name": "stdout",
     "output_type": "stream",
     "text": [
      "(0, 'apple')\n",
      "(1, 'orange')\n",
      "(2, 'grape')\n",
      "(3, 'banana')\n"
     ]
    }
   ],
   "source": [
    "s=(\"apple\",\"orange\",\"grape\",\"banana\")\n",
    "for i in enumerate(s):\n",
    "    print(i)"
   ]
  },
  {
   "cell_type": "code",
   "execution_count": 61,
   "metadata": {},
   "outputs": [
    {
     "name": "stdout",
     "output_type": "stream",
     "text": [
      "(0, 'name')\n",
      "(1, 'cost')\n",
      "(2, 'size')\n"
     ]
    }
   ],
   "source": [
    "s={\"name\":\"apple\",\"cost\":12,\"size\":\"3M\"}\n",
    "for i in enumerate(s):\n",
    "    print(i)"
   ]
  },
  {
   "cell_type": "code",
   "execution_count": 62,
   "metadata": {},
   "outputs": [
    {
     "name": "stdout",
     "output_type": "stream",
     "text": [
      "(0, 'apple')\n",
      "(1, 'orange')\n",
      "(2, 'grape')\n",
      "(3, 'banana')\n"
     ]
    }
   ],
   "source": [
    "s=(\"apple\",\"orange\",\"grape\",\"banana\")\n",
    "for i in enumerate(s):\n",
    "    print(i)"
   ]
  },
  {
   "cell_type": "code",
   "execution_count": 63,
   "metadata": {},
   "outputs": [
    {
     "name": "stdout",
     "output_type": "stream",
     "text": [
      "apple 0\n",
      "orange 1\n",
      "grape 2\n",
      "banana 3\n"
     ]
    }
   ],
   "source": [
    "s=(\"apple\",\"orange\",\"grape\",\"banana\")\n",
    "for ind, value in enumerate(s):\n",
    "    print(value, ind)"
   ]
  },
  {
   "cell_type": "code",
   "execution_count": 64,
   "metadata": {},
   "outputs": [
    {
     "name": "stdout",
     "output_type": "stream",
     "text": [
      "['even', 'even', 'even', 'even', 'odd', 'odd', 'odd']\n"
     ]
    }
   ],
   "source": [
    "def check_even(x):\n",
    "    return \"even\" if x%2==0 else \"odd\"\n",
    "l=[10,20,30,4,51,523,5789]\n",
    "res=[check_even(i) for i in l]\n",
    "print(res)"
   ]
  },
  {
   "cell_type": "code",
   "execution_count": 65,
   "metadata": {},
   "outputs": [
    {
     "name": "stdout",
     "output_type": "stream",
     "text": [
      "10\n",
      "20\n",
      "30\n",
      "4\n",
      "51\n",
      "523\n",
      "5789\n",
      "['even', 'even', 'even', 'even', 'odd', 'odd', 'odd']\n"
     ]
    }
   ],
   "source": [
    "def check_even(x):\n",
    "    print(x)\n",
    "    return \"even\" if x%2==0 else \"odd\"\n",
    "l=[10,20,30,4,51,523,5789]\n",
    "res=list(map(check_even,l))\n",
    "print(res)"
   ]
  },
  {
   "cell_type": "code",
   "execution_count": 66,
   "metadata": {},
   "outputs": [
    {
     "name": "stdout",
     "output_type": "stream",
     "text": [
      "['even', 'even', 'even', 'even', 'odd', 'odd', 'odd']\n"
     ]
    }
   ],
   "source": [
    "def check_even(x):\n",
    "    return \"even\" if x%2==0 else \"odd\"\n",
    "l=[10,20,30,4,51,523,5789]\n",
    "res=list(map(check_even,l))\n",
    "print(res)"
   ]
  },
  {
   "cell_type": "code",
   "execution_count": 67,
   "metadata": {},
   "outputs": [
    {
     "name": "stdout",
     "output_type": "stream",
     "text": [
      "[None, None, None, None, None, None, None]\n"
     ]
    }
   ],
   "source": [
    "def check_even(x):\n",
    "    s=\"even\" if x%2==0 else \"odd\"\n",
    "l=[10,20,30,4,51,523,5789]\n",
    "res=list(map(check_even,l))\n",
    "print(res)"
   ]
  },
  {
   "cell_type": "code",
   "execution_count": 68,
   "metadata": {},
   "outputs": [
    {
     "ename": "TypeError",
     "evalue": "add() missing 1 required positional argument: 'y'",
     "output_type": "error",
     "traceback": [
      "\u001b[0;31m---------------------------------------------------------------------------\u001b[0m",
      "\u001b[0;31mTypeError\u001b[0m                                 Traceback (most recent call last)",
      "\u001b[0;32m<ipython-input-68-abe693399525>\u001b[0m in \u001b[0;36m<module>\u001b[0;34m()\u001b[0m\n\u001b[1;32m      3\u001b[0m \u001b[0mk\u001b[0m\u001b[0;34m=\u001b[0m\u001b[0;34m[\u001b[0m\u001b[0;36m10\u001b[0m\u001b[0;34m,\u001b[0m\u001b[0;36m20\u001b[0m\u001b[0;34m,\u001b[0m\u001b[0;36m30\u001b[0m\u001b[0;34m,\u001b[0m\u001b[0;36m40\u001b[0m\u001b[0;34m]\u001b[0m\u001b[0;34m\u001b[0m\u001b[0m\n\u001b[1;32m      4\u001b[0m \u001b[0ml\u001b[0m\u001b[0;34m=\u001b[0m\u001b[0;34m[\u001b[0m\u001b[0;36m50\u001b[0m\u001b[0;34m,\u001b[0m\u001b[0;36m60\u001b[0m\u001b[0;34m,\u001b[0m\u001b[0;36m70\u001b[0m\u001b[0;34m,\u001b[0m\u001b[0;36m80\u001b[0m\u001b[0;34m]\u001b[0m\u001b[0;34m\u001b[0m\u001b[0m\n\u001b[0;32m----> 5\u001b[0;31m \u001b[0mlist\u001b[0m\u001b[0;34m(\u001b[0m\u001b[0mmap\u001b[0m\u001b[0;34m(\u001b[0m\u001b[0madd\u001b[0m\u001b[0;34m,\u001b[0m\u001b[0mk\u001b[0m\u001b[0;34m)\u001b[0m\u001b[0;34m)\u001b[0m\u001b[0;34m\u001b[0m\u001b[0m\n\u001b[0m",
      "\u001b[0;31mTypeError\u001b[0m: add() missing 1 required positional argument: 'y'"
     ]
    }
   ],
   "source": [
    "def add(x,y):\n",
    "    return x+y\n",
    "k=[10,20,30,40]\n",
    "l=[50,60,70,80]\n",
    "list(map(add,k))"
   ]
  },
  {
   "cell_type": "code",
   "execution_count": 69,
   "metadata": {},
   "outputs": [
    {
     "data": {
      "text/plain": [
       "[10, 20, 30, 40]"
      ]
     },
     "execution_count": 69,
     "metadata": {},
     "output_type": "execute_result"
    }
   ],
   "source": [
    "def add(x,y=0):\n",
    "    return x+y\n",
    "k=[10,20,30,40]\n",
    "l=[50,60,70,80]\n",
    "list(map(add,k))"
   ]
  },
  {
   "cell_type": "code",
   "execution_count": 70,
   "metadata": {},
   "outputs": [
    {
     "data": {
      "text/plain": [
       "[60, 80, 100, 120]"
      ]
     },
     "execution_count": 70,
     "metadata": {},
     "output_type": "execute_result"
    }
   ],
   "source": [
    "def add(x,y=0):\n",
    "    return x+y\n",
    "k=[10,20,30,40]\n",
    "l=[50,60,70,80]\n",
    "list(map(add,k,l))"
   ]
  },
  {
   "cell_type": "code",
   "execution_count": 71,
   "metadata": {},
   "outputs": [
    {
     "data": {
      "text/plain": [
       "[60, 80, 100, 120]"
      ]
     },
     "execution_count": 71,
     "metadata": {},
     "output_type": "execute_result"
    }
   ],
   "source": [
    "add=lambda x,y:x+y\n",
    "k=[10,20,30,40]\n",
    "l=[50,60,70,80]\n",
    "list(map(add,k,l))"
   ]
  },
  {
   "cell_type": "code",
   "execution_count": 72,
   "metadata": {},
   "outputs": [
    {
     "data": {
      "text/plain": [
       "[60, 80, 100, 120]"
      ]
     },
     "execution_count": 72,
     "metadata": {},
     "output_type": "execute_result"
    }
   ],
   "source": [
    "k=[10,20,30,40]\n",
    "l=[50,60,70,80]\n",
    "list(map(lambda x,y:x+y,k,l))"
   ]
  },
  {
   "cell_type": "code",
   "execution_count": 74,
   "metadata": {},
   "outputs": [
    {
     "name": "stdout",
     "output_type": "stream",
     "text": [
      "[10, 30, 46, 58]\n"
     ]
    }
   ],
   "source": [
    "l=[10,21,30,46,58,67,69]\n",
    "res=[i for i in l if i%2==0]\n",
    "print(res)"
   ]
  },
  {
   "cell_type": "code",
   "execution_count": 76,
   "metadata": {},
   "outputs": [
    {
     "data": {
      "text/plain": [
       "[10, 30, 46, 58]"
      ]
     },
     "execution_count": 76,
     "metadata": {},
     "output_type": "execute_result"
    }
   ],
   "source": [
    "list(filter(lambda x:x%2==0,l))"
   ]
  },
  {
   "cell_type": "code",
   "execution_count": 78,
   "metadata": {},
   "outputs": [
    {
     "name": "stdout",
     "output_type": "stream",
     "text": [
      "[20, 31, 40, 56, 68, 77, 79]\n"
     ]
    }
   ],
   "source": [
    "l=[10,21,30,46,58,67,69]\n",
    "def fun(x):\n",
    "    return x+10\n",
    "print(list(map(fun,l)))"
   ]
  },
  {
   "cell_type": "code",
   "execution_count": 79,
   "metadata": {},
   "outputs": [
    {
     "name": "stdout",
     "output_type": "stream",
     "text": [
      "[10, 21, 30, 46, 58, 67, 69]\n"
     ]
    }
   ],
   "source": [
    "l=[10,21,30,46,58,67,69]\n",
    "def fun(x):\n",
    "    return x+10\n",
    "print(list(filter(fun,l)))"
   ]
  },
  {
   "cell_type": "code",
   "execution_count": 81,
   "metadata": {},
   "outputs": [
    {
     "name": "stdout",
     "output_type": "stream",
     "text": [
      "[10, 21, 30, 46, 58, 67, 69]\n"
     ]
    }
   ],
   "source": [
    "l=[10,21,30,46,58,67,69]\n",
    "def fun(x):\n",
    "    return True\n",
    "print(list(filter(fun,l)))"
   ]
  },
  {
   "cell_type": "code",
   "execution_count": 82,
   "metadata": {},
   "outputs": [
    {
     "name": "stdout",
     "output_type": "stream",
     "text": [
      "[]\n"
     ]
    }
   ],
   "source": [
    "l=[10,21,30,46,58,67,69]\n",
    "def fun(x):\n",
    "    return False\n",
    "print(list(filter(fun,l)))"
   ]
  },
  {
   "cell_type": "code",
   "execution_count": 83,
   "metadata": {},
   "outputs": [
    {
     "name": "stdout",
     "output_type": "stream",
     "text": [
      "[10, 30, 46, 58]\n"
     ]
    }
   ],
   "source": [
    "l=[10,21,30,46,58,67,69]\n",
    "def fun(x):\n",
    "    return x%2==0\n",
    "print(list(filter(fun,l)))"
   ]
  },
  {
   "cell_type": "code",
   "execution_count": 84,
   "metadata": {},
   "outputs": [
    {
     "name": "stdout",
     "output_type": "stream",
     "text": [
      "[10, 30, 46, 58]\n"
     ]
    }
   ],
   "source": [
    "l=[10,21,30,46,58,67,69]\n",
    "fun=lambda x:x%2==0\n",
    "print(list(filter(fun,l)))"
   ]
  },
  {
   "cell_type": "code",
   "execution_count": 85,
   "metadata": {},
   "outputs": [
    {
     "name": "stdout",
     "output_type": "stream",
     "text": [
      "[10, 30, 46, 58]\n"
     ]
    }
   ],
   "source": [
    "l=[10,21,30,46,58,67,69]\n",
    "print(list(filter(lambda x:x%2==0,l)))"
   ]
  },
  {
   "cell_type": "code",
   "execution_count": null,
   "metadata": {},
   "outputs": [],
   "source": []
  }
 ],
 "metadata": {
  "kernelspec": {
   "display_name": "Python 3",
   "language": "python",
   "name": "python3"
  },
  "language_info": {
   "codemirror_mode": {
    "name": "ipython",
    "version": 3
   },
   "file_extension": ".py",
   "mimetype": "text/x-python",
   "name": "python",
   "nbconvert_exporter": "python",
   "pygments_lexer": "ipython3",
   "version": "3.7.0"
  }
 },
 "nbformat": 4,
 "nbformat_minor": 2
}
