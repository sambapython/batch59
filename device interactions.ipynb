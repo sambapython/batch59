{
 "cells": [
  {
   "cell_type": "code",
   "execution_count": 2,
   "metadata": {},
   "outputs": [
    {
     "data": {
      "text/plain": [
       "0"
      ]
     },
     "execution_count": 2,
     "metadata": {},
     "output_type": "execute_result"
    }
   ],
   "source": [
    "import os\n",
    "os.system(\"mkdir folder1\")"
   ]
  },
  {
   "cell_type": "code",
   "execution_count": 3,
   "metadata": {},
   "outputs": [
    {
     "data": {
      "text/plain": [
       "0"
      ]
     },
     "execution_count": 3,
     "metadata": {},
     "output_type": "execute_result"
    }
   ],
   "source": [
    "os.system(\"rm -rf folder1\")"
   ]
  },
  {
   "cell_type": "code",
   "execution_count": 4,
   "metadata": {},
   "outputs": [],
   "source": [
    "os.mkdir(\"folder1\")"
   ]
  },
  {
   "cell_type": "code",
   "execution_count": 5,
   "metadata": {},
   "outputs": [],
   "source": [
    "os.removedirs(\"folder1\")"
   ]
  },
  {
   "cell_type": "code",
   "execution_count": 6,
   "metadata": {},
   "outputs": [
    {
     "data": {
      "text/plain": [
       "'2061'"
      ]
     },
     "execution_count": 6,
     "metadata": {},
     "output_type": "execute_result"
    }
   ],
   "source": [
    "os.getenv(\"SSH_AGENT_PID\")"
   ]
  },
  {
   "cell_type": "code",
   "execution_count": 7,
   "metadata": {},
   "outputs": [],
   "source": [
    "os.environ"
   ]
  },
  {
   "cell_type": "code",
   "execution_count": 8,
   "metadata": {},
   "outputs": [
    {
     "data": {
      "text/plain": [
       "0"
      ]
     },
     "execution_count": 8,
     "metadata": {},
     "output_type": "execute_result"
    }
   ],
   "source": [
    "cmd=\"ps -aux\"\n",
    "os.system(cmd)"
   ]
  },
  {
   "cell_type": "code",
   "execution_count": 9,
   "metadata": {},
   "outputs": [],
   "source": [
    "from subprocess import check_output\n",
    "data = check_output([\"ps\",\"-aux\"])"
   ]
  },
  {
   "cell_type": "code",
   "execution_count": 10,
   "metadata": {},
   "outputs": [
    {
     "name": "stdout",
     "output_type": "stream",
     "text": [
      "b'USER       PID %CPU %MEM    VSZ   RSS TTY      STAT START   TIME COMMAND\\nroot         1  0.0  0.1 225808  9612 ?        Ss   04:15   0:03 /sbin/init splash\\nroot         2  0.0  0.0      0     0 ?        S    04:15   0:00 [kthreadd]\\nroot         4  0.0  0.0      0     0 ?        I<   04:15   0:00 [kworker/0:0H]\\nroot         6  0.0  0.0      0     0 ?        I<   04:15   0:00 [mm_percpu_wq]\\nroot         7  0.0  0.0      0     0 ?        S    04:15   0:00 [ksoftirqd/0]\\nroot         8  0.0  0.0      0     0 ?        I    04:15   0:01 [rcu_sched]\\nroot         9  0.0  0.0      0     0 ?        I    04:15   0:00 [rcu_bh]\\nroot        10  0.0  0.0      0     0 ?        S    04:15   0:00 [migration/0]\\nroot        11  0.0  0.0      0     0 ?        S    04:15   0:00 [watchdog/0]\\nroot        12  0.0  0.0      0     0 ?        S    04:15   0:00 [cpuhp/0]\\nroot        13  0.0  0.0      0     0 ?        S    04:15   0:00 [kdevtmpfs]\\nroot        14  0.0  0.0      0     0 ?        I<   04:15   0:00 [netns]\\nroot        15  0.0  0.0      0     0 ?        S    04:15   0:00 [rcu_tasks_kthre]\\nroot        16  0.0  0.0      0     0 ?        S    04:15   0:00 [kauditd]\\nroot        17  0.0  0.0      0     0 ?        S    04:15   0:00 [khungtaskd]\\nroot        18  0.0  0.0      0     0 ?        S    04:15   0:00 [oom_reaper]\\nroot        19  0.0  0.0      0     0 ?        I<   04:15   0:00 [writeback]\\nroot        20  0.0  0.0      0     0 ?        S    04:15   0:00 [kcompactd0]\\nroot        21  0.0  0.0      0     0 ?        SN   04:15   0:00 [ksmd]\\nroot        22  0.0  0.0      0     0 ?        SN   04:15   0:00 [khugepaged]\\nroot        23  0.0  0.0      0     0 ?        I<   04:15   0:00 [crypto]\\nroot        24  0.0  0.0      0     0 ?        I<   04:15   0:00 [kintegrityd]\\nroot        25  0.0  0.0      0     0 ?        I<   04:15   0:00 [kblockd]\\nroot        26  0.0  0.0      0     0 ?        I<   04:15   0:00 [ata_sff]\\nroot        27  0.0  0.0      0     0 ?        I<   04:15   0:00 [md]\\nroot        28  0.0  0.0      0     0 ?        I<   04:15   0:00 [edac-poller]\\nroot        29  0.0  0.0      0     0 ?        I<   04:15   0:00 [devfreq_wq]\\nroot        30  0.0  0.0      0     0 ?        I<   04:15   0:00 [watchdogd]\\nroot        34  0.0  0.0      0     0 ?        S    04:15   0:00 [kswapd0]\\nroot        35  0.0  0.0      0     0 ?        I<   04:15   0:00 [kworker/u3:0]\\nroot        36  0.0  0.0      0     0 ?        S    04:15   0:00 [ecryptfs-kthrea]\\nroot        78  0.0  0.0      0     0 ?        I<   04:15   0:00 [kthrotld]\\nroot        79  0.0  0.0      0     0 ?        I<   04:15   0:00 [acpi_thermal_pm]\\nroot        80  0.0  0.0      0     0 ?        S    04:15   0:00 [scsi_eh_0]\\nroot        81  0.0  0.0      0     0 ?        I<   04:15   0:00 [scsi_tmf_0]\\nroot        82  0.0  0.0      0     0 ?        S    04:15   0:00 [scsi_eh_1]\\nroot        83  0.0  0.0      0     0 ?        I<   04:15   0:00 [scsi_tmf_1]\\nroot        89  0.0  0.0      0     0 ?        I<   04:15   0:00 [ipv6_addrconf]\\nroot        98  0.0  0.0      0     0 ?        I<   04:15   0:00 [kstrp]\\nroot       115  0.0  0.0      0     0 ?        I<   04:15   0:00 [charger_manager]\\nroot       154  0.0  0.0      0     0 ?        S    04:15   0:00 [scsi_eh_2]\\nroot       155  0.0  0.0      0     0 ?        I<   04:15   0:00 [scsi_tmf_2]\\nroot       158  0.0  0.0      0     0 ?        I<   04:15   0:00 [kworker/0:1H]\\nroot       178  0.0  0.0      0     0 ?        S    04:15   0:00 [jbd2/sda1-8]\\nroot       179  0.0  0.0      0     0 ?        I<   04:15   0:00 [ext4-rsv-conver]\\nroot       217  0.0  0.3 103460 20124 ?        S<s  04:15   0:00 /lib/systemd/systemd-journald\\nroot       238  0.0  0.1  47088  5560 ?        Ss   04:15   0:00 /lib/systemd/systemd-udevd\\nroot       248  0.0  0.0      0     0 ?        S<   04:15   0:00 [loop0]\\nroot       249  0.0  0.0      0     0 ?        S<   04:15   0:00 [loop1]\\nroot       251  0.0  0.0      0     0 ?        S<   04:15   0:00 [loop3]\\nroot       252  0.0  0.0      0     0 ?        S<   04:15   0:00 [loop4]\\nroot       254  0.0  0.0      0     0 ?        S<   04:15   0:00 [loop5]\\nroot       255  0.0  0.0      0     0 ?        S<   04:15   0:00 [loop6]\\nroot       257  0.0  0.0      0     0 ?        S<   04:15   0:00 [loop7]\\nroot       258  0.0  0.0      0     0 ?        S<   04:15   0:00 [loop8]\\nroot       260  0.0  0.0      0     0 ?        S<   04:15   0:00 [loop9]\\nroot       263  0.0  0.0      0     0 ?        S<   04:15   0:00 [loop10]\\nroot       269  0.0  0.0      0     0 ?        S<   04:15   0:00 [loop12]\\nroot       272  0.0  0.0      0     0 ?        S<   04:15   0:00 [loop13]\\nroot       274  0.0  0.0      0     0 ?        S<   04:15   0:00 [loop15]\\nroot       275  0.0  0.0      0     0 ?        S<   04:15   0:00 [loop16]\\nroot       276  0.0  0.0      0     0 ?        S<   04:15   0:00 [loop17]\\nroot       277  0.0  0.0      0     0 ?        S<   04:15   0:00 [loop18]\\nroot       285  0.0  0.0      0     0 ?        S<   04:15   0:00 [loop19]\\nroot       287  0.0  0.0      0     0 ?        S<   04:15   0:00 [loop20]\\nroot       290  0.0  0.0      0     0 ?        S<   04:15   0:00 [loop21]\\nroot       292  0.0  0.0      0     0 ?        S<   04:15   0:00 [loop22]\\nroot       294  0.0  0.0      0     0 ?        S<   04:15   0:00 [loop23]\\nroot       304  0.0  0.0      0     0 ?        S<   04:15   0:00 [loop24]\\nroot       305  0.0  0.0      0     0 ?        S<   04:15   0:00 [loop25]\\nsystemd+   325  0.0  0.0 146108  3296 ?        Ssl  04:15   0:00 /lib/systemd/systemd-timesyncd\\nsystemd+   327  0.0  0.1  70756  6312 ?        Ss   04:15   0:00 /lib/systemd/systemd-resolved\\nroot       367  0.0  0.0      0     0 ?        I<   04:15   0:00 [iprt-VBoxWQueue]\\nroot       385  0.0  0.0      0     0 ?        I<   04:15   0:00 [ttm_swap]\\nroot       555  0.0  0.1  70732  6104 ?        Ss   04:15   0:00 /lib/systemd/systemd-logind\\nroot       569  0.0  0.1 427256  9052 ?        Ssl  04:15   0:00 /usr/sbin/ModemManager\\nmessage+   570  0.0  0.1  51672  6276 ?        Ss   04:15   0:01 /usr/bin/dbus-daemon --system --address=systemd: --nofork --nopidfile --systemd-activation --syslog-only\\nsyslog     622  0.0  0.0 263036  4516 ?        Ssl  04:15   0:00 /usr/sbin/rsyslogd -n\\nroot       624  0.0  0.1  44752  5276 ?        Ss   04:15   0:00 /sbin/wpa_supplicant -u -s -O /run/wpa_supplicant\\nroot       627  0.0  0.3 565628 16560 ?        Ssl  04:15   0:00 /usr/sbin/NetworkManager --no-daemon\\nroot       628  0.0  0.0   4552   852 ?        Ss   04:15   0:00 /usr/sbin/acpid\\nroot       629  0.0  0.1 294740  6968 ?        Ssl  04:15   0:00 /usr/lib/accountsservice/accounts-daemon\\navahi      630  0.0  0.0  47256  3276 ?        Ss   04:15   0:00 avahi-daemon: running [khyaathipython.local]\\nroot       632  0.0  0.2 503812 12200 ?        Ssl  04:15   0:00 /usr/lib/udisks2/udisksd\\nroot       639  0.0  0.3 177612 17284 ?        Ssl  04:15   0:00 /usr/bin/python3 /usr/bin/networkd-dispatcher --run-startup-triggers\\nroot       640  0.0  0.0  38428  3300 ?        Ss   04:15   0:00 /usr/sbin/cron -f\\nroot       641  0.0  0.4 667240 25300 ?        Ssl  04:15   0:09 /usr/lib/snapd/snapd\\nroot       659  0.0  0.1 303392  9956 ?        Ssl  04:15   0:00 /usr/lib/policykit-1/polkitd --no-debug\\navahi      668  0.0  0.0  47076   340 ?        S    04:15   0:00 avahi-daemon: chroot helper\\nkhyaath+   690  0.0  0.3  62188 20176 ?        Ss   04:15   0:01 /home/khyaathipython/pgmanagement/bin/python /home/khyaathipython/pgmanagement/bin/gunicorn --access-logfile - --workers 3 --bind 0.0.0.0:9000 pgmanagement.wsgi:application\\nroot       710  0.0  0.1 308180  8004 ?        Ssl  04:15   0:00 /usr/sbin/gdm3\\nroot       717  0.0  0.1  72296  5688 ?        Ss   04:15   0:00 /usr/sbin/sshd -D\\nroot       726  0.0  0.1 261552  8444 ?        Sl   04:15   0:00 gdm-session-worker [pam/gdm-launch-environment]\\nroot       739  0.0  0.0 146920  1548 ?        Ss   04:15   0:00 nginx: master process /usr/sbin/nginx -g daemon on; master_process on;\\nwww-data   740  0.0  0.1 149596  6372 ?        S    04:15   0:00 nginx: worker process\\nwhoopsie   771  0.0  0.2 462176 12500 ?        Ssl  04:15   0:00 /usr/bin/whoopsie -f\\npostgres   773  0.0  0.5 326672 26816 ?        S    04:15   0:00 /usr/lib/postgresql/10/bin/postgres -D /var/lib/postgresql/10/main -c config_file=/etc/postgresql/10/main/postgresql.conf\\nkernoops   774  0.0  0.0  56936  2684 ?        Ss   04:15   0:00 /usr/sbin/kerneloops --test\\nkernoops   776  0.0  0.0  56936   420 ?        Ss   04:15   0:00 /usr/sbin/kerneloops\\ngdm        830  0.0  0.1  77044  8308 ?        Ss   04:15   0:00 /lib/systemd/systemd --user\\ngdm        834  0.0  0.0 114068  2600 ?        S    04:15   0:00 (sd-pam)\\ngdm        898  0.0  0.1 197796  5460 tty1     Ssl+ 04:15   0:00 /usr/lib/gdm3/gdm-wayland-session gnome-session --autostart /usr/share/gdm/greeter/autostart\\ngdm        900  0.0  0.0  50256  4468 ?        Ss   04:15   0:00 /usr/bin/dbus-daemon --session --address=systemd: --nofork --nopidfile --systemd-activation --syslog-only\\ngdm        902  0.0  0.2 558948 13868 tty1     Sl+  04:15   0:00 /usr/lib/gnome-session/gnome-session-binary --autostart /usr/share/gdm/greeter/autostart\\ngdm        911  0.0  4.0 2916844 207432 tty1   Sl+  04:15   0:09 /usr/bin/gnome-shell\\nroot       939  0.0  0.1 322288  8556 ?        Ssl  04:16   0:00 /usr/lib/upower/upowerd\\npostgres  1008  0.0  0.0 326672  4100 ?        Ss   04:16   0:00 postgres: 10/main: checkpointer process   \\npostgres  1009  0.0  0.0 326672  4100 ?        Ss   04:16   0:00 postgres: 10/main: writer process   \\npostgres  1010  0.0  0.1 326672  9004 ?        Ss   04:16   0:00 postgres: 10/main: wal writer process   \\npostgres  1011  0.0  0.1 327084  7152 ?        Ss   04:16   0:00 postgres: 10/main: autovacuum launcher process   \\npostgres  1012  0.0  0.0 181596  3440 ?        Ss   04:16   0:00 postgres: 10/main: stats collector process   \\npostgres  1013  0.0  0.0 326964  4908 ?        Ss   04:16   0:00 postgres: 10/main: bgworker: logical replication launcher   \\ngdm       1296  0.0  0.7 202716 36108 tty1     S+   04:16   0:00 /usr/bin/Xwayland :1024 -rootless -terminate -accessx -core -listen 4 -listen 5 -displayfd 6\\ngdm       1305  0.0  0.1 349340  6564 ?        Ssl  04:16   0:00 /usr/lib/at-spi2-core/at-spi-bus-launcher\\ngdm       1310  0.0  0.0  49924  4168 ?        S    04:16   0:00 /usr/bin/dbus-daemon --config-file=/usr/share/defaults/at-spi2/accessibility.conf --nofork --print-address 3\\ngdm       1312  0.0  0.1 220760  7092 ?        Sl   04:16   0:00 /usr/lib/at-spi2-core/at-spi2-registryd --use-gnome-session\\ngdm       1319  0.0  0.2 1153476 11472 ?       Ssl  04:16   0:00 /usr/bin/pulseaudio --daemonize=no\\nrtkit     1323  0.0  0.0 183504  3008 ?        SNsl 04:16   0:00 /usr/lib/rtkit/rtkit-daemon\\nroot      1427  0.0  0.0      0     0 ?        S<   04:16   0:00 [loop26]\\nroot      1457  0.0  0.0      0     0 ?        S<   04:16   0:00 [loop27]\\nroot      1483  0.1  0.9 523044 47624 ?        Ssl  04:16   0:15 /usr/lib/packagekit/packagekitd\\ngdm       1513  0.0  0.1 287628  7672 tty1     Sl   04:16   0:00 ibus-daemon --xim --panel disable\\ngdm       1520  0.0  0.1 280740  5900 tty1     Sl   04:16   0:00 /usr/lib/ibus/ibus-dconf\\ngdm       1523  0.0  0.9 471640 47280 tty1     Sl   04:16   0:00 /usr/lib/ibus/ibus-x11 --kill-daemon\\ngdm       1528  0.0  0.1 278688  5924 ?        Sl   04:16   0:00 /usr/lib/ibus/ibus-portal\\nroot      1561  0.0  0.1 296772  7164 ?        Ssl  04:16   0:00 /usr/lib/x86_64-linux-gnu/boltd\\ngdm       1563  0.0  0.4 494564 22004 tty1     Sl+  04:16   0:00 /usr/lib/gnome-settings-daemon/gsd-xsettings\\ngdm       1568  0.0  0.1 278148  5904 tty1     Sl+  04:16   0:00 /usr/lib/gnome-settings-daemon/gsd-a11y-settings\\ngdm       1575  0.0  0.4 343676 20384 tty1     Sl+  04:16   0:00 /usr/lib/gnome-settings-daemon/gsd-clipboard\\ngdm       1577  0.0  0.4 741880 22904 tty1     Sl+  04:16   0:01 /usr/lib/gnome-settings-daemon/gsd-color\\ngdm       1582  0.0  0.2 393704 13728 tty1     Sl+  04:16   0:00 /usr/lib/gnome-settings-daemon/gsd-datetime\\ngdm       1583  0.0  0.1 283736  5880 tty1     Sl+  04:16   0:00 /usr/lib/gnome-settings-daemon/gsd-housekeeping\\ngdm       1586  0.0  0.4 498044 20648 tty1     Sl+  04:16   0:00 /usr/lib/gnome-settings-daemon/gsd-keyboard\\ngdm       1589  0.0  0.4 1079756 23204 tty1    Sl+  04:16   0:00 /usr/lib/gnome-settings-daemon/gsd-media-keys\\ngdm       1593  0.0  0.0 201996  4512 tty1     Sl+  04:16   0:00 /usr/lib/gnome-settings-daemon/gsd-mouse\\ngdm       1594  0.0  0.4 517348 22396 tty1     Sl+  04:16   0:00 /usr/lib/gnome-settings-daemon/gsd-power\\ngdm       1596  0.0  0.1 267004  8660 tty1     Sl+  04:16   0:00 /usr/lib/gnome-settings-daemon/gsd-print-notifications\\ngdm       1598  0.0  0.0 202016  4620 tty1     Sl+  04:16   0:00 /usr/lib/gnome-settings-daemon/gsd-rfkill\\ngdm       1603  0.0  0.0 275732  4808 tty1     Sl+  04:16   0:00 /usr/lib/gnome-settings-daemon/gsd-screensaver-proxy\\ngdm       1606  0.0  0.1 305096  8368 tty1     Sl+  04:16   0:00 /usr/lib/gnome-settings-daemon/gsd-sharing\\ngdm       1616  0.0  0.1 451656  8032 tty1     Sl+  04:16   0:00 /usr/lib/gnome-settings-daemon/gsd-smartcard\\ngdm       1621  0.0  0.1 332848  7952 tty1     Sl+  04:16   0:00 /usr/lib/gnome-settings-daemon/gsd-sound\\ngdm       1624  0.0  0.4 428684 21148 tty1     Sl+  04:16   0:00 /usr/lib/gnome-settings-daemon/gsd-wacom\\ncolord    1643  0.0  0.2 325016 14148 ?        Ssl  04:16   0:00 /usr/lib/colord/colord\\ngdm       1696  0.0  0.1 204888  6544 tty1     Sl   04:16   0:00 /usr/lib/ibus/ibus-engine-simple\\nroot      1703  0.0  0.0      0     0 ?        S<   04:16   0:00 [loop28]\\nroot      1935  0.0  0.1 267744  8436 ?        Sl   04:19   0:00 gdm-session-worker [pam/gdm-password]\\nkhyaath+  1939  0.0  0.1  77044  8340 ?        Ss   04:19   0:00 /lib/systemd/systemd --user\\nkhyaath+  1940  0.0  0.0 261884  3004 ?        S    04:19   0:00 (sd-pam)\\nkhyaath+  1953  0.0  0.1 288376  7888 ?        Sl   04:19   0:00 /usr/bin/gnome-keyring-daemon --daemonize --login\\nkhyaath+  1957  0.0  0.1 212128  5908 tty2     Ssl+ 04:19   0:00 /usr/lib/gdm3/gdm-x-session --run-script env GNOME_SHELL_SESSION_MODE=ubuntu gnome-session --session=ubuntu\\nkhyaath+  1959  1.3  3.6 559544 186344 tty2    Sl+  04:19   3:26 /usr/lib/xorg/Xorg vt2 -displayfd 3 -auth /run/user/1000/gdm/Xauthority -background none -noreset -keeptty -verbose 3\\nkhyaath+  1963  0.0  0.1  50884  5212 ?        Ss   04:19   0:00 /usr/bin/dbus-daemon --session --address=systemd: --nofork --nopidfile --systemd-activation --syslog-only\\nkhyaath+  1967  0.0  0.2 715156 14556 tty2     Sl+  04:19   0:00 /usr/lib/gnome-session/gnome-session-binary --session=ubuntu\\nkhyaath+  2061  0.0  0.0  11304   316 ?        Ss   04:19   0:00 /usr/bin/ssh-agent /usr/bin/im-launch env GNOME_SHELL_SESSION_MODE=ubuntu gnome-session --session=ubuntu\\nkhyaath+  2063  0.0  0.1 349292  6504 ?        Ssl  04:19   0:00 /usr/lib/at-spi2-core/at-spi-bus-launcher\\nkhyaath+  2068  0.0  0.0  49928  4288 ?        S    04:19   0:00 /usr/bin/dbus-daemon --config-file=/usr/share/defaults/at-spi2/accessibility.conf --nofork --print-address 3\\nkhyaath+  2071  0.0  0.1 220776  6888 ?        Sl   04:19   0:01 /usr/lib/at-spi2-core/at-spi2-registryd --use-gnome-session\\nkhyaath+  2089  7.4  7.0 3044504 355088 tty2   Rl+  04:19  18:47 /usr/bin/gnome-shell\\nkhyaath+  2095  0.0  0.1 291964  6972 ?        Ssl  04:19   0:00 /usr/lib/gvfs/gvfsd\\nkhyaath+  2100  0.0  0.1 416112  5416 ?        Sl   04:19   0:00 /usr/lib/gvfs/gvfsd-fuse /run/user/1000/gvfs -f -o big_writes\\nkhyaath+  2111  0.0  0.2 1172272 12004 ?       S<l  04:19   0:00 /usr/bin/pulseaudio --start --log-target=syslog\\nkhyaath+  2121  0.1  0.1 362056  8568 tty2     Sl   04:19   0:17 ibus-daemon --xim --panel disable\\nkhyaath+  2125  0.0  0.1 280748  6752 tty2     Sl   04:19   0:00 /usr/lib/ibus/ibus-dconf\\nkhyaath+  2128  0.0  0.4 343904 20524 tty2     Sl   04:19   0:00 /usr/lib/ibus/ibus-x11 --kill-daemon\\nkhyaath+  2130  0.0  0.1 278556  5880 ?        Sl   04:19   0:00 /usr/lib/ibus/ibus-portal\\nkhyaath+  2140  0.0  0.4 689628 20700 ?        Sl   04:19   0:00 /usr/lib/gnome-shell/gnome-shell-calendar-server\\nkhyaath+  2144  0.0  0.5 978928 25952 ?        Ssl  04:19   0:00 /usr/lib/evolution/evolution-source-registry\\nkhyaath+  2152  0.0  0.6 776128 31264 ?        Sl   04:19   0:00 /usr/lib/gnome-online-accounts/goa-daemon\\nkhyaath+  2160  0.0  0.1 306572  8876 ?        Ssl  04:19   0:00 /usr/lib/gvfs/gvfs-udisks2-volume-monitor\\nkhyaath+  2164  0.0  0.1 274044  6088 ?        Ssl  04:19   0:00 /usr/lib/gvfs/gvfs-goa-volume-monitor\\nkhyaath+  2173  0.0  0.1 303356  7580 ?        Sl   04:19   0:00 /usr/lib/gnome-online-accounts/goa-identity-service\\nkhyaath+  2178  0.0  0.1 288656  6596 ?        Ssl  04:19   0:00 /usr/lib/gvfs/gvfs-gphoto2-volume-monitor\\nkhyaath+  2182  0.0  0.1 378812  7628 ?        Ssl  04:19   0:00 /usr/lib/gvfs/gvfs-afc-volume-monitor\\nkhyaath+  2187  0.0  0.0 275868  4864 ?        Ssl  04:19   0:00 /usr/lib/gvfs/gvfs-mtp-volume-monitor\\nkhyaath+  2191  0.0  0.4 517132 22384 tty2     Sl+  04:19   0:00 /usr/lib/gnome-settings-daemon/gsd-power\\nkhyaath+  2192  0.0  0.2 349312 10388 tty2     Sl+  04:19   0:00 /usr/lib/gnome-settings-daemon/gsd-print-notifications\\nkhyaath+  2195  0.0  0.1 423344  5888 tty2     Sl+  04:19   0:00 /usr/lib/gnome-settings-daemon/gsd-rfkill\\nkhyaath+  2197  0.0  0.0 275732  4844 tty2     Sl+  04:19   0:00 /usr/lib/gnome-settings-daemon/gsd-screensaver-proxy\\nkhyaath+  2199  0.0  0.1 452828  9244 tty2     Sl+  04:19   0:00 /usr/lib/gnome-settings-daemon/gsd-sharing\\nkhyaath+  2206  0.0  0.4 494408 21792 tty2     Sl+  04:19   0:00 /usr/lib/gnome-settings-daemon/gsd-xsettings\\nkhyaath+  2208  0.0  0.1 332852  7924 tty2     Sl+  04:19   0:00 /usr/lib/gnome-settings-daemon/gsd-sound\\nkhyaath+  2210  0.0  0.4 428356 20960 tty2     Sl+  04:19   0:00 /usr/lib/gnome-settings-daemon/gsd-wacom\\nkhyaath+  2214  0.0  0.1 377928  7956 tty2     Sl+  04:19   0:00 /usr/lib/gnome-settings-daemon/gsd-smartcard\\nkhyaath+  2227  0.0  0.3 343500 19924 tty2     Sl+  04:20   0:00 /usr/lib/gnome-settings-daemon/gsd-clipboard\\nkhyaath+  2228  0.0  0.1 278152  5864 tty2     Sl+  04:20   0:00 /usr/lib/gnome-settings-daemon/gsd-a11y-settings\\nkhyaath+  2229  0.0  0.2 469732 13888 tty2     Sl+  04:20   0:00 /usr/lib/gnome-settings-daemon/gsd-datetime\\nkhyaath+  2230  0.0  0.4 668096 22788 tty2     Sl+  04:20   0:01 /usr/lib/gnome-settings-daemon/gsd-color\\nkhyaath+  2233  0.0  0.4 497916 20932 tty2     Sl+  04:20   0:00 /usr/lib/gnome-settings-daemon/gsd-keyboard\\nkhyaath+  2236  0.0  0.1 364584  7120 tty2     Sl+  04:20   0:00 /usr/lib/gnome-settings-daemon/gsd-housekeeping\\nkhyaath+  2239  0.0  0.1 278156  5992 tty2     Sl+  04:20   0:00 /usr/lib/gnome-settings-daemon/gsd-mouse\\nkhyaath+  2241  0.0  0.4 792780 22868 tty2     Sl+  04:20   0:00 /usr/lib/gnome-settings-daemon/gsd-media-keys\\nkhyaath+  2262  0.0  0.2 508752 12800 tty2     Sl+  04:20   0:00 /usr/lib/gnome-settings-daemon/gsd-printer\\nkhyaath+  2292  0.0  3.3 1132692 171476 tty2   SLl+ 04:20   0:05 /usr/bin/gnome-software --gapplication-service\\nkhyaath+  2293  0.0  1.1 904540 56248 tty2     Sl+  04:20   0:02 nautilus-desktop\\nkhyaath+  2294  0.0  0.1 271932  6508 tty2     Sl+  04:20   0:00 /usr/lib/gnome-disk-utility/gsd-disk-utility-notify\\nkhyaath+  2318  0.0  0.1 368240  7420 ?        Sl   04:20   0:00 /usr/lib/gvfs/gvfsd-trash --spawner :1.13 /org/gtk/gvfs/exec_spaw/0\\nkhyaath+  2333  0.0  1.3 892184 67088 ?        Ssl  04:20   0:00 /usr/lib/evolution/evolution-calendar-factory\\nkhyaath+  2340  0.0  0.1 188020  5288 ?        Sl   04:20   0:00 /usr/lib/dconf/dconf-service\\nkhyaath+  2346  0.0  1.2 939384 62952 ?        Sl   04:20   0:00 /usr/lib/evolution/evolution-calendar-factory-subprocess --factory all --bus-name org.gnome.evolution.dataserver.Subprocess.Backend.Calendarx2333x2 --own-path /org/gnome/evolution/dataserver/Subprocess/Backend/Calendar/2333/2\\nkhyaath+  2347  0.0  0.1 204884  6628 tty2     Sl   04:20   0:04 /usr/lib/ibus/ibus-engine-simple\\nkhyaath+  2367  0.0  0.4 732676 24328 ?        Ssl  04:20   0:00 /usr/lib/evolution/evolution-addressbook-factory\\nkhyaath+  2376  0.0  0.5 886112 26516 ?        Sl   04:20   0:00 /usr/lib/evolution/evolution-addressbook-factory-subprocess --factory all --bus-name org.gnome.evolution.dataserver.Subprocess.Backend.AddressBookx2367x2 --own-path /org/gnome/evolution/dataserver/Subprocess/Backend/AddressBook/2367/2\\nkhyaath+  2391  0.0  0.1 204576  6016 ?        Ssl  04:20   0:00 /usr/lib/gvfs/gvfsd-metadata\\nroot      2405  0.0  0.4 560132 22084 ?        Ssl  04:20   0:00 /usr/lib/fwupd/fwupd\\nkhyaath+  2643  0.0  0.7 802592 37484 ?        Ssl  04:20   0:03 /usr/lib/gnome-terminal/gnome-terminal-server\\nkhyaath+  2653  0.0  0.1  29928  5472 pts/0    Ss   04:20   0:00 bash\\nkhyaath+  2666  0.0  0.4 591480 24912 tty2     Sl+  04:21   0:00 update-notifier\\nkhyaath+  3131  0.0  0.6 863348 32132 tty2     Sl+  04:22   0:00 /usr/lib/deja-dup/deja-dup-monitor\\nroot      3417  0.0  0.0      0     0 ?        I    05:12   0:02 [kworker/0:0]\\nkhyaath+  3552  0.0  1.0 1003728 54160 ?       Sl   06:25   0:03 /usr/bin/nautilus --gapplication-service\\nkhyaath+  3586  0.0  0.1 433444  8936 ?        Ssl  06:26   0:00 /usr/bin/zeitgeist-daemon\\nkhyaath+  3595  0.0  0.3 326744 16144 ?        Ssl  06:26   0:00 /usr/lib/zeitgeist/zeitgeist/zeitgeist-fts\\nroot      3652  0.0  0.0      0     0 ?        I    06:44   0:00 [kworker/u2:0]\\nroot      3682  0.0  0.0      0     0 ?        I    07:12   0:01 [kworker/0:1]\\nroot      3697  0.0  0.1  25660  5964 ?        S    07:12   0:00 /sbin/dhclient -d -q -sf /usr/lib/NetworkManager/nm-dhcp-helper -pf /run/dhclient-enp0s3.pid -lf /var/lib/NetworkManager/dhclient-2b11a3ca-ca14-376e-b6c9-ee3156761222-enp0s3.lease -cf /var/lib/NetworkManager/dhclient-enp0s3.conf enp0s3\\nkhyaath+  3817  1.9  6.0 1871988 307284 ?      Ssl  07:15   1:29 /usr/lib/firefox/firefox -new-tab http://localhost:8888/tree?token=5194cb64ddf3139511068ed5deec37df3321cb4f2d7dcf52\\nkhyaath+  3856  3.5  2.9 1680520 149744 ?      Sl   07:15   2:40 /usr/lib/firefox/firefox -contentproc -childID 1 -isForBrowser -prefsLen 1 -prefMapSize 179810 -parentBuildID 20190611051714 -greomni /usr/lib/firefox/omni.ja -appomni /usr/lib/firefox/browser/omni.ja -appdir /usr/lib/firefox/browser 3817 true tab\\nkhyaath+  3901  0.1  2.1 1521984 107224 ?      Sl   07:15   0:04 /usr/lib/firefox/firefox -contentproc -childID 2 -isForBrowser -prefsLen 5905 -prefMapSize 179810 -parentBuildID 20190611051714 -greomni /usr/lib/firefox/omni.ja -appomni /usr/lib/firefox/browser/omni.ja -appdir /usr/lib/firefox/browser 3817 true tab\\nkhyaath+  4060  0.0  0.7 126708 36700 ?        S    07:41   0:00 /home/khyaathipython/pgmanagement/bin/python /home/khyaathipython/pgmanagement/bin/gunicorn --access-logfile - --workers 3 --bind 0.0.0.0:9000 pgmanagement.wsgi:application\\nkhyaath+  4061  0.0  0.7 126704 36696 ?        S    07:41   0:00 /home/khyaathipython/pgmanagement/bin/python /home/khyaathipython/pgmanagement/bin/gunicorn --access-logfile - --workers 3 --bind 0.0.0.0:9000 pgmanagement.wsgi:application\\nkhyaath+  4062  0.0  0.7 126708 36700 ?        S    07:41   0:00 /home/khyaathipython/pgmanagement/bin/python /home/khyaathipython/pgmanagement/bin/gunicorn --access-logfile - --workers 3 --bind 0.0.0.0:9000 pgmanagement.wsgi:application\\nroot      4638  0.0  0.1 107680  8284 ?        Ss   07:46   0:00 /usr/sbin/cupsd -l\\nroot      4639  0.0  0.2 303652 11012 ?        Ssl  07:46   0:00 /usr/sbin/cups-browsed\\nroot      4707  0.0  0.0      0     0 ?        I    07:55   0:00 [kworker/u2:1]\\nkhyaath+  4717  0.0  0.1 152560  6344 ?        Sl   08:02   0:00 /usr/lib/libreoffice/program/oosplash --writer file:///home/khyaathipython/batch61/Assignments.odt\\nkhyaath+  4737  0.4  3.9 1251144 202664 ?      Sl   08:02   0:07 /usr/lib/libreoffice/program/soffice.bin --writer file:///home/khyaathipython/batch61/Assignments.odt --splash-pipe=5\\nroot      4777  0.0  0.0      0     0 ?        I    08:02   0:00 [kworker/u2:2]\\nkhyaath+  4797  0.0  1.0 843948 54016 ?        Sl   08:06   0:00 /usr/bin/deja-dup --gapplication-service\\nkhyaath+  4856  4.9  4.1 1700700 209436 ?      Rl   08:12   0:58 /usr/lib/firefox/firefox -contentproc -childID 5 -isForBrowser -prefsLen 7066 -prefMapSize 179810 -parentBuildID 20190611051714 -greomni /usr/lib/firefox/omni.ja -appomni /usr/lib/firefox/browser/omni.ja -appdir /usr/lib/firefox/browser 3817 true tab\\nkhyaath+  4879  0.3  1.2 364276 63996 pts/0    Sl+  08:12   0:04 /home/khyaathipython/anaconda3/bin/python /home/khyaathipython/anaconda3/bin/ipython notebook\\nkhyaath+  4990  0.0  2.4 1534160 122496 ?      Sl   08:12   0:01 /usr/lib/firefox/firefox -contentproc -childID 6 -isForBrowser -prefsLen 7066 -prefMapSize 179810 -parentBuildID 20190611051714 -greomni /usr/lib/firefox/omni.ja -appomni /usr/lib/firefox/browser/omni.ja -appdir /usr/lib/firefox/browser 3817 true tab\\nkhyaath+  5017  0.0  0.8 639420 43836 ?        Ssl  08:12   0:00 /home/khyaathipython/anaconda3/bin/python -m ipykernel_launcher -f /run/user/1000/jupyter/kernel-7380b2d3-81bb-4b6b-9d6e-5e4afc6a838c.json\\nkhyaath+  5088  0.2  0.8 639556 44596 ?        Ssl  08:25   0:00 /home/khyaathipython/anaconda3/bin/python -m ipykernel_launcher -f /run/user/1000/jupyter/kernel-3800aac1-0903-4198-bfb4-919abfd5f500.json\\nkhyaath+  5111  0.1  1.5 1501292 77816 ?       Sl   08:26   0:00 /usr/lib/firefox/firefox -contentproc -childID 7 -isForBrowser -prefsLen 7276 -prefMapSize 179810 -parentBuildID 20190611051714 -greomni /usr/lib/firefox/omni.ja -appomni /usr/lib/firefox/browser/omni.ja -appdir /usr/lib/firefox/browser 3817 true tab\\nkhyaath+  5138  0.0  0.1  29820  5148 pts/1    Ss+  08:26   0:00 bash\\nkhyaath+  5193  0.0  0.0  46772  3568 ?        R    08:31   0:00 ps -aux\\n'\n"
     ]
    }
   ],
   "source": [
    "print(data)"
   ]
  },
  {
   "cell_type": "code",
   "execution_count": 11,
   "metadata": {},
   "outputs": [
    {
     "data": {
      "text/plain": [
       "b'USER       PID %CPU %MEM    VSZ   RSS TTY      STAT START   TIME COMMAND\\nroot         1  0.0  0.1 225808  9612 ?        Ss   04:15   0:03 /sbin/init splash\\nroot         2  0.0  0.0      0     0 ?        S    04:15   0:00 [kthreadd]\\nroot         4  0.0  0.0      0     0 ?        I<   04:15   0:00 [kworker/0:0H]\\nroot         6  0.0  0.0      0     0 ?        I<   04:15   0:00 [mm_percpu_wq]\\nroot         7  0.0  0.0      0     0 ?        S    04:15   0:00 [ksoftirqd/0]\\nroot         8  0.0  0.0      0     0 ?        I    04:15   0:01 [rcu_sched]\\nroot         9  0.0  0.0      0     0 ?        I    04:15   0:00 [rcu_bh]\\nroot        10  0.0  0.0      0     0 ?        S    04:15   0:00 [migration/0]\\nroot        11  0.0  0.0      0     0 ?        S    04:15   0:00 [watchdog/0]\\nroot        12  0.0  0.0      0     0 ?        S    04:15   0:00 [cpuhp/0]\\nroot        13  0.0  0.0      0     0 ?        S    04:15   0:00 [kdevtmpfs]\\nroot        14  0.0  0.0      0     0 ?        I<   04:15   0:00 [netns]\\nroot        15  0.0  0.0      0     0 ?        S    04:15   0:00 [rcu_tasks_kthre]\\nroot        16  0.0  0.0      0     0 ?        S    04:15   0:00 [kauditd]\\nroot        17  0.0  0.0      0     0 ?        S    04:15   0:00 [khungtaskd]\\nroot        18  0.0  0.0      0     0 ?        S    04:15   0:00 [oom_reaper]\\nroot        19  0.0  0.0      0     0 ?        I<   04:15   0:00 [writeback]\\nroot        20  0.0  0.0      0     0 ?        S    04:15   0:00 [kcompactd0]\\nroot        21  0.0  0.0      0     0 ?        SN   04:15   0:00 [ksmd]\\nroot        22  0.0  0.0      0     0 ?        SN   04:15   0:00 [khugepaged]\\nroot        23  0.0  0.0      0     0 ?        I<   04:15   0:00 [crypto]\\nroot        24  0.0  0.0      0     0 ?        I<   04:15   0:00 [kintegrityd]\\nroot        25  0.0  0.0      0     0 ?        I<   04:15   0:00 [kblockd]\\nroot        26  0.0  0.0      0     0 ?        I<   04:15   0:00 [ata_sff]\\nroot        27  0.0  0.0      0     0 ?        I<   04:15   0:00 [md]\\nroot        28  0.0  0.0      0     0 ?        I<   04:15   0:00 [edac-poller]\\nroot        29  0.0  0.0      0     0 ?        I<   04:15   0:00 [devfreq_wq]\\nroot        30  0.0  0.0      0     0 ?        I<   04:15   0:00 [watchdogd]\\nroot        34  0.0  0.0      0     0 ?        S    04:15   0:00 [kswapd0]\\nroot        35  0.0  0.0      0     0 ?        I<   04:15   0:00 [kworker/u3:0]\\nroot        36  0.0  0.0      0     0 ?        S    04:15   0:00 [ecryptfs-kthrea]\\nroot        78  0.0  0.0      0     0 ?        I<   04:15   0:00 [kthrotld]\\nroot        79  0.0  0.0      0     0 ?        I<   04:15   0:00 [acpi_thermal_pm]\\nroot        80  0.0  0.0      0     0 ?        S    04:15   0:00 [scsi_eh_0]\\nroot        81  0.0  0.0      0     0 ?        I<   04:15   0:00 [scsi_tmf_0]\\nroot        82  0.0  0.0      0     0 ?        S    04:15   0:00 [scsi_eh_1]\\nroot        83  0.0  0.0      0     0 ?        I<   04:15   0:00 [scsi_tmf_1]\\nroot        89  0.0  0.0      0     0 ?        I<   04:15   0:00 [ipv6_addrconf]\\nroot        98  0.0  0.0      0     0 ?        I<   04:15   0:00 [kstrp]\\nroot       115  0.0  0.0      0     0 ?        I<   04:15   0:00 [charger_manager]\\nroot       154  0.0  0.0      0     0 ?        S    04:15   0:00 [scsi_eh_2]\\nroot       155  0.0  0.0      0     0 ?        I<   04:15   0:00 [scsi_tmf_2]\\nroot       158  0.0  0.0      0     0 ?        I<   04:15   0:00 [kworker/0:1H]\\nroot       178  0.0  0.0      0     0 ?        S    04:15   0:00 [jbd2/sda1-8]\\nroot       179  0.0  0.0      0     0 ?        I<   04:15   0:00 [ext4-rsv-conver]\\nroot       217  0.0  0.3 103460 20124 ?        S<s  04:15   0:00 /lib/systemd/systemd-journald\\nroot       238  0.0  0.1  47088  5560 ?        Ss   04:15   0:00 /lib/systemd/systemd-udevd\\nroot       248  0.0  0.0      0     0 ?        S<   04:15   0:00 [loop0]\\nroot       249  0.0  0.0      0     0 ?        S<   04:15   0:00 [loop1]\\nroot       251  0.0  0.0      0     0 ?        S<   04:15   0:00 [loop3]\\nroot       252  0.0  0.0      0     0 ?        S<   04:15   0:00 [loop4]\\nroot       254  0.0  0.0      0     0 ?        S<   04:15   0:00 [loop5]\\nroot       255  0.0  0.0      0     0 ?        S<   04:15   0:00 [loop6]\\nroot       257  0.0  0.0      0     0 ?        S<   04:15   0:00 [loop7]\\nroot       258  0.0  0.0      0     0 ?        S<   04:15   0:00 [loop8]\\nroot       260  0.0  0.0      0     0 ?        S<   04:15   0:00 [loop9]\\nroot       263  0.0  0.0      0     0 ?        S<   04:15   0:00 [loop10]\\nroot       269  0.0  0.0      0     0 ?        S<   04:15   0:00 [loop12]\\nroot       272  0.0  0.0      0     0 ?        S<   04:15   0:00 [loop13]\\nroot       274  0.0  0.0      0     0 ?        S<   04:15   0:00 [loop15]\\nroot       275  0.0  0.0      0     0 ?        S<   04:15   0:00 [loop16]\\nroot       276  0.0  0.0      0     0 ?        S<   04:15   0:00 [loop17]\\nroot       277  0.0  0.0      0     0 ?        S<   04:15   0:00 [loop18]\\nroot       285  0.0  0.0      0     0 ?        S<   04:15   0:00 [loop19]\\nroot       287  0.0  0.0      0     0 ?        S<   04:15   0:00 [loop20]\\nroot       290  0.0  0.0      0     0 ?        S<   04:15   0:00 [loop21]\\nroot       292  0.0  0.0      0     0 ?        S<   04:15   0:00 [loop22]\\nroot       294  0.0  0.0      0     0 ?        S<   04:15   0:00 [loop23]\\nroot       304  0.0  0.0      0     0 ?        S<   04:15   0:00 [loop24]\\nroot       305  0.0  0.0      0     0 ?        S<   04:15   0:00 [loop25]\\nsystemd+   325  0.0  0.0 146108  3296 ?        Ssl  04:15   0:00 /lib/systemd/systemd-timesyncd\\nsystemd+   327  0.0  0.1  70756  6312 ?        Ss   04:15   0:00 /lib/systemd/systemd-resolved\\nroot       367  0.0  0.0      0     0 ?        I<   04:15   0:00 [iprt-VBoxWQueue]\\nroot       385  0.0  0.0      0     0 ?        I<   04:15   0:00 [ttm_swap]\\nroot       555  0.0  0.1  70732  6104 ?        Ss   04:15   0:00 /lib/systemd/systemd-logind\\nroot       569  0.0  0.1 427256  9052 ?        Ssl  04:15   0:00 /usr/sbin/ModemManager\\nmessage+   570  0.0  0.1  51672  6276 ?        Ss   04:15   0:01 /usr/bin/dbus-daemon --system --address=systemd: --nofork --nopidfile --systemd-activation --syslog-only\\nsyslog     622  0.0  0.0 263036  4516 ?        Ssl  04:15   0:00 /usr/sbin/rsyslogd -n\\nroot       624  0.0  0.1  44752  5276 ?        Ss   04:15   0:00 /sbin/wpa_supplicant -u -s -O /run/wpa_supplicant\\nroot       627  0.0  0.3 565628 16560 ?        Ssl  04:15   0:00 /usr/sbin/NetworkManager --no-daemon\\nroot       628  0.0  0.0   4552   852 ?        Ss   04:15   0:00 /usr/sbin/acpid\\nroot       629  0.0  0.1 294740  6968 ?        Ssl  04:15   0:00 /usr/lib/accountsservice/accounts-daemon\\navahi      630  0.0  0.0  47256  3276 ?        Ss   04:15   0:00 avahi-daemon: running [khyaathipython.local]\\nroot       632  0.0  0.2 503812 12200 ?        Ssl  04:15   0:00 /usr/lib/udisks2/udisksd\\nroot       639  0.0  0.3 177612 17284 ?        Ssl  04:15   0:00 /usr/bin/python3 /usr/bin/networkd-dispatcher --run-startup-triggers\\nroot       640  0.0  0.0  38428  3300 ?        Ss   04:15   0:00 /usr/sbin/cron -f\\nroot       641  0.0  0.4 667240 25300 ?        Ssl  04:15   0:09 /usr/lib/snapd/snapd\\nroot       659  0.0  0.1 303392  9956 ?        Ssl  04:15   0:00 /usr/lib/policykit-1/polkitd --no-debug\\navahi      668  0.0  0.0  47076   340 ?        S    04:15   0:00 avahi-daemon: chroot helper\\nkhyaath+   690  0.0  0.3  62188 20176 ?        Ss   04:15   0:01 /home/khyaathipython/pgmanagement/bin/python /home/khyaathipython/pgmanagement/bin/gunicorn --access-logfile - --workers 3 --bind 0.0.0.0:9000 pgmanagement.wsgi:application\\nroot       710  0.0  0.1 308180  8004 ?        Ssl  04:15   0:00 /usr/sbin/gdm3\\nroot       717  0.0  0.1  72296  5688 ?        Ss   04:15   0:00 /usr/sbin/sshd -D\\nroot       726  0.0  0.1 261552  8444 ?        Sl   04:15   0:00 gdm-session-worker [pam/gdm-launch-environment]\\nroot       739  0.0  0.0 146920  1548 ?        Ss   04:15   0:00 nginx: master process /usr/sbin/nginx -g daemon on; master_process on;\\nwww-data   740  0.0  0.1 149596  6372 ?        S    04:15   0:00 nginx: worker process\\nwhoopsie   771  0.0  0.2 462176 12500 ?        Ssl  04:15   0:00 /usr/bin/whoopsie -f\\npostgres   773  0.0  0.5 326672 26816 ?        S    04:15   0:00 /usr/lib/postgresql/10/bin/postgres -D /var/lib/postgresql/10/main -c config_file=/etc/postgresql/10/main/postgresql.conf\\nkernoops   774  0.0  0.0  56936  2684 ?        Ss   04:15   0:00 /usr/sbin/kerneloops --test\\nkernoops   776  0.0  0.0  56936   420 ?        Ss   04:15   0:00 /usr/sbin/kerneloops\\ngdm        830  0.0  0.1  77044  8308 ?        Ss   04:15   0:00 /lib/systemd/systemd --user\\ngdm        834  0.0  0.0 114068  2600 ?        S    04:15   0:00 (sd-pam)\\ngdm        898  0.0  0.1 197796  5460 tty1     Ssl+ 04:15   0:00 /usr/lib/gdm3/gdm-wayland-session gnome-session --autostart /usr/share/gdm/greeter/autostart\\ngdm        900  0.0  0.0  50256  4468 ?        Ss   04:15   0:00 /usr/bin/dbus-daemon --session --address=systemd: --nofork --nopidfile --systemd-activation --syslog-only\\ngdm        902  0.0  0.2 558948 13868 tty1     Sl+  04:15   0:00 /usr/lib/gnome-session/gnome-session-binary --autostart /usr/share/gdm/greeter/autostart\\ngdm        911  0.0  4.0 2916844 207432 tty1   Sl+  04:15   0:09 /usr/bin/gnome-shell\\nroot       939  0.0  0.1 322288  8556 ?        Ssl  04:16   0:00 /usr/lib/upower/upowerd\\npostgres  1008  0.0  0.0 326672  4100 ?        Ss   04:16   0:00 postgres: 10/main: checkpointer process   \\npostgres  1009  0.0  0.0 326672  4100 ?        Ss   04:16   0:00 postgres: 10/main: writer process   \\npostgres  1010  0.0  0.1 326672  9004 ?        Ss   04:16   0:00 postgres: 10/main: wal writer process   \\npostgres  1011  0.0  0.1 327084  7152 ?        Ss   04:16   0:00 postgres: 10/main: autovacuum launcher process   \\npostgres  1012  0.0  0.0 181596  3440 ?        Ss   04:16   0:00 postgres: 10/main: stats collector process   \\npostgres  1013  0.0  0.0 326964  4908 ?        Ss   04:16   0:00 postgres: 10/main: bgworker: logical replication launcher   \\ngdm       1296  0.0  0.7 202716 36108 tty1     S+   04:16   0:00 /usr/bin/Xwayland :1024 -rootless -terminate -accessx -core -listen 4 -listen 5 -displayfd 6\\ngdm       1305  0.0  0.1 349340  6564 ?        Ssl  04:16   0:00 /usr/lib/at-spi2-core/at-spi-bus-launcher\\ngdm       1310  0.0  0.0  49924  4168 ?        S    04:16   0:00 /usr/bin/dbus-daemon --config-file=/usr/share/defaults/at-spi2/accessibility.conf --nofork --print-address 3\\ngdm       1312  0.0  0.1 220760  7092 ?        Sl   04:16   0:00 /usr/lib/at-spi2-core/at-spi2-registryd --use-gnome-session\\ngdm       1319  0.0  0.2 1153476 11472 ?       Ssl  04:16   0:00 /usr/bin/pulseaudio --daemonize=no\\nrtkit     1323  0.0  0.0 183504  3008 ?        SNsl 04:16   0:00 /usr/lib/rtkit/rtkit-daemon\\nroot      1427  0.0  0.0      0     0 ?        S<   04:16   0:00 [loop26]\\nroot      1457  0.0  0.0      0     0 ?        S<   04:16   0:00 [loop27]\\nroot      1483  0.1  0.9 523044 47624 ?        Ssl  04:16   0:15 /usr/lib/packagekit/packagekitd\\ngdm       1513  0.0  0.1 287628  7672 tty1     Sl   04:16   0:00 ibus-daemon --xim --panel disable\\ngdm       1520  0.0  0.1 280740  5900 tty1     Sl   04:16   0:00 /usr/lib/ibus/ibus-dconf\\ngdm       1523  0.0  0.9 471640 47280 tty1     Sl   04:16   0:00 /usr/lib/ibus/ibus-x11 --kill-daemon\\ngdm       1528  0.0  0.1 278688  5924 ?        Sl   04:16   0:00 /usr/lib/ibus/ibus-portal\\nroot      1561  0.0  0.1 296772  7164 ?        Ssl  04:16   0:00 /usr/lib/x86_64-linux-gnu/boltd\\ngdm       1563  0.0  0.4 494564 22004 tty1     Sl+  04:16   0:00 /usr/lib/gnome-settings-daemon/gsd-xsettings\\ngdm       1568  0.0  0.1 278148  5904 tty1     Sl+  04:16   0:00 /usr/lib/gnome-settings-daemon/gsd-a11y-settings\\ngdm       1575  0.0  0.4 343676 20384 tty1     Sl+  04:16   0:00 /usr/lib/gnome-settings-daemon/gsd-clipboard\\ngdm       1577  0.0  0.4 741880 22904 tty1     Sl+  04:16   0:01 /usr/lib/gnome-settings-daemon/gsd-color\\ngdm       1582  0.0  0.2 393704 13728 tty1     Sl+  04:16   0:00 /usr/lib/gnome-settings-daemon/gsd-datetime\\ngdm       1583  0.0  0.1 283736  5880 tty1     Sl+  04:16   0:00 /usr/lib/gnome-settings-daemon/gsd-housekeeping\\ngdm       1586  0.0  0.4 498044 20648 tty1     Sl+  04:16   0:00 /usr/lib/gnome-settings-daemon/gsd-keyboard\\ngdm       1589  0.0  0.4 1079756 23204 tty1    Sl+  04:16   0:00 /usr/lib/gnome-settings-daemon/gsd-media-keys\\ngdm       1593  0.0  0.0 201996  4512 tty1     Sl+  04:16   0:00 /usr/lib/gnome-settings-daemon/gsd-mouse\\ngdm       1594  0.0  0.4 517348 22396 tty1     Sl+  04:16   0:00 /usr/lib/gnome-settings-daemon/gsd-power\\ngdm       1596  0.0  0.1 267004  8660 tty1     Sl+  04:16   0:00 /usr/lib/gnome-settings-daemon/gsd-print-notifications\\ngdm       1598  0.0  0.0 202016  4620 tty1     Sl+  04:16   0:00 /usr/lib/gnome-settings-daemon/gsd-rfkill\\ngdm       1603  0.0  0.0 275732  4808 tty1     Sl+  04:16   0:00 /usr/lib/gnome-settings-daemon/gsd-screensaver-proxy\\ngdm       1606  0.0  0.1 305096  8368 tty1     Sl+  04:16   0:00 /usr/lib/gnome-settings-daemon/gsd-sharing\\ngdm       1616  0.0  0.1 451656  8032 tty1     Sl+  04:16   0:00 /usr/lib/gnome-settings-daemon/gsd-smartcard\\ngdm       1621  0.0  0.1 332848  7952 tty1     Sl+  04:16   0:00 /usr/lib/gnome-settings-daemon/gsd-sound\\ngdm       1624  0.0  0.4 428684 21148 tty1     Sl+  04:16   0:00 /usr/lib/gnome-settings-daemon/gsd-wacom\\ncolord    1643  0.0  0.2 325016 14148 ?        Ssl  04:16   0:00 /usr/lib/colord/colord\\ngdm       1696  0.0  0.1 204888  6544 tty1     Sl   04:16   0:00 /usr/lib/ibus/ibus-engine-simple\\nroot      1703  0.0  0.0      0     0 ?        S<   04:16   0:00 [loop28]\\nroot      1935  0.0  0.1 267744  8436 ?        Sl   04:19   0:00 gdm-session-worker [pam/gdm-password]\\nkhyaath+  1939  0.0  0.1  77044  8340 ?        Ss   04:19   0:00 /lib/systemd/systemd --user\\nkhyaath+  1940  0.0  0.0 261884  3004 ?        S    04:19   0:00 (sd-pam)\\nkhyaath+  1953  0.0  0.1 288376  7888 ?        Sl   04:19   0:00 /usr/bin/gnome-keyring-daemon --daemonize --login\\nkhyaath+  1957  0.0  0.1 212128  5908 tty2     Ssl+ 04:19   0:00 /usr/lib/gdm3/gdm-x-session --run-script env GNOME_SHELL_SESSION_MODE=ubuntu gnome-session --session=ubuntu\\nkhyaath+  1959  1.3  3.6 559544 186344 tty2    Sl+  04:19   3:26 /usr/lib/xorg/Xorg vt2 -displayfd 3 -auth /run/user/1000/gdm/Xauthority -background none -noreset -keeptty -verbose 3\\nkhyaath+  1963  0.0  0.1  50884  5212 ?        Ss   04:19   0:00 /usr/bin/dbus-daemon --session --address=systemd: --nofork --nopidfile --systemd-activation --syslog-only\\nkhyaath+  1967  0.0  0.2 715156 14556 tty2     Sl+  04:19   0:00 /usr/lib/gnome-session/gnome-session-binary --session=ubuntu\\nkhyaath+  2061  0.0  0.0  11304   316 ?        Ss   04:19   0:00 /usr/bin/ssh-agent /usr/bin/im-launch env GNOME_SHELL_SESSION_MODE=ubuntu gnome-session --session=ubuntu\\nkhyaath+  2063  0.0  0.1 349292  6504 ?        Ssl  04:19   0:00 /usr/lib/at-spi2-core/at-spi-bus-launcher\\nkhyaath+  2068  0.0  0.0  49928  4288 ?        S    04:19   0:00 /usr/bin/dbus-daemon --config-file=/usr/share/defaults/at-spi2/accessibility.conf --nofork --print-address 3\\nkhyaath+  2071  0.0  0.1 220776  6888 ?        Sl   04:19   0:01 /usr/lib/at-spi2-core/at-spi2-registryd --use-gnome-session\\nkhyaath+  2089  7.4  7.0 3044504 355088 tty2   Rl+  04:19  18:47 /usr/bin/gnome-shell\\nkhyaath+  2095  0.0  0.1 291964  6972 ?        Ssl  04:19   0:00 /usr/lib/gvfs/gvfsd\\nkhyaath+  2100  0.0  0.1 416112  5416 ?        Sl   04:19   0:00 /usr/lib/gvfs/gvfsd-fuse /run/user/1000/gvfs -f -o big_writes\\nkhyaath+  2111  0.0  0.2 1172272 12004 ?       S<l  04:19   0:00 /usr/bin/pulseaudio --start --log-target=syslog\\nkhyaath+  2121  0.1  0.1 362056  8568 tty2     Sl   04:19   0:17 ibus-daemon --xim --panel disable\\nkhyaath+  2125  0.0  0.1 280748  6752 tty2     Sl   04:19   0:00 /usr/lib/ibus/ibus-dconf\\nkhyaath+  2128  0.0  0.4 343904 20524 tty2     Sl   04:19   0:00 /usr/lib/ibus/ibus-x11 --kill-daemon\\nkhyaath+  2130  0.0  0.1 278556  5880 ?        Sl   04:19   0:00 /usr/lib/ibus/ibus-portal\\nkhyaath+  2140  0.0  0.4 689628 20700 ?        Sl   04:19   0:00 /usr/lib/gnome-shell/gnome-shell-calendar-server\\nkhyaath+  2144  0.0  0.5 978928 25952 ?        Ssl  04:19   0:00 /usr/lib/evolution/evolution-source-registry\\nkhyaath+  2152  0.0  0.6 776128 31264 ?        Sl   04:19   0:00 /usr/lib/gnome-online-accounts/goa-daemon\\nkhyaath+  2160  0.0  0.1 306572  8876 ?        Ssl  04:19   0:00 /usr/lib/gvfs/gvfs-udisks2-volume-monitor\\nkhyaath+  2164  0.0  0.1 274044  6088 ?        Ssl  04:19   0:00 /usr/lib/gvfs/gvfs-goa-volume-monitor\\nkhyaath+  2173  0.0  0.1 303356  7580 ?        Sl   04:19   0:00 /usr/lib/gnome-online-accounts/goa-identity-service\\nkhyaath+  2178  0.0  0.1 288656  6596 ?        Ssl  04:19   0:00 /usr/lib/gvfs/gvfs-gphoto2-volume-monitor\\nkhyaath+  2182  0.0  0.1 378812  7628 ?        Ssl  04:19   0:00 /usr/lib/gvfs/gvfs-afc-volume-monitor\\nkhyaath+  2187  0.0  0.0 275868  4864 ?        Ssl  04:19   0:00 /usr/lib/gvfs/gvfs-mtp-volume-monitor\\nkhyaath+  2191  0.0  0.4 517132 22384 tty2     Sl+  04:19   0:00 /usr/lib/gnome-settings-daemon/gsd-power\\nkhyaath+  2192  0.0  0.2 349312 10388 tty2     Sl+  04:19   0:00 /usr/lib/gnome-settings-daemon/gsd-print-notifications\\nkhyaath+  2195  0.0  0.1 423344  5888 tty2     Sl+  04:19   0:00 /usr/lib/gnome-settings-daemon/gsd-rfkill\\nkhyaath+  2197  0.0  0.0 275732  4844 tty2     Sl+  04:19   0:00 /usr/lib/gnome-settings-daemon/gsd-screensaver-proxy\\nkhyaath+  2199  0.0  0.1 452828  9244 tty2     Sl+  04:19   0:00 /usr/lib/gnome-settings-daemon/gsd-sharing\\nkhyaath+  2206  0.0  0.4 494408 21792 tty2     Sl+  04:19   0:00 /usr/lib/gnome-settings-daemon/gsd-xsettings\\nkhyaath+  2208  0.0  0.1 332852  7924 tty2     Sl+  04:19   0:00 /usr/lib/gnome-settings-daemon/gsd-sound\\nkhyaath+  2210  0.0  0.4 428356 20960 tty2     Sl+  04:19   0:00 /usr/lib/gnome-settings-daemon/gsd-wacom\\nkhyaath+  2214  0.0  0.1 377928  7956 tty2     Sl+  04:19   0:00 /usr/lib/gnome-settings-daemon/gsd-smartcard\\nkhyaath+  2227  0.0  0.3 343500 19924 tty2     Sl+  04:20   0:00 /usr/lib/gnome-settings-daemon/gsd-clipboard\\nkhyaath+  2228  0.0  0.1 278152  5864 tty2     Sl+  04:20   0:00 /usr/lib/gnome-settings-daemon/gsd-a11y-settings\\nkhyaath+  2229  0.0  0.2 469732 13888 tty2     Sl+  04:20   0:00 /usr/lib/gnome-settings-daemon/gsd-datetime\\nkhyaath+  2230  0.0  0.4 668096 22788 tty2     Sl+  04:20   0:01 /usr/lib/gnome-settings-daemon/gsd-color\\nkhyaath+  2233  0.0  0.4 497916 20932 tty2     Sl+  04:20   0:00 /usr/lib/gnome-settings-daemon/gsd-keyboard\\nkhyaath+  2236  0.0  0.1 364584  7120 tty2     Sl+  04:20   0:00 /usr/lib/gnome-settings-daemon/gsd-housekeeping\\nkhyaath+  2239  0.0  0.1 278156  5992 tty2     Sl+  04:20   0:00 /usr/lib/gnome-settings-daemon/gsd-mouse\\nkhyaath+  2241  0.0  0.4 792780 22868 tty2     Sl+  04:20   0:00 /usr/lib/gnome-settings-daemon/gsd-media-keys\\nkhyaath+  2262  0.0  0.2 508752 12800 tty2     Sl+  04:20   0:00 /usr/lib/gnome-settings-daemon/gsd-printer\\nkhyaath+  2292  0.0  3.3 1132692 171476 tty2   SLl+ 04:20   0:05 /usr/bin/gnome-software --gapplication-service\\nkhyaath+  2293  0.0  1.1 904540 56248 tty2     Sl+  04:20   0:02 nautilus-desktop\\nkhyaath+  2294  0.0  0.1 271932  6508 tty2     Sl+  04:20   0:00 /usr/lib/gnome-disk-utility/gsd-disk-utility-notify\\nkhyaath+  2318  0.0  0.1 368240  7420 ?        Sl   04:20   0:00 /usr/lib/gvfs/gvfsd-trash --spawner :1.13 /org/gtk/gvfs/exec_spaw/0\\nkhyaath+  2333  0.0  1.3 892184 67088 ?        Ssl  04:20   0:00 /usr/lib/evolution/evolution-calendar-factory\\nkhyaath+  2340  0.0  0.1 188020  5288 ?        Sl   04:20   0:00 /usr/lib/dconf/dconf-service\\nkhyaath+  2346  0.0  1.2 939384 62952 ?        Sl   04:20   0:00 /usr/lib/evolution/evolution-calendar-factory-subprocess --factory all --bus-name org.gnome.evolution.dataserver.Subprocess.Backend.Calendarx2333x2 --own-path /org/gnome/evolution/dataserver/Subprocess/Backend/Calendar/2333/2\\nkhyaath+  2347  0.0  0.1 204884  6628 tty2     Sl   04:20   0:04 /usr/lib/ibus/ibus-engine-simple\\nkhyaath+  2367  0.0  0.4 732676 24328 ?        Ssl  04:20   0:00 /usr/lib/evolution/evolution-addressbook-factory\\nkhyaath+  2376  0.0  0.5 886112 26516 ?        Sl   04:20   0:00 /usr/lib/evolution/evolution-addressbook-factory-subprocess --factory all --bus-name org.gnome.evolution.dataserver.Subprocess.Backend.AddressBookx2367x2 --own-path /org/gnome/evolution/dataserver/Subprocess/Backend/AddressBook/2367/2\\nkhyaath+  2391  0.0  0.1 204576  6016 ?        Ssl  04:20   0:00 /usr/lib/gvfs/gvfsd-metadata\\nroot      2405  0.0  0.4 560132 22084 ?        Ssl  04:20   0:00 /usr/lib/fwupd/fwupd\\nkhyaath+  2643  0.0  0.7 802592 37484 ?        Ssl  04:20   0:03 /usr/lib/gnome-terminal/gnome-terminal-server\\nkhyaath+  2653  0.0  0.1  29928  5472 pts/0    Ss   04:20   0:00 bash\\nkhyaath+  2666  0.0  0.4 591480 24912 tty2     Sl+  04:21   0:00 update-notifier\\nkhyaath+  3131  0.0  0.6 863348 32132 tty2     Sl+  04:22   0:00 /usr/lib/deja-dup/deja-dup-monitor\\nroot      3417  0.0  0.0      0     0 ?        I    05:12   0:02 [kworker/0:0]\\nkhyaath+  3552  0.0  1.0 1003728 54160 ?       Sl   06:25   0:03 /usr/bin/nautilus --gapplication-service\\nkhyaath+  3586  0.0  0.1 433444  8936 ?        Ssl  06:26   0:00 /usr/bin/zeitgeist-daemon\\nkhyaath+  3595  0.0  0.3 326744 16144 ?        Ssl  06:26   0:00 /usr/lib/zeitgeist/zeitgeist/zeitgeist-fts\\nroot      3652  0.0  0.0      0     0 ?        I    06:44   0:00 [kworker/u2:0]\\nroot      3682  0.0  0.0      0     0 ?        I    07:12   0:01 [kworker/0:1]\\nroot      3697  0.0  0.1  25660  5964 ?        S    07:12   0:00 /sbin/dhclient -d -q -sf /usr/lib/NetworkManager/nm-dhcp-helper -pf /run/dhclient-enp0s3.pid -lf /var/lib/NetworkManager/dhclient-2b11a3ca-ca14-376e-b6c9-ee3156761222-enp0s3.lease -cf /var/lib/NetworkManager/dhclient-enp0s3.conf enp0s3\\nkhyaath+  3817  1.9  6.0 1871988 307284 ?      Ssl  07:15   1:29 /usr/lib/firefox/firefox -new-tab http://localhost:8888/tree?token=5194cb64ddf3139511068ed5deec37df3321cb4f2d7dcf52\\nkhyaath+  3856  3.5  2.9 1680520 149744 ?      Sl   07:15   2:40 /usr/lib/firefox/firefox -contentproc -childID 1 -isForBrowser -prefsLen 1 -prefMapSize 179810 -parentBuildID 20190611051714 -greomni /usr/lib/firefox/omni.ja -appomni /usr/lib/firefox/browser/omni.ja -appdir /usr/lib/firefox/browser 3817 true tab\\nkhyaath+  3901  0.1  2.1 1521984 107224 ?      Sl   07:15   0:04 /usr/lib/firefox/firefox -contentproc -childID 2 -isForBrowser -prefsLen 5905 -prefMapSize 179810 -parentBuildID 20190611051714 -greomni /usr/lib/firefox/omni.ja -appomni /usr/lib/firefox/browser/omni.ja -appdir /usr/lib/firefox/browser 3817 true tab\\nkhyaath+  4060  0.0  0.7 126708 36700 ?        S    07:41   0:00 /home/khyaathipython/pgmanagement/bin/python /home/khyaathipython/pgmanagement/bin/gunicorn --access-logfile - --workers 3 --bind 0.0.0.0:9000 pgmanagement.wsgi:application\\nkhyaath+  4061  0.0  0.7 126704 36696 ?        S    07:41   0:00 /home/khyaathipython/pgmanagement/bin/python /home/khyaathipython/pgmanagement/bin/gunicorn --access-logfile - --workers 3 --bind 0.0.0.0:9000 pgmanagement.wsgi:application\\nkhyaath+  4062  0.0  0.7 126708 36700 ?        S    07:41   0:00 /home/khyaathipython/pgmanagement/bin/python /home/khyaathipython/pgmanagement/bin/gunicorn --access-logfile - --workers 3 --bind 0.0.0.0:9000 pgmanagement.wsgi:application\\nroot      4638  0.0  0.1 107680  8284 ?        Ss   07:46   0:00 /usr/sbin/cupsd -l\\nroot      4639  0.0  0.2 303652 11012 ?        Ssl  07:46   0:00 /usr/sbin/cups-browsed\\nroot      4707  0.0  0.0      0     0 ?        I    07:55   0:00 [kworker/u2:1]\\nkhyaath+  4717  0.0  0.1 152560  6344 ?        Sl   08:02   0:00 /usr/lib/libreoffice/program/oosplash --writer file:///home/khyaathipython/batch61/Assignments.odt\\nkhyaath+  4737  0.4  3.9 1251144 202664 ?      Sl   08:02   0:07 /usr/lib/libreoffice/program/soffice.bin --writer file:///home/khyaathipython/batch61/Assignments.odt --splash-pipe=5\\nroot      4777  0.0  0.0      0     0 ?        I    08:02   0:00 [kworker/u2:2]\\nkhyaath+  4797  0.0  1.0 843948 54016 ?        Sl   08:06   0:00 /usr/bin/deja-dup --gapplication-service\\nkhyaath+  4856  4.9  4.1 1700700 209436 ?      Rl   08:12   0:58 /usr/lib/firefox/firefox -contentproc -childID 5 -isForBrowser -prefsLen 7066 -prefMapSize 179810 -parentBuildID 20190611051714 -greomni /usr/lib/firefox/omni.ja -appomni /usr/lib/firefox/browser/omni.ja -appdir /usr/lib/firefox/browser 3817 true tab\\nkhyaath+  4879  0.3  1.2 364276 63996 pts/0    Sl+  08:12   0:04 /home/khyaathipython/anaconda3/bin/python /home/khyaathipython/anaconda3/bin/ipython notebook\\nkhyaath+  4990  0.0  2.4 1534160 122496 ?      Sl   08:12   0:01 /usr/lib/firefox/firefox -contentproc -childID 6 -isForBrowser -prefsLen 7066 -prefMapSize 179810 -parentBuildID 20190611051714 -greomni /usr/lib/firefox/omni.ja -appomni /usr/lib/firefox/browser/omni.ja -appdir /usr/lib/firefox/browser 3817 true tab\\nkhyaath+  5017  0.0  0.8 639420 43836 ?        Ssl  08:12   0:00 /home/khyaathipython/anaconda3/bin/python -m ipykernel_launcher -f /run/user/1000/jupyter/kernel-7380b2d3-81bb-4b6b-9d6e-5e4afc6a838c.json\\nkhyaath+  5088  0.2  0.8 639556 44596 ?        Ssl  08:25   0:00 /home/khyaathipython/anaconda3/bin/python -m ipykernel_launcher -f /run/user/1000/jupyter/kernel-3800aac1-0903-4198-bfb4-919abfd5f500.json\\nkhyaath+  5111  0.1  1.5 1501292 77816 ?       Sl   08:26   0:00 /usr/lib/firefox/firefox -contentproc -childID 7 -isForBrowser -prefsLen 7276 -prefMapSize 179810 -parentBuildID 20190611051714 -greomni /usr/lib/firefox/omni.ja -appomni /usr/lib/firefox/browser/omni.ja -appdir /usr/lib/firefox/browser 3817 true tab\\nkhyaath+  5138  0.0  0.1  29820  5148 pts/1    Ss+  08:26   0:00 bash\\nkhyaath+  5193  0.0  0.0  46772  3568 ?        R    08:31   0:00 ps -aux\\n'"
      ]
     },
     "execution_count": 11,
     "metadata": {},
     "output_type": "execute_result"
    }
   ],
   "source": [
    "data"
   ]
  },
  {
   "cell_type": "code",
   "execution_count": 12,
   "metadata": {},
   "outputs": [
    {
     "name": "stdout",
     "output_type": "stream",
     "text": [
      "b'USER       PID %CPU %MEM    VSZ   RSS TTY      STAT START   TIME COMMAND'\n"
     ]
    }
   ],
   "source": [
    "for row in data.splitlines():\n",
    "    print(row)\n",
    "    break"
   ]
  },
  {
   "cell_type": "code",
   "execution_count": 13,
   "metadata": {},
   "outputs": [
    {
     "name": "stdout",
     "output_type": "stream",
     "text": [
      "[b'USER', b'PID', b'%CPU', b'%MEM', b'VSZ', b'RSS', b'TTY', b'STAT', b'START', b'TIME', b'COMMAND']\n"
     ]
    }
   ],
   "source": [
    "for row in data.splitlines():\n",
    "    print(row.split())\n",
    "    break"
   ]
  },
  {
   "cell_type": "code",
   "execution_count": 14,
   "metadata": {},
   "outputs": [
    {
     "name": "stdout",
     "output_type": "stream",
     "text": [
      "b'PID'\n"
     ]
    }
   ],
   "source": [
    "for row in data.splitlines():\n",
    "    print(row.split()[1])\n",
    "    break"
   ]
  },
  {
   "cell_type": "code",
   "execution_count": 15,
   "metadata": {},
   "outputs": [
    {
     "name": "stdout",
     "output_type": "stream",
     "text": [
      "b'PID'\n",
      "b'1'\n",
      "b'2'\n",
      "b'4'\n",
      "b'6'\n",
      "b'7'\n",
      "b'8'\n",
      "b'9'\n",
      "b'10'\n",
      "b'11'\n",
      "b'12'\n",
      "b'13'\n",
      "b'14'\n",
      "b'15'\n",
      "b'16'\n",
      "b'17'\n",
      "b'18'\n",
      "b'19'\n",
      "b'20'\n",
      "b'21'\n",
      "b'22'\n",
      "b'23'\n",
      "b'24'\n",
      "b'25'\n",
      "b'26'\n",
      "b'27'\n",
      "b'28'\n",
      "b'29'\n",
      "b'30'\n",
      "b'34'\n",
      "b'35'\n",
      "b'36'\n",
      "b'78'\n",
      "b'79'\n",
      "b'80'\n",
      "b'81'\n",
      "b'82'\n",
      "b'83'\n",
      "b'89'\n",
      "b'98'\n",
      "b'115'\n",
      "b'154'\n",
      "b'155'\n",
      "b'158'\n",
      "b'178'\n",
      "b'179'\n",
      "b'217'\n",
      "b'238'\n",
      "b'248'\n",
      "b'249'\n",
      "b'251'\n",
      "b'252'\n",
      "b'254'\n",
      "b'255'\n",
      "b'257'\n",
      "b'258'\n",
      "b'260'\n",
      "b'263'\n",
      "b'269'\n",
      "b'272'\n",
      "b'274'\n",
      "b'275'\n",
      "b'276'\n",
      "b'277'\n",
      "b'285'\n",
      "b'287'\n",
      "b'290'\n",
      "b'292'\n",
      "b'294'\n",
      "b'304'\n",
      "b'305'\n",
      "b'325'\n",
      "b'327'\n",
      "b'367'\n",
      "b'385'\n",
      "b'555'\n",
      "b'569'\n",
      "b'570'\n",
      "b'622'\n",
      "b'624'\n",
      "b'627'\n",
      "b'628'\n",
      "b'629'\n",
      "b'630'\n",
      "b'632'\n",
      "b'639'\n",
      "b'640'\n",
      "b'641'\n",
      "b'659'\n",
      "b'668'\n",
      "b'690'\n",
      "b'710'\n",
      "b'717'\n",
      "b'726'\n",
      "b'739'\n",
      "b'740'\n",
      "b'771'\n",
      "b'773'\n",
      "b'774'\n",
      "b'776'\n",
      "b'830'\n",
      "b'834'\n",
      "b'898'\n",
      "b'900'\n",
      "b'902'\n",
      "b'911'\n",
      "b'939'\n",
      "b'1008'\n",
      "b'1009'\n",
      "b'1010'\n",
      "b'1011'\n",
      "b'1012'\n",
      "b'1013'\n",
      "b'1296'\n",
      "b'1305'\n",
      "b'1310'\n",
      "b'1312'\n",
      "b'1319'\n",
      "b'1323'\n",
      "b'1427'\n",
      "b'1457'\n",
      "b'1483'\n",
      "b'1513'\n",
      "b'1520'\n",
      "b'1523'\n",
      "b'1528'\n",
      "b'1561'\n",
      "b'1563'\n",
      "b'1568'\n",
      "b'1575'\n",
      "b'1577'\n",
      "b'1582'\n",
      "b'1583'\n",
      "b'1586'\n",
      "b'1589'\n",
      "b'1593'\n",
      "b'1594'\n",
      "b'1596'\n",
      "b'1598'\n",
      "b'1603'\n",
      "b'1606'\n",
      "b'1616'\n",
      "b'1621'\n",
      "b'1624'\n",
      "b'1643'\n",
      "b'1696'\n",
      "b'1703'\n",
      "b'1935'\n",
      "b'1939'\n",
      "b'1940'\n",
      "b'1953'\n",
      "b'1957'\n",
      "b'1959'\n",
      "b'1963'\n",
      "b'1967'\n",
      "b'2061'\n",
      "b'2063'\n",
      "b'2068'\n",
      "b'2071'\n",
      "b'2089'\n",
      "b'2095'\n",
      "b'2100'\n",
      "b'2111'\n",
      "b'2121'\n",
      "b'2125'\n",
      "b'2128'\n",
      "b'2130'\n",
      "b'2140'\n",
      "b'2144'\n",
      "b'2152'\n",
      "b'2160'\n",
      "b'2164'\n",
      "b'2173'\n",
      "b'2178'\n",
      "b'2182'\n",
      "b'2187'\n",
      "b'2191'\n",
      "b'2192'\n",
      "b'2195'\n",
      "b'2197'\n",
      "b'2199'\n",
      "b'2206'\n",
      "b'2208'\n",
      "b'2210'\n",
      "b'2214'\n",
      "b'2227'\n",
      "b'2228'\n",
      "b'2229'\n",
      "b'2230'\n",
      "b'2233'\n",
      "b'2236'\n",
      "b'2239'\n",
      "b'2241'\n",
      "b'2262'\n",
      "b'2292'\n",
      "b'2293'\n",
      "b'2294'\n",
      "b'2318'\n",
      "b'2333'\n",
      "b'2340'\n",
      "b'2346'\n",
      "b'2347'\n",
      "b'2367'\n",
      "b'2376'\n",
      "b'2391'\n",
      "b'2405'\n",
      "b'2643'\n",
      "b'2653'\n",
      "b'2666'\n",
      "b'3131'\n",
      "b'3417'\n",
      "b'3552'\n",
      "b'3586'\n",
      "b'3595'\n",
      "b'3652'\n",
      "b'3682'\n",
      "b'3697'\n",
      "b'3817'\n",
      "b'3856'\n",
      "b'3901'\n",
      "b'4060'\n",
      "b'4061'\n",
      "b'4062'\n",
      "b'4638'\n",
      "b'4639'\n",
      "b'4707'\n",
      "b'4717'\n",
      "b'4737'\n",
      "b'4777'\n",
      "b'4797'\n",
      "b'4856'\n",
      "b'4879'\n",
      "b'4990'\n",
      "b'5017'\n",
      "b'5088'\n",
      "b'5111'\n",
      "b'5138'\n",
      "b'5193'\n"
     ]
    }
   ],
   "source": [
    "for row in data.splitlines():\n",
    "    print(row.split()[1])"
   ]
  },
  {
   "cell_type": "code",
   "execution_count": 20,
   "metadata": {},
   "outputs": [
    {
     "name": "stdout",
     "output_type": "stream",
     "text": [
      "4717\n"
     ]
    }
   ],
   "source": [
    "for row in data.splitlines():\n",
    "    row = row.decode(\"utf-8\")\n",
    "    if \"libre\" in row:\n",
    "        print(row.split()[1])\n",
    "        break"
   ]
  },
  {
   "cell_type": "code",
   "execution_count": 21,
   "metadata": {},
   "outputs": [],
   "source": [
    "for row in data.splitlines():\n",
    "    row = row.decode(\"utf-8\")\n",
    "    if \"libre\" in row:\n",
    "        pid = row.split()[1]\n",
    "        os.system(\"kill -9 %s\"%pid)\n",
    "        break"
   ]
  },
  {
   "cell_type": "code",
   "execution_count": 25,
   "metadata": {},
   "outputs": [
    {
     "name": "stdout",
     "output_type": "stream",
     "text": [
      "4717\n",
      "256\n",
      "4737\n",
      "0\n"
     ]
    }
   ],
   "source": [
    "for row in data.splitlines():\n",
    "    row = row.decode(\"utf-8\")\n",
    "    if \"libre\" in row:\n",
    "        pid = row.split()[1]\n",
    "        print(pid)\n",
    "        print(os.system(\"kill -9 %s\"%pid))"
   ]
  },
  {
   "cell_type": "code",
   "execution_count": 27,
   "metadata": {},
   "outputs": [],
   "source": [
    "from github import Github\n",
    "os.getenv(\"username\")"
   ]
  },
  {
   "cell_type": "code",
   "execution_count": 28,
   "metadata": {},
   "outputs": [],
   "source": [
    "from github import Github\n",
    "username=\"gs9783@gmail.com\"\n",
    "password=\"$\""
   ]
  },
  {
   "cell_type": "code",
   "execution_count": 29,
   "metadata": {},
   "outputs": [],
   "source": [
    "from github import Github\n",
    "g=Github(username,password)"
   ]
  },
  {
   "cell_type": "code",
   "execution_count": 30,
   "metadata": {},
   "outputs": [
    {
     "data": {
      "text/plain": [
       "<github.MainClass.Github at 0x7fc72c5bbba8>"
      ]
     },
     "execution_count": 30,
     "metadata": {},
     "output_type": "execute_result"
    }
   ],
   "source": [
    "g"
   ]
  },
  {
   "cell_type": "code",
   "execution_count": 31,
   "metadata": {},
   "outputs": [
    {
     "name": "stdout",
     "output_type": "stream",
     "text": [
      "['FIX_REPO_GET_GIT_REF', '_Github__get_FIX_REPO_GET_GIT_REF', '_Github__get_per_page', '_Github__requester', '_Github__set_FIX_REPO_GET_GIT_REF', '_Github__set_per_page', '__class__', '__delattr__', '__dict__', '__dir__', '__doc__', '__eq__', '__format__', '__ge__', '__getattribute__', '__gt__', '__hash__', '__init__', '__init_subclass__', '__le__', '__lt__', '__module__', '__ne__', '__new__', '__reduce__', '__reduce_ex__', '__repr__', '__setattr__', '__sizeof__', '__str__', '__subclasshook__', '__weakref__', 'create_from_raw_data', 'dump', 'get_api_status', 'get_api_status_messages', 'get_emojis', 'get_gist', 'get_gists', 'get_gitignore_template', 'get_gitignore_templates', 'get_hook', 'get_hooks', 'get_installation', 'get_last_api_status_message', 'get_license', 'get_licenses', 'get_organization', 'get_organizations', 'get_project', 'get_rate_limit', 'get_repo', 'get_repos', 'get_user', 'get_users', 'load', 'oauth_scopes', 'per_page', 'rate_limiting', 'rate_limiting_resettime', 'render_markdown', 'search_code', 'search_commits', 'search_issues', 'search_repositories', 'search_topics', 'search_users']\n"
     ]
    }
   ],
   "source": [
    "print(dir(g))"
   ]
  },
  {
   "cell_type": "code",
   "execution_count": 32,
   "metadata": {},
   "outputs": [],
   "source": [
    "user=g.get_user()"
   ]
  },
  {
   "cell_type": "code",
   "execution_count": 33,
   "metadata": {},
   "outputs": [
    {
     "data": {
      "text/plain": [
       "AuthenticatedUser(login=None)"
      ]
     },
     "execution_count": 33,
     "metadata": {},
     "output_type": "execute_result"
    }
   ],
   "source": [
    "user"
   ]
  },
  {
   "cell_type": "code",
   "execution_count": 34,
   "metadata": {},
   "outputs": [
    {
     "name": "stdout",
     "output_type": "stream",
     "text": [
      "['CHECK_AFTER_INIT_FLAG', '_CompletableGithubObject__complete', '_CompletableGithubObject__completed', '_GithubObject__makeSimpleAttribute', '_GithubObject__makeSimpleListAttribute', '_GithubObject__makeTransformedAttribute', '__class__', '__delattr__', '__dict__', '__dir__', '__doc__', '__eq__', '__format__', '__ge__', '__getattribute__', '__gt__', '__hash__', '__init__', '__init_subclass__', '__le__', '__lt__', '__module__', '__ne__', '__new__', '__reduce__', '__reduce_ex__', '__repr__', '__setattr__', '__sizeof__', '__str__', '__subclasshook__', '__weakref__', '_avatar_url', '_bio', '_blog', '_collaborators', '_company', '_completeIfNeeded', '_completeIfNotSet', '_created_at', '_disk_usage', '_email', '_events_url', '_followers', '_followers_url', '_following', '_following_url', '_gists_url', '_gravatar_id', '_headers', '_hireable', '_html_url', '_id', '_initAttributes', '_location', '_login', '_makeBoolAttribute', '_makeClassAttribute', '_makeDatetimeAttribute', '_makeDictAttribute', '_makeDictOfStringsToClassesAttribute', '_makeIntAttribute', '_makeListOfClassesAttribute', '_makeListOfDictsAttribute', '_makeListOfIntsAttribute', '_makeListOfListOfStringsAttribute', '_makeListOfStringsAttribute', '_makeStringAttribute', '_makeTimestampAttribute', '_name', '_organizations_url', '_owned_private_repos', '_parentUrl', '_plan', '_private_gists', '_public_gists', '_public_repos', '_rawData', '_received_events_url', '_repos_url', '_requester', '_site_admin', '_starred_url', '_storeAndUseAttributes', '_subscriptions_url', '_total_private_repos', '_type', '_updated_at', '_url', '_useAttributes', 'accept_invitation', 'add_to_emails', 'add_to_following', 'add_to_starred', 'add_to_subscriptions', 'add_to_watched', 'avatar_url', 'bio', 'blog', 'collaborators', 'company', 'create_authorization', 'create_fork', 'create_gist', 'create_key', 'create_migration', 'create_repo', 'created_at', 'disk_usage', 'edit', 'email', 'etag', 'events_url', 'followers', 'followers_url', 'following', 'following_url', 'get__repr__', 'get_authorization', 'get_authorizations', 'get_emails', 'get_events', 'get_followers', 'get_following', 'get_gists', 'get_issues', 'get_key', 'get_keys', 'get_migrations', 'get_notification', 'get_notifications', 'get_organization_events', 'get_orgs', 'get_repo', 'get_repos', 'get_starred', 'get_starred_gists', 'get_subscriptions', 'get_teams', 'get_user_issues', 'get_watched', 'gists_url', 'gravatar_id', 'has_in_following', 'has_in_starred', 'has_in_subscriptions', 'has_in_watched', 'hireable', 'html_url', 'id', 'last_modified', 'location', 'login', 'mark_notifications_as_read', 'name', 'organizations_url', 'owned_private_repos', 'plan', 'private_gists', 'public_gists', 'public_repos', 'raw_data', 'raw_headers', 'received_events_url', 'remove_from_emails', 'remove_from_following', 'remove_from_starred', 'remove_from_subscriptions', 'remove_from_watched', 'repos_url', 'setCheckAfterInitFlag', 'site_admin', 'starred_url', 'subscriptions_url', 'total_private_repos', 'type', 'update', 'updated_at', 'url']\n"
     ]
    }
   ],
   "source": [
    "print(dir(user))"
   ]
  },
  {
   "cell_type": "code",
   "execution_count": 36,
   "metadata": {},
   "outputs": [],
   "source": [
    "repos = user.get_repos()"
   ]
  },
  {
   "cell_type": "code",
   "execution_count": 37,
   "metadata": {},
   "outputs": [
    {
     "data": {
      "text/plain": [
       "<github.PaginatedList.PaginatedList at 0x7fc72c37cbe0>"
      ]
     },
     "execution_count": 37,
     "metadata": {},
     "output_type": "execute_result"
    }
   ],
   "source": [
    "repos"
   ]
  },
  {
   "cell_type": "code",
   "execution_count": 38,
   "metadata": {},
   "outputs": [
    {
     "name": "stdout",
     "output_type": "stream",
     "text": [
      "Repository(full_name=\"uday1834/repo1\")\n",
      "Repository(full_name=\"uday1834/REPO2\")\n"
     ]
    }
   ],
   "source": [
    "for repo in repos:\n",
    "    print(repo)"
   ]
  },
  {
   "cell_type": "code",
   "execution_count": 39,
   "metadata": {},
   "outputs": [
    {
     "data": {
      "text/plain": [
       "Repository(full_name=\"uday1834/REPO2\")"
      ]
     },
     "execution_count": 39,
     "metadata": {},
     "output_type": "execute_result"
    }
   ],
   "source": [
    "repo"
   ]
  },
  {
   "cell_type": "code",
   "execution_count": 40,
   "metadata": {},
   "outputs": [
    {
     "name": "stdout",
     "output_type": "stream",
     "text": [
      "['CHECK_AFTER_INIT_FLAG', '_CompletableGithubObject__complete', '_CompletableGithubObject__completed', '_GithubObject__makeSimpleAttribute', '_GithubObject__makeSimpleListAttribute', '_GithubObject__makeTransformedAttribute', '_Repository__create_pull', '_Repository__create_pull_1', '_Repository__create_pull_2', '__class__', '__delattr__', '__dict__', '__dir__', '__doc__', '__eq__', '__format__', '__ge__', '__getattribute__', '__gt__', '__hash__', '__init__', '__init_subclass__', '__le__', '__lt__', '__module__', '__ne__', '__new__', '__reduce__', '__reduce_ex__', '__repr__', '__setattr__', '__sizeof__', '__str__', '__subclasshook__', '__weakref__', '_allow_merge_commit', '_allow_rebase_merge', '_allow_squash_merge', '_archive_url', '_archived', '_assignees_url', '_blobs_url', '_branches_url', '_clone_url', '_collaborators_url', '_comments_url', '_commits_url', '_compare_url', '_completeIfNeeded', '_completeIfNotSet', '_contents_url', '_contributors_url', '_created_at', '_default_branch', '_description', '_downloads_url', '_events_url', '_fork', '_forks', '_forks_count', '_forks_url', '_full_name', '_git_commits_url', '_git_refs_url', '_git_tags_url', '_git_url', '_has_downloads', '_has_issues', '_has_projects', '_has_wiki', '_headers', '_homepage', '_hooks_url', '_html_url', '_hub', '_id', '_identity', '_initAttributes', '_issue_comment_url', '_issue_events_url', '_issues_url', '_keys_url', '_labels_url', '_language', '_languages_url', '_makeBoolAttribute', '_makeClassAttribute', '_makeDatetimeAttribute', '_makeDictAttribute', '_makeDictOfStringsToClassesAttribute', '_makeIntAttribute', '_makeListOfClassesAttribute', '_makeListOfDictsAttribute', '_makeListOfIntsAttribute', '_makeListOfListOfStringsAttribute', '_makeListOfStringsAttribute', '_makeStringAttribute', '_makeTimestampAttribute', '_master_branch', '_merges_url', '_milestones_url', '_mirror_url', '_name', '_network_count', '_notifications_url', '_open_issues', '_open_issues_count', '_organization', '_owner', '_parent', '_parentUrl', '_permissions', '_private', '_pulls_url', '_pushed_at', '_rawData', '_requester', '_size', '_source', '_ssh_url', '_stargazers_count', '_stargazers_url', '_statuses_url', '_storeAndUseAttributes', '_subscribers_count', '_subscribers_url', '_subscription_url', '_svn_url', '_tags_url', '_teams_url', '_topics', '_trees_url', '_updated_at', '_url', '_useAttributes', '_watchers', '_watchers_count', 'add_to_collaborators', 'allow_merge_commit', 'allow_rebase_merge', 'allow_squash_merge', 'archive_url', 'archived', 'assignees_url', 'blobs_url', 'branches_url', 'clone_url', 'collaborators_url', 'comments_url', 'commits_url', 'compare', 'compare_url', 'contents_url', 'contributors_url', 'create_file', 'create_git_blob', 'create_git_commit', 'create_git_ref', 'create_git_release', 'create_git_tag', 'create_git_tag_and_release', 'create_git_tree', 'create_hook', 'create_issue', 'create_key', 'create_label', 'create_milestone', 'create_project', 'create_pull', 'create_source_import', 'created_at', 'default_branch', 'delete', 'delete_file', 'description', 'downloads_url', 'edit', 'etag', 'events_url', 'fork', 'forks', 'forks_count', 'forks_url', 'full_name', 'get__repr__', 'get_archive_link', 'get_assignees', 'get_branch', 'get_branches', 'get_clones_traffic', 'get_collaborator_permission', 'get_collaborators', 'get_comment', 'get_comments', 'get_commit', 'get_commits', 'get_contents', 'get_contributors', 'get_dir_contents', 'get_download', 'get_downloads', 'get_events', 'get_file_contents', 'get_forks', 'get_git_blob', 'get_git_commit', 'get_git_ref', 'get_git_refs', 'get_git_tag', 'get_git_tree', 'get_hook', 'get_hooks', 'get_issue', 'get_issues', 'get_issues_comments', 'get_issues_event', 'get_issues_events', 'get_key', 'get_keys', 'get_label', 'get_labels', 'get_languages', 'get_latest_release', 'get_license', 'get_milestone', 'get_milestones', 'get_network_events', 'get_projects', 'get_pull', 'get_pulls', 'get_pulls_comments', 'get_pulls_review_comments', 'get_readme', 'get_release', 'get_release_asset', 'get_releases', 'get_source_import', 'get_stargazers', 'get_stargazers_with_dates', 'get_stats_code_frequency', 'get_stats_commit_activity', 'get_stats_contributors', 'get_stats_participation', 'get_stats_punch_card', 'get_subscribers', 'get_tags', 'get_teams', 'get_top_paths', 'get_top_referrers', 'get_topics', 'get_views_traffic', 'get_watchers', 'git_commits_url', 'git_refs_url', 'git_tags_url', 'git_url', 'has_downloads', 'has_in_assignees', 'has_in_collaborators', 'has_issues', 'has_projects', 'has_wiki', 'homepage', 'hooks_url', 'html_url', 'id', 'issue_comment_url', 'issue_events_url', 'issues_url', 'keys_url', 'labels_url', 'language', 'languages_url', 'last_modified', 'legacy_search_issues', 'mark_notifications_as_read', 'master_branch', 'merge', 'merges_url', 'milestones_url', 'mirror_url', 'name', 'network_count', 'notifications_url', 'open_issues', 'open_issues_count', 'organization', 'owner', 'parent', 'permissions', 'private', 'pulls_url', 'pushed_at', 'raw_data', 'raw_headers', 'remove_from_collaborators', 'replace_topics', 'setCheckAfterInitFlag', 'size', 'source', 'ssh_url', 'stargazers_count', 'stargazers_url', 'statuses_url', 'subscribe_to_hub', 'subscribers_count', 'subscribers_url', 'subscription_url', 'svn_url', 'tags_url', 'teams_url', 'topics', 'trees_url', 'unsubscribe_from_hub', 'update', 'update_file', 'updated_at', 'url', 'watchers', 'watchers_count']\n"
     ]
    }
   ],
   "source": [
    "print(dir(repo))"
   ]
  },
  {
   "cell_type": "code",
   "execution_count": 41,
   "metadata": {},
   "outputs": [
    {
     "data": {
      "text/plain": [
       "{'content': ContentFile(path=\"readme\"),\n",
       " 'commit': Commit(sha=\"fd0f5c7583177b4d97810d03b34d5184352cd92a\")}"
      ]
     },
     "execution_count": 41,
     "metadata": {},
     "output_type": "execute_result"
    }
   ],
   "source": [
    "repo.create_file(\"readme\",\"hello\",\"this is readme\")"
   ]
  },
  {
   "cell_type": "code",
   "execution_count": 42,
   "metadata": {},
   "outputs": [],
   "source": [
    "repo.delete()"
   ]
  },
  {
   "cell_type": "code",
   "execution_count": 43,
   "metadata": {},
   "outputs": [
    {
     "data": {
      "text/plain": [
       "Repository(full_name=\"uday1834/repo2\")"
      ]
     },
     "execution_count": 43,
     "metadata": {},
     "output_type": "execute_result"
    }
   ],
   "source": [
    "user.create_repo(\"repo2\")"
   ]
  },
  {
   "cell_type": "code",
   "execution_count": 44,
   "metadata": {},
   "outputs": [],
   "source": [
    "import requests"
   ]
  },
  {
   "cell_type": "code",
   "execution_count": 45,
   "metadata": {},
   "outputs": [],
   "source": [
    "url = \"https://api.github.com/user/repos\"\n",
    "resp = requests.get(url,auth=(username,password))"
   ]
  },
  {
   "cell_type": "code",
   "execution_count": 46,
   "metadata": {},
   "outputs": [
    {
     "data": {
      "text/plain": [
       "<Response [200]>"
      ]
     },
     "execution_count": 46,
     "metadata": {},
     "output_type": "execute_result"
    }
   ],
   "source": [
    "resp"
   ]
  },
  {
   "cell_type": "code",
   "execution_count": 47,
   "metadata": {},
   "outputs": [
    {
     "name": "stdout",
     "output_type": "stream",
     "text": [
      "<Response [404]>\n"
     ]
    }
   ],
   "source": [
    "url = \"https://api.github.com/user/repos1\"\n",
    "resp = requests.get(url,auth=(username,password))\n",
    "print(resp)"
   ]
  },
  {
   "cell_type": "code",
   "execution_count": 48,
   "metadata": {},
   "outputs": [
    {
     "name": "stdout",
     "output_type": "stream",
     "text": [
      "<Response [401]>\n"
     ]
    }
   ],
   "source": [
    "url = \"https://api.github.com/user/repos\"\n",
    "resp = requests.get(url,auth=(username,\"sdfsdsdf\"))\n",
    "print(resp)"
   ]
  },
  {
   "cell_type": "code",
   "execution_count": 49,
   "metadata": {},
   "outputs": [
    {
     "name": "stdout",
     "output_type": "stream",
     "text": [
      "<Response [200]>\n"
     ]
    }
   ],
   "source": [
    "url = \"https://api.github.com/user/repos\"\n",
    "resp = requests.get(url,auth=(username,password))\n",
    "print(resp)"
   ]
  },
  {
   "cell_type": "code",
   "execution_count": 50,
   "metadata": {},
   "outputs": [
    {
     "data": {
      "text/plain": [
       "[{'id': 172826453,\n",
       "  'node_id': 'MDEwOlJlcG9zaXRvcnkxNzI4MjY0NTM=',\n",
       "  'name': 'repo1',\n",
       "  'full_name': 'uday1834/repo1',\n",
       "  'private': False,\n",
       "  'owner': {'login': 'uday1834',\n",
       "   'id': 10896917,\n",
       "   'node_id': 'MDQ6VXNlcjEwODk2OTE3',\n",
       "   'avatar_url': 'https://avatars1.githubusercontent.com/u/10896917?v=4',\n",
       "   'gravatar_id': '',\n",
       "   'url': 'https://api.github.com/users/uday1834',\n",
       "   'html_url': 'https://github.com/uday1834',\n",
       "   'followers_url': 'https://api.github.com/users/uday1834/followers',\n",
       "   'following_url': 'https://api.github.com/users/uday1834/following{/other_user}',\n",
       "   'gists_url': 'https://api.github.com/users/uday1834/gists{/gist_id}',\n",
       "   'starred_url': 'https://api.github.com/users/uday1834/starred{/owner}{/repo}',\n",
       "   'subscriptions_url': 'https://api.github.com/users/uday1834/subscriptions',\n",
       "   'organizations_url': 'https://api.github.com/users/uday1834/orgs',\n",
       "   'repos_url': 'https://api.github.com/users/uday1834/repos',\n",
       "   'events_url': 'https://api.github.com/users/uday1834/events{/privacy}',\n",
       "   'received_events_url': 'https://api.github.com/users/uday1834/received_events',\n",
       "   'type': 'User',\n",
       "   'site_admin': False},\n",
       "  'html_url': 'https://github.com/uday1834/repo1',\n",
       "  'description': None,\n",
       "  'fork': False,\n",
       "  'url': 'https://api.github.com/repos/uday1834/repo1',\n",
       "  'forks_url': 'https://api.github.com/repos/uday1834/repo1/forks',\n",
       "  'keys_url': 'https://api.github.com/repos/uday1834/repo1/keys{/key_id}',\n",
       "  'collaborators_url': 'https://api.github.com/repos/uday1834/repo1/collaborators{/collaborator}',\n",
       "  'teams_url': 'https://api.github.com/repos/uday1834/repo1/teams',\n",
       "  'hooks_url': 'https://api.github.com/repos/uday1834/repo1/hooks',\n",
       "  'issue_events_url': 'https://api.github.com/repos/uday1834/repo1/issues/events{/number}',\n",
       "  'events_url': 'https://api.github.com/repos/uday1834/repo1/events',\n",
       "  'assignees_url': 'https://api.github.com/repos/uday1834/repo1/assignees{/user}',\n",
       "  'branches_url': 'https://api.github.com/repos/uday1834/repo1/branches{/branch}',\n",
       "  'tags_url': 'https://api.github.com/repos/uday1834/repo1/tags',\n",
       "  'blobs_url': 'https://api.github.com/repos/uday1834/repo1/git/blobs{/sha}',\n",
       "  'git_tags_url': 'https://api.github.com/repos/uday1834/repo1/git/tags{/sha}',\n",
       "  'git_refs_url': 'https://api.github.com/repos/uday1834/repo1/git/refs{/sha}',\n",
       "  'trees_url': 'https://api.github.com/repos/uday1834/repo1/git/trees{/sha}',\n",
       "  'statuses_url': 'https://api.github.com/repos/uday1834/repo1/statuses/{sha}',\n",
       "  'languages_url': 'https://api.github.com/repos/uday1834/repo1/languages',\n",
       "  'stargazers_url': 'https://api.github.com/repos/uday1834/repo1/stargazers',\n",
       "  'contributors_url': 'https://api.github.com/repos/uday1834/repo1/contributors',\n",
       "  'subscribers_url': 'https://api.github.com/repos/uday1834/repo1/subscribers',\n",
       "  'subscription_url': 'https://api.github.com/repos/uday1834/repo1/subscription',\n",
       "  'commits_url': 'https://api.github.com/repos/uday1834/repo1/commits{/sha}',\n",
       "  'git_commits_url': 'https://api.github.com/repos/uday1834/repo1/git/commits{/sha}',\n",
       "  'comments_url': 'https://api.github.com/repos/uday1834/repo1/comments{/number}',\n",
       "  'issue_comment_url': 'https://api.github.com/repos/uday1834/repo1/issues/comments{/number}',\n",
       "  'contents_url': 'https://api.github.com/repos/uday1834/repo1/contents/{+path}',\n",
       "  'compare_url': 'https://api.github.com/repos/uday1834/repo1/compare/{base}...{head}',\n",
       "  'merges_url': 'https://api.github.com/repos/uday1834/repo1/merges',\n",
       "  'archive_url': 'https://api.github.com/repos/uday1834/repo1/{archive_format}{/ref}',\n",
       "  'downloads_url': 'https://api.github.com/repos/uday1834/repo1/downloads',\n",
       "  'issues_url': 'https://api.github.com/repos/uday1834/repo1/issues{/number}',\n",
       "  'pulls_url': 'https://api.github.com/repos/uday1834/repo1/pulls{/number}',\n",
       "  'milestones_url': 'https://api.github.com/repos/uday1834/repo1/milestones{/number}',\n",
       "  'notifications_url': 'https://api.github.com/repos/uday1834/repo1/notifications{?since,all,participating}',\n",
       "  'labels_url': 'https://api.github.com/repos/uday1834/repo1/labels{/name}',\n",
       "  'releases_url': 'https://api.github.com/repos/uday1834/repo1/releases{/id}',\n",
       "  'deployments_url': 'https://api.github.com/repos/uday1834/repo1/deployments',\n",
       "  'created_at': '2019-02-27T02:19:45Z',\n",
       "  'updated_at': '2019-02-27T02:19:45Z',\n",
       "  'pushed_at': '2019-02-27T02:19:46Z',\n",
       "  'git_url': 'git://github.com/uday1834/repo1.git',\n",
       "  'ssh_url': 'git@github.com:uday1834/repo1.git',\n",
       "  'clone_url': 'https://github.com/uday1834/repo1.git',\n",
       "  'svn_url': 'https://github.com/uday1834/repo1',\n",
       "  'homepage': None,\n",
       "  'size': 0,\n",
       "  'stargazers_count': 0,\n",
       "  'watchers_count': 0,\n",
       "  'language': None,\n",
       "  'has_issues': True,\n",
       "  'has_projects': True,\n",
       "  'has_downloads': True,\n",
       "  'has_wiki': True,\n",
       "  'has_pages': False,\n",
       "  'forks_count': 0,\n",
       "  'mirror_url': None,\n",
       "  'archived': False,\n",
       "  'disabled': False,\n",
       "  'open_issues_count': 0,\n",
       "  'license': None,\n",
       "  'forks': 0,\n",
       "  'open_issues': 0,\n",
       "  'watchers': 0,\n",
       "  'default_branch': 'master',\n",
       "  'permissions': {'admin': True, 'push': True, 'pull': True}},\n",
       " {'id': 192268473,\n",
       "  'node_id': 'MDEwOlJlcG9zaXRvcnkxOTIyNjg0NzM=',\n",
       "  'name': 'repo2',\n",
       "  'full_name': 'uday1834/repo2',\n",
       "  'private': False,\n",
       "  'owner': {'login': 'uday1834',\n",
       "   'id': 10896917,\n",
       "   'node_id': 'MDQ6VXNlcjEwODk2OTE3',\n",
       "   'avatar_url': 'https://avatars1.githubusercontent.com/u/10896917?v=4',\n",
       "   'gravatar_id': '',\n",
       "   'url': 'https://api.github.com/users/uday1834',\n",
       "   'html_url': 'https://github.com/uday1834',\n",
       "   'followers_url': 'https://api.github.com/users/uday1834/followers',\n",
       "   'following_url': 'https://api.github.com/users/uday1834/following{/other_user}',\n",
       "   'gists_url': 'https://api.github.com/users/uday1834/gists{/gist_id}',\n",
       "   'starred_url': 'https://api.github.com/users/uday1834/starred{/owner}{/repo}',\n",
       "   'subscriptions_url': 'https://api.github.com/users/uday1834/subscriptions',\n",
       "   'organizations_url': 'https://api.github.com/users/uday1834/orgs',\n",
       "   'repos_url': 'https://api.github.com/users/uday1834/repos',\n",
       "   'events_url': 'https://api.github.com/users/uday1834/events{/privacy}',\n",
       "   'received_events_url': 'https://api.github.com/users/uday1834/received_events',\n",
       "   'type': 'User',\n",
       "   'site_admin': False},\n",
       "  'html_url': 'https://github.com/uday1834/repo2',\n",
       "  'description': None,\n",
       "  'fork': False,\n",
       "  'url': 'https://api.github.com/repos/uday1834/repo2',\n",
       "  'forks_url': 'https://api.github.com/repos/uday1834/repo2/forks',\n",
       "  'keys_url': 'https://api.github.com/repos/uday1834/repo2/keys{/key_id}',\n",
       "  'collaborators_url': 'https://api.github.com/repos/uday1834/repo2/collaborators{/collaborator}',\n",
       "  'teams_url': 'https://api.github.com/repos/uday1834/repo2/teams',\n",
       "  'hooks_url': 'https://api.github.com/repos/uday1834/repo2/hooks',\n",
       "  'issue_events_url': 'https://api.github.com/repos/uday1834/repo2/issues/events{/number}',\n",
       "  'events_url': 'https://api.github.com/repos/uday1834/repo2/events',\n",
       "  'assignees_url': 'https://api.github.com/repos/uday1834/repo2/assignees{/user}',\n",
       "  'branches_url': 'https://api.github.com/repos/uday1834/repo2/branches{/branch}',\n",
       "  'tags_url': 'https://api.github.com/repos/uday1834/repo2/tags',\n",
       "  'blobs_url': 'https://api.github.com/repos/uday1834/repo2/git/blobs{/sha}',\n",
       "  'git_tags_url': 'https://api.github.com/repos/uday1834/repo2/git/tags{/sha}',\n",
       "  'git_refs_url': 'https://api.github.com/repos/uday1834/repo2/git/refs{/sha}',\n",
       "  'trees_url': 'https://api.github.com/repos/uday1834/repo2/git/trees{/sha}',\n",
       "  'statuses_url': 'https://api.github.com/repos/uday1834/repo2/statuses/{sha}',\n",
       "  'languages_url': 'https://api.github.com/repos/uday1834/repo2/languages',\n",
       "  'stargazers_url': 'https://api.github.com/repos/uday1834/repo2/stargazers',\n",
       "  'contributors_url': 'https://api.github.com/repos/uday1834/repo2/contributors',\n",
       "  'subscribers_url': 'https://api.github.com/repos/uday1834/repo2/subscribers',\n",
       "  'subscription_url': 'https://api.github.com/repos/uday1834/repo2/subscription',\n",
       "  'commits_url': 'https://api.github.com/repos/uday1834/repo2/commits{/sha}',\n",
       "  'git_commits_url': 'https://api.github.com/repos/uday1834/repo2/git/commits{/sha}',\n",
       "  'comments_url': 'https://api.github.com/repos/uday1834/repo2/comments{/number}',\n",
       "  'issue_comment_url': 'https://api.github.com/repos/uday1834/repo2/issues/comments{/number}',\n",
       "  'contents_url': 'https://api.github.com/repos/uday1834/repo2/contents/{+path}',\n",
       "  'compare_url': 'https://api.github.com/repos/uday1834/repo2/compare/{base}...{head}',\n",
       "  'merges_url': 'https://api.github.com/repos/uday1834/repo2/merges',\n",
       "  'archive_url': 'https://api.github.com/repos/uday1834/repo2/{archive_format}{/ref}',\n",
       "  'downloads_url': 'https://api.github.com/repos/uday1834/repo2/downloads',\n",
       "  'issues_url': 'https://api.github.com/repos/uday1834/repo2/issues{/number}',\n",
       "  'pulls_url': 'https://api.github.com/repos/uday1834/repo2/pulls{/number}',\n",
       "  'milestones_url': 'https://api.github.com/repos/uday1834/repo2/milestones{/number}',\n",
       "  'notifications_url': 'https://api.github.com/repos/uday1834/repo2/notifications{?since,all,participating}',\n",
       "  'labels_url': 'https://api.github.com/repos/uday1834/repo2/labels{/name}',\n",
       "  'releases_url': 'https://api.github.com/repos/uday1834/repo2/releases{/id}',\n",
       "  'deployments_url': 'https://api.github.com/repos/uday1834/repo2/deployments',\n",
       "  'created_at': '2019-06-17T03:24:48Z',\n",
       "  'updated_at': '2019-06-17T03:24:48Z',\n",
       "  'pushed_at': '2019-06-17T03:24:49Z',\n",
       "  'git_url': 'git://github.com/uday1834/repo2.git',\n",
       "  'ssh_url': 'git@github.com:uday1834/repo2.git',\n",
       "  'clone_url': 'https://github.com/uday1834/repo2.git',\n",
       "  'svn_url': 'https://github.com/uday1834/repo2',\n",
       "  'homepage': None,\n",
       "  'size': 0,\n",
       "  'stargazers_count': 0,\n",
       "  'watchers_count': 0,\n",
       "  'language': None,\n",
       "  'has_issues': True,\n",
       "  'has_projects': True,\n",
       "  'has_downloads': True,\n",
       "  'has_wiki': True,\n",
       "  'has_pages': False,\n",
       "  'forks_count': 0,\n",
       "  'mirror_url': None,\n",
       "  'archived': False,\n",
       "  'disabled': False,\n",
       "  'open_issues_count': 0,\n",
       "  'license': None,\n",
       "  'forks': 0,\n",
       "  'open_issues': 0,\n",
       "  'watchers': 0,\n",
       "  'default_branch': 'master',\n",
       "  'permissions': {'admin': True, 'push': True, 'pull': True}}]"
      ]
     },
     "execution_count": 50,
     "metadata": {},
     "output_type": "execute_result"
    }
   ],
   "source": [
    "resp.json()"
   ]
  },
  {
   "cell_type": "code",
   "execution_count": 51,
   "metadata": {},
   "outputs": [
    {
     "name": "stdout",
     "output_type": "stream",
     "text": [
      "<Response [201]>\n"
     ]
    }
   ],
   "source": [
    "url = \"https://api.github.com/user/repos\"\n",
    "resp = requests.post(url,json={\"name\":\"api repo\"},auth=(username,password))\n",
    "print(resp)"
   ]
  },
  {
   "cell_type": "code",
   "execution_count": 52,
   "metadata": {},
   "outputs": [
    {
     "name": "stdout",
     "output_type": "stream",
     "text": [
      "<Response [404]>\n"
     ]
    }
   ],
   "source": [
    "url = \"https://api.github.com/repos/%s/%s\"%(username,\"api repo\")\n",
    "resp = requests.delete(url,auth=(username,password))\n",
    "print(resp)"
   ]
  },
  {
   "cell_type": "code",
   "execution_count": 53,
   "metadata": {},
   "outputs": [
    {
     "name": "stdout",
     "output_type": "stream",
     "text": [
      "<Response [404]>\n"
     ]
    }
   ],
   "source": [
    "url = \"https://api.github.com/repos/192268473\"\n",
    "resp = requests.delete(url,auth=(username,password))\n",
    "print(resp)"
   ]
  },
  {
   "cell_type": "code",
   "execution_count": 54,
   "metadata": {},
   "outputs": [
    {
     "name": "stdout",
     "output_type": "stream",
     "text": [
      "<Response [404]>\n"
     ]
    }
   ],
   "source": [
    "url = \"https://api.github.com/user/repos/192268473\"\n",
    "resp = requests.delete(url,auth=(username,password))\n",
    "print(resp)"
   ]
  },
  {
   "cell_type": "code",
   "execution_count": null,
   "metadata": {},
   "outputs": [],
   "source": []
  }
 ],
 "metadata": {
  "kernelspec": {
   "display_name": "Python 3",
   "language": "python",
   "name": "python3"
  },
  "language_info": {
   "codemirror_mode": {
    "name": "ipython",
    "version": 3
   },
   "file_extension": ".py",
   "mimetype": "text/x-python",
   "name": "python",
   "nbconvert_exporter": "python",
   "pygments_lexer": "ipython3",
   "version": "3.7.0"
  }
 },
 "nbformat": 4,
 "nbformat_minor": 2
}
