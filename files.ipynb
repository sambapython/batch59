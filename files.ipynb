{
 "cells": [
  {
   "cell_type": "code",
   "execution_count": 1,
   "metadata": {},
   "outputs": [
    {
     "ename": "FileNotFoundError",
     "evalue": "[Errno 2] No such file or directory: 'customer.csv'",
     "output_type": "error",
     "traceback": [
      "\u001b[0;31m---------------------------------------------------------------------------\u001b[0m",
      "\u001b[0;31mFileNotFoundError\u001b[0m                         Traceback (most recent call last)",
      "\u001b[0;32m<ipython-input-1-f324cd07529e>\u001b[0m in \u001b[0;36m<module>\u001b[0;34m()\u001b[0m\n\u001b[0;32m----> 1\u001b[0;31m \u001b[0mf\u001b[0m\u001b[0;34m=\u001b[0m\u001b[0mopen\u001b[0m\u001b[0;34m(\u001b[0m\u001b[0;34m\"customer.csv\"\u001b[0m\u001b[0;34m,\u001b[0m\u001b[0;34m\"r\"\u001b[0m\u001b[0;34m)\u001b[0m\u001b[0;34m\u001b[0m\u001b[0m\n\u001b[0m",
      "\u001b[0;31mFileNotFoundError\u001b[0m: [Errno 2] No such file or directory: 'customer.csv'"
     ]
    }
   ],
   "source": [
    "f=open(\"customer.csv\",\"r\")"
   ]
  },
  {
   "cell_type": "code",
   "execution_count": 2,
   "metadata": {},
   "outputs": [],
   "source": [
    "f=open(\"customer.csv\",\"w\")"
   ]
  },
  {
   "cell_type": "code",
   "execution_count": 3,
   "metadata": {},
   "outputs": [],
   "source": [
    "f=open(\"customer.csv\",\"a\")"
   ]
  },
  {
   "cell_type": "code",
   "execution_count": 4,
   "metadata": {},
   "outputs": [],
   "source": [
    "f=open(\"data/customer.csv\",\"w\")"
   ]
  },
  {
   "cell_type": "code",
   "execution_count": 5,
   "metadata": {},
   "outputs": [],
   "source": [
    "import os"
   ]
  },
  {
   "cell_type": "code",
   "execution_count": 6,
   "metadata": {},
   "outputs": [
    {
     "data": {
      "text/plain": [
       "'data/customer.csv'"
      ]
     },
     "execution_count": 6,
     "metadata": {},
     "output_type": "execute_result"
    }
   ],
   "source": [
    "os.path.join(\"data\",\"customer.csv\")"
   ]
  },
  {
   "cell_type": "code",
   "execution_count": 7,
   "metadata": {},
   "outputs": [],
   "source": [
    "path = os.path.join(\"data\",\"customer.csv\")\n",
    "f=open(path,\"w\")"
   ]
  },
  {
   "cell_type": "code",
   "execution_count": 8,
   "metadata": {},
   "outputs": [
    {
     "data": {
      "text/plain": [
       "9"
      ]
     },
     "execution_count": 8,
     "metadata": {},
     "output_type": "execute_result"
    }
   ],
   "source": [
    "f.write(\"some data\")"
   ]
  },
  {
   "cell_type": "code",
   "execution_count": 9,
   "metadata": {},
   "outputs": [],
   "source": [
    "f.close()"
   ]
  },
  {
   "cell_type": "code",
   "execution_count": 10,
   "metadata": {},
   "outputs": [
    {
     "ename": "ValueError",
     "evalue": "I/O operation on closed file.",
     "output_type": "error",
     "traceback": [
      "\u001b[0;31m---------------------------------------------------------------------------\u001b[0m",
      "\u001b[0;31mValueError\u001b[0m                                Traceback (most recent call last)",
      "\u001b[0;32m<ipython-input-10-7e6316a0c371>\u001b[0m in \u001b[0;36m<module>\u001b[0;34m()\u001b[0m\n\u001b[0;32m----> 1\u001b[0;31m \u001b[0mf\u001b[0m\u001b[0;34m.\u001b[0m\u001b[0mwrite\u001b[0m\u001b[0;34m(\u001b[0m\u001b[0;34m\"some other data\"\u001b[0m\u001b[0;34m)\u001b[0m\u001b[0;34m\u001b[0m\u001b[0m\n\u001b[0m",
      "\u001b[0;31mValueError\u001b[0m: I/O operation on closed file."
     ]
    }
   ],
   "source": [
    "f.write(\"some other data\")"
   ]
  },
  {
   "cell_type": "code",
   "execution_count": 11,
   "metadata": {},
   "outputs": [
    {
     "name": "stdout",
     "output_type": "stream",
     "text": [
      "name,cell,email\n",
      "cust1,9676622023,sambapython@gmail.com\n",
      "cust2,9676622024,sambaodoo@gmail.com\n",
      "\n"
     ]
    }
   ],
   "source": [
    "f=open(path,\"r\")\n",
    "data=f.read()\n",
    "print(data)"
   ]
  },
  {
   "cell_type": "code",
   "execution_count": 12,
   "metadata": {},
   "outputs": [],
   "source": [
    "# form 30 GB file. and read it for operation"
   ]
  },
  {
   "cell_type": "code",
   "execution_count": 14,
   "metadata": {
    "scrolled": true
   },
   "outputs": [
    {
     "data": {
      "text/plain": [
       "314572.8"
      ]
     },
     "execution_count": 14,
     "metadata": {},
     "output_type": "execute_result"
    }
   ],
   "source": [
    "(30*1024*1024)/100"
   ]
  },
  {
   "cell_type": "code",
   "execution_count": 17,
   "metadata": {},
   "outputs": [],
   "source": [
    "data = open(\"fun_mem.jpg\",\"rb\").read()\n",
    "f=open(\"bigfile.jpg\",\"wb\")\n",
    "for i in range(10):\n",
    "    f.write(data)\n",
    "    f.flush()\n",
    "f.close()"
   ]
  },
  {
   "cell_type": "code",
   "execution_count": 1,
   "metadata": {},
   "outputs": [
    {
     "data": {
      "text/plain": [
       "'/home/khyaathipython/batch59'"
      ]
     },
     "execution_count": 1,
     "metadata": {},
     "output_type": "execute_result"
    }
   ],
   "source": [
    "pwd"
   ]
  },
  {
   "cell_type": "code",
   "execution_count": 2,
   "metadata": {},
   "outputs": [
    {
     "data": {
      "text/plain": [
       "'data/customer.csv'"
      ]
     },
     "execution_count": 2,
     "metadata": {},
     "output_type": "execute_result"
    }
   ],
   "source": [
    "path = \"data/customer.csv\"\n",
    "import os\n",
    "os.path.join(\"data\",\"customer.csv\")"
   ]
  },
  {
   "cell_type": "code",
   "execution_count": 4,
   "metadata": {},
   "outputs": [],
   "source": [
    "path = os.path.join(\"data\",\"customer1.csv\")\n",
    "fruits = [\"apple\",\"orange\",\"banana\",\"grapes\",\"mango\",\"guwa\"]\n",
    "f=open(path,\"w\")\n",
    "f.write(\"sdfsdfs\")\n",
    "f.close()"
   ]
  },
  {
   "cell_type": "code",
   "execution_count": 5,
   "metadata": {},
   "outputs": [],
   "source": [
    "path = os.path.join(\"data\",\"customer1.csv\")\n",
    "fruits = [\"apple\",\"orange\",\"banana\",\"grapes\",\"mango\",\"guwa\"]\n",
    "f=open(path,\"w\")"
   ]
  },
  {
   "cell_type": "code",
   "execution_count": 6,
   "metadata": {},
   "outputs": [],
   "source": [
    "f.write(\"sdfsdf\")\n",
    "f.close()"
   ]
  },
  {
   "cell_type": "code",
   "execution_count": 7,
   "metadata": {},
   "outputs": [],
   "source": [
    "path = os.path.join(\"data\",\"customer.csv\")\n",
    "fruits = [\"apple\",\"orange\",\"banana\",\"grapes\",\"mango\",\"guwa\"]\n",
    "f=open(path,\"w\")\n",
    "f.write(\"name,mobile,email\")\n",
    "f.close()"
   ]
  },
  {
   "cell_type": "code",
   "execution_count": 8,
   "metadata": {},
   "outputs": [
    {
     "data": {
      "text/plain": [
       "37"
      ]
     },
     "execution_count": 8,
     "metadata": {},
     "output_type": "execute_result"
    }
   ],
   "source": [
    "path = os.path.join(\"data\",\"customer.csv\")\n",
    "f=open(path,\"a\")\n",
    "f.write(\"\\njay,9676622023,sambapython@gmail.com\")"
   ]
  },
  {
   "cell_type": "code",
   "execution_count": 9,
   "metadata": {},
   "outputs": [],
   "source": [
    "f.flush()"
   ]
  },
  {
   "cell_type": "code",
   "execution_count": 10,
   "metadata": {},
   "outputs": [
    {
     "data": {
      "text/plain": [
       "35"
      ]
     },
     "execution_count": 10,
     "metadata": {},
     "output_type": "execute_result"
    }
   ],
   "source": [
    "f.write(\"\\nsai,9676622024,sambaodoo@gmail.com\")"
   ]
  },
  {
   "cell_type": "code",
   "execution_count": 11,
   "metadata": {},
   "outputs": [],
   "source": [
    "f.close()"
   ]
  },
  {
   "cell_type": "code",
   "execution_count": 12,
   "metadata": {},
   "outputs": [
    {
     "ename": "TypeError",
     "evalue": "write() argument must be str, not list",
     "output_type": "error",
     "traceback": [
      "\u001b[0;31m---------------------------------------------------------------------------\u001b[0m",
      "\u001b[0;31mTypeError\u001b[0m                                 Traceback (most recent call last)",
      "\u001b[0;32m<ipython-input-12-84b8d78a4368>\u001b[0m in \u001b[0;36m<module>\u001b[0;34m()\u001b[0m\n\u001b[1;32m      2\u001b[0m \u001b[0mpath\u001b[0m \u001b[0;34m=\u001b[0m \u001b[0mos\u001b[0m\u001b[0;34m.\u001b[0m\u001b[0mpath\u001b[0m\u001b[0;34m.\u001b[0m\u001b[0mjoin\u001b[0m\u001b[0;34m(\u001b[0m\u001b[0;34m\"data\"\u001b[0m\u001b[0;34m,\u001b[0m\u001b[0;34m\"customer.csv\"\u001b[0m\u001b[0;34m)\u001b[0m\u001b[0;34m\u001b[0m\u001b[0m\n\u001b[1;32m      3\u001b[0m \u001b[0mf\u001b[0m\u001b[0;34m=\u001b[0m\u001b[0mopen\u001b[0m\u001b[0;34m(\u001b[0m\u001b[0mpath\u001b[0m\u001b[0;34m,\u001b[0m\u001b[0;34m\"a\"\u001b[0m\u001b[0;34m)\u001b[0m\u001b[0;34m\u001b[0m\u001b[0m\n\u001b[0;32m----> 4\u001b[0;31m \u001b[0mf\u001b[0m\u001b[0;34m.\u001b[0m\u001b[0mwrite\u001b[0m\u001b[0;34m(\u001b[0m\u001b[0mcustomers\u001b[0m\u001b[0;34m)\u001b[0m\u001b[0;34m\u001b[0m\u001b[0m\n\u001b[0m\u001b[1;32m      5\u001b[0m \u001b[0mf\u001b[0m\u001b[0;34m.\u001b[0m\u001b[0mclose\u001b[0m\u001b[0;34m(\u001b[0m\u001b[0;34m)\u001b[0m\u001b[0;34m\u001b[0m\u001b[0m\n",
      "\u001b[0;31mTypeError\u001b[0m: write() argument must be str, not list"
     ]
    }
   ],
   "source": [
    "customers = [\"\\nveadah,9676622025,vedha@yahoo.co.in\",\"\\ndhana,9676622026,dhana@gmail.com\"]\n",
    "path = os.path.join(\"data\",\"customer.csv\")\n",
    "f=open(path,\"a\")\n",
    "f.write(customers)\n",
    "f.close()"
   ]
  },
  {
   "cell_type": "code",
   "execution_count": 13,
   "metadata": {},
   "outputs": [],
   "source": [
    "customers = [\"\\nveadah,9676622025,vedha@yahoo.co.in\",\"\\ndhana,9676622026,dhana@gmail.com\"]\n",
    "path = os.path.join(\"data\",\"customer.csv\")\n",
    "f=open(path,\"a\")\n",
    "f.writelines(customers)\n",
    "f.close()"
   ]
  },
  {
   "cell_type": "code",
   "execution_count": 14,
   "metadata": {},
   "outputs": [
    {
     "name": "stdout",
     "output_type": "stream",
     "text": [
      "name,mobile,email\n",
      "jay,9676622023,sambapython@gmail.com\n",
      "sai,9676622024,sambaodoo@gmail.com\n",
      "veadah,9676622025,vedha@yahoo.co.in\n",
      "dhana,9676622026,dhana@gmail.com <class 'str'>\n"
     ]
    }
   ],
   "source": [
    "path = os.path.join(\"data\",\"customer.csv\")\n",
    "f=open(path)\n",
    "data = f.read()\n",
    "print(data, type(data))"
   ]
  },
  {
   "cell_type": "code",
   "execution_count": 15,
   "metadata": {},
   "outputs": [
    {
     "name": "stdout",
     "output_type": "stream",
     "text": [
      "name,mobile,email\n",
      "jay,9676622023,sambapython@gmail.com\n",
      "sai,9676622024,sambaodoo@gmail.com\n",
      "veadah,9676622025,vedha@yahoo.co.in\n",
      "dhana,9676622026,dhana@gmail.com\n"
     ]
    }
   ],
   "source": [
    "path = os.path.join(\"data\",\"customer.csv\")\n",
    "f=open(path)\n",
    "data = f.read()\n",
    "for row in data.splitlines():\n",
    "    print(row)"
   ]
  },
  {
   "cell_type": "code",
   "execution_count": 16,
   "metadata": {},
   "outputs": [
    {
     "name": "stdout",
     "output_type": "stream",
     "text": [
      "['name', 'mobile', 'email']\n",
      "['jay', '9676622023', 'sambapython@gmail.com']\n",
      "['sai', '9676622024', 'sambaodoo@gmail.com']\n",
      "['veadah', '9676622025', 'vedha@yahoo.co.in']\n",
      "['dhana', '9676622026', 'dhana@gmail.com']\n"
     ]
    }
   ],
   "source": [
    "path = os.path.join(\"data\",\"customer.csv\")\n",
    "f=open(path)\n",
    "data = f.read()\n",
    "for row in data.splitlines():\n",
    "    print(row.split(','))"
   ]
  },
  {
   "cell_type": "code",
   "execution_count": 17,
   "metadata": {},
   "outputs": [
    {
     "name": "stdout",
     "output_type": "stream",
     "text": [
      "mobile\n",
      "9676622023\n",
      "9676622024\n",
      "9676622025\n",
      "9676622026\n"
     ]
    }
   ],
   "source": [
    "path = os.path.join(\"data\",\"customer.csv\")\n",
    "f=open(path)\n",
    "data = f.read()\n",
    "for row in data.splitlines():\n",
    "    print(row.split(',')[1])"
   ]
  },
  {
   "cell_type": "code",
   "execution_count": 18,
   "metadata": {},
   "outputs": [
    {
     "data": {
      "text/plain": [
       "'name,mobile,email\\n'"
      ]
     },
     "execution_count": 18,
     "metadata": {},
     "output_type": "execute_result"
    }
   ],
   "source": [
    "path = os.path.join(\"data\",\"customer.csv\")\n",
    "f=open(path)\n",
    "f.readline()"
   ]
  },
  {
   "cell_type": "code",
   "execution_count": 19,
   "metadata": {},
   "outputs": [
    {
     "data": {
      "text/plain": [
       "'jay,9676622023,sambapython@gmail.com\\n'"
      ]
     },
     "execution_count": 19,
     "metadata": {},
     "output_type": "execute_result"
    }
   ],
   "source": [
    "f.readline()"
   ]
  },
  {
   "cell_type": "code",
   "execution_count": 20,
   "metadata": {},
   "outputs": [
    {
     "data": {
      "text/plain": [
       "'sai,9676622024,sambaodoo@gmail.com\\n'"
      ]
     },
     "execution_count": 20,
     "metadata": {},
     "output_type": "execute_result"
    }
   ],
   "source": [
    "f.readline()"
   ]
  },
  {
   "cell_type": "code",
   "execution_count": 21,
   "metadata": {},
   "outputs": [
    {
     "data": {
      "text/plain": [
       "'veadah,9676622025,vedha@yahoo.co.in\\n'"
      ]
     },
     "execution_count": 21,
     "metadata": {},
     "output_type": "execute_result"
    }
   ],
   "source": [
    "f.readline()"
   ]
  },
  {
   "cell_type": "code",
   "execution_count": 22,
   "metadata": {},
   "outputs": [
    {
     "data": {
      "text/plain": [
       "'dhana,9676622026,dhana@gmail.com'"
      ]
     },
     "execution_count": 22,
     "metadata": {},
     "output_type": "execute_result"
    }
   ],
   "source": [
    "f.readline()"
   ]
  },
  {
   "cell_type": "code",
   "execution_count": 23,
   "metadata": {},
   "outputs": [
    {
     "data": {
      "text/plain": [
       "''"
      ]
     },
     "execution_count": 23,
     "metadata": {},
     "output_type": "execute_result"
    }
   ],
   "source": [
    "f.readline()"
   ]
  },
  {
   "cell_type": "code",
   "execution_count": 26,
   "metadata": {},
   "outputs": [
    {
     "name": "stdout",
     "output_type": "stream",
     "text": [
      "name,mobile,email\n",
      "\n",
      "jay,9676622023,sambapython@gmail.com\n",
      "\n",
      "sai,9676622024,sambaodoo@gmail.com\n",
      "\n",
      "veadah,9676622025,vedha@yahoo.co.in\n",
      "\n",
      "dhana,9676622026,dhana@gmail.com\n"
     ]
    }
   ],
   "source": [
    "path = os.path.join(\"data\",\"customer.csv\")\n",
    "f=open(path)\n",
    "row = f.readline()\n",
    "while row:\n",
    "    print(row)\n",
    "    row=f.readline()"
   ]
  },
  {
   "cell_type": "code",
   "execution_count": 28,
   "metadata": {},
   "outputs": [
    {
     "name": "stdout",
     "output_type": "stream",
     "text": [
      "name,mobile,email\n",
      "\n",
      "jay,9676622023,sambapython@gmail.com\n",
      "\n",
      "sai,9676622024,sambaodoo@gmail.com\n",
      "\n",
      "veadah,9676622025,vedha@yahoo.co.in\n",
      "\n",
      "dhana,9676622026,dhana@gmail.com\n"
     ]
    }
   ],
   "source": [
    "path = os.path.join(\"data\",\"customer.csv\")\n",
    "f=open(path)\n",
    "for row  in f:\n",
    "    print(row)"
   ]
  },
  {
   "cell_type": "code",
   "execution_count": 29,
   "metadata": {},
   "outputs": [
    {
     "name": "stdout",
     "output_type": "stream",
     "text": [
      "name,mobil\n"
     ]
    }
   ],
   "source": [
    "path = os.path.join(\"data\",\"customer.csv\")\n",
    "f=open(path)\n",
    "data = f.read(10)\n",
    "print(data)"
   ]
  },
  {
   "cell_type": "code",
   "execution_count": 31,
   "metadata": {},
   "outputs": [
    {
     "name": "stdout",
     "output_type": "stream",
     "text": [
      "y,96766220\n"
     ]
    }
   ],
   "source": [
    "data=f.read(10)\n",
    "print(data)"
   ]
  },
  {
   "cell_type": "code",
   "execution_count": 32,
   "metadata": {},
   "outputs": [
    {
     "name": "stdout",
     "output_type": "stream",
     "text": [
      "23,sambapy\n"
     ]
    }
   ],
   "source": [
    "data=f.read(10)\n",
    "print(data)"
   ]
  },
  {
   "cell_type": "code",
   "execution_count": 33,
   "metadata": {},
   "outputs": [
    {
     "name": "stdout",
     "output_type": "stream",
     "text": [
      "thon@gmail\n"
     ]
    }
   ],
   "source": [
    "data=f.read(10)\n",
    "print(data)"
   ]
  },
  {
   "cell_type": "code",
   "execution_count": 34,
   "metadata": {},
   "outputs": [
    {
     "name": "stdout",
     "output_type": "stream",
     "text": [
      ".com\n",
      "sai,9\n"
     ]
    }
   ],
   "source": [
    "data=f.read(10)\n",
    "print(data)"
   ]
  },
  {
   "cell_type": "code",
   "execution_count": 35,
   "metadata": {},
   "outputs": [
    {
     "name": "stdout",
     "output_type": "stream",
     "text": [
      "676622024,\n"
     ]
    }
   ],
   "source": [
    "data=f.read(10)\n",
    "print(data)"
   ]
  },
  {
   "cell_type": "code",
   "execution_count": 36,
   "metadata": {},
   "outputs": [
    {
     "name": "stdout",
     "output_type": "stream",
     "text": [
      "name,mobile,email\n",
      "jay,9676622023,sambapython@gmail.com\n",
      "sai,9676622024,sambaodoo@gmail.com\n",
      "veadah,967\n"
     ]
    }
   ],
   "source": [
    "path = os.path.join(\"data\",\"customer.csv\")\n",
    "f=open(path)\n",
    "data = f.read(100)\n",
    "print(data)"
   ]
  },
  {
   "cell_type": "code",
   "execution_count": 37,
   "metadata": {},
   "outputs": [
    {
     "name": "stdout",
     "output_type": "stream",
     "text": [
      "6622025,vedha@yahoo.co.in\n",
      "dhana,9676622026,dhana@gmail.com\n"
     ]
    }
   ],
   "source": [
    "data = f.read(100)\n",
    "print(data)"
   ]
  },
  {
   "cell_type": "code",
   "execution_count": 38,
   "metadata": {},
   "outputs": [
    {
     "name": "stdout",
     "output_type": "stream",
     "text": [
      "\n"
     ]
    }
   ],
   "source": [
    "data = f.read(100)\n",
    "print(data)"
   ]
  },
  {
   "cell_type": "code",
   "execution_count": 39,
   "metadata": {},
   "outputs": [
    {
     "name": "stdout",
     "output_type": "stream",
     "text": [
      "name,mobile,email\n",
      "jay,9676622023,sambapython@gmail.com\n",
      "sai,9676622024,sambaodoo@gmail.com\n",
      "veadah,967\n",
      "6622025,vedha@yahoo.co.in\n",
      "dhana,9676622026,dhana@gmail.com\n",
      "thanks\n"
     ]
    }
   ],
   "source": [
    "path = os.path.join(\"data\",\"customer.csv\")\n",
    "f=open(path)\n",
    "data = f.read(100)\n",
    "while data:\n",
    "    print(data)\n",
    "    data = f.read(100)\n",
    "print('thanks')"
   ]
  },
  {
   "cell_type": "code",
   "execution_count": 40,
   "metadata": {},
   "outputs": [
    {
     "name": "stdout",
     "output_type": "stream",
     "text": [
      "['name,mobile,email\\n', 'jay,9676622023,sambapython@gmail.com\\n', 'sai,9676622024,sambaodoo@gmail.com\\n', 'veadah,9676622025,vedha@yahoo.co.in\\n', 'dhana,9676622026,dhana@gmail.com'] <class 'list'>\n"
     ]
    }
   ],
   "source": [
    "path = os.path.join(\"data\",\"customer.csv\")\n",
    "f=open(path)\n",
    "data = f.readlines()\n",
    "print(data, type(data))"
   ]
  },
  {
   "cell_type": "code",
   "execution_count": 41,
   "metadata": {},
   "outputs": [
    {
     "ename": "TypeError",
     "evalue": "write() argument must be str, not list",
     "output_type": "error",
     "traceback": [
      "\u001b[0;31m---------------------------------------------------------------------------\u001b[0m",
      "\u001b[0;31mTypeError\u001b[0m                                 Traceback (most recent call last)",
      "\u001b[0;32m<ipython-input-41-2d1c2978a1cb>\u001b[0m in \u001b[0;36m<module>\u001b[0;34m()\u001b[0m\n\u001b[1;32m      4\u001b[0m \u001b[0mpath\u001b[0m \u001b[0;34m=\u001b[0m \u001b[0mos\u001b[0m\u001b[0;34m.\u001b[0m\u001b[0mpath\u001b[0m\u001b[0;34m.\u001b[0m\u001b[0mjoin\u001b[0m\u001b[0;34m(\u001b[0m\u001b[0;34m\"data\"\u001b[0m\u001b[0;34m,\u001b[0m\u001b[0;34m\"customer.csv\"\u001b[0m\u001b[0;34m)\u001b[0m\u001b[0;34m\u001b[0m\u001b[0m\n\u001b[1;32m      5\u001b[0m \u001b[0mf\u001b[0m\u001b[0;34m=\u001b[0m\u001b[0mopen\u001b[0m\u001b[0;34m(\u001b[0m\u001b[0mpath\u001b[0m\u001b[0;34m,\u001b[0m\u001b[0;34m\"w\"\u001b[0m\u001b[0;34m)\u001b[0m\u001b[0;34m\u001b[0m\u001b[0m\n\u001b[0;32m----> 6\u001b[0;31m \u001b[0mf\u001b[0m\u001b[0;34m.\u001b[0m\u001b[0mwrite\u001b[0m\u001b[0;34m(\u001b[0m\u001b[0mcustomers\u001b[0m\u001b[0;34m)\u001b[0m\u001b[0;34m\u001b[0m\u001b[0m\n\u001b[0m\u001b[1;32m      7\u001b[0m \u001b[0mf\u001b[0m\u001b[0;34m.\u001b[0m\u001b[0mclose\u001b[0m\u001b[0;34m(\u001b[0m\u001b[0;34m)\u001b[0m\u001b[0;34m\u001b[0m\u001b[0m\n",
      "\u001b[0;31mTypeError\u001b[0m: write() argument must be str, not list"
     ]
    }
   ],
   "source": [
    "customers = [{\"name\":\"sai\",\"mobile\":\"9676622023\",\"email\":\"sambapython@gmail.com\"},\n",
    "            {\"name\":\"jsy\",\"mobile\":\"9676622024\",\"email\":\"sambaodoo@gmail.com\"},\n",
    "            ]\n",
    "path = os.path.join(\"data\",\"customer.csv\")\n",
    "f=open(path,\"w\")\n",
    "f.write(customers)\n",
    "f.close()"
   ]
  },
  {
   "cell_type": "code",
   "execution_count": 42,
   "metadata": {},
   "outputs": [
    {
     "ename": "TypeError",
     "evalue": "write() argument must be str, not dict",
     "output_type": "error",
     "traceback": [
      "\u001b[0;31m---------------------------------------------------------------------------\u001b[0m",
      "\u001b[0;31mTypeError\u001b[0m                                 Traceback (most recent call last)",
      "\u001b[0;32m<ipython-input-42-8d6b65d31900>\u001b[0m in \u001b[0;36m<module>\u001b[0;34m()\u001b[0m\n\u001b[1;32m      4\u001b[0m \u001b[0mpath\u001b[0m \u001b[0;34m=\u001b[0m \u001b[0mos\u001b[0m\u001b[0;34m.\u001b[0m\u001b[0mpath\u001b[0m\u001b[0;34m.\u001b[0m\u001b[0mjoin\u001b[0m\u001b[0;34m(\u001b[0m\u001b[0;34m\"data\"\u001b[0m\u001b[0;34m,\u001b[0m\u001b[0;34m\"customer.csv\"\u001b[0m\u001b[0;34m)\u001b[0m\u001b[0;34m\u001b[0m\u001b[0m\n\u001b[1;32m      5\u001b[0m \u001b[0mf\u001b[0m\u001b[0;34m=\u001b[0m\u001b[0mopen\u001b[0m\u001b[0;34m(\u001b[0m\u001b[0mpath\u001b[0m\u001b[0;34m,\u001b[0m\u001b[0;34m\"w\"\u001b[0m\u001b[0;34m)\u001b[0m\u001b[0;34m\u001b[0m\u001b[0m\n\u001b[0;32m----> 6\u001b[0;31m \u001b[0mf\u001b[0m\u001b[0;34m.\u001b[0m\u001b[0mwritelines\u001b[0m\u001b[0;34m(\u001b[0m\u001b[0mcustomers\u001b[0m\u001b[0;34m)\u001b[0m\u001b[0;34m\u001b[0m\u001b[0m\n\u001b[0m\u001b[1;32m      7\u001b[0m \u001b[0mf\u001b[0m\u001b[0;34m.\u001b[0m\u001b[0mclose\u001b[0m\u001b[0;34m(\u001b[0m\u001b[0;34m)\u001b[0m\u001b[0;34m\u001b[0m\u001b[0m\n",
      "\u001b[0;31mTypeError\u001b[0m: write() argument must be str, not dict"
     ]
    }
   ],
   "source": [
    "customers = [{\"name\":\"sai\",\"mobile\":\"9676622023\",\"email\":\"sambapython@gmail.com\"},\n",
    "            {\"name\":\"jsy\",\"mobile\":\"9676622024\",\"email\":\"sambaodoo@gmail.com\"},\n",
    "            ]\n",
    "path = os.path.join(\"data\",\"customer.csv\")\n",
    "f=open(path,\"w\")\n",
    "f.writelines(customers)\n",
    "f.close()"
   ]
  },
  {
   "cell_type": "code",
   "execution_count": 43,
   "metadata": {},
   "outputs": [],
   "source": [
    "customers = [{\"name\":\"sai\",\"mobile\":\"9676622023\",\"email\":\"sambapython@gmail.com\"},\n",
    "            {\"name\":\"jsy\",\"mobile\":\"9676622024\",\"email\":\"sambaodoo@gmail.com\"},\n",
    "            ]\n",
    "path = os.path.join(\"data\",\"customer.csv\")\n",
    "f=open(path,\"w\")\n",
    "f.write(str(customers))\n",
    "f.close()"
   ]
  },
  {
   "cell_type": "code",
   "execution_count": 44,
   "metadata": {},
   "outputs": [
    {
     "name": "stdout",
     "output_type": "stream",
     "text": [
      "[{'name': 'sai', 'mobile': '9676622023', 'email': 'sambapython@gmail.com'}, {'name': 'jsy', 'mobile': '9676622024', 'email': 'sambaodoo@gmail.com'}] <class 'str'>\n"
     ]
    }
   ],
   "source": [
    "path = os.path.join(\"data\",\"customer.csv\")\n",
    "f=open(path)\n",
    "data = f.read()\n",
    "print(data, type(data))"
   ]
  },
  {
   "cell_type": "code",
   "execution_count": 45,
   "metadata": {},
   "outputs": [],
   "source": [
    "import pickle\n",
    "customers = [{\"name\":\"sai\",\"mobile\":\"9676622023\",\"email\":\"sambapython@gmail.com\"},\n",
    "            {\"name\":\"jsy\",\"mobile\":\"9676622024\",\"email\":\"sambaodoo@gmail.com\"},\n",
    "            ]\n",
    "path = os.path.join(\"data\",\"customer.csv\")\n",
    "f=open(path,\"wb\")\n",
    "pickle.dump(customers,f)\n",
    "f.close()"
   ]
  },
  {
   "cell_type": "code",
   "execution_count": 46,
   "metadata": {},
   "outputs": [
    {
     "name": "stdout",
     "output_type": "stream",
     "text": [
      "b'\\x80\\x03]q\\x00(}q\\x01(X\\x04\\x00\\x00\\x00nameq\\x02X\\x03\\x00\\x00\\x00saiq\\x03X\\x06\\x00\\x00\\x00mobileq\\x04X\\n\\x00\\x00\\x009676622023q\\x05X\\x05\\x00\\x00\\x00emailq\\x06X\\x15\\x00\\x00\\x00sambapython@gmail.comq\\x07u}q\\x08(h\\x02X\\x03\\x00\\x00\\x00jsyq\\th\\x04X\\n\\x00\\x00\\x009676622024q\\nh\\x06X\\x13\\x00\\x00\\x00sambaodoo@gmail.comq\\x0bue.' <class 'bytes'>\n"
     ]
    }
   ],
   "source": [
    "path = os.path.join(\"data\",\"customer.csv\")\n",
    "f=open(path,\"rb\")\n",
    "data = f.read()\n",
    "print(data, type(data))"
   ]
  },
  {
   "cell_type": "code",
   "execution_count": 47,
   "metadata": {},
   "outputs": [
    {
     "name": "stdout",
     "output_type": "stream",
     "text": [
      "[{'name': 'sai', 'mobile': '9676622023', 'email': 'sambapython@gmail.com'}, {'name': 'jsy', 'mobile': '9676622024', 'email': 'sambaodoo@gmail.com'}] <class 'list'>\n"
     ]
    }
   ],
   "source": [
    "path = os.path.join(\"data\",\"customer.csv\")\n",
    "f=open(path,\"rb\")\n",
    "data = pickle.load(f)\n",
    "print(data, type(data))"
   ]
  },
  {
   "cell_type": "code",
   "execution_count": 49,
   "metadata": {},
   "outputs": [],
   "source": [
    "import json\n",
    "customers = [{\"name\":\"sai\",\"mobile\":\"9676622023\",\"email\":\"sambapython@gmail.com\"},\n",
    "            {\"name\":\"jsy\",\"mobile\":\"9676622024\",\"email\":\"sambaodoo@gmail.com\"},\n",
    "            ]\n",
    "path = os.path.join(\"data\",\"customer.json\")\n",
    "f=open(path,\"w\")\n",
    "json.dump(customers,f)\n",
    "f.close()"
   ]
  },
  {
   "cell_type": "code",
   "execution_count": 50,
   "metadata": {},
   "outputs": [
    {
     "name": "stdout",
     "output_type": "stream",
     "text": [
      "[{'name': 'sai', 'mobile': '9676622023', 'email': 'sambapython@gmail.com'}, {'name': 'jsy', 'mobile': '9676622024', 'email': 'sambaodoo@gmail.com'}] <class 'list'>\n"
     ]
    }
   ],
   "source": [
    "path = os.path.join(\"data\",\"customer.json\")\n",
    "f=open(path,\"r\")\n",
    "data = json.load(f)\n",
    "print(data, type(data))"
   ]
  },
  {
   "cell_type": "code",
   "execution_count": 51,
   "metadata": {},
   "outputs": [],
   "source": [
    "import yaml\n",
    "customers = [{\"name\":\"sai\",\"mobile\":\"9676622023\",\"email\":\"sambapython@gmail.com\"},\n",
    "            {\"name\":\"jsy\",\"mobile\":\"9676622024\",\"email\":\"sambaodoo@gmail.com\"},\n",
    "            ]\n",
    "path = os.path.join(\"data\",\"customer.yml\")\n",
    "f=open(path,\"w\")\n",
    "yaml.dump(customers,f)\n",
    "f.close()"
   ]
  },
  {
   "cell_type": "code",
   "execution_count": 54,
   "metadata": {},
   "outputs": [
    {
     "name": "stdout",
     "output_type": "stream",
     "text": [
      "[{'email': 'sambapython@gmail.com', 'mobile': '9676622023', 'name': 'sai'}, {'email': 'sambaodoo@gmail.com', 'mobile': '9676622024', 'name': 'jsy'}] <class 'list'>\n"
     ]
    }
   ],
   "source": [
    "path = os.path.join(\"data\",\"customer.yml\")\n",
    "f=open(path,\"r\")\n",
    "data = yaml.load(f)\n",
    "print(data, type(data))"
   ]
  },
  {
   "cell_type": "code",
   "execution_count": null,
   "metadata": {},
   "outputs": [],
   "source": [
    "# opencv\n",
    "# numpy module"
   ]
  }
 ],
 "metadata": {
  "kernelspec": {
   "display_name": "Python 3",
   "language": "python",
   "name": "python3"
  },
  "language_info": {
   "codemirror_mode": {
    "name": "ipython",
    "version": 3
   },
   "file_extension": ".py",
   "mimetype": "text/x-python",
   "name": "python",
   "nbconvert_exporter": "python",
   "pygments_lexer": "ipython3",
   "version": "3.7.0"
  }
 },
 "nbformat": 4,
 "nbformat_minor": 2
}
