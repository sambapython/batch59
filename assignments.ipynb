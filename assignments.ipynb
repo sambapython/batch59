{
 "cells": [
  {
   "cell_type": "code",
   "execution_count": 1,
   "metadata": {},
   "outputs": [
    {
     "name": "stdout",
     "output_type": "stream",
     "text": [
      "hello\n"
     ]
    }
   ],
   "source": [
    "#take temperature from the user and convert foreign heat -> Celsius.\n",
    "print(\"hello\")"
   ]
  },
  {
   "cell_type": "code",
   "execution_count": 1,
   "metadata": {},
   "outputs": [
    {
     "data": {
      "text/plain": [
       "97"
      ]
     },
     "execution_count": 1,
     "metadata": {},
     "output_type": "execute_result"
    }
   ],
   "source": [
    "ord(\"a\")"
   ]
  },
  {
   "cell_type": "code",
   "execution_count": 2,
   "metadata": {},
   "outputs": [
    {
     "data": {
      "text/plain": [
       "65"
      ]
     },
     "execution_count": 2,
     "metadata": {},
     "output_type": "execute_result"
    }
   ],
   "source": [
    "ord(\"A\")"
   ]
  },
  {
   "cell_type": "code",
   "execution_count": 3,
   "metadata": {},
   "outputs": [
    {
     "data": {
      "text/plain": [
       "32"
      ]
     },
     "execution_count": 3,
     "metadata": {},
     "output_type": "execute_result"
    }
   ],
   "source": [
    "97-65"
   ]
  },
  {
   "cell_type": "code",
   "execution_count": 4,
   "metadata": {},
   "outputs": [
    {
     "data": {
      "text/plain": [
       "65"
      ]
     },
     "execution_count": 4,
     "metadata": {},
     "output_type": "execute_result"
    }
   ],
   "source": [
    "ord(\"a\")-32"
   ]
  },
  {
   "cell_type": "code",
   "execution_count": 5,
   "metadata": {},
   "outputs": [
    {
     "data": {
      "text/plain": [
       "'A'"
      ]
     },
     "execution_count": 5,
     "metadata": {},
     "output_type": "execute_result"
    }
   ],
   "source": [
    "chr(65)"
   ]
  },
  {
   "cell_type": "code",
   "execution_count": 6,
   "metadata": {},
   "outputs": [
    {
     "data": {
      "text/plain": [
       "'A'"
      ]
     },
     "execution_count": 6,
     "metadata": {},
     "output_type": "execute_result"
    }
   ],
   "source": [
    "chr(ord(\"a\")-32)"
   ]
  },
  {
   "cell_type": "code",
   "execution_count": 7,
   "metadata": {},
   "outputs": [
    {
     "name": "stdout",
     "output_type": "stream",
     "text": [
      "Enter only small letter:r\n"
     ]
    },
    {
     "data": {
      "text/plain": [
       "'R'"
      ]
     },
     "execution_count": 7,
     "metadata": {},
     "output_type": "execute_result"
    }
   ],
   "source": [
    "chr(ord(input(\"Enter only small letter:\"))-32)"
   ]
  },
  {
   "cell_type": "code",
   "execution_count": 8,
   "metadata": {},
   "outputs": [
    {
     "name": "stdout",
     "output_type": "stream",
     "text": [
      "Enter only small letter:t\n"
     ]
    },
    {
     "data": {
      "text/plain": [
       "'T'"
      ]
     },
     "execution_count": 8,
     "metadata": {},
     "output_type": "execute_result"
    }
   ],
   "source": [
    "chr(ord(input(\"Enter only small letter:\"))-32)"
   ]
  },
  {
   "cell_type": "code",
   "execution_count": 9,
   "metadata": {},
   "outputs": [
    {
     "name": "stdout",
     "output_type": "stream",
     "text": [
      "Enter only small letter:1\n"
     ]
    },
    {
     "data": {
      "text/plain": [
       "'\\x11'"
      ]
     },
     "execution_count": 9,
     "metadata": {},
     "output_type": "execute_result"
    }
   ],
   "source": [
    "chr(ord(input(\"Enter only small letter:\"))-32)"
   ]
  },
  {
   "cell_type": "code",
   "execution_count": 10,
   "metadata": {},
   "outputs": [
    {
     "name": "stdout",
     "output_type": "stream",
     "text": [
      "2³\n"
     ]
    }
   ],
   "source": [
    "print(\"2\\u00b3\")"
   ]
  },
  {
   "cell_type": "code",
   "execution_count": 12,
   "metadata": {},
   "outputs": [
    {
     "name": "stdout",
     "output_type": "stream",
     "text": [
      "enter a value:12\n",
      "enter a value:34\n",
      "enter a value:5\n",
      "34.0\n",
      "5.0\n",
      "17.0\n"
     ]
    }
   ],
   "source": [
    "a,b,c=float(input(\"enter a value:\")),float(input(\"enter a value:\")),float(input(\"enter a value:\"))\n",
    "list_numbers = [a,b,c]\n",
    "print(max(list_numbers))\n",
    "print(min(list_numbers))\n",
    "print(sum(list_numbers)/len(list_numbers))"
   ]
  },
  {
   "cell_type": "code",
   "execution_count": 13,
   "metadata": {},
   "outputs": [
    {
     "name": "stdout",
     "output_type": "stream",
     "text": [
      "enter numberof people:120\n",
      "Enter number of seats in a bus:60\n",
      "2.0\n"
     ]
    }
   ],
   "source": [
    "people_count = float(input(\"enter numberof people:\"))\n",
    "seats_count = float(input(\"Enter number of seats in a bus:\"))\n",
    "print(people_count/seats_count)"
   ]
  },
  {
   "cell_type": "code",
   "execution_count": 14,
   "metadata": {},
   "outputs": [
    {
     "name": "stdout",
     "output_type": "stream",
     "text": [
      "enter numberof people:150\n",
      "Enter number of seats in a bus:60\n",
      "2.5\n"
     ]
    }
   ],
   "source": [
    "people_count = float(input(\"enter numberof people:\"))\n",
    "seats_count = float(input(\"Enter number of seats in a bus:\"))\n",
    "print(people_count/seats_count)"
   ]
  },
  {
   "cell_type": "code",
   "execution_count": 15,
   "metadata": {},
   "outputs": [],
   "source": [
    "import math"
   ]
  },
  {
   "cell_type": "code",
   "execution_count": 16,
   "metadata": {},
   "outputs": [
    {
     "data": {
      "text/plain": [
       "3"
      ]
     },
     "execution_count": 16,
     "metadata": {},
     "output_type": "execute_result"
    }
   ],
   "source": [
    "math.ceil(2.4)"
   ]
  },
  {
   "cell_type": "code",
   "execution_count": 18,
   "metadata": {},
   "outputs": [
    {
     "data": {
      "text/plain": [
       "2"
      ]
     },
     "execution_count": 18,
     "metadata": {},
     "output_type": "execute_result"
    }
   ],
   "source": [
    "math.ceil(2.0)"
   ]
  },
  {
   "cell_type": "code",
   "execution_count": 19,
   "metadata": {},
   "outputs": [
    {
     "name": "stdout",
     "output_type": "stream",
     "text": [
      "enter numberof people:120\n",
      "Enter number of seats in a bus:60\n",
      "2\n"
     ]
    }
   ],
   "source": [
    "people_count = float(input(\"enter numberof people:\"))\n",
    "seats_count = float(input(\"Enter number of seats in a bus:\"))\n",
    "print(math.ceil(people_count/seats_count))"
   ]
  },
  {
   "cell_type": "code",
   "execution_count": 20,
   "metadata": {},
   "outputs": [
    {
     "name": "stdout",
     "output_type": "stream",
     "text": [
      "enter numberof people:150\n",
      "Enter number of seats in a bus:60\n",
      "3\n"
     ]
    }
   ],
   "source": [
    "people_count = float(input(\"enter numberof people:\"))\n",
    "seats_count = float(input(\"Enter number of seats in a bus:\"))\n",
    "print(math.ceil(people_count/seats_count))"
   ]
  },
  {
   "cell_type": "code",
   "execution_count": 1,
   "metadata": {},
   "outputs": [
    {
     "name": "stdout",
     "output_type": "stream",
     "text": [
      "Enter sub string:python\n",
      "string found\n"
     ]
    }
   ],
   "source": [
    "# check whether gives string is there in actual string or not.\n",
    "act=\"python is pure object oriented programing language.\"\n",
    "sub = input(\"Enter sub string:\")\n",
    "if sub in act:\n",
    "    print(\"string found\")\n",
    "else:\n",
    "    print(\"string not found\")"
   ]
  },
  {
   "cell_type": "code",
   "execution_count": 2,
   "metadata": {},
   "outputs": [
    {
     "data": {
      "text/plain": [
       "False"
      ]
     },
     "execution_count": 2,
     "metadata": {},
     "output_type": "execute_result"
    }
   ],
   "source": [
    "act=\"python is pure object oriented programing language.\"\n",
    "\"java\" in act"
   ]
  },
  {
   "cell_type": "code",
   "execution_count": 3,
   "metadata": {},
   "outputs": [
    {
     "name": "stdout",
     "output_type": "stream",
     "text": [
      "Enter sub string:python\n",
      "found a string\n"
     ]
    }
   ],
   "source": [
    "# check whether gives string is there in actual string or not.\n",
    "act=\"python is pure object oriented programing language.\"\n",
    "sub = input(\"Enter sub string:\")\n",
    "if sub:\n",
    "    sub_length = len(sub)\n",
    "    i=0\n",
    "    while i<len(sub):\n",
    "        i_sub = act[i:i+sub_length]\n",
    "        if i_sub==sub:\n",
    "            print(\"found a string\")\n",
    "            break\n",
    "else:\n",
    "    print(\"invalid string\")"
   ]
  },
  {
   "cell_type": "code",
   "execution_count": 5,
   "metadata": {},
   "outputs": [
    {
     "name": "stdout",
     "output_type": "stream",
     "text": [
      "Enter sub string:java\n",
      "string not found..\n"
     ]
    }
   ],
   "source": [
    "# check whether gives string is there in actual string or not.\n",
    "act=\"python is pure object oriented programing language.\"\n",
    "sub = input(\"Enter sub string:\")\n",
    "if sub:\n",
    "    sub_length = len(sub)\n",
    "    i=0\n",
    "    while i<len(sub):\n",
    "        i_sub = act[i:i+sub_length]\n",
    "        if i_sub==sub:\n",
    "            print(\"found a string\")\n",
    "            break\n",
    "        i=i+1\n",
    "    else:\n",
    "        print(\"string not found..\")\n",
    "else:\n",
    "    print(\"invalid string\")"
   ]
  },
  {
   "cell_type": "code",
   "execution_count": 6,
   "metadata": {},
   "outputs": [],
   "source": [
    "act=\"python is pure object oriented programing language.\"\n",
    "sub=\"cpp\""
   ]
  },
  {
   "cell_type": "code",
   "execution_count": 8,
   "metadata": {},
   "outputs": [
    {
     "name": "stdout",
     "output_type": "stream",
     "text": [
      "Enter sub string:java\n",
      "string not found..\n"
     ]
    }
   ],
   "source": [
    "# check whether gives string is there in actual string or not.\n",
    "act=\"python is pure object oriented programing language.\"\n",
    "sub = input(\"Enter sub string:\")\n",
    "if sub:\n",
    "    sub_length = len(sub)\n",
    "    i=0\n",
    "    while i<len(sub):\n",
    "        if sub[0]==act[i]:\n",
    "            i_sub = act[i:i+sub_length]\n",
    "            if i_sub==sub:\n",
    "                print(\"found a string\")\n",
    "                break\n",
    "        i=i+1\n",
    "    else:\n",
    "        print(\"string not found..\")\n",
    "else:\n",
    "    print(\"invalid string\")"
   ]
  },
  {
   "cell_type": "code",
   "execution_count": 15,
   "metadata": {},
   "outputs": [
    {
     "name": "stdout",
     "output_type": "stream",
     "text": [
      "Enter sub string:pro\n",
      "found a string\n"
     ]
    }
   ],
   "source": [
    "# check whether gives string is there in actual string or not.\n",
    "act=\"python is pure object oriented programing language.\"\n",
    "sub = input(\"Enter sub string:\")\n",
    "if sub:\n",
    "    sub_length = len(sub)\n",
    "    i=0\n",
    "    while i<len(act):\n",
    "        if sub[0]==act[i]:\n",
    "            i_sub = act[i:i+sub_length]\n",
    "            if i_sub==sub:\n",
    "                print(\"found a string\")\n",
    "                break\n",
    "        i=i+1\n",
    "    else:\n",
    "        print(\"string not found..\")\n",
    "else:\n",
    "    print(\"invalid string\")"
   ]
  },
  {
   "cell_type": "code",
   "execution_count": 17,
   "metadata": {},
   "outputs": [
    {
     "name": "stdout",
     "output_type": "stream",
     "text": [
      "Enter sub string:pro\n",
      "pyt\n",
      "pur\n",
      "pro\n",
      "found a string\n"
     ]
    }
   ],
   "source": [
    "# check whether gives string is there in actual string or not.\n",
    "act=\"python is pure object oriented programing language.\"\n",
    "sub = input(\"Enter sub string:\")\n",
    "if sub:\n",
    "    sub_length = len(sub)\n",
    "    i=0\n",
    "    while i<len(act):\n",
    "        if sub[0]==act[i]:\n",
    "            i_sub = act[i:i+sub_length]\n",
    "            print(i_sub)\n",
    "            if i_sub==sub:\n",
    "                print(\"found a string\")\n",
    "                break\n",
    "        i=i+1\n",
    "    else:\n",
    "        print(\"string not found..\")\n",
    "else:\n",
    "    print(\"invalid string\")"
   ]
  },
  {
   "cell_type": "code",
   "execution_count": 18,
   "metadata": {},
   "outputs": [
    {
     "name": "stdout",
     "output_type": "stream",
     "text": [
      "Enter sub string:p\n",
      "p\n",
      "found a string\n"
     ]
    }
   ],
   "source": [
    "# check whether gives string is there in actual string or not.\n",
    "act=\"python is pure object oriented programing language.\"\n",
    "sub = input(\"Enter sub string:\")\n",
    "if sub:\n",
    "    sub_length = len(sub)\n",
    "    i=0\n",
    "    while i<len(act):\n",
    "        if sub[0]==act[i]:\n",
    "            i_sub = act[i:i+sub_length]\n",
    "            print(i_sub)\n",
    "            if i_sub==sub:\n",
    "                print(\"found a string\")\n",
    "                break\n",
    "        i=i+1\n",
    "    else:\n",
    "        print(\"string not found..\")\n",
    "else:\n",
    "    print(\"invalid string\")"
   ]
  },
  {
   "cell_type": "code",
   "execution_count": 19,
   "metadata": {},
   "outputs": [
    {
     "name": "stdout",
     "output_type": "stream",
     "text": [
      "Enter sub string:p\n",
      "p\n",
      "found a string\n",
      "0\n"
     ]
    }
   ],
   "source": [
    "# check whether gives string is there in actual string or not.\n",
    "act=\"python is pure object oriented programing language.\"\n",
    "sub = input(\"Enter sub string:\")\n",
    "if sub:\n",
    "    sub_length = len(sub)\n",
    "    i=0\n",
    "    while i<len(act):\n",
    "        if sub[0]==act[i]:\n",
    "            i_sub = act[i:i+sub_length]\n",
    "            print(i_sub)\n",
    "            if i_sub==sub:\n",
    "                print(\"found a string\")\n",
    "                print(i)\n",
    "                break\n",
    "        i=i+1\n",
    "    else:\n",
    "        print(\"string not found..\")\n",
    "else:\n",
    "    print(\"invalid string\")"
   ]
  },
  {
   "cell_type": "code",
   "execution_count": 20,
   "metadata": {},
   "outputs": [
    {
     "name": "stdout",
     "output_type": "stream",
     "text": [
      "Enter sub string:p\n",
      "which occurance want to find:2\n",
      "p\n",
      "p\n",
      "found a string\n",
      "10\n"
     ]
    }
   ],
   "source": [
    "# find an index of the nth occurance string\n",
    "act=\"python is pure object oriented programing language.\"\n",
    "sub = input(\"Enter sub string:\")\n",
    "n_oc = input(\"which occurance want to find:\")\n",
    "oc=0\n",
    "n_oc=int(n_oc)\n",
    "if sub:\n",
    "    sub_length = len(sub)\n",
    "    i=0\n",
    "    while i<len(act):\n",
    "        if sub[0]==act[i]:\n",
    "            i_sub = act[i:i+sub_length]\n",
    "            print(i_sub)\n",
    "            if i_sub==sub:\n",
    "                oc = oc+1\n",
    "                if oc == n_oc:\n",
    "                    print(\"found a string\")\n",
    "                    print(i)\n",
    "                    break\n",
    "        i=i+1\n",
    "    else:\n",
    "        print(\"string not found..\")\n",
    "else:\n",
    "    print(\"invalid string\")"
   ]
  },
  {
   "cell_type": "code",
   "execution_count": 21,
   "metadata": {},
   "outputs": [
    {
     "name": "stdout",
     "output_type": "stream",
     "text": [
      "Enter sub string:p\n",
      "which occurance want to find:3\n",
      "p\n",
      "p\n",
      "p\n",
      "found a string\n",
      "31\n"
     ]
    }
   ],
   "source": [
    "# find an index of the nth occurance string\n",
    "act=\"python is pure object oriented programing language.\"\n",
    "sub = input(\"Enter sub string:\")\n",
    "n_oc = input(\"which occurance want to find:\")\n",
    "oc=0\n",
    "n_oc=int(n_oc)\n",
    "if sub:\n",
    "    sub_length = len(sub)\n",
    "    i=0\n",
    "    while i<len(act):\n",
    "        if sub[0]==act[i]:\n",
    "            i_sub = act[i:i+sub_length]\n",
    "            print(i_sub)\n",
    "            if i_sub==sub:\n",
    "                oc = oc+1\n",
    "                if oc == n_oc:\n",
    "                    print(\"found a string\")\n",
    "                    print(i)\n",
    "                    break\n",
    "        i=i+1\n",
    "    else:\n",
    "        print(\"string not found..\")\n",
    "else:\n",
    "    print(\"invalid string\")"
   ]
  },
  {
   "cell_type": "code",
   "execution_count": 22,
   "metadata": {},
   "outputs": [
    {
     "name": "stdout",
     "output_type": "stream",
     "text": [
      "Enter sub string:p\n",
      "which occurance want to find:5\n",
      "string not found..\n"
     ]
    }
   ],
   "source": [
    "# find an index of the nth occurance string\n",
    "act=\"python is pure object oriented programing language.\"\n",
    "sub = input(\"Enter sub string:\")\n",
    "n_oc = input(\"which occurance want to find:\")\n",
    "oc=0\n",
    "n_oc=int(n_oc)\n",
    "if sub:\n",
    "    sub_length = len(sub)\n",
    "    i=0\n",
    "    while i<len(act):\n",
    "        if sub[0]==act[i]:\n",
    "            i_sub = act[i:i+sub_length]\n",
    "            if i_sub==sub:\n",
    "                oc = oc+1\n",
    "                if oc == n_oc:\n",
    "                    print(\"found a string\")\n",
    "                    print(i)\n",
    "                    break\n",
    "        i=i+1\n",
    "    else:\n",
    "        print(\"string not found..\")\n",
    "else:\n",
    "    print(\"invalid string\")"
   ]
  },
  {
   "cell_type": "code",
   "execution_count": null,
   "metadata": {},
   "outputs": [],
   "source": []
  }
 ],
 "metadata": {
  "kernelspec": {
   "display_name": "Python 3",
   "language": "python",
   "name": "python3"
  },
  "language_info": {
   "codemirror_mode": {
    "name": "ipython",
    "version": 3
   },
   "file_extension": ".py",
   "mimetype": "text/x-python",
   "name": "python",
   "nbconvert_exporter": "python",
   "pygments_lexer": "ipython3",
   "version": "3.7.0"
  }
 },
 "nbformat": 4,
 "nbformat_minor": 2
}
