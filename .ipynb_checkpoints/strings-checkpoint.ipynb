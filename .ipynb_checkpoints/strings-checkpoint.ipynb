{
 "cells": [
  {
   "cell_type": "code",
   "execution_count": 1,
   "metadata": {},
   "outputs": [],
   "source": [
    "s=\"python program\"\n"
   ]
  },
  {
   "cell_type": "code",
   "execution_count": 2,
   "metadata": {},
   "outputs": [],
   "source": [
    "a=10\n",
    "s=str(a)"
   ]
  },
  {
   "cell_type": "code",
   "execution_count": 3,
   "metadata": {},
   "outputs": [],
   "source": [
    "s='python program'"
   ]
  },
  {
   "cell_type": "code",
   "execution_count": 4,
   "metadata": {},
   "outputs": [
    {
     "data": {
      "text/plain": [
       "'p'"
      ]
     },
     "execution_count": 4,
     "metadata": {},
     "output_type": "execute_result"
    }
   ],
   "source": [
    "s[0]"
   ]
  },
  {
   "cell_type": "code",
   "execution_count": 5,
   "metadata": {},
   "outputs": [
    {
     "data": {
      "text/plain": [
       "'m'"
      ]
     },
     "execution_count": 5,
     "metadata": {},
     "output_type": "execute_result"
    }
   ],
   "source": [
    "s[13]"
   ]
  },
  {
   "cell_type": "code",
   "execution_count": 6,
   "metadata": {},
   "outputs": [
    {
     "data": {
      "text/plain": [
       "'n'"
      ]
     },
     "execution_count": 6,
     "metadata": {},
     "output_type": "execute_result"
    }
   ],
   "source": [
    "s[5]"
   ]
  },
  {
   "cell_type": "code",
   "execution_count": 7,
   "metadata": {},
   "outputs": [
    {
     "data": {
      "text/plain": [
       "'g'"
      ]
     },
     "execution_count": 7,
     "metadata": {},
     "output_type": "execute_result"
    }
   ],
   "source": [
    "s[10]"
   ]
  },
  {
   "cell_type": "code",
   "execution_count": 8,
   "metadata": {},
   "outputs": [
    {
     "ename": "IndexError",
     "evalue": "string index out of range",
     "output_type": "error",
     "traceback": [
      "\u001b[0;31m---------------------------------------------------------------------------\u001b[0m",
      "\u001b[0;31mIndexError\u001b[0m                                Traceback (most recent call last)",
      "\u001b[0;32m<ipython-input-8-ee1913de8686>\u001b[0m in \u001b[0;36m<module>\u001b[0;34m()\u001b[0m\n\u001b[1;32m      1\u001b[0m \u001b[0ms\u001b[0m\u001b[0;34m=\u001b[0m\u001b[0;34m'python program'\u001b[0m\u001b[0;34m\u001b[0m\u001b[0m\n\u001b[0;32m----> 2\u001b[0;31m \u001b[0ms\u001b[0m\u001b[0;34m[\u001b[0m\u001b[0;36m14\u001b[0m\u001b[0;34m]\u001b[0m\u001b[0;34m\u001b[0m\u001b[0m\n\u001b[0m",
      "\u001b[0;31mIndexError\u001b[0m: string index out of range"
     ]
    }
   ],
   "source": [
    "s='python program'\n",
    "s[14]"
   ]
  },
  {
   "cell_type": "code",
   "execution_count": 9,
   "metadata": {},
   "outputs": [
    {
     "data": {
      "text/plain": [
       "'a'"
      ]
     },
     "execution_count": 9,
     "metadata": {},
     "output_type": "execute_result"
    }
   ],
   "source": [
    "s='python program'\n",
    "s[-2]"
   ]
  },
  {
   "cell_type": "code",
   "execution_count": 10,
   "metadata": {},
   "outputs": [
    {
     "data": {
      "text/plain": [
       "'p'"
      ]
     },
     "execution_count": 10,
     "metadata": {},
     "output_type": "execute_result"
    }
   ],
   "source": [
    "s='python program'\n",
    "s[-14]"
   ]
  },
  {
   "cell_type": "code",
   "execution_count": 11,
   "metadata": {},
   "outputs": [
    {
     "ename": "IndexError",
     "evalue": "string index out of range",
     "output_type": "error",
     "traceback": [
      "\u001b[0;31m---------------------------------------------------------------------------\u001b[0m",
      "\u001b[0;31mIndexError\u001b[0m                                Traceback (most recent call last)",
      "\u001b[0;32m<ipython-input-11-c9e50e0aa941>\u001b[0m in \u001b[0;36m<module>\u001b[0;34m()\u001b[0m\n\u001b[1;32m      1\u001b[0m \u001b[0ms\u001b[0m\u001b[0;34m=\u001b[0m\u001b[0;34m'python program'\u001b[0m\u001b[0;34m\u001b[0m\u001b[0m\n\u001b[0;32m----> 2\u001b[0;31m \u001b[0ms\u001b[0m\u001b[0;34m[\u001b[0m\u001b[0;34m-\u001b[0m\u001b[0;36m15\u001b[0m\u001b[0;34m]\u001b[0m\u001b[0;34m\u001b[0m\u001b[0m\n\u001b[0m",
      "\u001b[0;31mIndexError\u001b[0m: string index out of range"
     ]
    }
   ],
   "source": [
    "s='python program'\n",
    "s[-15]"
   ]
  },
  {
   "cell_type": "code",
   "execution_count": 12,
   "metadata": {},
   "outputs": [
    {
     "name": "stdout",
     "output_type": "stream",
     "text": [
      "pp\n"
     ]
    }
   ],
   "source": [
    "s='python program'\n",
    "print(s[0]*2)"
   ]
  },
  {
   "cell_type": "code",
   "execution_count": 13,
   "metadata": {},
   "outputs": [
    {
     "name": "stdout",
     "output_type": "stream",
     "text": [
      "pythonpython\n"
     ]
    }
   ],
   "source": [
    "s=\"python\"\n",
    "print(s*2)"
   ]
  },
  {
   "cell_type": "code",
   "execution_count": 14,
   "metadata": {},
   "outputs": [
    {
     "name": "stdout",
     "output_type": "stream",
     "text": [
      "pyt\n"
     ]
    }
   ],
   "source": [
    "s='python program'\n",
    "print(s[0]+s[1]+s[2])"
   ]
  },
  {
   "cell_type": "code",
   "execution_count": 15,
   "metadata": {},
   "outputs": [
    {
     "name": "stdout",
     "output_type": "stream",
     "text": [
      "pyt\n"
     ]
    }
   ],
   "source": [
    "s='python program'\n",
    "print(s[0:3])"
   ]
  },
  {
   "cell_type": "code",
   "execution_count": 16,
   "metadata": {},
   "outputs": [
    {
     "name": "stdout",
     "output_type": "stream",
     "text": [
      "ython pro\n"
     ]
    }
   ],
   "source": [
    "s='python program'\n",
    "print(s[1:10])"
   ]
  },
  {
   "cell_type": "code",
   "execution_count": 17,
   "metadata": {},
   "outputs": [
    {
     "name": "stdout",
     "output_type": "stream",
     "text": [
      "ython pro\n"
     ]
    }
   ],
   "source": [
    "s='python program'\n",
    "print(s[1:10:1])"
   ]
  },
  {
   "cell_type": "code",
   "execution_count": 18,
   "metadata": {},
   "outputs": [
    {
     "name": "stdout",
     "output_type": "stream",
     "text": [
      "yhnpo\n"
     ]
    }
   ],
   "source": [
    "s='python program'\n",
    "print(s[1:10:2])"
   ]
  },
  {
   "cell_type": "code",
   "execution_count": 19,
   "metadata": {},
   "outputs": [
    {
     "name": "stdout",
     "output_type": "stream",
     "text": [
      "yop\n"
     ]
    }
   ],
   "source": [
    "s='python program'\n",
    "print(s[1:10:3])"
   ]
  },
  {
   "cell_type": "code",
   "execution_count": 20,
   "metadata": {},
   "outputs": [
    {
     "name": "stdout",
     "output_type": "stream",
     "text": [
      "on prog\n"
     ]
    }
   ],
   "source": [
    "s='python program'\n",
    "print(s[-10:-3])"
   ]
  },
  {
   "cell_type": "code",
   "execution_count": null,
   "metadata": {},
   "outputs": [],
   "source": [
    "s='python program'\n",
    "print(s[1:])"
   ]
  },
  {
   "cell_type": "code",
   "execution_count": 21,
   "metadata": {},
   "outputs": [
    {
     "name": "stdout",
     "output_type": "stream",
     "text": [
      "\n"
     ]
    }
   ],
   "source": [
    "s='python program'\n",
    "print(s[-3:-10])"
   ]
  },
  {
   "cell_type": "code",
   "execution_count": 22,
   "metadata": {},
   "outputs": [
    {
     "name": "stdout",
     "output_type": "stream",
     "text": [
      "ython pro\n"
     ]
    }
   ],
   "source": [
    "s='python program'\n",
    "print(s[1:10])"
   ]
  },
  {
   "cell_type": "code",
   "execution_count": 25,
   "metadata": {},
   "outputs": [
    {
     "name": "stdout",
     "output_type": "stream",
     "text": [
      "\n"
     ]
    }
   ],
   "source": [
    "s='python program'\n",
    "print(s[10:1])"
   ]
  },
  {
   "cell_type": "code",
   "execution_count": 26,
   "metadata": {},
   "outputs": [
    {
     "name": "stdout",
     "output_type": "stream",
     "text": [
      "ython pro\n"
     ]
    }
   ],
   "source": [
    "s='python program'\n",
    "print(s[1 :10 : 1])"
   ]
  },
  {
   "cell_type": "code",
   "execution_count": 28,
   "metadata": {},
   "outputs": [
    {
     "name": "stdout",
     "output_type": "stream",
     "text": [
      "yhnpo\n"
     ]
    }
   ],
   "source": [
    "s='python program'\n",
    "print(s[1 :10 : 2])"
   ]
  },
  {
   "cell_type": "code",
   "execution_count": 29,
   "metadata": {},
   "outputs": [
    {
     "name": "stdout",
     "output_type": "stream",
     "text": [
      "n pro\n"
     ]
    }
   ],
   "source": [
    "s='python program'\n",
    "print(s[5:10])"
   ]
  },
  {
   "cell_type": "code",
   "execution_count": 30,
   "metadata": {},
   "outputs": [
    {
     "name": "stdout",
     "output_type": "stream",
     "text": [
      "\n"
     ]
    }
   ],
   "source": [
    "s='python program'\n",
    "print(s[5:10:-1])"
   ]
  },
  {
   "cell_type": "code",
   "execution_count": 31,
   "metadata": {},
   "outputs": [
    {
     "name": "stdout",
     "output_type": "stream",
     "text": [
      "gorp noht\n"
     ]
    }
   ],
   "source": [
    "s='python program'\n",
    "print(s[10:1:-1])"
   ]
  },
  {
   "cell_type": "code",
   "execution_count": 32,
   "metadata": {},
   "outputs": [
    {
     "name": "stdout",
     "output_type": "stream",
     "text": [
      "\n"
     ]
    }
   ],
   "source": [
    "s='python program'\n",
    "print(s[5:10:-2])"
   ]
  },
  {
   "cell_type": "code",
   "execution_count": 33,
   "metadata": {},
   "outputs": [
    {
     "name": "stdout",
     "output_type": "stream",
     "text": [
      "gr \n"
     ]
    }
   ],
   "source": [
    "s='python program'\n",
    "print(s[10:5:-2])"
   ]
  },
  {
   "cell_type": "code",
   "execution_count": 34,
   "metadata": {},
   "outputs": [
    {
     "name": "stdout",
     "output_type": "stream",
     "text": [
      "on pr\n"
     ]
    }
   ],
   "source": [
    "s='python program'\n",
    "print(s[-10:-5])"
   ]
  },
  {
   "cell_type": "code",
   "execution_count": 35,
   "metadata": {},
   "outputs": [
    {
     "name": "stdout",
     "output_type": "stream",
     "text": [
      "\n"
     ]
    }
   ],
   "source": [
    "s='python program'\n",
    "print(s[-10:-5:-1])"
   ]
  },
  {
   "cell_type": "code",
   "execution_count": 36,
   "metadata": {},
   "outputs": [
    {
     "name": "stdout",
     "output_type": "stream",
     "text": [
      "python pro\n"
     ]
    }
   ],
   "source": [
    "s='python program'\n",
    "print(s[:10])"
   ]
  },
  {
   "cell_type": "code",
   "execution_count": 37,
   "metadata": {},
   "outputs": [
    {
     "name": "stdout",
     "output_type": "stream",
     "text": [
      "mar\n"
     ]
    }
   ],
   "source": [
    "s='python program'\n",
    "print(s[:10:-1])"
   ]
  },
  {
   "cell_type": "code",
   "execution_count": 38,
   "metadata": {},
   "outputs": [
    {
     "name": "stdout",
     "output_type": "stream",
     "text": [
      "gram\n"
     ]
    }
   ],
   "source": [
    "s='python program'\n",
    "print(s[10:])"
   ]
  },
  {
   "cell_type": "code",
   "execution_count": 39,
   "metadata": {},
   "outputs": [
    {
     "name": "stdout",
     "output_type": "stream",
     "text": [
      "gorp nohtyp\n"
     ]
    }
   ],
   "source": [
    "s='python program'\n",
    "print(s[10::-1])"
   ]
  },
  {
   "cell_type": "code",
   "execution_count": 40,
   "metadata": {},
   "outputs": [
    {
     "name": "stdout",
     "output_type": "stream",
     "text": [
      "python program\n"
     ]
    }
   ],
   "source": [
    "s='python program'\n",
    "print(s[:])"
   ]
  },
  {
   "cell_type": "code",
   "execution_count": 41,
   "metadata": {},
   "outputs": [
    {
     "name": "stdout",
     "output_type": "stream",
     "text": [
      "margorp nohtyp\n"
     ]
    }
   ],
   "source": [
    "s='python program'\n",
    "print(s[::-1])"
   ]
  },
  {
   "cell_type": "code",
   "execution_count": 1,
   "metadata": {},
   "outputs": [
    {
     "name": "stdout",
     "output_type": "stream",
     "text": [
      "python pro\n"
     ]
    }
   ],
   "source": [
    "s='python praogram'\n",
    "print(s[:10])"
   ]
  },
  {
   "cell_type": "code",
   "execution_count": 2,
   "metadata": {},
   "outputs": [
    {
     "name": "stdout",
     "output_type": "stream",
     "text": [
      "marg\n"
     ]
    }
   ],
   "source": [
    "s='python praogram'\n",
    "print(s[:10:-1])"
   ]
  },
  {
   "cell_type": "code",
   "execution_count": 3,
   "metadata": {},
   "outputs": [],
   "source": [
    "#list\n",
    "#tuple"
   ]
  },
  {
   "cell_type": "code",
   "execution_count": 4,
   "metadata": {},
   "outputs": [
    {
     "data": {
      "text/plain": [
       "'Python program'"
      ]
     },
     "execution_count": 4,
     "metadata": {},
     "output_type": "execute_result"
    }
   ],
   "source": [
    "s=\"python program\"\n",
    "s.capitalize()"
   ]
  },
  {
   "cell_type": "code",
   "execution_count": 5,
   "metadata": {},
   "outputs": [
    {
     "data": {
      "text/plain": [
       "'123python program'"
      ]
     },
     "execution_count": 5,
     "metadata": {},
     "output_type": "execute_result"
    }
   ],
   "source": [
    "s=\"123python program\"\n",
    "s.capitalize()\n"
   ]
  },
  {
   "cell_type": "code",
   "execution_count": 6,
   "metadata": {},
   "outputs": [
    {
     "data": {
      "text/plain": [
       "'123python program'"
      ]
     },
     "execution_count": 6,
     "metadata": {},
     "output_type": "execute_result"
    }
   ],
   "source": [
    "s=\"123python PROgram\"\n",
    "s.capitalize()\n"
   ]
  },
  {
   "cell_type": "code",
   "execution_count": 7,
   "metadata": {},
   "outputs": [
    {
     "data": {
      "text/plain": [
       "''"
      ]
     },
     "execution_count": 7,
     "metadata": {},
     "output_type": "execute_result"
    }
   ],
   "source": [
    "s=\"\"\n",
    "s.capitalize()\n"
   ]
  },
  {
   "cell_type": "code",
   "execution_count": 8,
   "metadata": {},
   "outputs": [
    {
     "data": {
      "text/plain": [
       "'     '"
      ]
     },
     "execution_count": 8,
     "metadata": {},
     "output_type": "execute_result"
    }
   ],
   "source": [
    "s=\"     \"\n",
    "s.capitalize()\n"
   ]
  },
  {
   "cell_type": "code",
   "execution_count": 9,
   "metadata": {},
   "outputs": [],
   "source": [
    "s.casefold?\n"
   ]
  },
  {
   "cell_type": "code",
   "execution_count": 10,
   "metadata": {},
   "outputs": [
    {
     "data": {
      "text/plain": [
       "False"
      ]
     },
     "execution_count": 10,
     "metadata": {},
     "output_type": "execute_result"
    }
   ],
   "source": [
    "a=\"python\"\n",
    "b=\"PYthon\"\n",
    "a==b"
   ]
  },
  {
   "cell_type": "code",
   "execution_count": 11,
   "metadata": {},
   "outputs": [
    {
     "data": {
      "text/plain": [
       "True"
      ]
     },
     "execution_count": 11,
     "metadata": {},
     "output_type": "execute_result"
    }
   ],
   "source": [
    "a=\"python\"\n",
    "b=\"PYthon\"\n",
    "a.casefold()==b.casefold()"
   ]
  },
  {
   "cell_type": "code",
   "execution_count": 12,
   "metadata": {},
   "outputs": [
    {
     "data": {
      "text/plain": [
       "True"
      ]
     },
     "execution_count": 12,
     "metadata": {},
     "output_type": "execute_result"
    }
   ],
   "source": [
    "a=\"122python$%^\"\n",
    "b=\"122PYthon$%^\"\n",
    "a.casefold()==b.casefold()"
   ]
  },
  {
   "cell_type": "code",
   "execution_count": 13,
   "metadata": {},
   "outputs": [
    {
     "data": {
      "text/plain": [
       "True"
      ]
     },
     "execution_count": 13,
     "metadata": {},
     "output_type": "execute_result"
    }
   ],
   "source": [
    "a=\"\"\n",
    "b=\"\"\n",
    "a.casefold()==b.casefold()"
   ]
  },
  {
   "cell_type": "code",
   "execution_count": 14,
   "metadata": {},
   "outputs": [
    {
     "data": {
      "text/plain": [
       "False"
      ]
     },
     "execution_count": 14,
     "metadata": {},
     "output_type": "execute_result"
    }
   ],
   "source": [
    "a=\"        \"\n",
    "b=\"    \"\n",
    "a.casefold()==b.casefold()"
   ]
  },
  {
   "cell_type": "code",
   "execution_count": 15,
   "metadata": {},
   "outputs": [
    {
     "name": "stdout",
     "output_type": "stream",
     "text": [
      "                                                python program                                                \n",
      "python program                                                                                                \n",
      "                                                                                                python program\n"
     ]
    }
   ],
   "source": [
    "s=\"python program\"\n",
    "print(s.center(110))\n",
    "print(s.ljust(110))\n",
    "print(s.rjust(110))"
   ]
  },
  {
   "cell_type": "code",
   "execution_count": 16,
   "metadata": {},
   "outputs": [
    {
     "name": "stdout",
     "output_type": "stream",
     "text": [
      "************************************************python program************************************************\n",
      "python program%%%%%%%%%%%%%%%%%%%%%%%%%%%%%%%%%%%%%%%%%%%%%%%%%%%%%%%%%%%%%%%%%%%%%%%%%%%%%%%%%%%%%%%%%%%%%%%%\n",
      "$$$$$$$$$$$$$$$$$$$$$$$$$$$$$$$$$$$$$$$$$$$$$$$$$$$$$$$$$$$$$$$$$$$$$$$$$$$$$$$$$$$$$$$$$$$$$$$$python program\n"
     ]
    }
   ],
   "source": [
    "s=\"python program\"\n",
    "print(s.center(110,\"*\"))\n",
    "print(s.ljust(110,\"%\"))\n",
    "print(s.rjust(110,\"$\"))"
   ]
  },
  {
   "cell_type": "code",
   "execution_count": 17,
   "metadata": {},
   "outputs": [
    {
     "name": "stdout",
     "output_type": "stream",
     "text": [
      "python program\n",
      "python program\n",
      "python program\n"
     ]
    }
   ],
   "source": [
    "s=\"python program\"\n",
    "print(s.center(10,\"*\"))\n",
    "print(s.ljust(10,\"%\"))\n",
    "print(s.rjust(10,\"$\"))"
   ]
  },
  {
   "cell_type": "code",
   "execution_count": 18,
   "metadata": {},
   "outputs": [
    {
     "name": "stdout",
     "output_type": "stream",
     "text": [
      "python program\n",
      "python program\n",
      "python program\n"
     ]
    }
   ],
   "source": [
    "s=\"python program\"\n",
    "print(s.center(-10,\"*\"))\n",
    "print(s.ljust(-10,\"%\"))\n",
    "print(s.rjust(-10,\"$\"))"
   ]
  },
  {
   "cell_type": "code",
   "execution_count": 19,
   "metadata": {},
   "outputs": [
    {
     "name": "stdout",
     "output_type": "stream",
     "text": [
      "python program\n",
      "python program\n",
      "python program\n"
     ]
    }
   ],
   "source": [
    "s=\"python program\"\n",
    "print(s.center(0,\"*\"))\n",
    "print(s.ljust(0,\"%\"))\n",
    "print(s.rjust(0,\"$\"))"
   ]
  },
  {
   "cell_type": "code",
   "execution_count": 21,
   "metadata": {},
   "outputs": [
    {
     "ename": "TypeError",
     "evalue": "'NoneType' object cannot be interpreted as an integer",
     "output_type": "error",
     "traceback": [
      "\u001b[0;31m---------------------------------------------------------------------------\u001b[0m",
      "\u001b[0;31mTypeError\u001b[0m                                 Traceback (most recent call last)",
      "\u001b[0;32m<ipython-input-21-51932266ddb9>\u001b[0m in \u001b[0;36m<module>\u001b[0;34m()\u001b[0m\n\u001b[1;32m      1\u001b[0m \u001b[0ms\u001b[0m\u001b[0;34m=\u001b[0m\u001b[0;34m\"python program\"\u001b[0m\u001b[0;34m\u001b[0m\u001b[0m\n\u001b[0;32m----> 2\u001b[0;31m \u001b[0mprint\u001b[0m\u001b[0;34m(\u001b[0m\u001b[0ms\u001b[0m\u001b[0;34m.\u001b[0m\u001b[0mcenter\u001b[0m\u001b[0;34m(\u001b[0m\u001b[0;32mNone\u001b[0m\u001b[0;34m,\u001b[0m\u001b[0;34m\"*\"\u001b[0m\u001b[0;34m)\u001b[0m\u001b[0;34m)\u001b[0m\u001b[0;34m\u001b[0m\u001b[0m\n\u001b[0m\u001b[1;32m      3\u001b[0m \u001b[0mprint\u001b[0m\u001b[0;34m(\u001b[0m\u001b[0ms\u001b[0m\u001b[0;34m.\u001b[0m\u001b[0mljust\u001b[0m\u001b[0;34m(\u001b[0m\u001b[0;32mNone\u001b[0m\u001b[0;34m,\u001b[0m\u001b[0;34m\"%\"\u001b[0m\u001b[0;34m)\u001b[0m\u001b[0;34m)\u001b[0m\u001b[0;34m\u001b[0m\u001b[0m\n\u001b[1;32m      4\u001b[0m \u001b[0mprint\u001b[0m\u001b[0;34m(\u001b[0m\u001b[0ms\u001b[0m\u001b[0;34m.\u001b[0m\u001b[0mrjust\u001b[0m\u001b[0;34m(\u001b[0m\u001b[0;32mNone\u001b[0m\u001b[0;34m,\u001b[0m\u001b[0;34m\"$\"\u001b[0m\u001b[0;34m)\u001b[0m\u001b[0;34m)\u001b[0m\u001b[0;34m\u001b[0m\u001b[0m\n",
      "\u001b[0;31mTypeError\u001b[0m: 'NoneType' object cannot be interpreted as an integer"
     ]
    }
   ],
   "source": [
    "s=\"python program\"\n",
    "print(s.center(None,\"*\"))\n",
    "print(s.ljust(None,\"%\"))\n",
    "print(s.rjust(None,\"$\"))"
   ]
  },
  {
   "cell_type": "code",
   "execution_count": 22,
   "metadata": {},
   "outputs": [
    {
     "ename": "TypeError",
     "evalue": "integer argument expected, got float",
     "output_type": "error",
     "traceback": [
      "\u001b[0;31m---------------------------------------------------------------------------\u001b[0m",
      "\u001b[0;31mTypeError\u001b[0m                                 Traceback (most recent call last)",
      "\u001b[0;32m<ipython-input-22-1fe508ef5049>\u001b[0m in \u001b[0;36m<module>\u001b[0;34m()\u001b[0m\n\u001b[1;32m      1\u001b[0m \u001b[0ms\u001b[0m\u001b[0;34m=\u001b[0m\u001b[0;34m\"python program\"\u001b[0m\u001b[0;34m\u001b[0m\u001b[0m\n\u001b[0;32m----> 2\u001b[0;31m \u001b[0mprint\u001b[0m\u001b[0;34m(\u001b[0m\u001b[0ms\u001b[0m\u001b[0;34m.\u001b[0m\u001b[0mcenter\u001b[0m\u001b[0;34m(\u001b[0m\u001b[0;36m1.23\u001b[0m\u001b[0;34m,\u001b[0m\u001b[0;34m\"*\"\u001b[0m\u001b[0;34m)\u001b[0m\u001b[0;34m)\u001b[0m\u001b[0;34m\u001b[0m\u001b[0m\n\u001b[0m",
      "\u001b[0;31mTypeError\u001b[0m: integer argument expected, got float"
     ]
    }
   ],
   "source": [
    "s=\"python program\"\n",
    "print(s.center(1.23,\"*\"))\n"
   ]
  },
  {
   "cell_type": "code",
   "execution_count": 1,
   "metadata": {},
   "outputs": [
    {
     "data": {
      "text/plain": [
       "3"
      ]
     },
     "execution_count": 1,
     "metadata": {},
     "output_type": "execute_result"
    }
   ],
   "source": [
    "s=\"python is a programing language; python is pure object oriented programing language; python is easy to learn.\"\n",
    "s.count(\"python\")"
   ]
  },
  {
   "cell_type": "code",
   "execution_count": 2,
   "metadata": {},
   "outputs": [
    {
     "data": {
      "text/plain": [
       "0"
      ]
     },
     "execution_count": 2,
     "metadata": {},
     "output_type": "execute_result"
    }
   ],
   "source": [
    "s=\"python is a programing language; python is pure object oriented programing language; python is easy to learn.\"\n",
    "s.count(\"cpp\")"
   ]
  },
  {
   "cell_type": "code",
   "execution_count": 3,
   "metadata": {},
   "outputs": [
    {
     "data": {
      "text/plain": [
       "0"
      ]
     },
     "execution_count": 3,
     "metadata": {},
     "output_type": "execute_result"
    }
   ],
   "source": [
    "s=\"python is a programing language; python is pure object oriented programing language; python is easy to learn.\"\n",
    "s.count(\"pythno\")"
   ]
  },
  {
   "cell_type": "code",
   "execution_count": 4,
   "metadata": {},
   "outputs": [
    {
     "data": {
      "text/plain": [
       "0"
      ]
     },
     "execution_count": 4,
     "metadata": {},
     "output_type": "execute_result"
    }
   ],
   "source": [
    "s=\"python is a programing language; python is pure object oriented programing language; python is easy to learn.\"\n",
    "s.count(\"PYTHON\")"
   ]
  },
  {
   "cell_type": "code",
   "execution_count": 5,
   "metadata": {},
   "outputs": [
    {
     "name": "stdout",
     "output_type": "stream",
     "text": [
      "PYTHON IS A PROGRAMING LANGUAGE; PYTHON IS PURE OBJECT ORIENTED PROGRAMING LANGUAGE; PYTHON IS EASY TO LEARN.\n",
      "PYTHON\n"
     ]
    }
   ],
   "source": [
    "act=\"pyTHon is a programing language; python is pure object oriented programing language; PYthon is easy to learn.\"\n",
    "sub=\"PYTHON\"\n",
    "act_u = act.upper()\n",
    "sub_u=sub.upper()\n",
    "print(act_u)\n",
    "print(sub_u)"
   ]
  },
  {
   "cell_type": "code",
   "execution_count": 7,
   "metadata": {},
   "outputs": [
    {
     "name": "stdout",
     "output_type": "stream",
     "text": [
      "python is a programing language; python is pure object oriented programing language; python is easy to learn.\n",
      "python\n"
     ]
    }
   ],
   "source": [
    "act=\"pyTHon is a programing language; python is pure object oriented programing language; PYthon is easy to learn.\"\n",
    "sub=\"PYTHON\"\n",
    "act_u = act.lower()\n",
    "sub_u=sub.lower()\n",
    "print(act_u)\n",
    "print(sub_u)"
   ]
  },
  {
   "cell_type": "code",
   "execution_count": 8,
   "metadata": {},
   "outputs": [
    {
     "name": "stdout",
     "output_type": "stream",
     "text": [
      "python is a programing language; python is pure object oriented programing language; python is easy to learn.\n",
      "python\n"
     ]
    }
   ],
   "source": [
    "act=\"pyTHon is a programing language; python is pure object oriented programing language; PYthon is easy to learn.\"\n",
    "sub=\"PYTHON\"\n",
    "act_u = act.casefold()\n",
    "sub_u=sub.casefold()\n",
    "print(act_u)\n",
    "print(sub_u)"
   ]
  },
  {
   "cell_type": "code",
   "execution_count": 9,
   "metadata": {},
   "outputs": [
    {
     "name": "stdout",
     "output_type": "stream",
     "text": [
      "python is a programing language; python is pure object oriented programing language; python is easy to learn.\n",
      "python\n",
      "3\n"
     ]
    }
   ],
   "source": [
    "act=\"pyTHon is a programing language; python is pure object oriented programing language; PYthon is easy to learn.\"\n",
    "sub=\"PYTHON\"\n",
    "act_u = act.casefold()\n",
    "sub_u=sub.casefold()\n",
    "print(act_u)\n",
    "print(sub_u)\n",
    "print(act_u.count(sub_u))"
   ]
  },
  {
   "cell_type": "code",
   "execution_count": 10,
   "metadata": {},
   "outputs": [
    {
     "name": "stdout",
     "output_type": "stream",
     "text": [
      "python is a programing language; python is pure object oriented programing language; python is easy to learn.\n",
      " \n",
      "16\n"
     ]
    }
   ],
   "source": [
    "act=\"pyTHon is a programing language; python is pure object oriented programing language; PYthon is easy to learn.\"\n",
    "sub=\" \"\n",
    "act_u = act.casefold()\n",
    "sub_u=sub.casefold()\n",
    "print(act_u)\n",
    "print(sub_u)\n",
    "print(act_u.count(sub_u))"
   ]
  },
  {
   "cell_type": "code",
   "execution_count": 11,
   "metadata": {},
   "outputs": [
    {
     "name": "stdout",
     "output_type": "stream",
     "text": [
      "110\n"
     ]
    }
   ],
   "source": [
    "act=\"pyTHon is a programing language; python is pure object oriented programing language; PYthon is easy to learn.\"\n",
    "sub=\"\"\n",
    "act_u = act.casefold()\n",
    "sub_u=sub.casefold()\n",
    "print(act_u.count(sub_u))"
   ]
  },
  {
   "cell_type": "code",
   "execution_count": 12,
   "metadata": {},
   "outputs": [
    {
     "name": "stdout",
     "output_type": "stream",
     "text": [
      "Enter sub string:pyTHON\n",
      "3\n"
     ]
    }
   ],
   "source": [
    "act=\"pyTHon is a programing language; python is pure object oriented programing language; PYthon is easy to learn.\"\n",
    "sub=input(\"Enter sub string:\")\n",
    "act_u = act.casefold()\n",
    "sub_u=sub.casefold()\n",
    "print(act_u.count(sub_u))"
   ]
  },
  {
   "cell_type": "code",
   "execution_count": 13,
   "metadata": {},
   "outputs": [
    {
     "name": "stdout",
     "output_type": "stream",
     "text": [
      "Enter sub string:\n",
      "110\n"
     ]
    }
   ],
   "source": [
    "act=\"pyTHon is a programing language; python is pure object oriented programing language; PYthon is easy to learn.\"\n",
    "sub=input(\"Enter sub string:\")\n",
    "act_u = act.casefold()\n",
    "sub_u=sub.casefold()\n",
    "print(act_u.count(sub_u))"
   ]
  },
  {
   "cell_type": "code",
   "execution_count": 14,
   "metadata": {},
   "outputs": [
    {
     "name": "stdout",
     "output_type": "stream",
     "text": [
      "Enter sub string:is\n",
      "3\n"
     ]
    }
   ],
   "source": [
    "act=\"pyTHon is a programing language; python is pure object oriented programing language; PYthon is easy to learn.\"\n",
    "sub=input(\"Enter sub string:\")\n",
    "if sub:\n",
    "    act_u = act.casefold()\n",
    "    sub_u=sub.casefold()\n",
    "    print(act_u.count(sub_u))\n",
    "else:\n",
    "    print(0)"
   ]
  },
  {
   "cell_type": "code",
   "execution_count": 15,
   "metadata": {},
   "outputs": [
    {
     "name": "stdout",
     "output_type": "stream",
     "text": [
      "Enter sub string:\n",
      "0\n"
     ]
    }
   ],
   "source": [
    "act=\"pyTHon is a programing language; python is pure object oriented programing language; PYthon is easy to learn.\"\n",
    "sub=input(\"Enter sub string:\")\n",
    "if sub:\n",
    "    act_u = act.casefold()\n",
    "    sub_u=sub.casefold()\n",
    "    print(act_u.count(sub_u))\n",
    "else:\n",
    "    print(0)"
   ]
  },
  {
   "cell_type": "code",
   "execution_count": 16,
   "metadata": {},
   "outputs": [
    {
     "data": {
      "text/plain": [
       "'pyTHon IS a programing language; python IS pure object oriented programing language; PYthon IS easy to learn.'"
      ]
     },
     "execution_count": 16,
     "metadata": {},
     "output_type": "execute_result"
    }
   ],
   "source": [
    "act=\"pyTHon is a programing language; python is pure object oriented programing language; PYthon is easy to learn.\"\n",
    "act.replace(\"is\",\"IS\")"
   ]
  },
  {
   "cell_type": "code",
   "execution_count": 17,
   "metadata": {},
   "outputs": [
    {
     "data": {
      "text/plain": [
       "'pyTHon IS a programing language; python is pure object oriented programing language; PYthon is easy to learn.'"
      ]
     },
     "execution_count": 17,
     "metadata": {},
     "output_type": "execute_result"
    }
   ],
   "source": [
    "act=\"pyTHon is a programing language; python is pure object oriented programing language; PYthon is easy to learn.\"\n",
    "act.replace(\"is\",\"IS\",1)"
   ]
  },
  {
   "cell_type": "code",
   "execution_count": 18,
   "metadata": {},
   "outputs": [
    {
     "data": {
      "text/plain": [
       "'pyTHon IS a programing language; python IS pure object oriented programing language; PYthon IS easy to learn.'"
      ]
     },
     "execution_count": 18,
     "metadata": {},
     "output_type": "execute_result"
    }
   ],
   "source": [
    "act=\"pyTHon is a programing language; python is pure object oriented programing language; PYthon is easy to learn.\"\n",
    "act.replace(\"is\",\"IS\",-1)"
   ]
  },
  {
   "cell_type": "code",
   "execution_count": 19,
   "metadata": {},
   "outputs": [],
   "source": [
    "act.replace?"
   ]
  },
  {
   "cell_type": "code",
   "execution_count": 20,
   "metadata": {},
   "outputs": [
    {
     "data": {
      "text/plain": [
       "'pyTHon IS a programing language; python IS pure object oriented programing language; PYthon IS easy to learn.'"
      ]
     },
     "execution_count": 20,
     "metadata": {},
     "output_type": "execute_result"
    }
   ],
   "source": [
    "act=\"pyTHon is a programing language; python is pure object oriented programing language; PYthon is easy to learn.\"\n",
    "act.replace(\"is\",\"IS\",-10)"
   ]
  },
  {
   "cell_type": "code",
   "execution_count": 21,
   "metadata": {},
   "outputs": [
    {
     "data": {
      "text/plain": [
       "'pyTHon is a programing language; python is pure object oriented programing language; PYthon is easy to learn.'"
      ]
     },
     "execution_count": 21,
     "metadata": {},
     "output_type": "execute_result"
    }
   ],
   "source": [
    "act=\"pyTHon is a programing language; python is pure object oriented programing language; PYthon is easy to learn.\"\n",
    "act.replace(\"is\",\"IS\",0)"
   ]
  },
  {
   "cell_type": "code",
   "execution_count": 22,
   "metadata": {},
   "outputs": [
    {
     "ename": "TypeError",
     "evalue": "integer argument expected, got float",
     "output_type": "error",
     "traceback": [
      "\u001b[0;31m---------------------------------------------------------------------------\u001b[0m",
      "\u001b[0;31mTypeError\u001b[0m                                 Traceback (most recent call last)",
      "\u001b[0;32m<ipython-input-22-1940d6d01154>\u001b[0m in \u001b[0;36m<module>\u001b[0;34m()\u001b[0m\n\u001b[1;32m      1\u001b[0m \u001b[0mact\u001b[0m\u001b[0;34m=\u001b[0m\u001b[0;34m\"pyTHon is a programing language; python is pure object oriented programing language; PYthon is easy to learn.\"\u001b[0m\u001b[0;34m\u001b[0m\u001b[0m\n\u001b[0;32m----> 2\u001b[0;31m \u001b[0mact\u001b[0m\u001b[0;34m.\u001b[0m\u001b[0mreplace\u001b[0m\u001b[0;34m(\u001b[0m\u001b[0;34m\"is\"\u001b[0m\u001b[0;34m,\u001b[0m\u001b[0;34m\"IS\"\u001b[0m\u001b[0;34m,\u001b[0m\u001b[0;36m1.2\u001b[0m\u001b[0;34m)\u001b[0m\u001b[0;34m\u001b[0m\u001b[0m\n\u001b[0m",
      "\u001b[0;31mTypeError\u001b[0m: integer argument expected, got float"
     ]
    }
   ],
   "source": [
    "act=\"pyTHon is a programing language; python is pure object oriented programing language; PYthon is easy to learn.\"\n",
    "act.replace(\"is\",\"IS\",1.2)"
   ]
  },
  {
   "cell_type": "code",
   "execution_count": 23,
   "metadata": {},
   "outputs": [
    {
     "data": {
      "text/plain": [
       "'pyTHon  a programing language; python  pure object oriented programing language; PYthon  easy to learn.'"
      ]
     },
     "execution_count": 23,
     "metadata": {},
     "output_type": "execute_result"
    }
   ],
   "source": [
    "act=\"pyTHon is a programing language; python is pure object oriented programing language; PYthon is easy to learn.\"\n",
    "act.replace(\"is\",\"\")"
   ]
  },
  {
   "cell_type": "code",
   "execution_count": 24,
   "metadata": {},
   "outputs": [
    {
     "data": {
      "text/plain": [
       "110"
      ]
     },
     "execution_count": 24,
     "metadata": {},
     "output_type": "execute_result"
    }
   ],
   "source": [
    "act=\"pyTHon is a programing language; python is pure object oriented programing language; PYthon is easy to learn.\"\n",
    "act.count(\"\")"
   ]
  },
  {
   "cell_type": "code",
   "execution_count": 25,
   "metadata": {},
   "outputs": [
    {
     "data": {
      "text/plain": [
       "3"
      ]
     },
     "execution_count": 25,
     "metadata": {},
     "output_type": "execute_result"
    }
   ],
   "source": [
    "act=\"pyTHon is a programing language; python is pure object oriented programing language; PYthon is easy to learn.\"\n",
    "act.count(\"is\")"
   ]
  },
  {
   "cell_type": "code",
   "execution_count": 26,
   "metadata": {},
   "outputs": [
    {
     "data": {
      "text/plain": [
       "'pyTHon IS a programing language; python IS pure object oriented programing language; PYthon IS easy to learn.'"
      ]
     },
     "execution_count": 26,
     "metadata": {},
     "output_type": "execute_result"
    }
   ],
   "source": [
    "act=\"pyTHon is a programing language; python is pure object oriented programing language; PYthon is easy to learn.\"\n",
    "act.replace(\"is\",\"IS\")"
   ]
  },
  {
   "cell_type": "code",
   "execution_count": 27,
   "metadata": {},
   "outputs": [
    {
     "data": {
      "text/plain": [
       "'ISpISyISTISHISoISnIS ISiISsIS ISaIS ISpISrISoISgISrISaISmISiISnISgIS ISlISaISnISgISuISaISgISeIS;IS ISpISyIStIShISoISnIS ISiISsIS ISpISuISrISeIS ISoISbISjISeIScIStIS ISoISrISiISeISnIStISeISdIS ISpISrISoISgISrISaISmISiISnISgIS ISlISaISnISgISuISaISgISeIS;IS ISPISYIStIShISoISnIS ISiISsIS ISeISaISsISyIS IStISoIS ISlISeISaISrISnIS.IS'"
      ]
     },
     "execution_count": 27,
     "metadata": {},
     "output_type": "execute_result"
    }
   ],
   "source": [
    "act=\"pyTHon is a programing language; python is pure object oriented programing language; PYthon is easy to learn.\"\n",
    "act.replace(\"\",\"IS\")"
   ]
  },
  {
   "cell_type": "code",
   "execution_count": 28,
   "metadata": {},
   "outputs": [
    {
     "data": {
      "text/plain": [
       "'నక్క నక్క ఉక్కు దిక్కు చక్కెర ఎక్కాలు చక్కిలం ముక్కోపి'"
      ]
     },
     "execution_count": 28,
     "metadata": {},
     "output_type": "execute_result"
    }
   ],
   "source": [
    "act=\"కుక్క నక్క ఉక్కు దిక్కు చక్కెర ఎక్కాలు చక్కిలం ముక్కోపి\"\n",
    "act.replace(\"కుక్క\",\"నక్క\")"
   ]
  },
  {
   "cell_type": "code",
   "execution_count": 29,
   "metadata": {},
   "outputs": [
    {
     "data": {
      "text/plain": [
       "1"
      ]
     },
     "execution_count": 29,
     "metadata": {},
     "output_type": "execute_result"
    }
   ],
   "source": [
    "act=\"కుక్క నక్క ఉక్కు దిక్కు చక్కెర ఎక్కాలు చక్కిలం ముక్కోపి\"\n",
    "act.count(\"ఉక్కు\")"
   ]
  },
  {
   "cell_type": "code",
   "execution_count": 30,
   "metadata": {},
   "outputs": [
    {
     "data": {
      "text/plain": [
       "b'\\x97\\xa8\\xe3\\xc8\\x96\\x95@\\x89\\xa2@\\x81@\\x97\\x99\\x96\\x87\\x99\\x81\\x94\\x89\\x95\\x87@\\x93\\x81\\x95\\x87\\xa4\\x81\\x87\\x85^@\\x97\\xa8\\xa3\\x88\\x96\\x95@\\x89\\xa2@\\x97\\xa4\\x99\\x85@\\x96\\x82\\x91\\x85\\x83\\xa3@\\x96\\x99\\x89\\x85\\x95\\xa3\\x85\\x84@\\x97\\x99\\x96\\x87\\x99\\x81\\x94\\x89\\x95\\x87@\\x93\\x81\\x95\\x87\\xa4\\x81\\x87\\x85^@\\xd7\\xe8\\xa3\\x88\\x96\\x95@\\x89\\xa2@\\x85\\x81\\xa2\\xa8@\\xa3\\x96@\\x93\\x85\\x81\\x99\\x95K'"
      ]
     },
     "execution_count": 30,
     "metadata": {},
     "output_type": "execute_result"
    }
   ],
   "source": [
    "act=\"pyTHon is a programing language; python is pure object oriented programing language; PYthon is easy to learn.\"\n",
    "act.encode(\"cp500\")"
   ]
  },
  {
   "cell_type": "code",
   "execution_count": 31,
   "metadata": {},
   "outputs": [
    {
     "data": {
      "text/plain": [
       "'pyTHon is a programing language; python is pure object oriented programing language; PYthon is easy to learn.'"
      ]
     },
     "execution_count": 31,
     "metadata": {},
     "output_type": "execute_result"
    }
   ],
   "source": [
    "act=\"pyTHon is a programing language; python is pure object oriented programing language; PYthon is easy to learn.\"\n",
    "enc = act.encode(\"cp500\")\n",
    "enc.decode(\"cp500\")"
   ]
  },
  {
   "cell_type": "code",
   "execution_count": 33,
   "metadata": {},
   "outputs": [
    {
     "data": {
      "text/plain": [
       "True"
      ]
     },
     "execution_count": 33,
     "metadata": {},
     "output_type": "execute_result"
    }
   ],
   "source": [
    "email = \"sambapython@gmail.com\"\n",
    "email.endswith(\"gmail.com\")"
   ]
  },
  {
   "cell_type": "code",
   "execution_count": 34,
   "metadata": {},
   "outputs": [
    {
     "name": "stdout",
     "output_type": "stream",
     "text": [
      "True\n",
      "True\n"
     ]
    }
   ],
   "source": [
    "email = \"sambapython@gmail.com\"\n",
    "print(email.endswith(\"gmail.com\"))\n",
    "print(email.startswith(\"samba\"))"
   ]
  },
  {
   "cell_type": "code",
   "execution_count": 35,
   "metadata": {},
   "outputs": [
    {
     "name": "stdout",
     "output_type": "stream",
     "text": [
      "False\n",
      "False\n"
     ]
    }
   ],
   "source": [
    "email = \"sambapython@gmail.com\"\n",
    "print(email.endswith(\"samba\"))\n",
    "print(email.startswith(\"gmail\"))"
   ]
  },
  {
   "cell_type": "code",
   "execution_count": 36,
   "metadata": {},
   "outputs": [
    {
     "name": "stdout",
     "output_type": "stream",
     "text": [
      "True\n",
      "True\n"
     ]
    }
   ],
   "source": [
    "email = \"sambapython@gmail.com\"\n",
    "print(email.endswith(\"\"))\n",
    "print(email.startswith(\"\"))"
   ]
  },
  {
   "cell_type": "code",
   "execution_count": 38,
   "metadata": {},
   "outputs": [
    {
     "name": "stdout",
     "output_type": "stream",
     "text": [
      "0\n",
      "85\n",
      "0\n",
      "85\n"
     ]
    }
   ],
   "source": [
    "act=\"python is a programing language; python is pure object oriented programing language; python is easy to learn.\"\n",
    "print(act.find(\"python\"))\n",
    "print(act.rfind(\"python\"))\n",
    "print(act.index(\"python\"))\n",
    "print(act.rindex(\"python\"))"
   ]
  },
  {
   "cell_type": "code",
   "execution_count": 39,
   "metadata": {},
   "outputs": [
    {
     "name": "stdout",
     "output_type": "stream",
     "text": [
      "-1\n"
     ]
    },
    {
     "ename": "ValueError",
     "evalue": "substring not found",
     "output_type": "error",
     "traceback": [
      "\u001b[0;31m---------------------------------------------------------------------------\u001b[0m",
      "\u001b[0;31mValueError\u001b[0m                                Traceback (most recent call last)",
      "\u001b[0;32m<ipython-input-39-5d583f70132a>\u001b[0m in \u001b[0;36m<module>\u001b[0;34m()\u001b[0m\n\u001b[1;32m      2\u001b[0m \u001b[0mprint\u001b[0m\u001b[0;34m(\u001b[0m\u001b[0mact\u001b[0m\u001b[0;34m.\u001b[0m\u001b[0mfind\u001b[0m\u001b[0;34m(\u001b[0m\u001b[0;34m\"java\"\u001b[0m\u001b[0;34m)\u001b[0m\u001b[0;34m)\u001b[0m\u001b[0;34m\u001b[0m\u001b[0m\n\u001b[1;32m      3\u001b[0m \u001b[0;34m\u001b[0m\u001b[0m\n\u001b[0;32m----> 4\u001b[0;31m \u001b[0mprint\u001b[0m\u001b[0;34m(\u001b[0m\u001b[0mact\u001b[0m\u001b[0;34m.\u001b[0m\u001b[0mrindex\u001b[0m\u001b[0;34m(\u001b[0m\u001b[0;34m\"java\"\u001b[0m\u001b[0;34m)\u001b[0m\u001b[0;34m)\u001b[0m\u001b[0;34m\u001b[0m\u001b[0m\n\u001b[0m",
      "\u001b[0;31mValueError\u001b[0m: substring not found"
     ]
    }
   ],
   "source": [
    "act=\"python is a programing language; python is pure object oriented programing language; python is easy to learn.\"\n",
    "print(act.find(\"java\"))\n",
    "\n",
    "print(act.rindex(\"java\"))"
   ]
  },
  {
   "cell_type": "code",
   "execution_count": 40,
   "metadata": {},
   "outputs": [
    {
     "name": "stdout",
     "output_type": "stream",
     "text": [
      "Enter sub string to find and indexpython\n",
      "string found at: 0\n"
     ]
    }
   ],
   "source": [
    "act=\"python is a programing language; python is pure object oriented programing language; python is easy to learn.\"\n",
    "sub = input(\"Enter sub string to find and index\")\n",
    "act=act.casefold()\n",
    "sub=sub.casefold()\n",
    "ind = act.find(sub)\n",
    "if ind==-1:\n",
    "    print(\"sub string not found\")\n",
    "else:\n",
    "    print(\"string found at: %s\"%ind)"
   ]
  },
  {
   "cell_type": "code",
   "execution_count": 41,
   "metadata": {},
   "outputs": [
    {
     "name": "stdout",
     "output_type": "stream",
     "text": [
      "Enter sub string to find and indexis\n",
      "string found at: 7\n"
     ]
    }
   ],
   "source": [
    "act=\"python is a programing language; python is pure object oriented programing language; python is easy to learn.\"\n",
    "sub = input(\"Enter sub string to find and index\")\n",
    "act=act.casefold()\n",
    "sub=sub.casefold()\n",
    "ind = act.find(sub)\n",
    "if ind==-1:\n",
    "    print(\"sub string not found\")\n",
    "else:\n",
    "    print(\"string found at: %s\"%ind)"
   ]
  },
  {
   "cell_type": "code",
   "execution_count": 42,
   "metadata": {},
   "outputs": [
    {
     "name": "stdout",
     "output_type": "stream",
     "text": [
      "Enter sub string to find and index\n",
      "string found at: 0\n"
     ]
    }
   ],
   "source": [
    "act=\"python is a programing language; python is pure object oriented programing language; python is easy to learn.\"\n",
    "sub = input(\"Enter sub string to find and index\")\n",
    "act=act.casefold()\n",
    "sub=sub.casefold()\n",
    "ind = act.find(sub)\n",
    "if ind==-1:\n",
    "    print(\"sub string not found\")\n",
    "else:\n",
    "    print(\"string found at: %s\"%ind)"
   ]
  },
  {
   "cell_type": "code",
   "execution_count": 43,
   "metadata": {},
   "outputs": [
    {
     "name": "stdout",
     "output_type": "stream",
     "text": [
      "Enter sub string to find and index\n",
      "invalid substring\n"
     ]
    }
   ],
   "source": [
    "act=\"python is a programing language; python is pure object oriented programing language; python is easy to learn.\"\n",
    "sub = input(\"Enter sub string to find and index\")\n",
    "if sub:\n",
    "    act=act.casefold()\n",
    "    sub=sub.casefold()\n",
    "    ind = act.find(sub)\n",
    "    if ind==-1:\n",
    "        print(\"sub string not found\")\n",
    "    else:\n",
    "        print(\"string found at: %s\"%ind)\n",
    "else:\n",
    "    print(\"invalid substring\")"
   ]
  },
  {
   "cell_type": "code",
   "execution_count": 44,
   "metadata": {},
   "outputs": [
    {
     "name": "stdout",
     "output_type": "stream",
     "text": [
      "0\n",
      "0\n"
     ]
    }
   ],
   "source": [
    "s=\"python\"\n",
    "print(s.find(\"p\"))\n",
    "print(s.find(\"\"))"
   ]
  },
  {
   "cell_type": "code",
   "execution_count": 45,
   "metadata": {},
   "outputs": [
    {
     "name": "stdout",
     "output_type": "stream",
     "text": [
      "Enter sub string to find and index1234\n",
      "sub string not found\n"
     ]
    }
   ],
   "source": [
    "act=\"python is a programing language; python is pure object oriented programing language; python is easy to learn.\"\n",
    "sub = input(\"Enter sub string to find and index\")\n",
    "if sub:\n",
    "    act=act.casefold()\n",
    "    sub=sub.casefold()\n",
    "    ind = act.find(sub)\n",
    "    if ind==-1:\n",
    "        print(\"sub string not found\")\n",
    "    else:\n",
    "        print(\"string found at: %s\"%ind)\n",
    "else:\n",
    "    print(\"invalid substring\")"
   ]
  },
  {
   "cell_type": "code",
   "execution_count": 46,
   "metadata": {},
   "outputs": [
    {
     "name": "stdout",
     "output_type": "stream",
     "text": [
      "Enter sub string to find and indexsdfw432423\n",
      "sub string not found\n"
     ]
    }
   ],
   "source": [
    "act=\"python is a programing language; python is pure object oriented programing language; python is easy to learn.\"\n",
    "sub = input(\"Enter sub string to find and index\")\n",
    "if sub:\n",
    "    act=act.casefold()\n",
    "    sub=sub.casefold()\n",
    "    ind = act.find(sub)\n",
    "    if ind==-1:\n",
    "        print(\"sub string not found\")\n",
    "    else:\n",
    "        print(\"string found at: %s\"%ind)\n",
    "else:\n",
    "    print(\"invalid substring\")"
   ]
  },
  {
   "cell_type": "code",
   "execution_count": 47,
   "metadata": {},
   "outputs": [
    {
     "name": "stdout",
     "output_type": "stream",
     "text": [
      "Name: jayaram, Weight: 13.46, Height: 3.46\n"
     ]
    }
   ],
   "source": [
    "name=\"jayaram\"\n",
    "weight=13.4567\n",
    "height=3.4567\n",
    "print(\"Name: %s, Weight: %.2f, Height: %.2f\"%(name, weight, height))"
   ]
  },
  {
   "cell_type": "code",
   "execution_count": 48,
   "metadata": {},
   "outputs": [
    {
     "name": "stdout",
     "output_type": "stream",
     "text": [
      "Name: jayaram, Weight: 13.46, Height: 3.46\n",
      "Name: jayaram, Weight: 13.4567, Height: 3.4567\n"
     ]
    }
   ],
   "source": [
    "name=\"jayaram\"\n",
    "weight=13.4567\n",
    "height=3.4567\n",
    "print(\"Name: %s, Weight: %.2f, Height: %.2f\"%(name, weight, height))\n",
    "print(f\"Name: {name}, Weight: {weight}, Height: {height}\")"
   ]
  },
  {
   "cell_type": "code",
   "execution_count": 50,
   "metadata": {},
   "outputs": [
    {
     "name": "stdout",
     "output_type": "stream",
     "text": [
      "Name: jayaram, Weight: 13.46, Height: 3.46\n",
      "Name: jayaram, Weight: 13.46, Height: 3.46\n"
     ]
    }
   ],
   "source": [
    "name=\"jayaram\"\n",
    "weight=13.4567\n",
    "height=3.4567\n",
    "print(\"Name: %s, Weight: %.2f, Height: %.2f\"%(name, weight, height))\n",
    "print(f\"Name: {name}, Weight: {weight:.2f}, Height: {height:.2f}\")"
   ]
  },
  {
   "cell_type": "code",
   "execution_count": 51,
   "metadata": {},
   "outputs": [
    {
     "name": "stdout",
     "output_type": "stream",
     "text": [
      "Name: jayaram, Weight: 13.46, Height: 3.46\n",
      "Name: jayaram, Weight: 13.46, Height: 3.46\n",
      "Name: jayaram, Weight: 13.4567, Height: 3.4567\n"
     ]
    }
   ],
   "source": [
    "name=\"jayaram\"\n",
    "weight=13.4567\n",
    "height=3.4567\n",
    "print(\"Name: %s, Weight: %.2f, Height: %.2f\"%(name, weight, height))\n",
    "print(f\"Name: {name}, Weight: {weight:.2f}, Height: {height:.2f}\")\n",
    "print(\"Name: {0}, Weight: {1}, Height: {2}\".format(name,weight,height))"
   ]
  },
  {
   "cell_type": "code",
   "execution_count": 53,
   "metadata": {},
   "outputs": [
    {
     "name": "stdout",
     "output_type": "stream",
     "text": [
      "Name: jayaram, Weight: 13.46, Height: 3.46\n",
      "Name: jayaram, Weight: 13.46, Height: 3.46\n",
      "Name: jayaram, Weight: 13.46, Height: 3.46\n"
     ]
    }
   ],
   "source": [
    "name=\"jayaram\"\n",
    "weight=13.4567\n",
    "height=3.4567\n",
    "print(\"Name: %s, Weight: %.2f, Height: %.2f\"%(name, weight, height))\n",
    "print(f\"Name: {name}, Weight: {weight:.2f}, Height: {height:.2f}\")\n",
    "print(\"Name: {0}, Weight: {1:.2f}, Height: {2:.2f}\".format(name,weight,height))"
   ]
  },
  {
   "cell_type": "code",
   "execution_count": 1,
   "metadata": {},
   "outputs": [
    {
     "data": {
      "text/plain": [
       "'jayaram'"
      ]
     },
     "execution_count": 1,
     "metadata": {},
     "output_type": "execute_result"
    }
   ],
   "source": [
    "d={\"name\":\"jayaram\",\"age\":2.4}\n",
    "d[\"name\"]"
   ]
  },
  {
   "cell_type": "code",
   "execution_count": 2,
   "metadata": {},
   "outputs": [
    {
     "data": {
      "text/plain": [
       "2.4"
      ]
     },
     "execution_count": 2,
     "metadata": {},
     "output_type": "execute_result"
    }
   ],
   "source": [
    "d[\"age\"]"
   ]
  },
  {
   "cell_type": "code",
   "execution_count": 3,
   "metadata": {},
   "outputs": [
    {
     "name": "stdout",
     "output_type": "stream",
     "text": [
      "jayaram\n",
      "2.4\n"
     ]
    }
   ],
   "source": [
    "d={\"name\":\"jayaram\",\"age\":2.4}\n",
    "print(d.get(\"name\"))\n",
    "print(d.get(\"age\"))"
   ]
  },
  {
   "cell_type": "code",
   "execution_count": 4,
   "metadata": {},
   "outputs": [
    {
     "name": "stdout",
     "output_type": "stream",
     "text": [
      "Name: jayaram===> Age: 2.4\n"
     ]
    }
   ],
   "source": [
    "d={\"name\":\"jayaram\",\"age\":2.4}\n",
    "print(\"Name: %(name)s===> Age: %(age)s\"%d)"
   ]
  },
  {
   "cell_type": "code",
   "execution_count": 5,
   "metadata": {},
   "outputs": [
    {
     "name": "stdout",
     "output_type": "stream",
     "text": [
      "Name: jayaram===> Age: 2.4\n",
      "Name: jayaram ===> Age: 2.4\n"
     ]
    }
   ],
   "source": [
    "d={\"name\":\"jayaram\",\"age\":2.4}\n",
    "print(\"Name: %(name)s===> Age: %(age)s\"%d)\n",
    "print(\"Name: {name} ===> Age: {age}\".format_map(d))"
   ]
  },
  {
   "cell_type": "code",
   "execution_count": 6,
   "metadata": {},
   "outputs": [
    {
     "name": "stdout",
     "output_type": "stream",
     "text": [
      "True\n"
     ]
    }
   ],
   "source": [
    "s=\"abcd\"\n",
    "print(s.isalnum())"
   ]
  },
  {
   "cell_type": "code",
   "execution_count": 7,
   "metadata": {},
   "outputs": [
    {
     "name": "stdout",
     "output_type": "stream",
     "text": [
      "True\n"
     ]
    }
   ],
   "source": [
    "s=\"abc1234d\"\n",
    "print(s.isalnum())"
   ]
  },
  {
   "cell_type": "code",
   "execution_count": 8,
   "metadata": {},
   "outputs": [
    {
     "name": "stdout",
     "output_type": "stream",
     "text": [
      "False\n"
     ]
    }
   ],
   "source": [
    "s=\"ab@#$54cd\"\n",
    "print(s.isalnum())"
   ]
  },
  {
   "cell_type": "code",
   "execution_count": 9,
   "metadata": {},
   "outputs": [
    {
     "name": "stdout",
     "output_type": "stream",
     "text": [
      "Enter string:rewrwe32423523\n",
      "no special symols\n"
     ]
    }
   ],
   "source": [
    "# WAP to check give string contains atleast one special symbol or not.\n",
    "s=input(\"Enter string:\")\n",
    "if s.isalnum():\n",
    "    print(\"no special symols\")\n",
    "else:\n",
    "    print(\"contaiins special symbols\")"
   ]
  },
  {
   "cell_type": "code",
   "execution_count": 10,
   "metadata": {},
   "outputs": [
    {
     "name": "stdout",
     "output_type": "stream",
     "text": [
      "Enter string:23432werwe#@!$\n",
      "contaiins special symbols\n"
     ]
    }
   ],
   "source": [
    "# WAP to check give string contains atleast one special symbol or not.\n",
    "s=input(\"Enter string:\")\n",
    "if s.isalnum():\n",
    "    print(\"no special symols\")\n",
    "else:\n",
    "    print(\"contaiins special symbols\")"
   ]
  },
  {
   "cell_type": "code",
   "execution_count": 11,
   "metadata": {},
   "outputs": [
    {
     "name": "stdout",
     "output_type": "stream",
     "text": [
      "Enter string:\n",
      "contaiins special symbols\n"
     ]
    }
   ],
   "source": [
    "# WAP to check give string contains atleast one special symbol or not.\n",
    "s=input(\"Enter string:\")\n",
    "if s.isalnum():\n",
    "    print(\"no special symols\")\n",
    "else:\n",
    "    print(\"contaiins special symbols\")"
   ]
  },
  {
   "cell_type": "code",
   "execution_count": 12,
   "metadata": {},
   "outputs": [
    {
     "name": "stdout",
     "output_type": "stream",
     "text": [
      "Enter string:\n",
      "no special symols\n"
     ]
    }
   ],
   "source": [
    "# WAP to check give string contains atleast one special symbol or not.\n",
    "s=input(\"Enter string:\")\n",
    "if s:\n",
    "    if s.isalnum():\n",
    "        print(\"no special symols\")\n",
    "    else:\n",
    "        print(\"contaiins special symbols\")\n",
    "else:\n",
    "    print(\"no special symols\")"
   ]
  },
  {
   "cell_type": "code",
   "execution_count": 13,
   "metadata": {},
   "outputs": [
    {
     "name": "stdout",
     "output_type": "stream",
     "text": [
      "Enter string:werwer\n",
      "no special symols\n"
     ]
    }
   ],
   "source": [
    "# WAP to check give string contains atleast one special symbol or not.\n",
    "s=input(\"Enter string:\")\n",
    "if s:\n",
    "    if s.isalnum():\n",
    "        print(\"no special symols\")\n",
    "    else:\n",
    "        print(\"contaiins special symbols\")\n",
    "else:\n",
    "    print(\"no special symols\")"
   ]
  },
  {
   "cell_type": "code",
   "execution_count": 14,
   "metadata": {},
   "outputs": [
    {
     "name": "stdout",
     "output_type": "stream",
     "text": [
      "Enter string:24332432\n",
      "no special symols\n"
     ]
    }
   ],
   "source": [
    "# WAP to check give string contains atleast one special symbol or not.\n",
    "s=input(\"Enter string:\")\n",
    "if s:\n",
    "    if s.isalnum():\n",
    "        print(\"no special symols\")\n",
    "    else:\n",
    "        print(\"contaiins special symbols\")\n",
    "else:\n",
    "    print(\"no special symols\")"
   ]
  },
  {
   "cell_type": "code",
   "execution_count": 15,
   "metadata": {},
   "outputs": [
    {
     "name": "stdout",
     "output_type": "stream",
     "text": [
      "Enter string:wetwer2344234\n",
      "no special symols\n"
     ]
    }
   ],
   "source": [
    "# WAP to check give string contains atleast one special symbol or not.\n",
    "s=input(\"Enter string:\")\n",
    "if s:\n",
    "    if s.isalnum():\n",
    "        print(\"no special symols\")\n",
    "    else:\n",
    "        print(\"contaiins special symbols\")\n",
    "else:\n",
    "    print(\"no special symols\")"
   ]
  },
  {
   "cell_type": "code",
   "execution_count": 16,
   "metadata": {},
   "outputs": [
    {
     "name": "stdout",
     "output_type": "stream",
     "text": [
      "Enter string:       \n",
      "contaiins special symbols\n"
     ]
    }
   ],
   "source": [
    "# WAP to check give string contains atleast one special symbol or not.\n",
    "s=input(\"Enter string:\")\n",
    "if s:\n",
    "    if s.isalnum():\n",
    "        print(\"no special symols\")\n",
    "    else:\n",
    "        print(\"contaiins special symbols\")\n",
    "else:\n",
    "    print(\"no special symols\")"
   ]
  },
  {
   "cell_type": "code",
   "execution_count": 17,
   "metadata": {},
   "outputs": [
    {
     "name": "stdout",
     "output_type": "stream",
     "text": [
      "True\n"
     ]
    }
   ],
   "source": [
    "s=\"sddsf\"\n",
    "print(s.isalpha())"
   ]
  },
  {
   "cell_type": "code",
   "execution_count": 18,
   "metadata": {},
   "outputs": [
    {
     "name": "stdout",
     "output_type": "stream",
     "text": [
      "True\n"
     ]
    }
   ],
   "source": [
    "s=\"sddsfSDREWRWE\"\n",
    "print(s.isalpha())"
   ]
  },
  {
   "cell_type": "code",
   "execution_count": 19,
   "metadata": {},
   "outputs": [
    {
     "name": "stdout",
     "output_type": "stream",
     "text": [
      "False\n"
     ]
    }
   ],
   "source": [
    "s=\"sddsf2SDREWRWE\"\n",
    "print(s.isalpha())"
   ]
  },
  {
   "cell_type": "code",
   "execution_count": 20,
   "metadata": {},
   "outputs": [
    {
     "name": "stdout",
     "output_type": "stream",
     "text": [
      "False\n"
     ]
    }
   ],
   "source": [
    "s=\"sddsfSD#REWRWE\"\n",
    "print(s.isalpha())"
   ]
  },
  {
   "cell_type": "code",
   "execution_count": 21,
   "metadata": {},
   "outputs": [
    {
     "name": "stdout",
     "output_type": "stream",
     "text": [
      "False\n"
     ]
    }
   ],
   "source": [
    "s=\"\"\n",
    "print(s.isalpha())"
   ]
  },
  {
   "cell_type": "code",
   "execution_count": 22,
   "metadata": {},
   "outputs": [
    {
     "name": "stdout",
     "output_type": "stream",
     "text": [
      "True\n",
      "True\n",
      "True\n"
     ]
    }
   ],
   "source": [
    "s=\"1234556\"\n",
    "print(s.isdigit())\n",
    "print(s.isnumeric())\n",
    "print(s.isdecimal())"
   ]
  },
  {
   "cell_type": "code",
   "execution_count": 24,
   "metadata": {},
   "outputs": [
    {
     "name": "stdout",
     "output_type": "stream",
     "text": [
      "False\n",
      "True\n",
      "False\n"
     ]
    }
   ],
   "source": [
    "s=\"零\" # this is 0 in chinese\n",
    "print(s.isdigit())\n",
    "print(s.isnumeric())\n",
    "print(s.isdecimal())"
   ]
  },
  {
   "cell_type": "code",
   "execution_count": 25,
   "metadata": {},
   "outputs": [
    {
     "name": "stdout",
     "output_type": "stream",
     "text": [
      "2³\n"
     ]
    }
   ],
   "source": [
    "print(\"2\\u00b3\")"
   ]
  },
  {
   "cell_type": "code",
   "execution_count": 26,
   "metadata": {},
   "outputs": [
    {
     "name": "stdout",
     "output_type": "stream",
     "text": [
      "True\n",
      "True\n",
      "False\n"
     ]
    }
   ],
   "source": [
    "s=\"2³\"\n",
    "print(s.isdigit())\n",
    "print(s.isnumeric())\n",
    "print(s.isdecimal())"
   ]
  },
  {
   "cell_type": "code",
   "execution_count": null,
   "metadata": {},
   "outputs": [],
   "source": []
  }
 ],
 "metadata": {
  "kernelspec": {
   "display_name": "Python 3",
   "language": "python",
   "name": "python3"
  },
  "language_info": {
   "codemirror_mode": {
    "name": "ipython",
    "version": 3
   },
   "file_extension": ".py",
   "mimetype": "text/x-python",
   "name": "python",
   "nbconvert_exporter": "python",
   "pygments_lexer": "ipython3",
   "version": "3.7.0"
  }
 },
 "nbformat": 4,
 "nbformat_minor": 2
}
