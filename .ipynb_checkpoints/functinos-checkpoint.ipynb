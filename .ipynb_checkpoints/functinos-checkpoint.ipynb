{
 "cells": [
  {
   "cell_type": "code",
   "execution_count": 1,
   "metadata": {},
   "outputs": [
    {
     "name": "stdout",
     "output_type": "stream",
     "text": [
      "welcome\n",
      "thank you!!\n"
     ]
    }
   ],
   "source": [
    "print(\"welcome\")\n",
    "def fun():\n",
    "    print(\"this is fun\")\n",
    "print(\"thank you!!\")"
   ]
  },
  {
   "cell_type": "code",
   "execution_count": 2,
   "metadata": {},
   "outputs": [
    {
     "name": "stdout",
     "output_type": "stream",
     "text": [
      "welcome\n",
      "thank you!!\n",
      "this is fun\n"
     ]
    }
   ],
   "source": [
    "print(\"welcome\")\n",
    "def fun():\n",
    "    print(\"this is fun\")\n",
    "print(\"thank you!!\")\n",
    "fun()"
   ]
  },
  {
   "cell_type": "code",
   "execution_count": 3,
   "metadata": {},
   "outputs": [
    {
     "name": "stdout",
     "output_type": "stream",
     "text": [
      "welcome\n",
      "thank you!!\n",
      "this is fun\n",
      "this is fun\n",
      "this is fun\n",
      "this is fun\n"
     ]
    }
   ],
   "source": [
    "print(\"welcome\")\n",
    "def fun():\n",
    "    print(\"this is fun\")\n",
    "print(\"thank you!!\")\n",
    "fun()\n",
    "fun()\n",
    "fun()\n",
    "fun()"
   ]
  },
  {
   "cell_type": "code",
   "execution_count": 4,
   "metadata": {},
   "outputs": [
    {
     "name": "stdout",
     "output_type": "stream",
     "text": [
      "welcome\n",
      "thank you!!\n",
      "x=10,y=20\n",
      "res= 30\n"
     ]
    }
   ],
   "source": [
    "print(\"welcome\")\n",
    "def fun(x,y): # x,y are parameters\n",
    "    print(f\"x={x},y={y}\")\n",
    "    z=x+y\n",
    "    print(\"res=\",z)\n",
    "print(\"thank you!!\")\n",
    "fun(10,20) # 10,20 arguments"
   ]
  },
  {
   "cell_type": "code",
   "execution_count": 5,
   "metadata": {},
   "outputs": [
    {
     "name": "stdout",
     "output_type": "stream",
     "text": [
      "x={x},y={y}\n"
     ]
    }
   ],
   "source": [
    "print(\"x={x},y={y}\")"
   ]
  },
  {
   "cell_type": "code",
   "execution_count": 6,
   "metadata": {},
   "outputs": [
    {
     "name": "stdout",
     "output_type": "stream",
     "text": [
      "x=10,y=20\n"
     ]
    }
   ],
   "source": [
    "x=10\n",
    "y=20\n",
    "print(f\"x={x},y={y}\")"
   ]
  },
  {
   "cell_type": "code",
   "execution_count": 7,
   "metadata": {},
   "outputs": [
    {
     "name": "stdout",
     "output_type": "stream",
     "text": [
      "welcome\n",
      "thank you!!\n",
      "x=10,y=20\n",
      "res= 30\n"
     ]
    }
   ],
   "source": [
    "print(\"welcome\")\n",
    "def fun(x,y): # x,y are parameters\n",
    "    print(\"x=%s,y=%s\"%(x,y))\n",
    "    z=x+y\n",
    "    print(\"res=\",z)\n",
    "print(\"thank you!!\")\n",
    "fun(10,20) # 10,20 arguments\n"
   ]
  },
  {
   "cell_type": "code",
   "execution_count": 8,
   "metadata": {},
   "outputs": [
    {
     "name": "stdout",
     "output_type": "stream",
     "text": [
      "welcome\n",
      "thank you!!\n",
      "x=10,y=20\n",
      "res= 30\n",
      "x=10.23,y=45.67\n",
      "res= 55.900000000000006\n",
      "x=(1+2j),y=(3+4j)\n",
      "res= (4+6j)\n"
     ]
    }
   ],
   "source": [
    "print(\"welcome\")\n",
    "def fun(x,y): # x,y are parameters\n",
    "    print(\"x=%s,y=%s\"%(x,y))\n",
    "    z=x+y\n",
    "    print(\"res=\",z)\n",
    "print(\"thank you!!\")\n",
    "fun(10,20) # 10,20 arguments\n",
    "fun(10.23,45.67)\n",
    "fun(1+2j, 3+4j)"
   ]
  },
  {
   "cell_type": "code",
   "execution_count": 9,
   "metadata": {},
   "outputs": [
    {
     "name": "stdout",
     "output_type": "stream",
     "text": [
      "welcome\n",
      "thank you!!\n"
     ]
    },
    {
     "ename": "TypeError",
     "evalue": "fun() missing 2 required positional arguments: 'x' and 'y'",
     "output_type": "error",
     "traceback": [
      "\u001b[0;31m---------------------------------------------------------------------------\u001b[0m",
      "\u001b[0;31mTypeError\u001b[0m                                 Traceback (most recent call last)",
      "\u001b[0;32m<ipython-input-9-022e9bd517f4>\u001b[0m in \u001b[0;36m<module>\u001b[0;34m()\u001b[0m\n\u001b[1;32m      5\u001b[0m     \u001b[0mprint\u001b[0m\u001b[0;34m(\u001b[0m\u001b[0;34m\"res=\"\u001b[0m\u001b[0;34m,\u001b[0m\u001b[0mz\u001b[0m\u001b[0;34m)\u001b[0m\u001b[0;34m\u001b[0m\u001b[0m\n\u001b[1;32m      6\u001b[0m \u001b[0mprint\u001b[0m\u001b[0;34m(\u001b[0m\u001b[0;34m\"thank you!!\"\u001b[0m\u001b[0;34m)\u001b[0m\u001b[0;34m\u001b[0m\u001b[0m\n\u001b[0;32m----> 7\u001b[0;31m \u001b[0mfun\u001b[0m\u001b[0;34m(\u001b[0m\u001b[0;34m)\u001b[0m\u001b[0;34m\u001b[0m\u001b[0m\n\u001b[0m",
      "\u001b[0;31mTypeError\u001b[0m: fun() missing 2 required positional arguments: 'x' and 'y'"
     ]
    }
   ],
   "source": [
    "print(\"welcome\")\n",
    "def fun(x,y): # x,y are parameters\n",
    "    print(\"x=%s,y=%s\"%(x,y))\n",
    "    z=x+y\n",
    "    print(\"res=\",z)\n",
    "print(\"thank you!!\")\n",
    "fun()"
   ]
  },
  {
   "cell_type": "code",
   "execution_count": 10,
   "metadata": {},
   "outputs": [
    {
     "name": "stdout",
     "output_type": "stream",
     "text": [
      "Enter number1:112\n",
      "Enter number2:3\n",
      "\n",
      "Operations:\n",
      "    1.add\n",
      "    2.sub\n",
      "    3.mul\n",
      "    4.div\n",
      "\n",
      "Enter an option:1\n",
      "x=112.0, y=3.0\n",
      "result= 115.0\n"
     ]
    }
   ],
   "source": [
    "\"\"\"\n",
    "Enter number1:\n",
    "Enter number2:\n",
    "Operations:\n",
    "    1.add\n",
    "    2.sub\n",
    "    3.mul\n",
    "    4.div\n",
    "\n",
    "\"\"\"\n",
    "def add(x,y):\n",
    "    print(f\"x={x}, y={y}\")\n",
    "    z=x+y\n",
    "    print(\"result=\",z)\n",
    "def sub(x,y):\n",
    "    print(f\"x={x}, y={y}\")\n",
    "    z=x-y\n",
    "    print(\"result=\",z)\n",
    "def mul(x,y):\n",
    "    print(f\"x={x}, y={y}\")\n",
    "    z=x*y\n",
    "    print(\"result=\",z)\n",
    "def div(x,y):\n",
    "    print(f\"x={x}, y={y}\")\n",
    "    z=x/y\n",
    "    print(\"result=\",z)\n",
    "n1=input(\"Enter number1:\")\n",
    "n2=input(\"Enter number2:\")\n",
    "n1=float(n1)\n",
    "n2=float(n2)\n",
    "print(\"\"\"\n",
    "Operations:\n",
    "    1.add\n",
    "    2.sub\n",
    "    3.mul\n",
    "    4.div\n",
    "\"\"\")\n",
    "opt=  input(\"Enter an option:\")\n",
    "if opt==\"1\":\n",
    "    add(n1,n2)\n",
    "elif opt==\"2\":\n",
    "    sub(n1,n2)\n",
    "elif opt==\"3\":\n",
    "    mul(n1,n2)\n",
    "elif opt==\"4\":\n",
    "    div(n1,n2)\n",
    "else:\n",
    "    print(\"wrong option\")\n",
    "    "
   ]
  },
  {
   "cell_type": "code",
   "execution_count": 11,
   "metadata": {},
   "outputs": [
    {
     "name": "stdout",
     "output_type": "stream",
     "text": [
      "Enter number1:23\n",
      "Enter number2:45\n",
      "\n",
      "Operations:\n",
      "    1.add\n",
      "    2.sub\n",
      "    3.mul\n",
      "    4.div\n",
      "\n",
      "Enter an option:3\n",
      "x=23.0, y=45.0\n",
      "result= 1035.0\n"
     ]
    }
   ],
   "source": [
    "\"\"\"\n",
    "Enter number1:\n",
    "Enter number2:\n",
    "Operations:\n",
    "    1.add\n",
    "    2.sub\n",
    "    3.mul\n",
    "    4.div\n",
    "\n",
    "\"\"\"\n",
    "def add(x,y):\n",
    "    print(f\"x={x}, y={y}\")\n",
    "    z=x+y\n",
    "    print(\"result=\",z)\n",
    "def sub(x,y):\n",
    "    print(f\"x={x}, y={y}\")\n",
    "    z=x-y\n",
    "    print(\"result=\",z)\n",
    "def mul(x,y):\n",
    "    print(f\"x={x}, y={y}\")\n",
    "    z=x*y\n",
    "    print(\"result=\",z)\n",
    "def div(x,y):\n",
    "    print(f\"x={x}, y={y}\")\n",
    "    z=x/y\n",
    "    print(\"result=\",z)\n",
    "n1=input(\"Enter number1:\")\n",
    "n2=input(\"Enter number2:\")\n",
    "n1=float(n1)\n",
    "n2=float(n2)\n",
    "print(\"\"\"\n",
    "Operations:\n",
    "    1.add\n",
    "    2.sub\n",
    "    3.mul\n",
    "    4.div\n",
    "\"\"\")\n",
    "opt=  input(\"Enter an option:\")\n",
    "if opt==\"1\":\n",
    "    add(n1,n2)\n",
    "elif opt==\"2\":\n",
    "    sub(n1,n2)\n",
    "elif opt==\"3\":\n",
    "    mul(n1,n2)\n",
    "elif opt==\"4\":\n",
    "    div(n1,n2)\n",
    "else:\n",
    "    print(\"wrong option\")\n",
    "    "
   ]
  },
  {
   "cell_type": "code",
   "execution_count": 12,
   "metadata": {},
   "outputs": [
    {
     "name": "stdout",
     "output_type": "stream",
     "text": [
      "Enter number1:34\n",
      "Enter number2:56\n",
      "\n",
      "Operations:\n",
      "    1.add\n",
      "    2.sub\n",
      "    3.mul\n",
      "    4.div\n",
      "\n",
      "Enter an option:7\n",
      "wrong option\n"
     ]
    }
   ],
   "source": [
    "\"\"\"\n",
    "Enter number1:\n",
    "Enter number2:\n",
    "Operations:\n",
    "    1.add\n",
    "    2.sub\n",
    "    3.mul\n",
    "    4.div\n",
    "\n",
    "\"\"\"\n",
    "def add(x,y):\n",
    "    print(f\"x={x}, y={y}\")\n",
    "    z=x+y\n",
    "    print(\"result=\",z)\n",
    "def sub(x,y):\n",
    "    print(f\"x={x}, y={y}\")\n",
    "    z=x-y\n",
    "    print(\"result=\",z)\n",
    "def mul(x,y):\n",
    "    print(f\"x={x}, y={y}\")\n",
    "    z=x*y\n",
    "    print(\"result=\",z)\n",
    "def div(x,y):\n",
    "    print(f\"x={x}, y={y}\")\n",
    "    z=x/y\n",
    "    print(\"result=\",z)\n",
    "n1=input(\"Enter number1:\")\n",
    "n2=input(\"Enter number2:\")\n",
    "n1=float(n1)\n",
    "n2=float(n2)\n",
    "print(\"\"\"\n",
    "Operations:\n",
    "    1.add\n",
    "    2.sub\n",
    "    3.mul\n",
    "    4.div\n",
    "\"\"\")\n",
    "opt=  input(\"Enter an option:\")\n",
    "if opt==\"1\":\n",
    "    add(n1,n2)\n",
    "elif opt==\"2\":\n",
    "    sub(n1,n2)\n",
    "elif opt==\"3\":\n",
    "    mul(n1,n2)\n",
    "elif opt==\"4\":\n",
    "    div(n1,n2)\n",
    "else:\n",
    "    print(\"wrong option\")\n",
    "    "
   ]
  },
  {
   "cell_type": "code",
   "execution_count": 13,
   "metadata": {},
   "outputs": [
    {
     "name": "stdout",
     "output_type": "stream",
     "text": [
      "10 20\n"
     ]
    }
   ],
   "source": [
    "def fun(x,y):\n",
    "    print(x,y)\n",
    "fun(10,20)"
   ]
  },
  {
   "cell_type": "code",
   "execution_count": 14,
   "metadata": {},
   "outputs": [
    {
     "ename": "TypeError",
     "evalue": "fun() takes 2 positional arguments but 3 were given",
     "output_type": "error",
     "traceback": [
      "\u001b[0;31m---------------------------------------------------------------------------\u001b[0m",
      "\u001b[0;31mTypeError\u001b[0m                                 Traceback (most recent call last)",
      "\u001b[0;32m<ipython-input-14-0d2f0d43d43e>\u001b[0m in \u001b[0;36m<module>\u001b[0;34m()\u001b[0m\n\u001b[1;32m      1\u001b[0m \u001b[0;32mdef\u001b[0m \u001b[0mfun\u001b[0m\u001b[0;34m(\u001b[0m\u001b[0mx\u001b[0m\u001b[0;34m,\u001b[0m\u001b[0my\u001b[0m\u001b[0;34m)\u001b[0m\u001b[0;34m:\u001b[0m\u001b[0;34m\u001b[0m\u001b[0m\n\u001b[1;32m      2\u001b[0m     \u001b[0mprint\u001b[0m\u001b[0;34m(\u001b[0m\u001b[0mx\u001b[0m\u001b[0;34m,\u001b[0m\u001b[0my\u001b[0m\u001b[0;34m)\u001b[0m\u001b[0;34m\u001b[0m\u001b[0m\n\u001b[0;32m----> 3\u001b[0;31m \u001b[0mfun\u001b[0m\u001b[0;34m(\u001b[0m\u001b[0;36m10\u001b[0m\u001b[0;34m,\u001b[0m\u001b[0;36m20\u001b[0m\u001b[0;34m,\u001b[0m\u001b[0;36m30\u001b[0m\u001b[0;34m)\u001b[0m\u001b[0;34m\u001b[0m\u001b[0m\n\u001b[0m",
      "\u001b[0;31mTypeError\u001b[0m: fun() takes 2 positional arguments but 3 were given"
     ]
    }
   ],
   "source": [
    "def fun(x,y):\n",
    "    print(x,y)\n",
    "fun(10,20,30)"
   ]
  },
  {
   "cell_type": "code",
   "execution_count": 15,
   "metadata": {},
   "outputs": [
    {
     "ename": "TypeError",
     "evalue": "fun() missing 1 required positional argument: 'y'",
     "output_type": "error",
     "traceback": [
      "\u001b[0;31m---------------------------------------------------------------------------\u001b[0m",
      "\u001b[0;31mTypeError\u001b[0m                                 Traceback (most recent call last)",
      "\u001b[0;32m<ipython-input-15-ab68ba923335>\u001b[0m in \u001b[0;36m<module>\u001b[0;34m()\u001b[0m\n\u001b[1;32m      1\u001b[0m \u001b[0;32mdef\u001b[0m \u001b[0mfun\u001b[0m\u001b[0;34m(\u001b[0m\u001b[0mx\u001b[0m\u001b[0;34m,\u001b[0m\u001b[0my\u001b[0m\u001b[0;34m)\u001b[0m\u001b[0;34m:\u001b[0m\u001b[0;34m\u001b[0m\u001b[0m\n\u001b[1;32m      2\u001b[0m     \u001b[0mprint\u001b[0m\u001b[0;34m(\u001b[0m\u001b[0mx\u001b[0m\u001b[0;34m,\u001b[0m\u001b[0my\u001b[0m\u001b[0;34m)\u001b[0m\u001b[0;34m\u001b[0m\u001b[0m\n\u001b[0;32m----> 3\u001b[0;31m \u001b[0mfun\u001b[0m\u001b[0;34m(\u001b[0m\u001b[0;36m10\u001b[0m\u001b[0;34m)\u001b[0m\u001b[0;34m\u001b[0m\u001b[0m\n\u001b[0m",
      "\u001b[0;31mTypeError\u001b[0m: fun() missing 1 required positional argument: 'y'"
     ]
    }
   ],
   "source": [
    "def fun(x,y):\n",
    "    print(x,y)\n",
    "fun(10)"
   ]
  },
  {
   "cell_type": "code",
   "execution_count": 16,
   "metadata": {},
   "outputs": [
    {
     "ename": "TypeError",
     "evalue": "fun() missing 4 required positional arguments: 'b', 'c', 'd', and 'e'",
     "output_type": "error",
     "traceback": [
      "\u001b[0;31m---------------------------------------------------------------------------\u001b[0m",
      "\u001b[0;31mTypeError\u001b[0m                                 Traceback (most recent call last)",
      "\u001b[0;32m<ipython-input-16-bb1dbf4cdf3a>\u001b[0m in \u001b[0;36m<module>\u001b[0;34m()\u001b[0m\n\u001b[1;32m      4\u001b[0m     \u001b[0mf\u001b[0m\u001b[0;34m=\u001b[0m\u001b[0ma\u001b[0m\u001b[0;34m+\u001b[0m\u001b[0mb\u001b[0m\u001b[0;34m+\u001b[0m\u001b[0mc\u001b[0m\u001b[0;34m+\u001b[0m\u001b[0md\u001b[0m\u001b[0;34m+\u001b[0m\u001b[0me\u001b[0m\u001b[0;34m\u001b[0m\u001b[0m\n\u001b[1;32m      5\u001b[0m     \u001b[0mprint\u001b[0m\u001b[0;34m(\u001b[0m\u001b[0;34m\"result=\"\u001b[0m\u001b[0;34m,\u001b[0m\u001b[0mf\u001b[0m\u001b[0;34m)\u001b[0m\u001b[0;34m\u001b[0m\u001b[0m\n\u001b[0;32m----> 6\u001b[0;31m \u001b[0mfun\u001b[0m\u001b[0;34m(\u001b[0m\u001b[0;36m10\u001b[0m\u001b[0;34m)\u001b[0m\u001b[0;34m\u001b[0m\u001b[0m\n\u001b[0m\u001b[1;32m      7\u001b[0m \u001b[0mfun\u001b[0m\u001b[0;34m(\u001b[0m\u001b[0;36m10\u001b[0m\u001b[0;34m,\u001b[0m\u001b[0;36m20\u001b[0m\u001b[0;34m)\u001b[0m\u001b[0;34m\u001b[0m\u001b[0m\n\u001b[1;32m      8\u001b[0m \u001b[0mfun\u001b[0m\u001b[0;34m(\u001b[0m\u001b[0;36m10\u001b[0m\u001b[0;34m,\u001b[0m\u001b[0;36m20\u001b[0m\u001b[0;34m,\u001b[0m\u001b[0;36m30\u001b[0m\u001b[0;34m)\u001b[0m\u001b[0;34m\u001b[0m\u001b[0m\n",
      "\u001b[0;31mTypeError\u001b[0m: fun() missing 4 required positional arguments: 'b', 'c', 'd', and 'e'"
     ]
    }
   ],
   "source": [
    "# define a function for below function calls..\n",
    "def fun(a,b,c,d,e):\n",
    "    print(f\"a={a},b={b},c={c},d={d},e={e}\")\n",
    "    f=a+b+c+d+e\n",
    "    print(\"result=\",f)\n",
    "fun(10)\n",
    "fun(10,20)\n",
    "fun(10,20,30)\n",
    "fun(10,20,30,40)\n",
    "fun(10,20,30,40,50)"
   ]
  },
  {
   "cell_type": "code",
   "execution_count": 17,
   "metadata": {},
   "outputs": [
    {
     "name": "stdout",
     "output_type": "stream",
     "text": [
      "a=10,b=0,c=0,d=0,e=0\n",
      "result= 10\n"
     ]
    }
   ],
   "source": [
    "# default argument. optional parameters\n",
    "def fun(a,b=0,c=0,d=0,e=0):\n",
    "    print(f\"a={a},b={b},c={c},d={d},e={e}\")\n",
    "    f=a+b+c+d+e\n",
    "    print(\"result=\",f)\n",
    "fun(10)\n"
   ]
  },
  {
   "cell_type": "code",
   "execution_count": 19,
   "metadata": {},
   "outputs": [
    {
     "name": "stdout",
     "output_type": "stream",
     "text": [
      "a=10,b=20,c=0,d=0,e=0\n",
      "result= 30\n"
     ]
    }
   ],
   "source": [
    "# default argument. optional parameters\n",
    "def fun(a,b=0,c=0,d=0,e=0):\n",
    "    print(f\"a={a},b={b},c={c},d={d},e={e}\")\n",
    "    f=a+b+c+d+e\n",
    "    print(\"result=\",f)\n",
    "fun(10,20)"
   ]
  },
  {
   "cell_type": "code",
   "execution_count": 20,
   "metadata": {},
   "outputs": [
    {
     "name": "stdout",
     "output_type": "stream",
     "text": [
      "a=10,b=20,c=30,d=40,e=0\n",
      "result= 100\n"
     ]
    }
   ],
   "source": [
    "# default argument. optional parameters\n",
    "def fun(a,b=0,c=0,d=0,e=0):\n",
    "    print(f\"a={a},b={b},c={c},d={d},e={e}\")\n",
    "    f=a+b+c+d+e\n",
    "    print(\"result=\",f)\n",
    "fun(10,20,30,40)"
   ]
  },
  {
   "cell_type": "code",
   "execution_count": 21,
   "metadata": {},
   "outputs": [
    {
     "name": "stdout",
     "output_type": "stream",
     "text": [
      "a=10,b=20,c=30,d=40,e=50\n",
      "result= 150\n"
     ]
    }
   ],
   "source": [
    "# default argument. optional parameters\n",
    "def fun(a,b=0,c=0,d=0,e=0):\n",
    "    print(f\"a={a},b={b},c={c},d={d},e={e}\")\n",
    "    f=a+b+c+d+e\n",
    "    print(\"result=\",f)\n",
    "fun(10,20,30,40,50)"
   ]
  },
  {
   "cell_type": "code",
   "execution_count": 22,
   "metadata": {},
   "outputs": [
    {
     "ename": "TypeError",
     "evalue": "fun() takes from 1 to 5 positional arguments but 6 were given",
     "output_type": "error",
     "traceback": [
      "\u001b[0;31m---------------------------------------------------------------------------\u001b[0m",
      "\u001b[0;31mTypeError\u001b[0m                                 Traceback (most recent call last)",
      "\u001b[0;32m<ipython-input-22-ed796736ae6a>\u001b[0m in \u001b[0;36m<module>\u001b[0;34m()\u001b[0m\n\u001b[1;32m      4\u001b[0m     \u001b[0mf\u001b[0m\u001b[0;34m=\u001b[0m\u001b[0ma\u001b[0m\u001b[0;34m+\u001b[0m\u001b[0mb\u001b[0m\u001b[0;34m+\u001b[0m\u001b[0mc\u001b[0m\u001b[0;34m+\u001b[0m\u001b[0md\u001b[0m\u001b[0;34m+\u001b[0m\u001b[0me\u001b[0m\u001b[0;34m\u001b[0m\u001b[0m\n\u001b[1;32m      5\u001b[0m     \u001b[0mprint\u001b[0m\u001b[0;34m(\u001b[0m\u001b[0;34m\"result=\"\u001b[0m\u001b[0;34m,\u001b[0m\u001b[0mf\u001b[0m\u001b[0;34m)\u001b[0m\u001b[0;34m\u001b[0m\u001b[0m\n\u001b[0;32m----> 6\u001b[0;31m \u001b[0mfun\u001b[0m\u001b[0;34m(\u001b[0m\u001b[0;36m10\u001b[0m\u001b[0;34m,\u001b[0m\u001b[0;36m20\u001b[0m\u001b[0;34m,\u001b[0m\u001b[0;36m30\u001b[0m\u001b[0;34m,\u001b[0m\u001b[0;36m40\u001b[0m\u001b[0;34m,\u001b[0m\u001b[0;36m50\u001b[0m\u001b[0;34m,\u001b[0m\u001b[0;36m60\u001b[0m\u001b[0;34m)\u001b[0m\u001b[0;34m\u001b[0m\u001b[0m\n\u001b[0m",
      "\u001b[0;31mTypeError\u001b[0m: fun() takes from 1 to 5 positional arguments but 6 were given"
     ]
    }
   ],
   "source": [
    "# default argument. optional parameters\n",
    "def fun(a,b=0,c=0,d=0,e=0):\n",
    "    print(f\"a={a},b={b},c={c},d={d},e={e}\")\n",
    "    f=a+b+c+d+e\n",
    "    print(\"result=\",f)\n",
    "fun(10,20,30,40,50,60)"
   ]
  },
  {
   "cell_type": "code",
   "execution_count": 23,
   "metadata": {},
   "outputs": [
    {
     "ename": "TypeError",
     "evalue": "fun() missing 1 required positional argument: 'a'",
     "output_type": "error",
     "traceback": [
      "\u001b[0;31m---------------------------------------------------------------------------\u001b[0m",
      "\u001b[0;31mTypeError\u001b[0m                                 Traceback (most recent call last)",
      "\u001b[0;32m<ipython-input-23-741e0dcc2be8>\u001b[0m in \u001b[0;36m<module>\u001b[0;34m()\u001b[0m\n\u001b[1;32m      4\u001b[0m     \u001b[0mf\u001b[0m\u001b[0;34m=\u001b[0m\u001b[0ma\u001b[0m\u001b[0;34m+\u001b[0m\u001b[0mb\u001b[0m\u001b[0;34m+\u001b[0m\u001b[0mc\u001b[0m\u001b[0;34m+\u001b[0m\u001b[0md\u001b[0m\u001b[0;34m+\u001b[0m\u001b[0me\u001b[0m\u001b[0;34m\u001b[0m\u001b[0m\n\u001b[1;32m      5\u001b[0m     \u001b[0mprint\u001b[0m\u001b[0;34m(\u001b[0m\u001b[0;34m\"result=\"\u001b[0m\u001b[0;34m,\u001b[0m\u001b[0mf\u001b[0m\u001b[0;34m)\u001b[0m\u001b[0;34m\u001b[0m\u001b[0m\n\u001b[0;32m----> 6\u001b[0;31m \u001b[0mfun\u001b[0m\u001b[0;34m(\u001b[0m\u001b[0;34m)\u001b[0m\u001b[0;34m\u001b[0m\u001b[0m\n\u001b[0m",
      "\u001b[0;31mTypeError\u001b[0m: fun() missing 1 required positional argument: 'a'"
     ]
    }
   ],
   "source": [
    "# default argument. optional parameters\n",
    "def fun(a,b=0,c=0,d=0,e=0):\n",
    "    print(f\"a={a},b={b},c={c},d={d},e={e}\")\n",
    "    f=a+b+c+d+e\n",
    "    print(\"result=\",f)\n",
    "fun()"
   ]
  },
  {
   "cell_type": "code",
   "execution_count": 24,
   "metadata": {},
   "outputs": [
    {
     "name": "stdout",
     "output_type": "stream",
     "text": [
      "a=0,b=0,c=0,d=0,e=0\n",
      "result= 0\n"
     ]
    }
   ],
   "source": [
    "# default argument. optional parameters\n",
    "def fun(a=0,b=0,c=0,d=0,e=0):\n",
    "    \"\"\"\n",
    "    a: int: is a mandatory parameter\n",
    "    b,c,d,e: int: arte the optional parameters\n",
    "    \"\"\"\n",
    "    print(f\"a={a},b={b},c={c},d={d},e={e}\")\n",
    "    f=a+b+c+d+e\n",
    "    print(\"result=\",f)\n",
    "fun()"
   ]
  },
  {
   "cell_type": "code",
   "execution_count": 25,
   "metadata": {},
   "outputs": [
    {
     "name": "stdout",
     "output_type": "stream",
     "text": [
      "a=10,b=200,c=0,d=0,e=0\n",
      "result= 210\n"
     ]
    }
   ],
   "source": [
    "# default argument. optional parameters\n",
    "def fun(a,b=0,c=0,d=0,e=0):\n",
    "    print(f\"a={a},b={b},c={c},d={d},e={e}\")\n",
    "    f=a+b+c+d+e\n",
    "    print(\"result=\",f)\n",
    "fun(10,200)"
   ]
  },
  {
   "cell_type": "code",
   "execution_count": 26,
   "metadata": {},
   "outputs": [
    {
     "name": "stdout",
     "output_type": "stream",
     "text": [
      "a=10,b=0,c=0,d=200,e=0\n",
      "result= 210\n"
     ]
    }
   ],
   "source": [
    "# default argument. optional parameters\n",
    "def fun(a,b=0,c=0,d=0,e=0):\n",
    "    print(f\"a={a},b={b},c={c},d={d},e={e}\")\n",
    "    f=a+b+c+d+e\n",
    "    print(\"result=\",f)\n",
    "fun(10,0,0,200)"
   ]
  },
  {
   "cell_type": "code",
   "execution_count": 27,
   "metadata": {},
   "outputs": [],
   "source": [
    "import pandas as pd"
   ]
  },
  {
   "cell_type": "code",
   "execution_count": 28,
   "metadata": {},
   "outputs": [],
   "source": [
    "pd.read_csv?"
   ]
  },
  {
   "cell_type": "code",
   "execution_count": 29,
   "metadata": {},
   "outputs": [
    {
     "name": "stdout",
     "output_type": "stream",
     "text": [
      "a=10,b=0,c=0,d=200,e=0\n",
      "result= 210\n",
      "a=10,b=0,c=0,d=200,e=0\n",
      "result= 210\n"
     ]
    }
   ],
   "source": [
    "# default argument. optional parameters\n",
    "def fun(a,b=0,c=0,d=0,e=0):\n",
    "    print(f\"a={a},b={b},c={c},d={d},e={e}\")\n",
    "    f=a+b+c+d+e\n",
    "    print(\"result=\",f)\n",
    "fun(10,0,0,200) #positional arguments\n",
    "fun(10,d=200) # d is called keyword argument\n"
   ]
  },
  {
   "cell_type": "code",
   "execution_count": 30,
   "metadata": {},
   "outputs": [
    {
     "name": "stdout",
     "output_type": "stream",
     "text": [
      "a=10,b=0,c=0,d=200,e=0\n",
      "result= 210\n",
      "a=10,b=0,c=0,d=200,e=0\n",
      "result= 210\n"
     ]
    }
   ],
   "source": [
    "# default argument. optional parameters\n",
    "def fun(a,b=0,c=0,d=0,e=0):\n",
    "    print(f\"a={a},b={b},c={c},d={d},e={e}\")\n",
    "    f=a+b+c+d+e\n",
    "    print(\"result=\",f)\n",
    "fun(10,0,0,200) #positional arguments\n",
    "fun(a=10,d=200) # d is called keyword argument\n"
   ]
  },
  {
   "cell_type": "code",
   "execution_count": 31,
   "metadata": {},
   "outputs": [
    {
     "name": "stdout",
     "output_type": "stream",
     "text": [
      "a=10,b=0,c=0,d=200,e=0\n",
      "result= 210\n",
      "a=10,b=20,c=0,d=200,e=0\n",
      "result= 230\n"
     ]
    }
   ],
   "source": [
    "# default argument. optional parameters\n",
    "def fun(a,b=0,c=0,d=0,e=0):\n",
    "    print(f\"a={a},b={b},c={c},d={d},e={e}\")\n",
    "    f=a+b+c+d+e\n",
    "    print(\"result=\",f)\n",
    "fun(10,0,0,200) #positional arguments\n",
    "fun(b=20,a=10,d=200) # d is called keyword argument\n"
   ]
  },
  {
   "cell_type": "code",
   "execution_count": 32,
   "metadata": {},
   "outputs": [
    {
     "ename": "TypeError",
     "evalue": "fun() missing 1 required positional argument: 'a'",
     "output_type": "error",
     "traceback": [
      "\u001b[0;31m---------------------------------------------------------------------------\u001b[0m",
      "\u001b[0;31mTypeError\u001b[0m                                 Traceback (most recent call last)",
      "\u001b[0;32m<ipython-input-32-6fabf07392b2>\u001b[0m in \u001b[0;36m<module>\u001b[0;34m()\u001b[0m\n\u001b[1;32m      5\u001b[0m     \u001b[0mprint\u001b[0m\u001b[0;34m(\u001b[0m\u001b[0;34m\"result=\"\u001b[0m\u001b[0;34m,\u001b[0m\u001b[0mf\u001b[0m\u001b[0;34m)\u001b[0m\u001b[0;34m\u001b[0m\u001b[0m\n\u001b[1;32m      6\u001b[0m \u001b[0;34m\u001b[0m\u001b[0m\n\u001b[0;32m----> 7\u001b[0;31m \u001b[0mfun\u001b[0m\u001b[0;34m(\u001b[0m\u001b[0mb\u001b[0m\u001b[0;34m=\u001b[0m\u001b[0;36m20\u001b[0m\u001b[0;34m,\u001b[0m\u001b[0md\u001b[0m\u001b[0;34m=\u001b[0m\u001b[0;36m200\u001b[0m\u001b[0;34m)\u001b[0m \u001b[0;31m# d is called keyword argument\u001b[0m\u001b[0;34m\u001b[0m\u001b[0m\n\u001b[0m",
      "\u001b[0;31mTypeError\u001b[0m: fun() missing 1 required positional argument: 'a'"
     ]
    }
   ],
   "source": [
    "# default argument. optional parameters\n",
    "def fun(a,b=0,c=0,d=0,e=0):\n",
    "    print(f\"a={a},b={b},c={c},d={d},e={e}\")\n",
    "    f=a+b+c+d+e\n",
    "    print(\"result=\",f)\n",
    "\n",
    "fun(b=20,d=200) # d is called keyword argument\n"
   ]
  },
  {
   "cell_type": "code",
   "execution_count": 33,
   "metadata": {},
   "outputs": [
    {
     "ename": "TypeError",
     "evalue": "fun() got an unexpected keyword argument 'h'",
     "output_type": "error",
     "traceback": [
      "\u001b[0;31m---------------------------------------------------------------------------\u001b[0m",
      "\u001b[0;31mTypeError\u001b[0m                                 Traceback (most recent call last)",
      "\u001b[0;32m<ipython-input-33-f69fee876fb3>\u001b[0m in \u001b[0;36m<module>\u001b[0;34m()\u001b[0m\n\u001b[1;32m      5\u001b[0m     \u001b[0mprint\u001b[0m\u001b[0;34m(\u001b[0m\u001b[0;34m\"result=\"\u001b[0m\u001b[0;34m,\u001b[0m\u001b[0mf\u001b[0m\u001b[0;34m)\u001b[0m\u001b[0;34m\u001b[0m\u001b[0m\n\u001b[1;32m      6\u001b[0m \u001b[0;34m\u001b[0m\u001b[0m\n\u001b[0;32m----> 7\u001b[0;31m \u001b[0mfun\u001b[0m\u001b[0;34m(\u001b[0m\u001b[0mb\u001b[0m\u001b[0;34m=\u001b[0m\u001b[0;36m20\u001b[0m\u001b[0;34m,\u001b[0m\u001b[0md\u001b[0m\u001b[0;34m=\u001b[0m\u001b[0;36m200\u001b[0m\u001b[0;34m,\u001b[0m\u001b[0mh\u001b[0m\u001b[0;34m=\u001b[0m\u001b[0;36m300\u001b[0m\u001b[0;34m)\u001b[0m \u001b[0;31m# d is called keyword argument\u001b[0m\u001b[0;34m\u001b[0m\u001b[0m\n\u001b[0m",
      "\u001b[0;31mTypeError\u001b[0m: fun() got an unexpected keyword argument 'h'"
     ]
    }
   ],
   "source": [
    "# default argument. optional parameters\n",
    "def fun(a,b=0,c=0,d=0,e=0):\n",
    "    print(f\"a={a},b={b},c={c},d={d},e={e}\")\n",
    "    f=a+b+c+d+e\n",
    "    print(\"result=\",f)\n",
    "\n",
    "fun(b=20,d=200,h=300) # d is called keyword argument\n"
   ]
  },
  {
   "cell_type": "code",
   "execution_count": 35,
   "metadata": {},
   "outputs": [
    {
     "name": "stdout",
     "output_type": "stream",
     "text": [
      "() <class 'tuple'>\n",
      "(10, 20) <class 'tuple'>\n",
      "(10, 20, 30) <class 'tuple'>\n",
      "(10, 20, 30, 40, 50, 60, 760, 70, 80, 80, 80, 50, 60, 40, 60, 5) <class 'tuple'>\n"
     ]
    }
   ],
   "source": [
    "# *args\n",
    "def fun(*k):\n",
    "    print(k,type(k))\n",
    "fun()\n",
    "fun(10,20)\n",
    "fun(10,20,30)\n",
    "fun(10,20,30,40,50,60,760,70,80,80,80,50,60,40,60,5)"
   ]
  },
  {
   "cell_type": "code",
   "execution_count": 36,
   "metadata": {},
   "outputs": [
    {
     "ename": "TypeError",
     "evalue": "fun() got an unexpected keyword argument 'a'",
     "output_type": "error",
     "traceback": [
      "\u001b[0;31m---------------------------------------------------------------------------\u001b[0m",
      "\u001b[0;31mTypeError\u001b[0m                                 Traceback (most recent call last)",
      "\u001b[0;32m<ipython-input-36-f7d049b41a4f>\u001b[0m in \u001b[0;36m<module>\u001b[0;34m()\u001b[0m\n\u001b[1;32m      2\u001b[0m \u001b[0;32mdef\u001b[0m \u001b[0mfun\u001b[0m\u001b[0;34m(\u001b[0m\u001b[0;34m*\u001b[0m\u001b[0mk\u001b[0m\u001b[0;34m)\u001b[0m\u001b[0;34m:\u001b[0m\u001b[0;34m\u001b[0m\u001b[0m\n\u001b[1;32m      3\u001b[0m     \u001b[0mprint\u001b[0m\u001b[0;34m(\u001b[0m\u001b[0mk\u001b[0m\u001b[0;34m,\u001b[0m\u001b[0mtype\u001b[0m\u001b[0;34m(\u001b[0m\u001b[0mk\u001b[0m\u001b[0;34m)\u001b[0m\u001b[0;34m)\u001b[0m\u001b[0;34m\u001b[0m\u001b[0m\n\u001b[0;32m----> 4\u001b[0;31m \u001b[0mfun\u001b[0m\u001b[0;34m(\u001b[0m\u001b[0ma\u001b[0m\u001b[0;34m=\u001b[0m\u001b[0;36m10\u001b[0m\u001b[0;34m,\u001b[0m\u001b[0mb\u001b[0m\u001b[0;34m=\u001b[0m\u001b[0;36m20\u001b[0m\u001b[0;34m,\u001b[0m\u001b[0mc\u001b[0m\u001b[0;34m=\u001b[0m\u001b[0;36m30\u001b[0m\u001b[0;34m,\u001b[0m\u001b[0md\u001b[0m\u001b[0;34m=\u001b[0m\u001b[0;36m40\u001b[0m\u001b[0;34m)\u001b[0m\u001b[0;34m\u001b[0m\u001b[0m\n\u001b[0m",
      "\u001b[0;31mTypeError\u001b[0m: fun() got an unexpected keyword argument 'a'"
     ]
    }
   ],
   "source": [
    "# *args\n",
    "def fun(*k):\n",
    "    print(k,type(k))\n",
    "fun(a=10,b=20,c=30,d=40)"
   ]
  },
  {
   "cell_type": "code",
   "execution_count": 37,
   "metadata": {},
   "outputs": [
    {
     "name": "stdout",
     "output_type": "stream",
     "text": [
      "{'a': 10, 'b': 20, 'c': 30, 'd': 40} <class 'dict'>\n"
     ]
    }
   ],
   "source": [
    "# **kwargs\n",
    "def fun(**k):\n",
    "    print(k,type(k))\n",
    "fun(a=10,b=20,c=30,d=40)"
   ]
  },
  {
   "cell_type": "code",
   "execution_count": 1,
   "metadata": {},
   "outputs": [],
   "source": [
    "def fun(a,b=0,c=0,*k,**m):\n",
    "    pass"
   ]
  },
  {
   "cell_type": "code",
   "execution_count": 2,
   "metadata": {},
   "outputs": [
    {
     "name": "stdout",
     "output_type": "stream",
     "text": [
      "name=sai,weight=65,height=5.3,k=(),m={'adhar': '23243', 'cell': '78975'}\n"
     ]
    }
   ],
   "source": [
    "def person(name,weight=0,height=0,*k,**m):\n",
    "    print(f\"name={name},weight={weight},height={height},k={k},m={m}\")\n",
    "person(\"sai\",65,5.3,adhar=\"23243\",cell=\"78975\")"
   ]
  },
  {
   "cell_type": "code",
   "execution_count": 3,
   "metadata": {},
   "outputs": [
    {
     "name": "stdout",
     "output_type": "stream",
     "text": [
      "name=sai,weight=65,height=5.3,k=('sambapython@gmail.com',),m={'adhar': '23243', 'cell': '78975'}\n"
     ]
    }
   ],
   "source": [
    "def person(name,weight=0,height=0,*k,**m):\n",
    "    print(f\"name={name},weight={weight},height={height},k={k},m={m}\")\n",
    "person(\"sai\",65,5.3,\"sambapython@gmail.com\",adhar=\"23243\",cell=\"78975\")"
   ]
  },
  {
   "cell_type": "code",
   "execution_count": 6,
   "metadata": {},
   "outputs": [
    {
     "ename": "SyntaxError",
     "evalue": "positional argument follows keyword argument (<ipython-input-6-67f705eb94f8>, line 3)",
     "output_type": "error",
     "traceback": [
      "\u001b[0;36m  File \u001b[0;32m\"<ipython-input-6-67f705eb94f8>\"\u001b[0;36m, line \u001b[0;32m3\u001b[0m\n\u001b[0;31m    person(name=\"sai\",weight=65,height=5.3,email=\"sambapython@gmail.com\",adhar=\"23243\",cell=\"78975\",12,34,56)\u001b[0m\n\u001b[0m                                                                                                   ^\u001b[0m\n\u001b[0;31mSyntaxError\u001b[0m\u001b[0;31m:\u001b[0m positional argument follows keyword argument\n"
     ]
    }
   ],
   "source": [
    "def person(name,weight=0,height=0,*k,**m):\n",
    "    print(f\"name={name},weight={weight},height={height},k={k},m={m}\")\n",
    "person(name=\"sai\",weight=65,height=5.3,email=\"sambapython@gmail.com\",adhar=\"23243\",cell=\"78975\",12,34,56)"
   ]
  },
  {
   "cell_type": "code",
   "execution_count": 7,
   "metadata": {},
   "outputs": [
    {
     "ename": "TypeError",
     "evalue": "person() got multiple values for argument 'name'",
     "output_type": "error",
     "traceback": [
      "\u001b[0;31m---------------------------------------------------------------------------\u001b[0m",
      "\u001b[0;31mTypeError\u001b[0m                                 Traceback (most recent call last)",
      "\u001b[0;32m<ipython-input-7-49f53b0fdb9f>\u001b[0m in \u001b[0;36m<module>\u001b[0;34m()\u001b[0m\n\u001b[1;32m      1\u001b[0m \u001b[0;32mdef\u001b[0m \u001b[0mperson\u001b[0m\u001b[0;34m(\u001b[0m\u001b[0mname\u001b[0m\u001b[0;34m,\u001b[0m\u001b[0mweight\u001b[0m\u001b[0;34m=\u001b[0m\u001b[0;36m0\u001b[0m\u001b[0;34m,\u001b[0m\u001b[0mheight\u001b[0m\u001b[0;34m=\u001b[0m\u001b[0;36m0\u001b[0m\u001b[0;34m,\u001b[0m\u001b[0;34m*\u001b[0m\u001b[0mk\u001b[0m\u001b[0;34m,\u001b[0m\u001b[0;34m**\u001b[0m\u001b[0mm\u001b[0m\u001b[0;34m)\u001b[0m\u001b[0;34m:\u001b[0m\u001b[0;34m\u001b[0m\u001b[0m\n\u001b[1;32m      2\u001b[0m     \u001b[0mprint\u001b[0m\u001b[0;34m(\u001b[0m\u001b[0;34mf\"name={name},weight={weight},height={height},k={k},m={m}\"\u001b[0m\u001b[0;34m)\u001b[0m\u001b[0;34m\u001b[0m\u001b[0m\n\u001b[0;32m----> 3\u001b[0;31m \u001b[0mperson\u001b[0m\u001b[0;34m(\u001b[0m\u001b[0;36m12\u001b[0m\u001b[0;34m,\u001b[0m\u001b[0;36m34\u001b[0m\u001b[0;34m,\u001b[0m\u001b[0;36m56\u001b[0m\u001b[0;34m,\u001b[0m\u001b[0mname\u001b[0m\u001b[0;34m=\u001b[0m\u001b[0;34m\"sai\"\u001b[0m\u001b[0;34m,\u001b[0m\u001b[0mweight\u001b[0m\u001b[0;34m=\u001b[0m\u001b[0;36m65\u001b[0m\u001b[0;34m,\u001b[0m\u001b[0mheight\u001b[0m\u001b[0;34m=\u001b[0m\u001b[0;36m5.3\u001b[0m\u001b[0;34m,\u001b[0m\u001b[0memail\u001b[0m\u001b[0;34m=\u001b[0m\u001b[0;34m\"sambapython@gmail.com\"\u001b[0m\u001b[0;34m,\u001b[0m\u001b[0madhar\u001b[0m\u001b[0;34m=\u001b[0m\u001b[0;34m\"23243\"\u001b[0m\u001b[0;34m,\u001b[0m\u001b[0mcell\u001b[0m\u001b[0;34m=\u001b[0m\u001b[0;34m\"78975\"\u001b[0m\u001b[0;34m)\u001b[0m\u001b[0;34m\u001b[0m\u001b[0m\n\u001b[0m",
      "\u001b[0;31mTypeError\u001b[0m: person() got multiple values for argument 'name'"
     ]
    }
   ],
   "source": [
    "def person(name,weight=0,height=0,*k,**m):\n",
    "    print(f\"name={name},weight={weight},height={height},k={k},m={m}\")\n",
    "person(12,34,56,name=\"sai\",weight=65,height=5.3,email=\"sambapython@gmail.com\",adhar=\"23243\",cell=\"78975\")"
   ]
  },
  {
   "cell_type": "code",
   "execution_count": 8,
   "metadata": {},
   "outputs": [
    {
     "name": "stdout",
     "output_type": "stream",
     "text": [
      "name=sai,weight=65,height=5.3,k=(),m={'email': 'sambapython@gmail.com', 'adhar': '23243', 'cell': '78975'}\n"
     ]
    }
   ],
   "source": [
    "def person(name,weight=0,height=0,*k,**m):\n",
    "    print(f\"name={name},weight={weight},height={height},k={k},m={m}\")\n",
    "person(name=\"sai\",weight=65,height=5.3,email=\"sambapython@gmail.com\",adhar=\"23243\",cell=\"78975\")"
   ]
  },
  {
   "cell_type": "code",
   "execution_count": 9,
   "metadata": {},
   "outputs": [
    {
     "ename": "SyntaxError",
     "evalue": "invalid syntax (<ipython-input-9-3a23eae35df5>, line 1)",
     "output_type": "error",
     "traceback": [
      "\u001b[0;36m  File \u001b[0;32m\"<ipython-input-9-3a23eae35df5>\"\u001b[0;36m, line \u001b[0;32m1\u001b[0m\n\u001b[0;31m    def person(name,weight=0,height=0,*k,**m,cell):\u001b[0m\n\u001b[0m                                                ^\u001b[0m\n\u001b[0;31mSyntaxError\u001b[0m\u001b[0;31m:\u001b[0m invalid syntax\n"
     ]
    }
   ],
   "source": [
    "def person(name,weight=0,height=0,*k,**m,cell):\n",
    "    print(f\"name={name},weight={weight},height={height},k={k},m={m}\")\n",
    "person(name=\"sai\",weight=65,height=5.3,email=\"sambapython@gmail.com\",adhar=\"23243\",cell=\"78975\")"
   ]
  },
  {
   "cell_type": "code",
   "execution_count": 10,
   "metadata": {},
   "outputs": [
    {
     "name": "stdout",
     "output_type": "stream",
     "text": [
      "name=sai,weight=65,height=5.3,k=('sambapython@gmail.com', '23243', '78975'),m={}\n"
     ]
    }
   ],
   "source": [
    "def person(name,weight=0,height=0,*k,**m):\n",
    "    print(f\"name={name},weight={weight},height={height},k={k},m={m}\")\n",
    "person(\"sai\",65,5.3,\"sambapython@gmail.com\",\"23243\",\"78975\")"
   ]
  },
  {
   "cell_type": "code",
   "execution_count": 11,
   "metadata": {},
   "outputs": [
    {
     "ename": "SyntaxError",
     "evalue": "positional argument follows keyword argument (<ipython-input-11-9c1ef6d33c9a>, line 3)",
     "output_type": "error",
     "traceback": [
      "\u001b[0;36m  File \u001b[0;32m\"<ipython-input-11-9c1ef6d33c9a>\"\u001b[0;36m, line \u001b[0;32m3\u001b[0m\n\u001b[0;31m    person(name=\"anil\",\"sai\",65,5.3,\"sambapython@gmail.com\",\"23243\",\"78975\")\u001b[0m\n\u001b[0m                      ^\u001b[0m\n\u001b[0;31mSyntaxError\u001b[0m\u001b[0;31m:\u001b[0m positional argument follows keyword argument\n"
     ]
    }
   ],
   "source": [
    "def person(name,weight=0,height=0,*k,**m):\n",
    "    print(f\"name={name},weight={weight},height={height},k={k},m={m}\")\n",
    "person(name=\"anil\",\"sai\",65,5.3,\"sambapython@gmail.com\",\"23243\",\"78975\")"
   ]
  },
  {
   "cell_type": "code",
   "execution_count": 12,
   "metadata": {},
   "outputs": [
    {
     "name": "stdout",
     "output_type": "stream",
     "text": [
      "name=sai,weight=65,height=5.3,k=('sambapython@gmail.com', '23243', '78975'),m={'cell': '345678'}\n"
     ]
    }
   ],
   "source": [
    "def person(name,weight=0,height=0,*k,**m):\n",
    "    print(f\"name={name},weight={weight},height={height},k={k},m={m}\")\n",
    "person(\"sai\",65,5.3,\"sambapython@gmail.com\",\"23243\",\"78975\",cell=\"345678\")"
   ]
  },
  {
   "cell_type": "code",
   "execution_count": 13,
   "metadata": {},
   "outputs": [
    {
     "name": "stdout",
     "output_type": "stream",
     "text": [
      "a=10,b=0,c=(),d={}\n",
      "a=10,b=20,c=(30, 40, 50, 60),d={}\n"
     ]
    }
   ],
   "source": [
    "def fun(a,b=0,*c,**d):\n",
    "    print(f\"a={a},b={b},c={c},d={d}\")\n",
    "fun(10)\n",
    "fun(10,20,30,40,50,60)"
   ]
  },
  {
   "cell_type": "code",
   "execution_count": 14,
   "metadata": {},
   "outputs": [
    {
     "name": "stdout",
     "output_type": "stream",
     "text": [
      "a=10,b=0,c=(),d={}\n",
      "a=10,b=20,c=(30, 40, 50, 60),d={'x': 200, 'y': 300, 'z': 400}\n"
     ]
    }
   ],
   "source": [
    "def fun(a,b=0,*c,**d):\n",
    "    print(f\"a={a},b={b},c={c},d={d}\")\n",
    "fun(10)\n",
    "fun(10,20,30,40,50,60,x=200,y=300,z=400)"
   ]
  },
  {
   "cell_type": "code",
   "execution_count": 15,
   "metadata": {},
   "outputs": [
    {
     "name": "stdout",
     "output_type": "stream",
     "text": [
      "a=10,b=0,c=(),d={}\n"
     ]
    },
    {
     "ename": "TypeError",
     "evalue": "fun() got multiple values for argument 'a'",
     "output_type": "error",
     "traceback": [
      "\u001b[0;31m---------------------------------------------------------------------------\u001b[0m",
      "\u001b[0;31mTypeError\u001b[0m                                 Traceback (most recent call last)",
      "\u001b[0;32m<ipython-input-15-e058f4ded67e>\u001b[0m in \u001b[0;36m<module>\u001b[0;34m()\u001b[0m\n\u001b[1;32m      2\u001b[0m     \u001b[0mprint\u001b[0m\u001b[0;34m(\u001b[0m\u001b[0;34mf\"a={a},b={b},c={c},d={d}\"\u001b[0m\u001b[0;34m)\u001b[0m\u001b[0;34m\u001b[0m\u001b[0m\n\u001b[1;32m      3\u001b[0m \u001b[0mfun\u001b[0m\u001b[0;34m(\u001b[0m\u001b[0;36m10\u001b[0m\u001b[0;34m)\u001b[0m\u001b[0;34m\u001b[0m\u001b[0m\n\u001b[0;32m----> 4\u001b[0;31m \u001b[0mfun\u001b[0m\u001b[0;34m(\u001b[0m\u001b[0;36m10\u001b[0m\u001b[0;34m,\u001b[0m\u001b[0;36m20\u001b[0m\u001b[0;34m,\u001b[0m\u001b[0;36m30\u001b[0m\u001b[0;34m,\u001b[0m\u001b[0;36m40\u001b[0m\u001b[0;34m,\u001b[0m\u001b[0;36m50\u001b[0m\u001b[0;34m,\u001b[0m\u001b[0;36m60\u001b[0m\u001b[0;34m,\u001b[0m\u001b[0ma\u001b[0m\u001b[0;34m=\u001b[0m\u001b[0;36m200\u001b[0m\u001b[0;34m,\u001b[0m\u001b[0my\u001b[0m\u001b[0;34m=\u001b[0m\u001b[0;36m300\u001b[0m\u001b[0;34m,\u001b[0m\u001b[0mz\u001b[0m\u001b[0;34m=\u001b[0m\u001b[0;36m400\u001b[0m\u001b[0;34m)\u001b[0m\u001b[0;34m\u001b[0m\u001b[0m\n\u001b[0m",
      "\u001b[0;31mTypeError\u001b[0m: fun() got multiple values for argument 'a'"
     ]
    }
   ],
   "source": [
    "def fun(a,b=0,*c,**d):\n",
    "    print(f\"a={a},b={b},c={c},d={d}\")\n",
    "fun(10)\n",
    "fun(10,20,30,40,50,60,a=200,y=300,z=400)"
   ]
  },
  {
   "cell_type": "code",
   "execution_count": null,
   "metadata": {},
   "outputs": [],
   "source": [
    "def fun(x,y):\n",
    "    print(f\"x={x},y={y}\")\n",
    "    z=x+y\n",
    "r1=fun\n",
    "r2 = fun(10,20)"
   ]
  },
  {
   "cell_type": "code",
   "execution_count": 16,
   "metadata": {},
   "outputs": [
    {
     "name": "stdout",
     "output_type": "stream",
     "text": [
      "<function fun at 0x7fc44c5a1730>\n",
      "140481071290160\n",
      "<class 'function'>\n"
     ]
    }
   ],
   "source": [
    "def fun(x,y):\n",
    "    print(f\"x={x},y={y}\")\n",
    "    z=x+y\n",
    "print(fun)\n",
    "print(id(fun))\n",
    "print(type(fun))"
   ]
  },
  {
   "cell_type": "code",
   "execution_count": 18,
   "metadata": {},
   "outputs": [
    {
     "name": "stdout",
     "output_type": "stream",
     "text": [
      "<function fun at 0x7fc44c5a1730>\n",
      "140481071290160\n",
      "<class 'function'>\n",
      "<function fun at 0x7fc44c5a1730>\n",
      "<function fun at 0x7fc44c5a1730>\n"
     ]
    }
   ],
   "source": [
    "def fun(x,y):\n",
    "    print(f\"x={x},y={y}\")\n",
    "    z=x+y\n",
    "print(fun)\n",
    "print(id(fun))\n",
    "print(type(fun))\n",
    "r=fun\n",
    "print(r)\n",
    "print(fun)"
   ]
  },
  {
   "cell_type": "code",
   "execution_count": 19,
   "metadata": {},
   "outputs": [
    {
     "name": "stdout",
     "output_type": "stream",
     "text": [
      "x=10,y=20\n"
     ]
    }
   ],
   "source": [
    "def fun(x,y):\n",
    "    print(f\"x={x},y={y}\")\n",
    "    z=x+y\n",
    "fun(10,20)"
   ]
  },
  {
   "cell_type": "code",
   "execution_count": 21,
   "metadata": {},
   "outputs": [
    {
     "name": "stdout",
     "output_type": "stream",
     "text": [
      "x=10,y=20\n",
      "x=10,y=20\n"
     ]
    }
   ],
   "source": [
    "def fun(x,y):\n",
    "    print(f\"x={x},y={y}\")\n",
    "    z=x+y\n",
    "    #return None\n",
    "r1=fun\n",
    "fun(10,20)\n",
    "r1(10,20)"
   ]
  },
  {
   "cell_type": "code",
   "execution_count": 1,
   "metadata": {},
   "outputs": [
    {
     "name": "stdout",
     "output_type": "stream",
     "text": [
      "welcome\n",
      "before fun def: x=1000,y=2000\n",
      "after fun def: x=1000,y=2000\n",
      "x=5000,y=7000,a=100,b=200\n",
      "after call def: x=5000,y=2000\n",
      "x=5000,y=7000,a=10,b=20\n",
      "thank you!!\n"
     ]
    }
   ],
   "source": [
    "print(\"welcome\")\n",
    "x=1000\n",
    "y=2000\n",
    "z=x+y\n",
    "print(f\"before fun def: x={x},y={y}\")\n",
    "def fun1(a,b):\n",
    "    global x\n",
    "    x=5000\n",
    "    y=7000\n",
    "    print(f\"x={x},y={y},a={a},b={b}\")\n",
    "    c=a+b\n",
    "    d=a-b\n",
    "    \n",
    "print(f\"after fun def: x={x},y={y}\")\n",
    "r1=fun1(100,200)\n",
    "print(f\"after call def: x={x},y={y}\")\n",
    "r3=fun1(10,20)\n",
    "print(\"thank you!!\")"
   ]
  },
  {
   "cell_type": "code",
   "execution_count": 2,
   "metadata": {},
   "outputs": [
    {
     "name": "stdout",
     "output_type": "stream",
     "text": [
      "res= None\n"
     ]
    }
   ],
   "source": [
    "def fun(x,y):\n",
    "    z=x+y\n",
    "res=fun(10,20)\n",
    "print(\"res=\",res)"
   ]
  },
  {
   "cell_type": "code",
   "execution_count": 3,
   "metadata": {},
   "outputs": [
    {
     "name": "stdout",
     "output_type": "stream",
     "text": [
      "res= None\n"
     ]
    }
   ],
   "source": [
    "def fun(x,y):\n",
    "    a=x+y\n",
    "    b=x-y\n",
    "    c=x*y\n",
    "    d=x/y\n",
    "res=fun(10,20)\n",
    "print(\"res=\",res)"
   ]
  },
  {
   "cell_type": "code",
   "execution_count": 4,
   "metadata": {},
   "outputs": [
    {
     "name": "stdout",
     "output_type": "stream",
     "text": [
      "res= 1\n"
     ]
    }
   ],
   "source": [
    "def fun(x,y):\n",
    "    a=x+y\n",
    "    b=x-y\n",
    "    c=x*y\n",
    "    d=x/y\n",
    "    return 1\n",
    "res=fun(10,20)\n",
    "print(\"res=\",res)"
   ]
  },
  {
   "cell_type": "code",
   "execution_count": 8,
   "metadata": {},
   "outputs": [
    {
     "name": "stdout",
     "output_type": "stream",
     "text": [
      "MRP: mi 6A is 6520\n"
     ]
    }
   ],
   "source": [
    "# write a product function take costprice and discount as an inputs and return sales price.\n",
    "# the owner of the shop should get some profit: Rs 20 \n",
    "# cost: 6000, profit:20, dis:500:  sales price: 6520--> 500: 6020\n",
    "def product(name,cp,dis,profit=20):\n",
    "    sp = cp+dis+profit\n",
    "    return \"MRP: %s is %s\"%(name, sp) \n",
    "res = product(\"mi 6A\",6000,500)\n",
    "\n",
    "print(res)"
   ]
  },
  {
   "cell_type": "code",
   "execution_count": 9,
   "metadata": {},
   "outputs": [
    {
     "name": "stdout",
     "output_type": "stream",
     "text": [
      "{'name': 'mi 6A', 'mrp': 6520, 'discount': 500}\n"
     ]
    }
   ],
   "source": [
    "# write a product function take costprice and discount as an inputs and return sales price.\n",
    "# the owner of the shop should get some profit: Rs 20 \n",
    "# cost: 6000, profit:20, dis:500:  sales price: 6520--> 500: 6020\n",
    "def product(name,cp,dis,profit=20):\n",
    "    sp = cp+dis+profit\n",
    "    return {\"name\":name,\"mrp\":sp,\"discount\":dis}\n",
    "res = product(\"mi 6A\",6000,500)\n",
    "\n",
    "print(res)"
   ]
  },
  {
   "cell_type": "code",
   "execution_count": 10,
   "metadata": {},
   "outputs": [
    {
     "name": "stdout",
     "output_type": "stream",
     "text": [
      "st1\n",
      "res= 10\n"
     ]
    }
   ],
   "source": [
    "def fun():\n",
    "    print(\"st1\")\n",
    "    return 10\n",
    "    print(\"st2\")\n",
    "    return 20\n",
    "    print(\"st3\")\n",
    "    return 30\n",
    "res = fun()\n",
    "print(\"res=\",res)"
   ]
  },
  {
   "cell_type": "code",
   "execution_count": 11,
   "metadata": {},
   "outputs": [
    {
     "data": {
      "text/plain": [
       "range(0, 10)"
      ]
     },
     "execution_count": 11,
     "metadata": {},
     "output_type": "execute_result"
    }
   ],
   "source": [
    "range(10)"
   ]
  },
  {
   "cell_type": "code",
   "execution_count": 12,
   "metadata": {},
   "outputs": [
    {
     "name": "stdout",
     "output_type": "stream",
     "text": [
      "0\n",
      "1\n",
      "2\n",
      "3\n",
      "4\n",
      "5\n",
      "6\n",
      "7\n",
      "8\n",
      "9\n"
     ]
    }
   ],
   "source": [
    "for i in range(10):\n",
    "    print(i)"
   ]
  },
  {
   "cell_type": "code",
   "execution_count": 13,
   "metadata": {},
   "outputs": [
    {
     "name": "stdout",
     "output_type": "stream",
     "text": [
      "5\n",
      "6\n",
      "7\n",
      "8\n",
      "9\n",
      "10\n",
      "11\n",
      "12\n",
      "13\n",
      "14\n",
      "15\n",
      "16\n",
      "17\n",
      "18\n",
      "19\n"
     ]
    }
   ],
   "source": [
    "for i in range(5,20):\n",
    "    print(i)"
   ]
  },
  {
   "cell_type": "code",
   "execution_count": 14,
   "metadata": {},
   "outputs": [
    {
     "name": "stdout",
     "output_type": "stream",
     "text": [
      "5\n",
      "7\n",
      "9\n",
      "11\n",
      "13\n",
      "15\n",
      "17\n",
      "19\n"
     ]
    }
   ],
   "source": [
    "for i in range(5,20,2):\n",
    "    print(i)"
   ]
  },
  {
   "cell_type": "code",
   "execution_count": 15,
   "metadata": {},
   "outputs": [
    {
     "name": "stdout",
     "output_type": "stream",
     "text": [
      "0\n",
      "1\n",
      "2\n",
      "3\n",
      "4\n",
      "5\n",
      "6\n",
      "7\n",
      "8\n",
      "9\n",
      "res= 9\n"
     ]
    }
   ],
   "source": [
    "def fun():\n",
    "    for i in range(10):\n",
    "        print(i)\n",
    "    return i\n",
    "res=fun()\n",
    "print(\"res=\",res)"
   ]
  },
  {
   "cell_type": "code",
   "execution_count": 16,
   "metadata": {},
   "outputs": [
    {
     "name": "stdout",
     "output_type": "stream",
     "text": [
      "0\n",
      "1\n",
      "2\n",
      "3\n",
      "4\n",
      "res= 5\n"
     ]
    }
   ],
   "source": [
    "def fun():\n",
    "    for i in range(10):\n",
    "        if i==5:\n",
    "            break\n",
    "        print(i)\n",
    "    return i\n",
    "res=fun()\n",
    "print(\"res=\",res)"
   ]
  },
  {
   "cell_type": "code",
   "execution_count": 17,
   "metadata": {},
   "outputs": [
    {
     "name": "stdout",
     "output_type": "stream",
     "text": [
      "res= 0\n"
     ]
    }
   ],
   "source": [
    "def fun():\n",
    "    for i in range(10):\n",
    "        return i\n",
    "res=fun()\n",
    "print(\"res=\",res)"
   ]
  },
  {
   "cell_type": "code",
   "execution_count": 18,
   "metadata": {},
   "outputs": [
    {
     "name": "stdout",
     "output_type": "stream",
     "text": [
      "st1\n",
      "res= 10\n"
     ]
    }
   ],
   "source": [
    "def fun():\n",
    "    print(\"st1\")\n",
    "    return 10\n",
    "    print(\"st2\")\n",
    "    return 20\n",
    "    print(\"st3\")\n",
    "    return 30\n",
    "res = fun()\n",
    "print(\"res=\",res)"
   ]
  },
  {
   "cell_type": "code",
   "execution_count": 21,
   "metadata": {},
   "outputs": [
    {
     "name": "stdout",
     "output_type": "stream",
     "text": [
      "welcome\n",
      "res= <generator object fun at 0x7fe7057af138>\n",
      "<function fun at 0x7fe705797e18>\n"
     ]
    }
   ],
   "source": [
    "print(\"welcome\")\n",
    "def fun():\n",
    "    print(\"st1\")\n",
    "    yield 10\n",
    "    print(\"st2\")\n",
    "    yield 20\n",
    "    print(\"st3\")\n",
    "    yield 30\n",
    "res = fun()\n",
    "print(\"res=\",res)\n",
    "print(fun)"
   ]
  },
  {
   "cell_type": "code",
   "execution_count": 23,
   "metadata": {},
   "outputs": [
    {
     "name": "stdout",
     "output_type": "stream",
     "text": [
      "welcome\n",
      "res= <generator object fun at 0x7fe7057af0c0>\n",
      "st1\n",
      "i= 10\n",
      "st2\n",
      "i= 20\n",
      "st3\n",
      "i= 30\n",
      "thanks\n"
     ]
    }
   ],
   "source": [
    "print(\"welcome\")\n",
    "def fun():\n",
    "    print(\"st1\")\n",
    "    yield 10\n",
    "    print(\"st2\")\n",
    "    yield 20\n",
    "    print(\"st3\")\n",
    "    yield 30\n",
    "res = fun()\n",
    "print(\"res=\",res)\n",
    "for i in res:\n",
    "    print(\"i=\",i)\n",
    "print(\"thanks\")"
   ]
  },
  {
   "cell_type": "code",
   "execution_count": 24,
   "metadata": {},
   "outputs": [
    {
     "name": "stdout",
     "output_type": "stream",
     "text": [
      "welcome\n",
      "res= <generator object fun at 0x7fe7057af138>\n",
      "st1\n",
      "i= 10\n",
      "st2\n",
      "i= 20\n",
      "st3\n",
      "i= 30\n",
      "thanks\n",
      "********************\n"
     ]
    }
   ],
   "source": [
    "print(\"welcome\")\n",
    "def fun():\n",
    "    print(\"st1\")\n",
    "    yield 10\n",
    "    print(\"st2\")\n",
    "    yield 20\n",
    "    print(\"st3\")\n",
    "    yield 30\n",
    "res = fun()\n",
    "print(\"res=\",res)\n",
    "for i in res:\n",
    "    print(\"i=\",i)\n",
    "print(\"thanks\")\n",
    "print(\"*\"*20)\n",
    "for i in res:\n",
    "    print(\"i=\",i)"
   ]
  },
  {
   "cell_type": "code",
   "execution_count": 25,
   "metadata": {},
   "outputs": [
    {
     "name": "stdout",
     "output_type": "stream",
     "text": [
      "welcome\n",
      "res= <generator object fun at 0x7fe7057af570>\n",
      "st1\n",
      "i= 10\n",
      "thanks\n",
      "st2\n",
      "i= 20\n",
      "some statements\n",
      "st3\n",
      "30\n",
      "end\n"
     ]
    }
   ],
   "source": [
    "print(\"welcome\")\n",
    "def fun():\n",
    "    print(\"st1\")\n",
    "    yield 10\n",
    "    print(\"st2\")\n",
    "    yield 20\n",
    "    print(\"st3\")\n",
    "    yield 30\n",
    "res = fun()\n",
    "print(\"res=\",res)\n",
    "for i in res:\n",
    "    print(\"i=\",i)\n",
    "    break\n",
    "print(\"thanks\")\n",
    "for i in res:\n",
    "    print(\"i=\",i)\n",
    "    break\n",
    "print(\"some statements\")\n",
    "for i in res:\n",
    "    print(i)\n",
    "print(\"end\")"
   ]
  },
  {
   "cell_type": "code",
   "execution_count": null,
   "metadata": {},
   "outputs": [],
   "source": []
  }
 ],
 "metadata": {
  "kernelspec": {
   "display_name": "Python 3",
   "language": "python",
   "name": "python3"
  },
  "language_info": {
   "codemirror_mode": {
    "name": "ipython",
    "version": 3
   },
   "file_extension": ".py",
   "mimetype": "text/x-python",
   "name": "python",
   "nbconvert_exporter": "python",
   "pygments_lexer": "ipython3",
   "version": "3.7.0"
  }
 },
 "nbformat": 4,
 "nbformat_minor": 2
}
