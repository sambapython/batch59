{
 "cells": [
  {
   "cell_type": "code",
   "execution_count": 1,
   "metadata": {},
   "outputs": [
    {
     "name": "stdout",
     "output_type": "stream",
     "text": [
      "30\n"
     ]
    }
   ],
   "source": [
    "l=[10,20,30,40,50,\"apple\",\"orange\",\"banana\"]\n",
    "print(l[2])"
   ]
  },
  {
   "cell_type": "code",
   "execution_count": 2,
   "metadata": {},
   "outputs": [
    {
     "name": "stdout",
     "output_type": "stream",
     "text": [
      "apple\n"
     ]
    }
   ],
   "source": [
    "l=[10,20,30,40,50,\"apple\",\"orange\",\"banana\"]\n",
    "print(l[5])"
   ]
  },
  {
   "cell_type": "code",
   "execution_count": 3,
   "metadata": {},
   "outputs": [
    {
     "name": "stdout",
     "output_type": "stream",
     "text": [
      "pp\n"
     ]
    }
   ],
   "source": [
    "l=[10,20,30,40,50,\"apple\",\"orange\",\"banana\"]\n",
    "print(l[5][1:3])"
   ]
  },
  {
   "cell_type": "code",
   "execution_count": 4,
   "metadata": {},
   "outputs": [
    {
     "name": "stdout",
     "output_type": "stream",
     "text": [
      "['apple', 'orange', 'banana']\n"
     ]
    }
   ],
   "source": [
    "l=[10,20,30,40,50,\"apple\",\"orange\",\"banana\"]\n",
    "print(l[5:])"
   ]
  },
  {
   "cell_type": "code",
   "execution_count": 6,
   "metadata": {},
   "outputs": [
    {
     "name": "stdout",
     "output_type": "stream",
     "text": [
      "['apple', 'orange', 'banana']\n"
     ]
    }
   ],
   "source": [
    "l=[10,20,30,40]\n",
    "s=\"apple;orange;banana\"\n",
    "l=s.split(';')\n",
    "print(l)"
   ]
  },
  {
   "cell_type": "code",
   "execution_count": 7,
   "metadata": {},
   "outputs": [
    {
     "name": "stdout",
     "output_type": "stream",
     "text": [
      "[10, 20, 30, 40]\n",
      "['apple', 'orange', 'banana']\n",
      "['p', 'y', 't', 'h', 'o', 'n']\n"
     ]
    }
   ],
   "source": [
    "l=[10,20,30,40]\n",
    "print(l)\n",
    "s=\"apple;orange;banana\"\n",
    "l=s.split(';')\n",
    "print(l)\n",
    "s=\"python\"\n",
    "l=list(s)\n",
    "print(l)"
   ]
  },
  {
   "cell_type": "code",
   "execution_count": 8,
   "metadata": {},
   "outputs": [
    {
     "name": "stdout",
     "output_type": "stream",
     "text": [
      "[10, 20, 30, 40]\n",
      "['apple', 'orange', 'banana']\n",
      "['p', 'y', 't', 'h', 'o', 'n']\n",
      "['1', '2', '3', '3', '4', '5', '6']\n"
     ]
    }
   ],
   "source": [
    "l=[10,20,30,40]\n",
    "print(l)\n",
    "s=\"apple;orange;banana\"\n",
    "l=s.split(';')\n",
    "print(l)\n",
    "s=\"python\"\n",
    "l=list(s)\n",
    "print(l)\n",
    "l=list(\"1233456\")\n",
    "print(l)"
   ]
  },
  {
   "cell_type": "code",
   "execution_count": 9,
   "metadata": {},
   "outputs": [
    {
     "name": "stdout",
     "output_type": "stream",
     "text": [
      "[10, 20, [100, 200, 300, [1000, 2000, 3000], 400], 30, 40, [500, 600]]\n"
     ]
    }
   ],
   "source": [
    "l=[10,20,[100,200,300,[1000,2000,3000],400],30,40,[500,600]]\n",
    "print(l)"
   ]
  },
  {
   "cell_type": "code",
   "execution_count": 10,
   "metadata": {},
   "outputs": [
    {
     "name": "stdout",
     "output_type": "stream",
     "text": [
      "[100, 200, 300, [1000, 2000, 3000], 400]\n"
     ]
    }
   ],
   "source": [
    "l=[10,20,[100,200,300,[1000,2000,3000],400],30,40,[500,600]]\n",
    "print(l[2])"
   ]
  },
  {
   "cell_type": "code",
   "execution_count": 11,
   "metadata": {},
   "outputs": [
    {
     "name": "stdout",
     "output_type": "stream",
     "text": [
      "[1000, 2000, 3000]\n"
     ]
    }
   ],
   "source": [
    "l=[10,20,[100,200,300,[1000,2000,3000],400],30,40,[500,600]]\n",
    "print(l[2][3])"
   ]
  },
  {
   "cell_type": "code",
   "execution_count": 12,
   "metadata": {},
   "outputs": [
    {
     "name": "stdout",
     "output_type": "stream",
     "text": [
      "2000\n"
     ]
    }
   ],
   "source": [
    "l=[10,20,[100,200,300,[1000,2000,3000],400],30,40,[500,600]]\n",
    "print(l[2][3][1])"
   ]
  },
  {
   "cell_type": "code",
   "execution_count": 13,
   "metadata": {},
   "outputs": [
    {
     "data": {
      "text/plain": [
       "3"
      ]
     },
     "execution_count": 13,
     "metadata": {},
     "output_type": "execute_result"
    }
   ],
   "source": [
    "l=[10,20,[30,40]]\n",
    "len(l)"
   ]
  },
  {
   "cell_type": "code",
   "execution_count": 14,
   "metadata": {},
   "outputs": [
    {
     "name": "stdout",
     "output_type": "stream",
     "text": [
      "[10, 20, 30, 500]\n"
     ]
    }
   ],
   "source": [
    "l=[10,20,30]\n",
    "l.append(500)\n",
    "print(l)"
   ]
  },
  {
   "cell_type": "code",
   "execution_count": 15,
   "metadata": {},
   "outputs": [
    {
     "name": "stdout",
     "output_type": "stream",
     "text": [
      "[10, 20, 30, 'python']\n"
     ]
    }
   ],
   "source": [
    "l=[10,20,30]\n",
    "l.append(\"python\")\n",
    "print(l)"
   ]
  },
  {
   "cell_type": "code",
   "execution_count": 16,
   "metadata": {},
   "outputs": [
    {
     "name": "stdout",
     "output_type": "stream",
     "text": [
      "[10, 20, 30, 'p', 'y', 't', 'h', 'o', 'n']\n"
     ]
    }
   ],
   "source": [
    "l=[10,20,30]\n",
    "l.extend(\"python\")\n",
    "print(l)"
   ]
  },
  {
   "cell_type": "code",
   "execution_count": 17,
   "metadata": {},
   "outputs": [
    {
     "name": "stdout",
     "output_type": "stream",
     "text": [
      "[10, 20, 30, 'p', 'y', 't', 'h', 'o', 'n']\n"
     ]
    }
   ],
   "source": [
    "l=[10,20,30]\n",
    "for i in \"python\":\n",
    "    l.append(i)\n",
    "print(l)"
   ]
  },
  {
   "cell_type": "code",
   "execution_count": 18,
   "metadata": {},
   "outputs": [
    {
     "name": "stdout",
     "output_type": "stream",
     "text": [
      "[10, 20, 30, 1000]\n"
     ]
    }
   ],
   "source": [
    "l=[10,20,30]\n",
    "l.append(1000)\n",
    "print(l)"
   ]
  },
  {
   "cell_type": "code",
   "execution_count": 19,
   "metadata": {},
   "outputs": [
    {
     "ename": "TypeError",
     "evalue": "'int' object is not iterable",
     "output_type": "error",
     "traceback": [
      "\u001b[0;31m---------------------------------------------------------------------------\u001b[0m",
      "\u001b[0;31mTypeError\u001b[0m                                 Traceback (most recent call last)",
      "\u001b[0;32m<ipython-input-19-304c5d99e29b>\u001b[0m in \u001b[0;36m<module>\u001b[0;34m()\u001b[0m\n\u001b[1;32m      1\u001b[0m \u001b[0ml\u001b[0m\u001b[0;34m=\u001b[0m\u001b[0;34m[\u001b[0m\u001b[0;36m10\u001b[0m\u001b[0;34m,\u001b[0m\u001b[0;36m20\u001b[0m\u001b[0;34m,\u001b[0m\u001b[0;36m30\u001b[0m\u001b[0;34m]\u001b[0m\u001b[0;34m\u001b[0m\u001b[0m\n\u001b[0;32m----> 2\u001b[0;31m \u001b[0ml\u001b[0m\u001b[0;34m.\u001b[0m\u001b[0mextend\u001b[0m\u001b[0;34m(\u001b[0m\u001b[0;36m100\u001b[0m\u001b[0;34m)\u001b[0m\u001b[0;34m\u001b[0m\u001b[0m\n\u001b[0m\u001b[1;32m      3\u001b[0m \u001b[0mprint\u001b[0m\u001b[0;34m(\u001b[0m\u001b[0ml\u001b[0m\u001b[0;34m)\u001b[0m\u001b[0;34m\u001b[0m\u001b[0m\n",
      "\u001b[0;31mTypeError\u001b[0m: 'int' object is not iterable"
     ]
    }
   ],
   "source": [
    "l=[10,20,30]\n",
    "l.extend(100)\n",
    "print(l)"
   ]
  },
  {
   "cell_type": "code",
   "execution_count": 20,
   "metadata": {},
   "outputs": [
    {
     "name": "stdout",
     "output_type": "stream",
     "text": [
      "[10, 20, 30, 40, 50, 60]\n"
     ]
    }
   ],
   "source": [
    "l=[10,30,20,50,60,40]\n",
    "l.sort()\n",
    "print(l)"
   ]
  },
  {
   "cell_type": "code",
   "execution_count": 21,
   "metadata": {},
   "outputs": [
    {
     "name": "stdout",
     "output_type": "stream",
     "text": [
      "[60, 50, 40, 30, 20, 10]\n"
     ]
    }
   ],
   "source": [
    "l=[10,30,20,50,60,40]\n",
    "l.sort(reverse=True)\n",
    "print(l)"
   ]
  },
  {
   "cell_type": "code",
   "execution_count": 22,
   "metadata": {},
   "outputs": [
    {
     "name": "stdout",
     "output_type": "stream",
     "text": [
      "[10, 20, 50, 60, 40]\n"
     ]
    }
   ],
   "source": [
    "l=[10,30,20,50,60,40]\n",
    "l.pop(1)\n",
    "print(l)"
   ]
  },
  {
   "cell_type": "code",
   "execution_count": 23,
   "metadata": {},
   "outputs": [
    {
     "name": "stdout",
     "output_type": "stream",
     "text": [
      "[10, 20, 50, 60, 40]\n"
     ]
    }
   ],
   "source": [
    "l=[10,30,20,50,60,40]\n",
    "l.remove(30)\n",
    "print(l)"
   ]
  },
  {
   "cell_type": "code",
   "execution_count": 24,
   "metadata": {},
   "outputs": [
    {
     "name": "stdout",
     "output_type": "stream",
     "text": [
      "[10, 30, 20, 50, 60]\n"
     ]
    }
   ],
   "source": [
    "l=[10,30,20,50,60,40]\n",
    "l.pop()\n",
    "print(l)"
   ]
  },
  {
   "cell_type": "code",
   "execution_count": 25,
   "metadata": {},
   "outputs": [
    {
     "ename": "IndexError",
     "evalue": "pop index out of range",
     "output_type": "error",
     "traceback": [
      "\u001b[0;31m---------------------------------------------------------------------------\u001b[0m",
      "\u001b[0;31mIndexError\u001b[0m                                Traceback (most recent call last)",
      "\u001b[0;32m<ipython-input-25-da78dbcd5003>\u001b[0m in \u001b[0;36m<module>\u001b[0;34m()\u001b[0m\n\u001b[1;32m      1\u001b[0m \u001b[0ml\u001b[0m\u001b[0;34m=\u001b[0m\u001b[0;34m[\u001b[0m\u001b[0;36m10\u001b[0m\u001b[0;34m,\u001b[0m\u001b[0;36m30\u001b[0m\u001b[0;34m,\u001b[0m\u001b[0;36m20\u001b[0m\u001b[0;34m,\u001b[0m\u001b[0;36m50\u001b[0m\u001b[0;34m,\u001b[0m\u001b[0;36m60\u001b[0m\u001b[0;34m,\u001b[0m\u001b[0;36m40\u001b[0m\u001b[0;34m]\u001b[0m\u001b[0;34m\u001b[0m\u001b[0m\n\u001b[0;32m----> 2\u001b[0;31m \u001b[0ml\u001b[0m\u001b[0;34m.\u001b[0m\u001b[0mpop\u001b[0m\u001b[0;34m(\u001b[0m\u001b[0;36m20\u001b[0m\u001b[0;34m)\u001b[0m\u001b[0;34m\u001b[0m\u001b[0m\n\u001b[0m\u001b[1;32m      3\u001b[0m \u001b[0mprint\u001b[0m\u001b[0;34m(\u001b[0m\u001b[0ml\u001b[0m\u001b[0;34m)\u001b[0m\u001b[0;34m\u001b[0m\u001b[0m\n",
      "\u001b[0;31mIndexError\u001b[0m: pop index out of range"
     ]
    }
   ],
   "source": [
    "l=[10,30,20,50,60,40]\n",
    "l.pop(20)\n",
    "print(l)"
   ]
  },
  {
   "cell_type": "code",
   "execution_count": 26,
   "metadata": {},
   "outputs": [
    {
     "ename": "ValueError",
     "evalue": "list.remove(x): x not in list",
     "output_type": "error",
     "traceback": [
      "\u001b[0;31m---------------------------------------------------------------------------\u001b[0m",
      "\u001b[0;31mValueError\u001b[0m                                Traceback (most recent call last)",
      "\u001b[0;32m<ipython-input-26-4d789191175a>\u001b[0m in \u001b[0;36m<module>\u001b[0;34m()\u001b[0m\n\u001b[1;32m      1\u001b[0m \u001b[0ml\u001b[0m\u001b[0;34m=\u001b[0m\u001b[0;34m[\u001b[0m\u001b[0;36m10\u001b[0m\u001b[0;34m,\u001b[0m\u001b[0;36m30\u001b[0m\u001b[0;34m,\u001b[0m\u001b[0;36m20\u001b[0m\u001b[0;34m,\u001b[0m\u001b[0;36m50\u001b[0m\u001b[0;34m,\u001b[0m\u001b[0;36m60\u001b[0m\u001b[0;34m,\u001b[0m\u001b[0;36m40\u001b[0m\u001b[0;34m]\u001b[0m\u001b[0;34m\u001b[0m\u001b[0m\n\u001b[0;32m----> 2\u001b[0;31m \u001b[0ml\u001b[0m\u001b[0;34m.\u001b[0m\u001b[0mremove\u001b[0m\u001b[0;34m(\u001b[0m\u001b[0;36m200\u001b[0m\u001b[0;34m)\u001b[0m\u001b[0;34m\u001b[0m\u001b[0m\n\u001b[0m\u001b[1;32m      3\u001b[0m \u001b[0mprint\u001b[0m\u001b[0;34m(\u001b[0m\u001b[0ml\u001b[0m\u001b[0;34m)\u001b[0m\u001b[0;34m\u001b[0m\u001b[0m\n",
      "\u001b[0;31mValueError\u001b[0m: list.remove(x): x not in list"
     ]
    }
   ],
   "source": [
    "l=[10,30,20,50,60,40]\n",
    "l.remove(200)\n",
    "print(l)"
   ]
  },
  {
   "cell_type": "code",
   "execution_count": 27,
   "metadata": {},
   "outputs": [
    {
     "name": "stdout",
     "output_type": "stream",
     "text": [
      "[10, 30, 20, 50, 60]\n"
     ]
    }
   ],
   "source": [
    "l=[10,30,20,50,60,40]\n",
    "l.pop()\n",
    "print(l)"
   ]
  },
  {
   "cell_type": "code",
   "execution_count": 28,
   "metadata": {},
   "outputs": [
    {
     "ename": "IndexError",
     "evalue": "pop from empty list",
     "output_type": "error",
     "traceback": [
      "\u001b[0;31m---------------------------------------------------------------------------\u001b[0m",
      "\u001b[0;31mIndexError\u001b[0m                                Traceback (most recent call last)",
      "\u001b[0;32m<ipython-input-28-b6fa2b351b30>\u001b[0m in \u001b[0;36m<module>\u001b[0;34m()\u001b[0m\n\u001b[1;32m      1\u001b[0m \u001b[0ml\u001b[0m\u001b[0;34m=\u001b[0m\u001b[0;34m[\u001b[0m\u001b[0;34m]\u001b[0m\u001b[0;34m\u001b[0m\u001b[0m\n\u001b[0;32m----> 2\u001b[0;31m \u001b[0ml\u001b[0m\u001b[0;34m.\u001b[0m\u001b[0mpop\u001b[0m\u001b[0;34m(\u001b[0m\u001b[0;34m)\u001b[0m\u001b[0;34m\u001b[0m\u001b[0m\n\u001b[0m\u001b[1;32m      3\u001b[0m \u001b[0mprint\u001b[0m\u001b[0;34m(\u001b[0m\u001b[0ml\u001b[0m\u001b[0;34m)\u001b[0m\u001b[0;34m\u001b[0m\u001b[0m\n",
      "\u001b[0;31mIndexError\u001b[0m: pop from empty list"
     ]
    }
   ],
   "source": [
    "l=[]\n",
    "l.pop()\n",
    "print(l)"
   ]
  },
  {
   "cell_type": "code",
   "execution_count": 29,
   "metadata": {},
   "outputs": [
    {
     "data": {
      "text/plain": [
       "1"
      ]
     },
     "execution_count": 29,
     "metadata": {},
     "output_type": "execute_result"
    }
   ],
   "source": [
    "l=[\"apple\",\"orange\",\"apple\",\"orange\",\"banana\"]\n",
    "l.index(\"orange\")"
   ]
  },
  {
   "cell_type": "code",
   "execution_count": 30,
   "metadata": {},
   "outputs": [
    {
     "ename": "ValueError",
     "evalue": "'ora' is not in list",
     "output_type": "error",
     "traceback": [
      "\u001b[0;31m---------------------------------------------------------------------------\u001b[0m",
      "\u001b[0;31mValueError\u001b[0m                                Traceback (most recent call last)",
      "\u001b[0;32m<ipython-input-30-357bfc3e879f>\u001b[0m in \u001b[0;36m<module>\u001b[0;34m()\u001b[0m\n\u001b[1;32m      1\u001b[0m \u001b[0ml\u001b[0m\u001b[0;34m=\u001b[0m\u001b[0;34m[\u001b[0m\u001b[0;34m\"apple\"\u001b[0m\u001b[0;34m,\u001b[0m\u001b[0;34m\"orange\"\u001b[0m\u001b[0;34m,\u001b[0m\u001b[0;34m\"apple\"\u001b[0m\u001b[0;34m,\u001b[0m\u001b[0;34m\"orange\"\u001b[0m\u001b[0;34m,\u001b[0m\u001b[0;34m\"banana\"\u001b[0m\u001b[0;34m]\u001b[0m\u001b[0;34m\u001b[0m\u001b[0m\n\u001b[0;32m----> 2\u001b[0;31m \u001b[0ml\u001b[0m\u001b[0;34m.\u001b[0m\u001b[0mindex\u001b[0m\u001b[0;34m(\u001b[0m\u001b[0;34m\"ora\"\u001b[0m\u001b[0;34m)\u001b[0m\u001b[0;34m\u001b[0m\u001b[0m\n\u001b[0m",
      "\u001b[0;31mValueError\u001b[0m: 'ora' is not in list"
     ]
    }
   ],
   "source": [
    "l=[\"apple\",\"orange\",\"apple\",\"orange\",\"banana\"]\n",
    "l.index(\"ora\")"
   ]
  },
  {
   "cell_type": "code",
   "execution_count": 31,
   "metadata": {},
   "outputs": [
    {
     "name": "stdout",
     "output_type": "stream",
     "text": [
      "['orange', 'apple', 'orange', 'banana']\n"
     ]
    }
   ],
   "source": [
    "l=[\"apple\",\"orange\",\"apple\",\"orange\",\"banana\"]\n",
    "l.remove(\"apple\")\n",
    "print(l)"
   ]
  },
  {
   "cell_type": "code",
   "execution_count": 32,
   "metadata": {},
   "outputs": [
    {
     "name": "stdout",
     "output_type": "stream",
     "text": [
      "['apple', 'grape', 'orange', 'apple', 'orange', 'banana']\n"
     ]
    }
   ],
   "source": [
    "l=[\"apple\",\"orange\",\"apple\",\"orange\",\"banana\"]\n",
    "l.insert(1,\"grape\")\n",
    "print(l)"
   ]
  },
  {
   "cell_type": "code",
   "execution_count": 33,
   "metadata": {},
   "outputs": [
    {
     "name": "stdout",
     "output_type": "stream",
     "text": [
      "['apple', 'orange', 'apple', 'orange', 'banana', 'grape']\n"
     ]
    }
   ],
   "source": [
    "l=[\"apple\",\"orange\",\"apple\",\"orange\",\"banana\"]\n",
    "l.insert(100,\"grape\")\n",
    "print(l)"
   ]
  },
  {
   "cell_type": "code",
   "execution_count": 34,
   "metadata": {},
   "outputs": [
    {
     "name": "stdout",
     "output_type": "stream",
     "text": [
      "['apple', 'orange', 'apple', 'grape', 'orange', 'banana']\n"
     ]
    }
   ],
   "source": [
    "l=[\"apple\",\"orange\",\"apple\",\"orange\",\"banana\"]\n",
    "l.insert(-2,\"grape\")\n",
    "print(l)"
   ]
  },
  {
   "cell_type": "code",
   "execution_count": 35,
   "metadata": {},
   "outputs": [
    {
     "name": "stdout",
     "output_type": "stream",
     "text": [
      "['apple', 'orange', 'apple', 'orange', 'grape', 'banana']\n"
     ]
    }
   ],
   "source": [
    "l=[\"apple\",\"orange\",\"apple\",\"orange\",\"banana\"]\n",
    "l.insert(-1,\"grape\")\n",
    "print(l)"
   ]
  },
  {
   "cell_type": "code",
   "execution_count": 36,
   "metadata": {},
   "outputs": [
    {
     "data": {
      "text/plain": [
       "2"
      ]
     },
     "execution_count": 36,
     "metadata": {},
     "output_type": "execute_result"
    }
   ],
   "source": [
    "l=[\"apple\",\"orange\",\"apple\",\"orange\",\"banana\"]\n",
    "l.count(\"apple\")"
   ]
  },
  {
   "cell_type": "code",
   "execution_count": 37,
   "metadata": {},
   "outputs": [
    {
     "data": {
      "text/plain": [
       "0"
      ]
     },
     "execution_count": 37,
     "metadata": {},
     "output_type": "execute_result"
    }
   ],
   "source": [
    "l=[\"apple\",\"orange\",\"apple\",\"orange\",\"banana\"]\n",
    "l.count(\"grape\")"
   ]
  },
  {
   "cell_type": "code",
   "execution_count": 40,
   "metadata": {},
   "outputs": [
    {
     "data": {
      "text/plain": [
       "0"
      ]
     },
     "execution_count": 40,
     "metadata": {},
     "output_type": "execute_result"
    }
   ],
   "source": [
    "l=[\"apple\",\"orange\",\"apple\",\"orange\",\"banana\"]\n",
    "l.count(\"APPLE\")"
   ]
  },
  {
   "cell_type": "code",
   "execution_count": 41,
   "metadata": {},
   "outputs": [
    {
     "name": "stdout",
     "output_type": "stream",
     "text": [
      "['banana', 'orange', 'apple', 'orange', 'apple']\n"
     ]
    }
   ],
   "source": [
    "l=[\"apple\",\"orange\",\"apple\",\"orange\",\"banana\"]\n",
    "l.reverse()\n",
    "print(l)"
   ]
  },
  {
   "cell_type": "code",
   "execution_count": 42,
   "metadata": {},
   "outputs": [
    {
     "data": {
      "text/plain": [
       "[[30, 40], [10, 20]]"
      ]
     },
     "execution_count": 42,
     "metadata": {},
     "output_type": "execute_result"
    }
   ],
   "source": [
    "l=[[10,20],[30,40]]\n",
    "l.reverse()\n",
    "l"
   ]
  },
  {
   "cell_type": "code",
   "execution_count": 43,
   "metadata": {},
   "outputs": [
    {
     "data": {
      "text/plain": [
       "['apple', 'banana', 'orange']"
      ]
     },
     "execution_count": 43,
     "metadata": {},
     "output_type": "execute_result"
    }
   ],
   "source": [
    "l=[\"apple\",\"orange\",\"banana\"]\n",
    "l.sort()\n",
    "l"
   ]
  },
  {
   "cell_type": "code",
   "execution_count": 44,
   "metadata": {},
   "outputs": [
    {
     "data": {
      "text/plain": [
       "['Orange', 'apple', 'banana']"
      ]
     },
     "execution_count": 44,
     "metadata": {},
     "output_type": "execute_result"
    }
   ],
   "source": [
    "l=[\"apple\",\"Orange\",\"banana\"]\n",
    "l.sort()\n",
    "l"
   ]
  },
  {
   "cell_type": "code",
   "execution_count": 1,
   "metadata": {},
   "outputs": [
    {
     "data": {
      "text/plain": [
       "[('apple', 20), ('banana', 3), ('orange', 40)]"
      ]
     },
     "execution_count": 1,
     "metadata": {},
     "output_type": "execute_result"
    }
   ],
   "source": [
    "l=[(\"apple\",20),(\"orange\",40),(\"banana\",3)]\n",
    "l.sort()\n",
    "l"
   ]
  },
  {
   "cell_type": "code",
   "execution_count": 2,
   "metadata": {},
   "outputs": [],
   "source": [
    "l.sort?"
   ]
  },
  {
   "cell_type": "code",
   "execution_count": 4,
   "metadata": {},
   "outputs": [
    {
     "name": "stdout",
     "output_type": "stream",
     "text": [
      "('apple', 20)\n",
      "('orange', 40)\n",
      "('banana', 3)\n"
     ]
    },
    {
     "data": {
      "text/plain": [
       "[('apple', 20), ('orange', 40), ('banana', 3)]"
      ]
     },
     "execution_count": 4,
     "metadata": {},
     "output_type": "execute_result"
    }
   ],
   "source": [
    "l=[(\"apple\",20),(\"orange\",40),(\"banana\",3)]\n",
    "def comparison_fun(x):\n",
    "    print(x)\n",
    "    return 1\n",
    "l.sort(key=comparison_fun)\n",
    "l"
   ]
  },
  {
   "cell_type": "code",
   "execution_count": 5,
   "metadata": {},
   "outputs": [
    {
     "name": "stdout",
     "output_type": "stream",
     "text": [
      "('apple', 20)\n",
      "('orange', 40)\n",
      "('banana', 3)\n"
     ]
    },
    {
     "data": {
      "text/plain": [
       "[('banana', 3), ('apple', 20), ('orange', 40)]"
      ]
     },
     "execution_count": 5,
     "metadata": {},
     "output_type": "execute_result"
    }
   ],
   "source": [
    "l=[(\"apple\",20),(\"orange\",40),(\"banana\",3)]\n",
    "def comparison_fun(x):\n",
    "    print(x)\n",
    "    return x[1]\n",
    "l.sort(key=comparison_fun)\n",
    "l"
   ]
  },
  {
   "cell_type": "code",
   "execution_count": 6,
   "metadata": {},
   "outputs": [
    {
     "name": "stdout",
     "output_type": "stream",
     "text": [
      "('apple', 20)\n",
      "('orange', 40)\n",
      "('banana', 3)\n"
     ]
    },
    {
     "data": {
      "text/plain": [
       "[('apple', 20), ('banana', 3), ('orange', 40)]"
      ]
     },
     "execution_count": 6,
     "metadata": {},
     "output_type": "execute_result"
    }
   ],
   "source": [
    "l=[(\"apple\",20),(\"orange\",40),(\"banana\",3)]\n",
    "def comparison_fun(x):\n",
    "    print(x)\n",
    "    return x[0]\n",
    "l.sort(key=comparison_fun)\n",
    "l"
   ]
  },
  {
   "cell_type": "code",
   "execution_count": 7,
   "metadata": {},
   "outputs": [
    {
     "name": "stdout",
     "output_type": "stream",
     "text": [
      "('apple', 20)\n",
      "('Orange', 40)\n",
      "('banana', 3)\n"
     ]
    },
    {
     "data": {
      "text/plain": [
       "[('Orange', 40), ('apple', 20), ('banana', 3)]"
      ]
     },
     "execution_count": 7,
     "metadata": {},
     "output_type": "execute_result"
    }
   ],
   "source": [
    "l=[(\"apple\",20),(\"Orange\",40),(\"banana\",3)]\n",
    "def comparison_fun(x):\n",
    "    print(x)\n",
    "    return x[0]\n",
    "l.sort(key=comparison_fun)\n",
    "l"
   ]
  },
  {
   "cell_type": "code",
   "execution_count": 8,
   "metadata": {},
   "outputs": [
    {
     "name": "stdout",
     "output_type": "stream",
     "text": [
      "('apple', 20)\n",
      "('Orange', 40)\n",
      "('banana', 3)\n"
     ]
    },
    {
     "data": {
      "text/plain": [
       "[('apple', 20), ('banana', 3), ('Orange', 40)]"
      ]
     },
     "execution_count": 8,
     "metadata": {},
     "output_type": "execute_result"
    }
   ],
   "source": [
    "l=[(\"apple\",20),(\"Orange\",40),(\"banana\",3)]\n",
    "def comparison_fun(x):\n",
    "    print(x)\n",
    "    return x[0].lower()\n",
    "l.sort(key=comparison_fun)\n",
    "l"
   ]
  },
  {
   "cell_type": "code",
   "execution_count": 10,
   "metadata": {},
   "outputs": [
    {
     "name": "stdout",
     "output_type": "stream",
     "text": [
      "('apple', 20)\n",
      "('Orange', 40)\n",
      "('banana', 3)\n"
     ]
    },
    {
     "data": {
      "text/plain": [
       "[('apple', 20), ('banana', 3), ('Orange', 40)]"
      ]
     },
     "execution_count": 10,
     "metadata": {},
     "output_type": "execute_result"
    }
   ],
   "source": [
    "l=[(\"apple\",20),(\"Orange\",40),(\"banana\",3)]\n",
    "def element_decide(x):\n",
    "    print(x)\n",
    "    return x[0].casefold()\n",
    "l.sort(key=element_decide)\n",
    "l"
   ]
  },
  {
   "cell_type": "code",
   "execution_count": 13,
   "metadata": {},
   "outputs": [
    {
     "name": "stdout",
     "output_type": "stream",
     "text": [
      "{'name': 'sai', 'sal': 23456}\n",
      "{'name': 'jay', 'sal': 50000}\n",
      "{'name': 'vedha', 'sal': 45000}\n"
     ]
    },
    {
     "data": {
      "text/plain": [
       "[{'name': 'jay', 'sal': 50000},\n",
       " {'name': 'sai', 'sal': 23456},\n",
       " {'name': 'vedha', 'sal': 45000}]"
      ]
     },
     "execution_count": 13,
     "metadata": {},
     "output_type": "execute_result"
    }
   ],
   "source": [
    "l=[{\"name\":\"sai\",\"sal\":23456},{\"name\":\"jay\",\"sal\":50000},{\"name\":\"vedha\",\"sal\":45000}]\n",
    "def element_decide(x):\n",
    "    print(x)\n",
    "    return x[\"name\"]\n",
    "l.sort(key=element_decide)\n",
    "l"
   ]
  },
  {
   "cell_type": "code",
   "execution_count": 14,
   "metadata": {},
   "outputs": [
    {
     "name": "stdout",
     "output_type": "stream",
     "text": [
      "{'name': 'sai', 'sal': 23456}\n",
      "{'name': 'jay', 'sal': 50000}\n",
      "{'name': 'vedha', 'sal': 45000}\n"
     ]
    },
    {
     "data": {
      "text/plain": [
       "[{'name': 'sai', 'sal': 23456},\n",
       " {'name': 'vedha', 'sal': 45000},\n",
       " {'name': 'jay', 'sal': 50000}]"
      ]
     },
     "execution_count": 14,
     "metadata": {},
     "output_type": "execute_result"
    }
   ],
   "source": [
    "l=[{\"name\":\"sai\",\"sal\":23456},{\"name\":\"jay\",\"sal\":50000},{\"name\":\"vedha\",\"sal\":45000}]\n",
    "def element_decide(x):\n",
    "    print(x)\n",
    "    return x[\"sal\"]\n",
    "l.sort(key=element_decide)\n",
    "l"
   ]
  },
  {
   "cell_type": "code",
   "execution_count": 15,
   "metadata": {},
   "outputs": [
    {
     "name": "stdout",
     "output_type": "stream",
     "text": [
      "{'name': 'sai', 'sal': 23456}\n",
      "{'name': 'jay', 'sal': 50000}\n",
      "{'name': 'vedha', 'sal': 45000}\n"
     ]
    },
    {
     "data": {
      "text/plain": [
       "[{'name': 'jay', 'sal': 50000},\n",
       " {'name': 'sai', 'sal': 23456},\n",
       " {'name': 'vedha', 'sal': 45000}]"
      ]
     },
     "execution_count": 15,
     "metadata": {},
     "output_type": "execute_result"
    }
   ],
   "source": [
    "l=[{\"name\":\"sai\",\"sal\":23456},{\"name\":\"jay\",\"sal\":50000},{\"name\":\"vedha\",\"sal\":45000}]\n",
    "def element_decide(x):\n",
    "    print(x)\n",
    "    return x[\"name\"]\n",
    "l.sort(key=element_decide)\n",
    "l"
   ]
  },
  {
   "cell_type": "code",
   "execution_count": 16,
   "metadata": {},
   "outputs": [
    {
     "name": "stdout",
     "output_type": "stream",
     "text": [
      "{'name': 'SAI', 'sal': 23456}\n",
      "{'name': 'jay', 'sal': 50000}\n",
      "{'name': 'vedha', 'sal': 45000}\n"
     ]
    },
    {
     "data": {
      "text/plain": [
       "[{'name': 'SAI', 'sal': 23456},\n",
       " {'name': 'jay', 'sal': 50000},\n",
       " {'name': 'vedha', 'sal': 45000}]"
      ]
     },
     "execution_count": 16,
     "metadata": {},
     "output_type": "execute_result"
    }
   ],
   "source": [
    "l=[{\"name\":\"SAI\",\"sal\":23456},{\"name\":\"jay\",\"sal\":50000},{\"name\":\"vedha\",\"sal\":45000}]\n",
    "def element_decide(x):\n",
    "    print(x)\n",
    "    return x[\"name\"]\n",
    "l.sort(key=element_decide)\n",
    "l"
   ]
  },
  {
   "cell_type": "code",
   "execution_count": 17,
   "metadata": {},
   "outputs": [
    {
     "name": "stdout",
     "output_type": "stream",
     "text": [
      "{'name': 'SAI', 'sal': 23456}\n",
      "{'name': 'jay', 'sal': 50000}\n",
      "{'name': 'vedha', 'sal': 45000}\n"
     ]
    },
    {
     "data": {
      "text/plain": [
       "[{'name': 'jay', 'sal': 50000},\n",
       " {'name': 'SAI', 'sal': 23456},\n",
       " {'name': 'vedha', 'sal': 45000}]"
      ]
     },
     "execution_count": 17,
     "metadata": {},
     "output_type": "execute_result"
    }
   ],
   "source": [
    "l=[{\"name\":\"SAI\",\"sal\":23456},{\"name\":\"jay\",\"sal\":50000},{\"name\":\"vedha\",\"sal\":45000}]\n",
    "def element_decide(x):\n",
    "    print(x)\n",
    "    return x[\"name\"].lower()\n",
    "l.sort(key=element_decide)\n",
    "l"
   ]
  },
  {
   "cell_type": "code",
   "execution_count": 18,
   "metadata": {},
   "outputs": [
    {
     "name": "stdout",
     "output_type": "stream",
     "text": [
      "apple;orange;banana\n",
      "grape;orange;banana\n"
     ]
    }
   ],
   "source": [
    "s=\"apple;orange;banana\"\n",
    "s1=s.replace(\"apple\",\"grape\")\n",
    "print(s)\n",
    "print(s1)"
   ]
  },
  {
   "cell_type": "code",
   "execution_count": 19,
   "metadata": {},
   "outputs": [
    {
     "name": "stdout",
     "output_type": "stream",
     "text": [
      "[10, 20, 30, 40, 500]\n",
      "None\n"
     ]
    }
   ],
   "source": [
    "l=[10,20,30,40]\n",
    "l1=l.append(500)\n",
    "print(l)\n",
    "print(l1)"
   ]
  },
  {
   "cell_type": "code",
   "execution_count": 20,
   "metadata": {},
   "outputs": [
    {
     "name": "stdout",
     "output_type": "stream",
     "text": [
      "[10, 20, 30, 40] 140086303753608\n",
      "[10, 20, 30, 40, 500] 140086303753608\n"
     ]
    }
   ],
   "source": [
    "l=[10,20,30,40]\n",
    "print(l,id(l))\n",
    "l1=l.append(500)\n",
    "print(l,id(l))"
   ]
  },
  {
   "cell_type": "code",
   "execution_count": 21,
   "metadata": {},
   "outputs": [
    {
     "name": "stdout",
     "output_type": "stream",
     "text": [
      "[1000, 20, 30, 40]\n"
     ]
    }
   ],
   "source": [
    "l=[10,20,30,40]\n",
    "l[0]=1000\n",
    "print(l)"
   ]
  },
  {
   "cell_type": "code",
   "execution_count": 22,
   "metadata": {},
   "outputs": [
    {
     "name": "stdout",
     "output_type": "stream",
     "text": [
      "[10, 20, 30, 500]\n"
     ]
    }
   ],
   "source": [
    "l=[10,20,30,40]\n",
    "l[3]=500\n",
    "print(l)"
   ]
  },
  {
   "cell_type": "code",
   "execution_count": 23,
   "metadata": {},
   "outputs": [
    {
     "ename": "IndexError",
     "evalue": "list assignment index out of range",
     "output_type": "error",
     "traceback": [
      "\u001b[0;31m---------------------------------------------------------------------------\u001b[0m",
      "\u001b[0;31mIndexError\u001b[0m                                Traceback (most recent call last)",
      "\u001b[0;32m<ipython-input-23-573a76d4642f>\u001b[0m in \u001b[0;36m<module>\u001b[0;34m()\u001b[0m\n\u001b[1;32m      1\u001b[0m \u001b[0ml\u001b[0m\u001b[0;34m=\u001b[0m\u001b[0;34m[\u001b[0m\u001b[0;36m10\u001b[0m\u001b[0;34m,\u001b[0m\u001b[0;36m20\u001b[0m\u001b[0;34m,\u001b[0m\u001b[0;36m30\u001b[0m\u001b[0;34m,\u001b[0m\u001b[0;36m40\u001b[0m\u001b[0;34m]\u001b[0m\u001b[0;34m\u001b[0m\u001b[0m\n\u001b[0;32m----> 2\u001b[0;31m \u001b[0ml\u001b[0m\u001b[0;34m[\u001b[0m\u001b[0;36m4\u001b[0m\u001b[0;34m]\u001b[0m\u001b[0;34m=\u001b[0m\u001b[0;36m500\u001b[0m\u001b[0;34m\u001b[0m\u001b[0m\n\u001b[0m\u001b[1;32m      3\u001b[0m \u001b[0mprint\u001b[0m\u001b[0;34m(\u001b[0m\u001b[0ml\u001b[0m\u001b[0;34m)\u001b[0m\u001b[0;34m\u001b[0m\u001b[0m\n",
      "\u001b[0;31mIndexError\u001b[0m: list assignment index out of range"
     ]
    }
   ],
   "source": [
    "l=[10,20,30,40]\n",
    "l[4]=500\n",
    "print(l)"
   ]
  },
  {
   "cell_type": "code",
   "execution_count": 24,
   "metadata": {},
   "outputs": [
    {
     "name": "stdout",
     "output_type": "stream",
     "text": [
      "[10, 20, 40]\n",
      "30\n"
     ]
    }
   ],
   "source": [
    "l=[10,20,30,40]\n",
    "k=l.pop(2)\n",
    "print(l)\n",
    "print(k)"
   ]
  },
  {
   "cell_type": "code",
   "execution_count": 25,
   "metadata": {},
   "outputs": [
    {
     "name": "stdout",
     "output_type": "stream",
     "text": [
      "[10, 20, 40]\n",
      "None\n"
     ]
    }
   ],
   "source": [
    "l=[10,20,30,40]\n",
    "k=l.remove(30)\n",
    "print(l)\n",
    "print(k)"
   ]
  },
  {
   "cell_type": "code",
   "execution_count": 26,
   "metadata": {},
   "outputs": [
    {
     "name": "stdout",
     "output_type": "stream",
     "text": [
      "10\n"
     ]
    }
   ],
   "source": [
    "l=[\"10\",\"6\",\"7\",\"200\",\"10\",\"200\",\"9\",\"8\",\"6\",\"5\"]\n",
    "# find the second max value from this list...\n",
    "print(l[0])"
   ]
  },
  {
   "cell_type": "code",
   "execution_count": 27,
   "metadata": {},
   "outputs": [
    {
     "ename": "TypeError",
     "evalue": "'NoneType' object is not subscriptable",
     "output_type": "error",
     "traceback": [
      "\u001b[0;31m---------------------------------------------------------------------------\u001b[0m",
      "\u001b[0;31mTypeError\u001b[0m                                 Traceback (most recent call last)",
      "\u001b[0;32m<ipython-input-27-8546458bb635>\u001b[0m in \u001b[0;36m<module>\u001b[0;34m()\u001b[0m\n\u001b[1;32m      2\u001b[0m \u001b[0;31m# find the second max value from this list...\u001b[0m\u001b[0;34m\u001b[0m\u001b[0;34m\u001b[0m\u001b[0m\n\u001b[1;32m      3\u001b[0m \u001b[0ml1\u001b[0m\u001b[0;34m=\u001b[0m\u001b[0ml\u001b[0m\u001b[0;34m.\u001b[0m\u001b[0msort\u001b[0m\u001b[0;34m(\u001b[0m\u001b[0;34m)\u001b[0m\u001b[0;34m\u001b[0m\u001b[0m\n\u001b[0;32m----> 4\u001b[0;31m \u001b[0ml1\u001b[0m\u001b[0;34m[\u001b[0m\u001b[0;34m-\u001b[0m\u001b[0;36m2\u001b[0m\u001b[0;34m]\u001b[0m\u001b[0;34m\u001b[0m\u001b[0m\n\u001b[0m",
      "\u001b[0;31mTypeError\u001b[0m: 'NoneType' object is not subscriptable"
     ]
    }
   ],
   "source": [
    "l=[\"10\",\"6\",\"7\",\"200\",\"10\",\"200\",\"9\",\"8\",\"6\",\"5\"]\n",
    "# find the second max value from this list...\n",
    "l1=l.sort()\n",
    "l1[-2]"
   ]
  },
  {
   "cell_type": "code",
   "execution_count": 28,
   "metadata": {},
   "outputs": [
    {
     "ename": "TypeError",
     "evalue": "'NoneType' object is not subscriptable",
     "output_type": "error",
     "traceback": [
      "\u001b[0;31m---------------------------------------------------------------------------\u001b[0m",
      "\u001b[0;31mTypeError\u001b[0m                                 Traceback (most recent call last)",
      "\u001b[0;32m<ipython-input-28-0ff617ca0a1c>\u001b[0m in \u001b[0;36m<module>\u001b[0;34m()\u001b[0m\n\u001b[1;32m      2\u001b[0m \u001b[0;31m# find the second max value from this list...\u001b[0m\u001b[0;34m\u001b[0m\u001b[0;34m\u001b[0m\u001b[0m\n\u001b[1;32m      3\u001b[0m \u001b[0ml1\u001b[0m\u001b[0;34m=\u001b[0m\u001b[0ml\u001b[0m\u001b[0;34m.\u001b[0m\u001b[0msort\u001b[0m\u001b[0;34m(\u001b[0m\u001b[0;34m)\u001b[0m\u001b[0;34m\u001b[0m\u001b[0m\n\u001b[0;32m----> 4\u001b[0;31m \u001b[0mprint\u001b[0m\u001b[0;34m(\u001b[0m\u001b[0ml1\u001b[0m\u001b[0;34m[\u001b[0m\u001b[0;34m-\u001b[0m\u001b[0;36m2\u001b[0m\u001b[0;34m]\u001b[0m\u001b[0;34m)\u001b[0m\u001b[0;34m\u001b[0m\u001b[0m\n\u001b[0m",
      "\u001b[0;31mTypeError\u001b[0m: 'NoneType' object is not subscriptable"
     ]
    }
   ],
   "source": [
    "l=[\"10\",\"6\",\"7\",\"200\",\"10\",\"200\",\"9\",\"8\",\"6\",\"5\"]\n",
    "# find the second max value from this list...\n",
    "l1=l.sort()\n",
    "print(l1[-2])"
   ]
  },
  {
   "cell_type": "code",
   "execution_count": 29,
   "metadata": {},
   "outputs": [
    {
     "name": "stdout",
     "output_type": "stream",
     "text": [
      "None\n"
     ]
    },
    {
     "ename": "TypeError",
     "evalue": "'NoneType' object is not subscriptable",
     "output_type": "error",
     "traceback": [
      "\u001b[0;31m---------------------------------------------------------------------------\u001b[0m",
      "\u001b[0;31mTypeError\u001b[0m                                 Traceback (most recent call last)",
      "\u001b[0;32m<ipython-input-29-35a1ff44d896>\u001b[0m in \u001b[0;36m<module>\u001b[0;34m()\u001b[0m\n\u001b[1;32m      3\u001b[0m \u001b[0ml1\u001b[0m\u001b[0;34m=\u001b[0m\u001b[0ml\u001b[0m\u001b[0;34m.\u001b[0m\u001b[0msort\u001b[0m\u001b[0;34m(\u001b[0m\u001b[0;34m)\u001b[0m\u001b[0;34m\u001b[0m\u001b[0m\n\u001b[1;32m      4\u001b[0m \u001b[0mprint\u001b[0m\u001b[0;34m(\u001b[0m\u001b[0ml1\u001b[0m\u001b[0;34m)\u001b[0m\u001b[0;34m\u001b[0m\u001b[0m\n\u001b[0;32m----> 5\u001b[0;31m \u001b[0mprint\u001b[0m\u001b[0;34m(\u001b[0m\u001b[0ml1\u001b[0m\u001b[0;34m[\u001b[0m\u001b[0;34m-\u001b[0m\u001b[0;36m2\u001b[0m\u001b[0;34m]\u001b[0m\u001b[0;34m)\u001b[0m\u001b[0;34m\u001b[0m\u001b[0m\n\u001b[0m",
      "\u001b[0;31mTypeError\u001b[0m: 'NoneType' object is not subscriptable"
     ]
    }
   ],
   "source": [
    "l=[\"10\",\"6\",\"7\",\"200\",\"10\",\"200\",\"9\",\"8\",\"6\",\"5\"]\n",
    "# find the second max value from this list...\n",
    "l1=l.sort()\n",
    "print(l1)\n",
    "print(l1[-2])"
   ]
  },
  {
   "cell_type": "code",
   "execution_count": 30,
   "metadata": {},
   "outputs": [
    {
     "name": "stdout",
     "output_type": "stream",
     "text": [
      "['10', '10', '200', '200', '5', '6', '6', '7', '8', '9']\n",
      "8\n"
     ]
    }
   ],
   "source": [
    "l=[\"10\",\"6\",\"7\",\"200\",\"10\",\"200\",\"9\",\"8\",\"6\",\"5\"]\n",
    "# find the second max value from this list...\n",
    "l1=l.sort()\n",
    "print(l)\n",
    "print(l[-2])"
   ]
  },
  {
   "cell_type": "code",
   "execution_count": 31,
   "metadata": {},
   "outputs": [],
   "source": [
    "l=[\"10\",\"6\",\"7\",\"200\",\"10\",\"200\",\"9\",\"8\",\"6\",\"5\"]\n",
    "# find the second max value from this list...\n",
    "l1=l.sort()\n",
    "print(l)\n",
    "print(l[-2])"
   ]
  },
  {
   "cell_type": "code",
   "execution_count": 32,
   "metadata": {},
   "outputs": [
    {
     "name": "stdout",
     "output_type": "stream",
     "text": [
      "10\n",
      "6\n",
      "7\n",
      "200\n",
      "10\n",
      "200\n",
      "9\n",
      "8\n",
      "6\n",
      "5\n"
     ]
    }
   ],
   "source": [
    "l=[\"10\",\"6\",\"7\",\"200\",\"10\",\"200\",\"9\",\"8\",\"6\",\"5\"]\n",
    "# find the second max value from this list...\n",
    "res=[]\n",
    "for i in l:\n",
    "    print(i)"
   ]
  },
  {
   "cell_type": "code",
   "execution_count": 34,
   "metadata": {},
   "outputs": [
    {
     "name": "stdout",
     "output_type": "stream",
     "text": [
      "[10, 6, 7, 200, 10, 200, 9, 8, 6, 5]\n",
      "['10', '6', '7', '200', '10', '200', '9', '8', '6', '5']\n"
     ]
    }
   ],
   "source": [
    "l=[\"10\",\"6\",\"7\",\"200\",\"10\",\"200\",\"9\",\"8\",\"6\",\"5\"]\n",
    "# find the second max value from this list...\n",
    "res=[]\n",
    "for i in l:\n",
    "    res.append(int(i))\n",
    "print(res)\n",
    "print(l)"
   ]
  },
  {
   "cell_type": "code",
   "execution_count": 35,
   "metadata": {},
   "outputs": [
    {
     "name": "stdout",
     "output_type": "stream",
     "text": [
      "[5, 6, 6, 7, 8, 9, 10, 10, 200, 200]\n"
     ]
    }
   ],
   "source": [
    "l=[\"10\",\"6\",\"7\",\"200\",\"10\",\"200\",\"9\",\"8\",\"6\",\"5\"]\n",
    "# find the second max value from this list...\n",
    "res=[]\n",
    "for i in l:\n",
    "    res.append(int(i))\n",
    "res.sort()\n",
    "print(res)"
   ]
  },
  {
   "cell_type": "code",
   "execution_count": 36,
   "metadata": {},
   "outputs": [
    {
     "name": "stdout",
     "output_type": "stream",
     "text": [
      "{5, 6, 7, 8, 9, 10, 200}\n"
     ]
    }
   ],
   "source": [
    "l=[\"10\",\"6\",\"7\",\"200\",\"10\",\"200\",\"9\",\"8\",\"6\",\"5\"]\n",
    "# find the second max value from this list...\n",
    "res=[]\n",
    "for i in l:\n",
    "    res.append(int(i))\n",
    "res.sort()\n",
    "s=set(res)\n",
    "print(s)"
   ]
  },
  {
   "cell_type": "code",
   "execution_count": 37,
   "metadata": {},
   "outputs": [
    {
     "name": "stdout",
     "output_type": "stream",
     "text": [
      "200\n"
     ]
    }
   ],
   "source": [
    "l=[\"10\",\"6\",\"7\",\"200\",\"10\",\"200\",\"9\",\"8\",\"6\",\"5\"]\n",
    "# find the second max value from this list...\n",
    "res=[]\n",
    "for i in l:\n",
    "    res.append(int(i))\n",
    "max_ele = max(res)\n",
    "print(max_ele)"
   ]
  },
  {
   "cell_type": "code",
   "execution_count": 39,
   "metadata": {},
   "outputs": [
    {
     "name": "stdout",
     "output_type": "stream",
     "text": [
      "[10, 6, 7, 10, 200, 9, 8, 6, 5]\n"
     ]
    }
   ],
   "source": [
    "l=[\"10\",\"6\",\"7\",\"200\",\"10\",\"200\",\"9\",\"8\",\"6\",\"5\"]\n",
    "# find the second max value from this list...\n",
    "res=[]\n",
    "for i in l:\n",
    "    res.append(int(i))\n",
    "max_ele = max(res)\n",
    "res.remove(max_ele)\n",
    "print(res)"
   ]
  },
  {
   "cell_type": "code",
   "execution_count": 40,
   "metadata": {},
   "outputs": [
    {
     "name": "stdout",
     "output_type": "stream",
     "text": [
      "[20, 30, 10, 10, 10, 10, 10, 10, 40, 20, 30]\n"
     ]
    }
   ],
   "source": [
    "l=[10,20,30,10,10,10,10,10,10,40,20,30]\n",
    "l.remove(10)\n",
    "print(l)"
   ]
  },
  {
   "cell_type": "code",
   "execution_count": 42,
   "metadata": {},
   "outputs": [
    {
     "name": "stdout",
     "output_type": "stream",
     "text": [
      "[20, 30, 10, 10, 10, 10, 10, 10, 40, 20, 30]\n",
      "[20, 30, 10, 10, 10, 10, 10, 40, 20, 30]\n",
      "[20, 30, 10, 10, 10, 10, 40, 20, 30]\n",
      "[20, 30, 10, 10, 10, 40, 20, 30]\n",
      "[20, 30, 10, 10, 10, 40, 20, 30]\n"
     ]
    }
   ],
   "source": [
    "l=[10,20,30,10,10,10,10,10,10,40,20,30]\n",
    "for i in l:\n",
    "    if i==10:\n",
    "        l.remove(i)\n",
    "        print(l)\n",
    "print(l)"
   ]
  },
  {
   "cell_type": "code",
   "execution_count": 1,
   "metadata": {},
   "outputs": [
    {
     "name": "stdout",
     "output_type": "stream",
     "text": [
      "\n"
     ]
    }
   ],
   "source": [
    "l=[10,20,30,40]\n",
    "for i in l:\n",
    "    l.append(10)\n",
    "    break\n",
    "print(\"\")"
   ]
  },
  {
   "cell_type": "code",
   "execution_count": 3,
   "metadata": {},
   "outputs": [
    {
     "name": "stdout",
     "output_type": "stream",
     "text": [
      "[20, 30, 40, 20, 30]\n"
     ]
    }
   ],
   "source": [
    "l=[10,20,30,10,10,10,10,10,10,40,20,30]\n",
    "res=[]\n",
    "for i in l:\n",
    "    if i!=10:\n",
    "        res.append(i)\n",
    "print(res)"
   ]
  },
  {
   "cell_type": "code",
   "execution_count": 4,
   "metadata": {},
   "outputs": [
    {
     "data": {
      "text/plain": [
       "7"
      ]
     },
     "execution_count": 4,
     "metadata": {},
     "output_type": "execute_result"
    }
   ],
   "source": [
    "l=[10,20,30,10,10,10,10,10,10,40,20,30]\n",
    "l.count(10)"
   ]
  },
  {
   "cell_type": "code",
   "execution_count": 6,
   "metadata": {},
   "outputs": [
    {
     "name": "stdout",
     "output_type": "stream",
     "text": [
      "[20, 30, 40, 20, 30]\n"
     ]
    }
   ],
   "source": [
    "l=[10,20,30,10,10,10,10,10,10,40,20,30]\n",
    "l.remove(10)\n",
    "l.remove(10)\n",
    "l.remove(10)\n",
    "l.remove(10)\n",
    "l.remove(10)\n",
    "l.remove(10)\n",
    "l.remove(10)\n",
    "print(l)"
   ]
  },
  {
   "cell_type": "code",
   "execution_count": 8,
   "metadata": {},
   "outputs": [
    {
     "name": "stdout",
     "output_type": "stream",
     "text": [
      "[20, 30, 40, 20, 30]\n"
     ]
    }
   ],
   "source": [
    "l=[10,20,30,10,10,10,10,10,10,40,20,30]\n",
    "i=0\n",
    "while i<7: \n",
    "    l.remove(10)\n",
    "    i=i+1\n",
    "print(l)"
   ]
  },
  {
   "cell_type": "code",
   "execution_count": 9,
   "metadata": {},
   "outputs": [
    {
     "name": "stdout",
     "output_type": "stream",
     "text": [
      "0\n",
      "1\n",
      "2\n",
      "3\n",
      "4\n",
      "5\n",
      "6\n",
      "[10, 20, 30, 10, 10, 10, 10, 10, 10, 40, 20, 30]\n"
     ]
    }
   ],
   "source": [
    "l=[10,20,30,10,10,10,10,10,10,40,20,30]\n",
    "for i in range(7):\n",
    "    print(i)\n",
    "print(l)"
   ]
  },
  {
   "cell_type": "code",
   "execution_count": 10,
   "metadata": {},
   "outputs": [
    {
     "name": "stdout",
     "output_type": "stream",
     "text": [
      "[20, 30, 40, 20, 30]\n"
     ]
    }
   ],
   "source": [
    "l=[10,20,30,10,10,10,10,10,10,40,20,30]\n",
    "for i in range(7):\n",
    "    l.remove(10)\n",
    "print(l)"
   ]
  },
  {
   "cell_type": "code",
   "execution_count": 11,
   "metadata": {},
   "outputs": [
    {
     "name": "stdout",
     "output_type": "stream",
     "text": [
      "[20, 30, 40, 20, 30]\n"
     ]
    }
   ],
   "source": [
    "l=[10,20,30,10,10,10,10,10,10,40,20,30]\n",
    "for i in range(l.count(10)):\n",
    "    l.remove(10)\n",
    "print(l)"
   ]
  },
  {
   "cell_type": "code",
   "execution_count": 13,
   "metadata": {},
   "outputs": [
    {
     "name": "stdout",
     "output_type": "stream",
     "text": [
      "[10, 6, 7, 10, 9, 8, 6, 5]\n"
     ]
    }
   ],
   "source": [
    "l=[\"10\",\"6\",\"7\",\"200\",\"10\",\"200\",\"9\",\"8\",\"6\",\"5\"]\n",
    "# find the second max value from this list...\n",
    "res=[]\n",
    "for i in l:\n",
    "    res.append(int(i))\n",
    "max_ele = max(res)\n",
    "for i in range(res.count(max_ele)):\n",
    "    res.remove(max_ele)\n",
    "print(res)"
   ]
  },
  {
   "cell_type": "code",
   "execution_count": 15,
   "metadata": {},
   "outputs": [
    {
     "name": "stdout",
     "output_type": "stream",
     "text": [
      "10\n"
     ]
    }
   ],
   "source": [
    "l=[\"10\",\"6\",\"7\",\"200\",\"10\",\"200\",\"9\",\"8\",\"6\",\"5\"]\n",
    "# find the second max value from this list...\n",
    "for i in range(10):\n",
    "    l[i] = int(l[i])\n",
    "max_ele = max(l)\n",
    "for i in range(l.count(max_ele)):\n",
    "    l.remove(max_ele)\n",
    "print(max(l))"
   ]
  },
  {
   "cell_type": "code",
   "execution_count": 16,
   "metadata": {},
   "outputs": [
    {
     "name": "stdout",
     "output_type": "stream",
     "text": [
      "200\n"
     ]
    }
   ],
   "source": [
    "l=[\"10\",\"6\",\"7\",\"200\",\"10\",\"200\",\"9\",\"8\",\"6\",\"5\"]\n",
    "# find the second max value from this list...\n",
    "def element_decide(x):\n",
    "    return int(x)\n",
    "\n",
    "max_ele = max(l,key=element_decide)\n",
    "print(max_ele)"
   ]
  },
  {
   "cell_type": "code",
   "execution_count": 19,
   "metadata": {},
   "outputs": [
    {
     "name": "stdout",
     "output_type": "stream",
     "text": [
      "['10', '6', '7', '10', '9', '8', '6', '5']\n"
     ]
    }
   ],
   "source": [
    "l=[\"10\",\"6\",\"7\",\"200\",\"10\",\"200\",\"9\",\"8\",\"6\",\"5\"]\n",
    "# find the second max value from this list...\n",
    "def element_decide(x):\n",
    "    return int(x)\n",
    "max_ele = max(l,key=element_decide)\n",
    "for i in range(l.count(max_ele)):\n",
    "    l.remove(max_ele)\n",
    "print(l)"
   ]
  },
  {
   "cell_type": "code",
   "execution_count": 20,
   "metadata": {},
   "outputs": [
    {
     "name": "stdout",
     "output_type": "stream",
     "text": [
      "9\n"
     ]
    }
   ],
   "source": [
    "l=[\"10\",\"6\",\"7\",\"200\",\"10\",\"200\",\"9\",\"8\",\"6\",\"5\"]\n",
    "# find the second max value from this list...\n",
    "def element_decide(x):\n",
    "    return int(x)\n",
    "max_ele = max(l,key=element_decide)\n",
    "for i in range(l.count(max_ele)):\n",
    "    l.remove(max_ele)\n",
    "print(max(l))"
   ]
  },
  {
   "cell_type": "code",
   "execution_count": 21,
   "metadata": {},
   "outputs": [
    {
     "name": "stdout",
     "output_type": "stream",
     "text": [
      "10\n"
     ]
    }
   ],
   "source": [
    "l=[\"10\",\"6\",\"7\",\"200\",\"10\",\"200\",\"9\",\"8\",\"6\",\"5\"]\n",
    "# find the second max value from this list...\n",
    "def element_decide(x):\n",
    "    return int(x)\n",
    "max_ele = max(l,key=element_decide)\n",
    "for i in range(l.count(max_ele)):\n",
    "    l.remove(max_ele)\n",
    "print(max(l,key=element_decide))"
   ]
  },
  {
   "cell_type": "code",
   "execution_count": 22,
   "metadata": {},
   "outputs": [
    {
     "name": "stdout",
     "output_type": "stream",
     "text": [
      "10\n",
      "6\n",
      "7\n",
      "200\n",
      "10\n",
      "200\n",
      "9\n",
      "8\n",
      "6\n",
      "5\n",
      "10\n",
      "6\n",
      "7\n",
      "10\n",
      "9\n",
      "8\n",
      "6\n",
      "5\n",
      "10\n"
     ]
    }
   ],
   "source": [
    "l=[\"10\",\"6\",\"7\",\"200\",\"10\",\"200\",\"9\",\"8\",\"6\",\"5\"]\n",
    "# find the second max value from this list...\n",
    "def element_decide(x):\n",
    "    print(x)\n",
    "    return int(x)\n",
    "max_ele = max(l,key=element_decide)\n",
    "for i in range(l.count(max_ele)):\n",
    "    l.remove(max_ele)\n",
    "print(max(l,key=element_decide))"
   ]
  },
  {
   "cell_type": "code",
   "execution_count": 23,
   "metadata": {},
   "outputs": [
    {
     "name": "stdout",
     "output_type": "stream",
     "text": [
      "Enter string:abcd223\n",
      "a\n",
      "b\n",
      "c\n",
      "d\n",
      "2\n",
      "2\n",
      "3\n"
     ]
    }
   ],
   "source": [
    "# s=\"apple;Orange;BANAna\": sort the string based on fruit names.\n",
    "# s=\"apple;Orange;BANAna\": remove apple form the string\n",
    "# l=[{\"name\":\"SAI\",\"sal\":23456},{\"name\":\"jay\",\"sal\":50000},{\"name\":\"vedha\",\"sal\":45000}]:  find the max salary person.\n",
    "s=input(\"Enter string:\")\n",
    "for i in s:\n",
    "    print(i)\n"
   ]
  },
  {
   "cell_type": "code",
   "execution_count": 24,
   "metadata": {},
   "outputs": [
    {
     "name": "stdout",
     "output_type": "stream",
     "text": [
      "Enter string:dsfsdfsdgew\n",
      "not contains digits\n"
     ]
    }
   ],
   "source": [
    "# s=\"apple;Orange;BANAna\": sort the string based on fruit names.\n",
    "# s=\"apple;Orange;BANAna\": remove apple form the string\n",
    "# l=[{\"name\":\"SAI\",\"sal\":23456},{\"name\":\"jay\",\"sal\":50000},{\"name\":\"vedha\",\"sal\":45000}]:  find the max salary person.\n",
    "s=input(\"Enter string:\")\n",
    "for i in s:\n",
    "    if i.isdigit():\n",
    "        print(\"it has digits\")\n",
    "        break\n",
    "else:\n",
    "    print(\"not contains digits\")\n"
   ]
  },
  {
   "cell_type": "code",
   "execution_count": 25,
   "metadata": {},
   "outputs": [
    {
     "name": "stdout",
     "output_type": "stream",
     "text": [
      "Enter string:qwerwew2qewrewrwe\n",
      "it has digits\n"
     ]
    }
   ],
   "source": [
    "# s=\"apple;Orange;BANAna\": sort the string based on fruit names.\n",
    "# s=\"apple;Orange;BANAna\": remove apple form the string\n",
    "# l=[{\"name\":\"SAI\",\"sal\":23456},{\"name\":\"jay\",\"sal\":50000},{\"name\":\"vedha\",\"sal\":45000}]:  find the max salary person.\n",
    "s=input(\"Enter string:\")\n",
    "for i in s:\n",
    "    if i.isdigit():\n",
    "        print(\"it has digits\")\n",
    "        break\n",
    "else:\n",
    "    print(\"not contains digits\")\n"
   ]
  },
  {
   "cell_type": "code",
   "execution_count": null,
   "metadata": {},
   "outputs": [],
   "source": []
  }
 ],
 "metadata": {
  "kernelspec": {
   "display_name": "Python 3",
   "language": "python",
   "name": "python3"
  },
  "language_info": {
   "codemirror_mode": {
    "name": "ipython",
    "version": 3
   },
   "file_extension": ".py",
   "mimetype": "text/x-python",
   "name": "python",
   "nbconvert_exporter": "python",
   "pygments_lexer": "ipython3",
   "version": "3.7.0"
  }
 },
 "nbformat": 4,
 "nbformat_minor": 2
}
