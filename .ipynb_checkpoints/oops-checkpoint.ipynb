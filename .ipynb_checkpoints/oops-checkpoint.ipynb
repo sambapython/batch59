{
 "cells": [
  {
   "cell_type": "code",
   "execution_count": 1,
   "metadata": {},
   "outputs": [
    {
     "name": "stdout",
     "output_type": "stream",
     "text": [
      "welcome\n",
      "this is class\n",
      "thanks\n"
     ]
    }
   ],
   "source": [
    "print(\"welcome\")\n",
    "def fun():\n",
    "    print(\"this is fun\")\n",
    "class CustomerSupply:\n",
    "    print(\"this is class\")\n",
    "print(\"thanks\")"
   ]
  },
  {
   "cell_type": "code",
   "execution_count": 2,
   "metadata": {},
   "outputs": [
    {
     "name": "stdout",
     "output_type": "stream",
     "text": [
      "welcome\n",
      "this is class\n",
      "thanks\n"
     ]
    }
   ],
   "source": [
    "print(\"welcome\")\n",
    "class CustomerSupply:\n",
    "    print(\"this is class\")\n",
    "    x=1000\n",
    "    y=2000\n",
    "    z=x+y\n",
    "    def add(a,b):\n",
    "        print(a,b)\n",
    "print(\"thanks\")\n"
   ]
  },
  {
   "cell_type": "code",
   "execution_count": 3,
   "metadata": {},
   "outputs": [
    {
     "name": "stdout",
     "output_type": "stream",
     "text": [
      "welcome\n",
      "this is class\n",
      "thanks\n"
     ]
    },
    {
     "ename": "NameError",
     "evalue": "name 'x' is not defined",
     "output_type": "error",
     "traceback": [
      "\u001b[0;31m---------------------------------------------------------------------------\u001b[0m",
      "\u001b[0;31mNameError\u001b[0m                                 Traceback (most recent call last)",
      "\u001b[0;32m<ipython-input-3-7a89370112c1>\u001b[0m in \u001b[0;36m<module>\u001b[0;34m()\u001b[0m\n\u001b[1;32m      8\u001b[0m         \u001b[0mprint\u001b[0m\u001b[0;34m(\u001b[0m\u001b[0ma\u001b[0m\u001b[0;34m,\u001b[0m\u001b[0mb\u001b[0m\u001b[0;34m)\u001b[0m\u001b[0;34m\u001b[0m\u001b[0m\n\u001b[1;32m      9\u001b[0m \u001b[0mprint\u001b[0m\u001b[0;34m(\u001b[0m\u001b[0;34m\"thanks\"\u001b[0m\u001b[0;34m)\u001b[0m\u001b[0;34m\u001b[0m\u001b[0m\n\u001b[0;32m---> 10\u001b[0;31m \u001b[0mprint\u001b[0m\u001b[0;34m(\u001b[0m\u001b[0mx\u001b[0m\u001b[0;34m)\u001b[0m\u001b[0;34m\u001b[0m\u001b[0m\n\u001b[0m",
      "\u001b[0;31mNameError\u001b[0m: name 'x' is not defined"
     ]
    }
   ],
   "source": [
    "print(\"welcome\")\n",
    "class CustomerSupply:\n",
    "    print(\"this is class\")\n",
    "    x=1000\n",
    "    y=2000\n",
    "    z=x+y\n",
    "    def add(a,b):\n",
    "        print(a,b)\n",
    "print(\"thanks\")\n",
    "print(x)"
   ]
  },
  {
   "cell_type": "code",
   "execution_count": 4,
   "metadata": {},
   "outputs": [
    {
     "name": "stdout",
     "output_type": "stream",
     "text": [
      "welcome\n",
      "this is class\n",
      "thanks\n",
      "1000\n",
      "2000\n",
      "3000\n",
      "10 20\n",
      "None\n"
     ]
    }
   ],
   "source": [
    "print(\"welcome\")\n",
    "class CustomerSupply:\n",
    "    print(\"this is class\")\n",
    "    x=1000\n",
    "    y=2000\n",
    "    z=x+y\n",
    "    def add(a,b):\n",
    "        print(a,b)\n",
    "print(\"thanks\")\n",
    "print(CustomerSupply.x)\n",
    "print(CustomerSupply.y)\n",
    "print(CustomerSupply.z)\n",
    "print(CustomerSupply.add(10,20))"
   ]
  },
  {
   "cell_type": "code",
   "execution_count": 5,
   "metadata": {},
   "outputs": [
    {
     "name": "stdout",
     "output_type": "stream",
     "text": [
      "JAYARAM vedhanvesh\n"
     ]
    }
   ],
   "source": [
    "class Emp: # Emp is the reference of the class object\n",
    "    company_name = \"Khyaathi\"\n",
    "    company_addres=\"maithrivanam\"\n",
    "    def get(x):\n",
    "        pass\n",
    "jay=Emp() # jay is the reference of Emp data object. jay is an instance of Emp\n",
    "jay.name=\"JAYARAM\"\n",
    "jay.age=23\n",
    "jay.sal=34000\n",
    "vedha = Emp() # vedha is the reference of Emp object. vedha is an instance of Emp\n",
    "vedha.name=\"vedhanvesh\"\n",
    "\n",
    "print(jay.name,vedha.name)"
   ]
  },
  {
   "cell_type": "code",
   "execution_count": 6,
   "metadata": {},
   "outputs": [
    {
     "name": "stdout",
     "output_type": "stream",
     "text": [
      "JAYARAM vedhanvesh\n"
     ]
    },
    {
     "ename": "AttributeError",
     "evalue": "'Emp' object has no attribute 'sal'",
     "output_type": "error",
     "traceback": [
      "\u001b[0;31m---------------------------------------------------------------------------\u001b[0m",
      "\u001b[0;31mAttributeError\u001b[0m                            Traceback (most recent call last)",
      "\u001b[0;32m<ipython-input-6-57c7ea482842>\u001b[0m in \u001b[0;36m<module>\u001b[0;34m()\u001b[0m\n\u001b[1;32m     12\u001b[0m \u001b[0;34m\u001b[0m\u001b[0m\n\u001b[1;32m     13\u001b[0m \u001b[0mprint\u001b[0m\u001b[0;34m(\u001b[0m\u001b[0mjay\u001b[0m\u001b[0;34m.\u001b[0m\u001b[0mname\u001b[0m\u001b[0;34m,\u001b[0m\u001b[0mvedha\u001b[0m\u001b[0;34m.\u001b[0m\u001b[0mname\u001b[0m\u001b[0;34m)\u001b[0m\u001b[0;34m\u001b[0m\u001b[0m\n\u001b[0;32m---> 14\u001b[0;31m \u001b[0mprint\u001b[0m\u001b[0;34m(\u001b[0m\u001b[0mvedha\u001b[0m\u001b[0;34m.\u001b[0m\u001b[0msal\u001b[0m\u001b[0;34m)\u001b[0m\u001b[0;34m\u001b[0m\u001b[0m\n\u001b[0m",
      "\u001b[0;31mAttributeError\u001b[0m: 'Emp' object has no attribute 'sal'"
     ]
    }
   ],
   "source": [
    "class Emp: # Emp is the reference of the class object\n",
    "    company_name = \"Khyaathi\"\n",
    "    company_addres=\"maithrivanam\"\n",
    "    def get(x):\n",
    "        pass\n",
    "jay=Emp() # jay is the reference of Emp data object. jay is an instance of Emp\n",
    "jay.name=\"JAYARAM\"\n",
    "jay.age=23\n",
    "jay.sal=34000\n",
    "vedha = Emp() # vedha is the reference of Emp object. vedha is an instance of Emp\n",
    "vedha.name=\"vedhanvesh\"\n",
    "\n",
    "print(jay.name,vedha.name)\n",
    "print(vedha.sal)"
   ]
  },
  {
   "cell_type": "code",
   "execution_count": 8,
   "metadata": {},
   "outputs": [
    {
     "name": "stdout",
     "output_type": "stream",
     "text": [
      "Khyaathi maithrivanam\n"
     ]
    }
   ],
   "source": [
    "class Emp: \n",
    "    company_name = \"Khyaathi\"\n",
    "    company_addres=\"maithrivanam\"\n",
    "    def get(x):\n",
    "        pass\n",
    "jay=Emp() \n",
    "jay.name=\"JAYARAM\"\n",
    "jay.age=23\n",
    "jay.sal=34000\n",
    "vedha = Emp() \n",
    "vedha.name=\"vedhanvesh\"\n",
    "print(vedha.company_name,jay.company_addres)"
   ]
  },
  {
   "cell_type": "code",
   "execution_count": 9,
   "metadata": {},
   "outputs": [
    {
     "name": "stdout",
     "output_type": "stream",
     "text": [
      "Khyaathi maithrivanam\n"
     ]
    },
    {
     "ename": "AttributeError",
     "evalue": "type object 'Emp' has no attribute 'name'",
     "output_type": "error",
     "traceback": [
      "\u001b[0;31m---------------------------------------------------------------------------\u001b[0m",
      "\u001b[0;31mAttributeError\u001b[0m                            Traceback (most recent call last)",
      "\u001b[0;32m<ipython-input-9-fe0692aa9edd>\u001b[0m in \u001b[0;36m<module>\u001b[0;34m()\u001b[0m\n\u001b[1;32m     11\u001b[0m \u001b[0mvedha\u001b[0m\u001b[0;34m.\u001b[0m\u001b[0mname\u001b[0m\u001b[0;34m=\u001b[0m\u001b[0;34m\"vedhanvesh\"\u001b[0m\u001b[0;34m\u001b[0m\u001b[0m\n\u001b[1;32m     12\u001b[0m \u001b[0mprint\u001b[0m\u001b[0;34m(\u001b[0m\u001b[0mvedha\u001b[0m\u001b[0;34m.\u001b[0m\u001b[0mcompany_name\u001b[0m\u001b[0;34m,\u001b[0m\u001b[0mjay\u001b[0m\u001b[0;34m.\u001b[0m\u001b[0mcompany_addres\u001b[0m\u001b[0;34m)\u001b[0m\u001b[0;34m\u001b[0m\u001b[0m\n\u001b[0;32m---> 13\u001b[0;31m \u001b[0mprint\u001b[0m\u001b[0;34m(\u001b[0m\u001b[0mEmp\u001b[0m\u001b[0;34m.\u001b[0m\u001b[0mname\u001b[0m\u001b[0;34m)\u001b[0m\u001b[0;34m\u001b[0m\u001b[0m\n\u001b[0m",
      "\u001b[0;31mAttributeError\u001b[0m: type object 'Emp' has no attribute 'name'"
     ]
    }
   ],
   "source": [
    "class Emp: \n",
    "    company_name = \"Khyaathi\"\n",
    "    company_addres=\"maithrivanam\"\n",
    "    def get(x):\n",
    "        pass\n",
    "jay=Emp() \n",
    "jay.name=\"JAYARAM\"\n",
    "jay.age=23\n",
    "jay.sal=34000\n",
    "vedha = Emp() \n",
    "vedha.name=\"vedhanvesh\"\n",
    "print(vedha.company_name,jay.company_addres)\n",
    "print(Emp.name)"
   ]
  },
  {
   "cell_type": "code",
   "execution_count": 10,
   "metadata": {},
   "outputs": [
    {
     "name": "stdout",
     "output_type": "stream",
     "text": [
      "jayaram\n"
     ]
    }
   ],
   "source": [
    "class Emp: \n",
    "    company_name = \"Khyaathi\"\n",
    "    company_addres=\"maithrivanam\"\n",
    "    def get(x):\n",
    "        pass\n",
    "jay=Emp() \n",
    "jay.name=\"JAYARAM\"\n",
    "jay.age=23\n",
    "jay.sal=34000\n",
    "vedha = Emp() \n",
    "vedha.name=\"vedhanvesh\"\n",
    "jay.name=\"jayaram\"\n",
    "print(jay.name)"
   ]
  },
  {
   "cell_type": "code",
   "execution_count": 12,
   "metadata": {},
   "outputs": [
    {
     "name": "stdout",
     "output_type": "stream",
     "text": [
      "vedhanvesh JAYARAM\n"
     ]
    }
   ],
   "source": [
    "class Emp: \n",
    "    company_name = \"Khyaathi\"\n",
    "    company_addres=\"maithrivanam\"\n",
    "    def get(x):\n",
    "        pass\n",
    "    def set_data(x,e_name,e_age=None,e_sal=None):\n",
    "        x.name=e_name\n",
    "        x.age=e_age\n",
    "        x.sal=e_sal\n",
    "jay=Emp() \n",
    "Emp.set_data(jay,\"JAYARAM\",23,34000)\n",
    "'''\n",
    "jay.name=\"JAYARAM\"\n",
    "jay.age=23\n",
    "jay.sal=34000\n",
    "'''\n",
    "vedha = Emp() \n",
    "Emp.set_data(vedha,\"vedhanvesh\")\n",
    "'''\n",
    "vedha.name=\"vedhanvesh\"\n",
    "jay.name=\"jayaram\"\n",
    "print(jay.name)\n",
    "'''\n",
    "print(vedha.name,jay.name)"
   ]
  },
  {
   "cell_type": "code",
   "execution_count": 13,
   "metadata": {},
   "outputs": [
    {
     "name": "stdout",
     "output_type": "stream",
     "text": [
      "('JAYARAM', 23, 34000)\n",
      "('vedhanvesh', None, None)\n"
     ]
    }
   ],
   "source": [
    "class Emp: \n",
    "    company_name = \"Khyaathi\"  # class object attributes\n",
    "    company_addres=\"maithrivanam\"\n",
    "    def get(x):\n",
    "        return x.name,x.age,x.sal\n",
    "    def set_data(x,e_name,e_age=None,e_sal=None):\n",
    "        x.name=e_name # data object attributes\n",
    "        x.age=e_age\n",
    "        x.sal=e_sal\n",
    "jay=Emp() \n",
    "Emp.set_data(jay,\"JAYARAM\",23,34000)\n",
    "vedha = Emp() \n",
    "Emp.set_data(vedha,\"vedhanvesh\")\n",
    "print(Emp.get(jay))\n",
    "print(Emp.get(vedha))"
   ]
  },
  {
   "cell_type": "code",
   "execution_count": 14,
   "metadata": {},
   "outputs": [],
   "source": [
    "# define a car class mention some class object attributes and dataobject attributes. get and \n",
    "# set_data functions..."
   ]
  },
  {
   "cell_type": "code",
   "execution_count": 15,
   "metadata": {},
   "outputs": [
    {
     "name": "stdout",
     "output_type": "stream",
     "text": [
      "('car1', 'RED', 560000, 4)\n"
     ]
    }
   ],
   "source": [
    "class Car:\n",
    "    no_wheels=4\n",
    "    def set_data(x,name,color,price):\n",
    "        x.name=name\n",
    "        x.color=color\n",
    "        x.price=price\n",
    "    def get(x):\n",
    "        return x.name,x.color,x.price,x.no_wheels\n",
    "car1 = Car()\n",
    "Car.set_data(car1,\"car1\",\"RED\",560000)\n",
    "print(Car.get(car1))"
   ]
  },
  {
   "cell_type": "code",
   "execution_count": 16,
   "metadata": {},
   "outputs": [
    {
     "name": "stdout",
     "output_type": "stream",
     "text": [
      "('car1', 'RED', 560000, 4)\n"
     ]
    },
    {
     "ename": "AttributeError",
     "evalue": "'Car' object has no attribute 'name'",
     "output_type": "error",
     "traceback": [
      "\u001b[0;31m---------------------------------------------------------------------------\u001b[0m",
      "\u001b[0;31mAttributeError\u001b[0m                            Traceback (most recent call last)",
      "\u001b[0;32m<ipython-input-16-4841bb4ad2e1>\u001b[0m in \u001b[0;36m<module>\u001b[0;34m()\u001b[0m\n\u001b[1;32m     11\u001b[0m \u001b[0mprint\u001b[0m\u001b[0;34m(\u001b[0m\u001b[0mCar\u001b[0m\u001b[0;34m.\u001b[0m\u001b[0mget\u001b[0m\u001b[0;34m(\u001b[0m\u001b[0mcar1\u001b[0m\u001b[0;34m)\u001b[0m\u001b[0;34m)\u001b[0m\u001b[0;34m\u001b[0m\u001b[0m\n\u001b[1;32m     12\u001b[0m \u001b[0mcar2\u001b[0m\u001b[0;34m=\u001b[0m\u001b[0mCar\u001b[0m\u001b[0;34m(\u001b[0m\u001b[0;34m)\u001b[0m\u001b[0;34m\u001b[0m\u001b[0m\n\u001b[0;32m---> 13\u001b[0;31m \u001b[0mprint\u001b[0m\u001b[0;34m(\u001b[0m\u001b[0mCar\u001b[0m\u001b[0;34m.\u001b[0m\u001b[0mget\u001b[0m\u001b[0;34m(\u001b[0m\u001b[0mcar2\u001b[0m\u001b[0;34m)\u001b[0m\u001b[0;34m)\u001b[0m\u001b[0;34m\u001b[0m\u001b[0m\n\u001b[0m",
      "\u001b[0;32m<ipython-input-16-4841bb4ad2e1>\u001b[0m in \u001b[0;36mget\u001b[0;34m(x)\u001b[0m\n\u001b[1;32m      6\u001b[0m         \u001b[0mx\u001b[0m\u001b[0;34m.\u001b[0m\u001b[0mprice\u001b[0m\u001b[0;34m=\u001b[0m\u001b[0mprice\u001b[0m\u001b[0;34m\u001b[0m\u001b[0m\n\u001b[1;32m      7\u001b[0m     \u001b[0;32mdef\u001b[0m \u001b[0mget\u001b[0m\u001b[0;34m(\u001b[0m\u001b[0mx\u001b[0m\u001b[0;34m)\u001b[0m\u001b[0;34m:\u001b[0m\u001b[0;34m\u001b[0m\u001b[0m\n\u001b[0;32m----> 8\u001b[0;31m         \u001b[0;32mreturn\u001b[0m \u001b[0mx\u001b[0m\u001b[0;34m.\u001b[0m\u001b[0mname\u001b[0m\u001b[0;34m,\u001b[0m\u001b[0mx\u001b[0m\u001b[0;34m.\u001b[0m\u001b[0mcolor\u001b[0m\u001b[0;34m,\u001b[0m\u001b[0mx\u001b[0m\u001b[0;34m.\u001b[0m\u001b[0mprice\u001b[0m\u001b[0;34m,\u001b[0m\u001b[0mx\u001b[0m\u001b[0;34m.\u001b[0m\u001b[0mno_wheels\u001b[0m\u001b[0;34m\u001b[0m\u001b[0m\n\u001b[0m\u001b[1;32m      9\u001b[0m \u001b[0mcar1\u001b[0m \u001b[0;34m=\u001b[0m \u001b[0mCar\u001b[0m\u001b[0;34m(\u001b[0m\u001b[0;34m)\u001b[0m\u001b[0;34m\u001b[0m\u001b[0m\n\u001b[1;32m     10\u001b[0m \u001b[0mCar\u001b[0m\u001b[0;34m.\u001b[0m\u001b[0mset_data\u001b[0m\u001b[0;34m(\u001b[0m\u001b[0mcar1\u001b[0m\u001b[0;34m,\u001b[0m\u001b[0;34m\"car1\"\u001b[0m\u001b[0;34m,\u001b[0m\u001b[0;34m\"RED\"\u001b[0m\u001b[0;34m,\u001b[0m\u001b[0;36m560000\u001b[0m\u001b[0;34m)\u001b[0m\u001b[0;34m\u001b[0m\u001b[0m\n",
      "\u001b[0;31mAttributeError\u001b[0m: 'Car' object has no attribute 'name'"
     ]
    }
   ],
   "source": [
    "class Car:\n",
    "    no_wheels=4\n",
    "    def set_data(x,name,color,price):\n",
    "        x.name=name\n",
    "        x.color=color\n",
    "        x.price=price\n",
    "    def get(x):\n",
    "        return x.name,x.color,x.price,x.no_wheels\n",
    "car1 = Car()\n",
    "Car.set_data(car1,\"car1\",\"RED\",560000)\n",
    "print(Car.get(car1))\n",
    "car2=Car()\n",
    "print(Car.get(car2))"
   ]
  },
  {
   "cell_type": "code",
   "execution_count": 17,
   "metadata": {},
   "outputs": [
    {
     "name": "stdout",
     "output_type": "stream",
     "text": [
      "('kwid', 'RED', 560000, 4)\n"
     ]
    }
   ],
   "source": [
    "class Car:\n",
    "    no_wheels=4\n",
    "    def set_data(x,name,color,price):\n",
    "        x.name=name\n",
    "        x.color=color\n",
    "        x.price=price\n",
    "    def get(x):\n",
    "        return x.name,x.color,x.price,x.no_wheels\n",
    "car1 = Car()\n",
    "#Car.set_data(car1,\"car1\",\"RED\",560000)\n",
    "car1.set_data(\"kwid\",\"RED\",560000)\n",
    "#print(Car.get(car1))\n",
    "print(car1.get())\n"
   ]
  },
  {
   "cell_type": "code",
   "execution_count": 18,
   "metadata": {},
   "outputs": [
    {
     "name": "stdout",
     "output_type": "stream",
     "text": [
      "('kwid', 'RED', 560000, 4)\n"
     ]
    }
   ],
   "source": [
    "class Car: # Car is a class object\n",
    "    no_wheels=4\n",
    "    def set_data(x,name,color,price):\n",
    "        x.name=name\n",
    "        x.color=color\n",
    "        x.price=price\n",
    "    def get(x):\n",
    "        return x.name,x.color,x.price,x.no_wheels\n",
    "car1 = Car() # car1 ref of the data object\n",
    "car1.set_data(\"kwid\",\"RED\",560000) # Car.set_data(car1,\"kwid\",\"RED\",560000)\n",
    "print(car1.get())"
   ]
  },
  {
   "cell_type": "code",
   "execution_count": 20,
   "metadata": {},
   "outputs": [
    {
     "name": "stdout",
     "output_type": "stream",
     "text": [
      "1000\n",
      "900\n"
     ]
    }
   ],
   "source": [
    "class Product:\n",
    "    def set_data(x,salesprice, costprice):\n",
    "        x.sale=salesprice\n",
    "        x.cost=costprice\n",
    "    def profit(x):\n",
    "        return x.sale - x.cost\n",
    "mi=Product()\n",
    "mi.set_data(6500,5500)\n",
    "vivo=Product()\n",
    "vivo.set_data(8900,8000)\n",
    "print(mi.profit())\n",
    "print(vivo.profit())"
   ]
  },
  {
   "cell_type": "code",
   "execution_count": 27,
   "metadata": {},
   "outputs": [
    {
     "name": "stdout",
     "output_type": "stream",
     "text": [
      "37400.0\n"
     ]
    }
   ],
   "source": [
    "# define a Emp class to calculate salary with 10% hike\n",
    "class Emp:\n",
    "    hike=10\n",
    "    def set_data(x,e_id,sal):\n",
    "        x.id=e_id\n",
    "        x.sal=sal\n",
    "    def sal_calc(x):\n",
    "        return x.sal*(x.hike/100)+x.sal\n",
    "jay=Emp()\n",
    "jay.set_data(\"6973\",34000)\n",
    "print(jay.sal_calc())\n",
    "        "
   ]
  },
  {
   "cell_type": "code",
   "execution_count": 28,
   "metadata": {},
   "outputs": [
    {
     "name": "stdout",
     "output_type": "stream",
     "text": [
      "37400.0\n"
     ]
    }
   ],
   "source": [
    "# define a Emp class to calculate salary with 10% hike\n",
    "class Emp:\n",
    "    hike=10\n",
    "    def set_data(self,e_id,sal):\n",
    "        self.id=e_id\n",
    "        self.sal=sal\n",
    "    def sal_calc(self):\n",
    "        return self.sal*(self.hike/100)+self.sal\n",
    "jay=Emp()\n",
    "jay.set_data(\"6973\",34000)\n",
    "print(jay.sal_calc())\n",
    "        "
   ]
  },
  {
   "cell_type": "code",
   "execution_count": 29,
   "metadata": {},
   "outputs": [
    {
     "name": "stdout",
     "output_type": "stream",
     "text": [
      "37400.0\n"
     ]
    },
    {
     "ename": "AttributeError",
     "evalue": "'Emp' object has no attribute 'sal'",
     "output_type": "error",
     "traceback": [
      "\u001b[0;31m---------------------------------------------------------------------------\u001b[0m",
      "\u001b[0;31mAttributeError\u001b[0m                            Traceback (most recent call last)",
      "\u001b[0;32m<ipython-input-29-6bca34326bcc>\u001b[0m in \u001b[0;36m<module>\u001b[0;34m()\u001b[0m\n\u001b[1;32m     11\u001b[0m \u001b[0mprint\u001b[0m\u001b[0;34m(\u001b[0m\u001b[0mjay\u001b[0m\u001b[0;34m.\u001b[0m\u001b[0msal_calc\u001b[0m\u001b[0;34m(\u001b[0m\u001b[0;34m)\u001b[0m\u001b[0;34m)\u001b[0m\u001b[0;34m\u001b[0m\u001b[0m\n\u001b[1;32m     12\u001b[0m \u001b[0mvedha\u001b[0m\u001b[0;34m=\u001b[0m\u001b[0mEmp\u001b[0m\u001b[0;34m(\u001b[0m\u001b[0;34m)\u001b[0m\u001b[0;34m\u001b[0m\u001b[0m\n\u001b[0;32m---> 13\u001b[0;31m \u001b[0mprint\u001b[0m\u001b[0;34m(\u001b[0m\u001b[0mvedha\u001b[0m\u001b[0;34m.\u001b[0m\u001b[0msal_calc\u001b[0m\u001b[0;34m(\u001b[0m\u001b[0;34m)\u001b[0m\u001b[0;34m)\u001b[0m\u001b[0;34m\u001b[0m\u001b[0m\n\u001b[0m",
      "\u001b[0;32m<ipython-input-29-6bca34326bcc>\u001b[0m in \u001b[0;36msal_calc\u001b[0;34m(self)\u001b[0m\n\u001b[1;32m      6\u001b[0m         \u001b[0mself\u001b[0m\u001b[0;34m.\u001b[0m\u001b[0msal\u001b[0m\u001b[0;34m=\u001b[0m\u001b[0msal\u001b[0m\u001b[0;34m\u001b[0m\u001b[0m\n\u001b[1;32m      7\u001b[0m     \u001b[0;32mdef\u001b[0m \u001b[0msal_calc\u001b[0m\u001b[0;34m(\u001b[0m\u001b[0mself\u001b[0m\u001b[0;34m)\u001b[0m\u001b[0;34m:\u001b[0m\u001b[0;34m\u001b[0m\u001b[0m\n\u001b[0;32m----> 8\u001b[0;31m         \u001b[0;32mreturn\u001b[0m \u001b[0mself\u001b[0m\u001b[0;34m.\u001b[0m\u001b[0msal\u001b[0m\u001b[0;34m*\u001b[0m\u001b[0;34m(\u001b[0m\u001b[0mself\u001b[0m\u001b[0;34m.\u001b[0m\u001b[0mhike\u001b[0m\u001b[0;34m/\u001b[0m\u001b[0;36m100\u001b[0m\u001b[0;34m)\u001b[0m\u001b[0;34m+\u001b[0m\u001b[0mself\u001b[0m\u001b[0;34m.\u001b[0m\u001b[0msal\u001b[0m\u001b[0;34m\u001b[0m\u001b[0m\n\u001b[0m\u001b[1;32m      9\u001b[0m \u001b[0mjay\u001b[0m\u001b[0;34m=\u001b[0m\u001b[0mEmp\u001b[0m\u001b[0;34m(\u001b[0m\u001b[0;34m)\u001b[0m\u001b[0;34m\u001b[0m\u001b[0m\n\u001b[1;32m     10\u001b[0m \u001b[0mjay\u001b[0m\u001b[0;34m.\u001b[0m\u001b[0mset_data\u001b[0m\u001b[0;34m(\u001b[0m\u001b[0;34m\"6973\"\u001b[0m\u001b[0;34m,\u001b[0m\u001b[0;36m34000\u001b[0m\u001b[0;34m)\u001b[0m\u001b[0;34m\u001b[0m\u001b[0m\n",
      "\u001b[0;31mAttributeError\u001b[0m: 'Emp' object has no attribute 'sal'"
     ]
    }
   ],
   "source": [
    "# define a Emp class to calculate salary with 10% hike\n",
    "class Emp:\n",
    "    hike=10\n",
    "    def set_data(self,e_id,sal):\n",
    "        self.id=e_id\n",
    "        self.sal=sal\n",
    "    def sal_calc(self):\n",
    "        return self.sal*(self.hike/100)+self.sal\n",
    "jay=Emp()\n",
    "jay.set_data(\"6973\",34000)\n",
    "print(jay.sal_calc())\n",
    "vedha=Emp()\n",
    "print(vedha.sal_calc())"
   ]
  },
  {
   "cell_type": "code",
   "execution_count": 30,
   "metadata": {},
   "outputs": [
    {
     "name": "stdout",
     "output_type": "stream",
     "text": [
      "this is class\n"
     ]
    }
   ],
   "source": [
    "class c1:\n",
    "    print(\"this is class\")\n",
    "    def get(self):\n",
    "        print(\"this is get\")"
   ]
  },
  {
   "cell_type": "code",
   "execution_count": 31,
   "metadata": {},
   "outputs": [
    {
     "name": "stdout",
     "output_type": "stream",
     "text": [
      "this is class\n"
     ]
    }
   ],
   "source": [
    "class c1:\n",
    "    print(\"this is class\")\n",
    "    def get(self):\n",
    "        print(\"this is get\")\n",
    "    def __init__(self):\n",
    "        print(\"this is init\")"
   ]
  },
  {
   "cell_type": "code",
   "execution_count": 32,
   "metadata": {},
   "outputs": [
    {
     "name": "stdout",
     "output_type": "stream",
     "text": [
      "this is class\n",
      "this is init\n"
     ]
    }
   ],
   "source": [
    "class c1:\n",
    "    print(\"this is class\")\n",
    "    def get(self):\n",
    "        print(\"this is get\")\n",
    "    def __init__(self):\n",
    "        print(\"this is init\")\n",
    "o1=c1()"
   ]
  },
  {
   "cell_type": "code",
   "execution_count": 33,
   "metadata": {},
   "outputs": [
    {
     "name": "stdout",
     "output_type": "stream",
     "text": [
      "this is class\n",
      "this is init\n",
      "this is init\n",
      "this is init\n"
     ]
    }
   ],
   "source": [
    "class c1:\n",
    "    print(\"this is class\")\n",
    "    def get(self):\n",
    "        print(\"this is get\")\n",
    "    def __init__(self): # constructor\n",
    "        print(\"this is init\")\n",
    "o1=c1()\n",
    "o2=c1()\n",
    "o3=c1()"
   ]
  },
  {
   "cell_type": "code",
   "execution_count": 35,
   "metadata": {},
   "outputs": [
    {
     "name": "stdout",
     "output_type": "stream",
     "text": [
      "this is class\n",
      "this is init\n",
      "this is init\n",
      "this is init\n"
     ]
    }
   ],
   "source": [
    "class c1:\n",
    "    print(\"this is class\")\n",
    "    def get(self):\n",
    "        print(\"this is get\")\n",
    "    def __init__(self): # constructor\n",
    "        print(\"this is init\")\n",
    "o1=c1()\n",
    "o2=c1()\n",
    "o3=c1()"
   ]
  },
  {
   "cell_type": "code",
   "execution_count": 36,
   "metadata": {},
   "outputs": [
    {
     "name": "stdout",
     "output_type": "stream",
     "text": [
      "this is class\n",
      "100\n",
      "this is init\n",
      "10\n",
      "this is init\n"
     ]
    },
    {
     "ename": "TypeError",
     "evalue": "__init__() missing 1 required positional argument: 'x'",
     "output_type": "error",
     "traceback": [
      "\u001b[0;31m---------------------------------------------------------------------------\u001b[0m",
      "\u001b[0;31mTypeError\u001b[0m                                 Traceback (most recent call last)",
      "\u001b[0;32m<ipython-input-36-148b508582b5>\u001b[0m in \u001b[0;36m<module>\u001b[0;34m()\u001b[0m\n\u001b[1;32m      8\u001b[0m \u001b[0mo1\u001b[0m\u001b[0;34m=\u001b[0m\u001b[0mc1\u001b[0m\u001b[0;34m(\u001b[0m\u001b[0;36m100\u001b[0m\u001b[0;34m)\u001b[0m\u001b[0;34m\u001b[0m\u001b[0m\n\u001b[1;32m      9\u001b[0m \u001b[0mo2\u001b[0m\u001b[0;34m=\u001b[0m\u001b[0mc1\u001b[0m\u001b[0;34m(\u001b[0m\u001b[0;36m10\u001b[0m\u001b[0;34m)\u001b[0m\u001b[0;34m\u001b[0m\u001b[0m\n\u001b[0;32m---> 10\u001b[0;31m \u001b[0mo3\u001b[0m\u001b[0;34m=\u001b[0m\u001b[0mc1\u001b[0m\u001b[0;34m(\u001b[0m\u001b[0;34m)\u001b[0m\u001b[0;34m\u001b[0m\u001b[0m\n\u001b[0m",
      "\u001b[0;31mTypeError\u001b[0m: __init__() missing 1 required positional argument: 'x'"
     ]
    }
   ],
   "source": [
    "class c1:\n",
    "    print(\"this is class\")\n",
    "    def get(self):\n",
    "        print(\"this is get\")\n",
    "    def __init__(self,x): # constructor\n",
    "        print(x)\n",
    "        print(\"this is init\")\n",
    "o1=c1(100)\n",
    "o2=c1(10)\n",
    "o3=c1()"
   ]
  },
  {
   "cell_type": "code",
   "execution_count": 37,
   "metadata": {},
   "outputs": [
    {
     "name": "stdout",
     "output_type": "stream",
     "text": [
      "37400.0\n"
     ]
    },
    {
     "ename": "TypeError",
     "evalue": "__init__() missing 2 required positional arguments: 'e_id' and 'sal'",
     "output_type": "error",
     "traceback": [
      "\u001b[0;31m---------------------------------------------------------------------------\u001b[0m",
      "\u001b[0;31mTypeError\u001b[0m                                 Traceback (most recent call last)",
      "\u001b[0;32m<ipython-input-37-86716769f8d6>\u001b[0m in \u001b[0;36m<module>\u001b[0;34m()\u001b[0m\n\u001b[1;32m     10\u001b[0m \u001b[0;31m#jay.set_data(\"6973\",34000)\u001b[0m\u001b[0;34m\u001b[0m\u001b[0;34m\u001b[0m\u001b[0m\n\u001b[1;32m     11\u001b[0m \u001b[0mprint\u001b[0m\u001b[0;34m(\u001b[0m\u001b[0mjay\u001b[0m\u001b[0;34m.\u001b[0m\u001b[0msal_calc\u001b[0m\u001b[0;34m(\u001b[0m\u001b[0;34m)\u001b[0m\u001b[0;34m)\u001b[0m\u001b[0;34m\u001b[0m\u001b[0m\n\u001b[0;32m---> 12\u001b[0;31m \u001b[0mvedha\u001b[0m\u001b[0;34m=\u001b[0m\u001b[0mEmp\u001b[0m\u001b[0;34m(\u001b[0m\u001b[0;34m)\u001b[0m\u001b[0;34m\u001b[0m\u001b[0m\n\u001b[0m\u001b[1;32m     13\u001b[0m \u001b[0mprint\u001b[0m\u001b[0;34m(\u001b[0m\u001b[0mvedha\u001b[0m\u001b[0;34m.\u001b[0m\u001b[0msal_calc\u001b[0m\u001b[0;34m(\u001b[0m\u001b[0;34m)\u001b[0m\u001b[0;34m)\u001b[0m\u001b[0;34m\u001b[0m\u001b[0m\n",
      "\u001b[0;31mTypeError\u001b[0m: __init__() missing 2 required positional arguments: 'e_id' and 'sal'"
     ]
    }
   ],
   "source": [
    "# define a Emp class to calculate salary with 10% hike\n",
    "class Emp:\n",
    "    hike=10\n",
    "    def __init__(self,e_id,sal):\n",
    "        self.id=e_id\n",
    "        self.sal=sal\n",
    "    def sal_calc(self):\n",
    "        return self.sal*(self.hike/100)+self.sal\n",
    "jay=Emp(\"6973\",34000)\n",
    "#jay.set_data(\"6973\",34000)\n",
    "print(jay.sal_calc())\n",
    "vedha=Emp()\n",
    "print(vedha.sal_calc())"
   ]
  },
  {
   "cell_type": "code",
   "execution_count": 38,
   "metadata": {},
   "outputs": [
    {
     "name": "stdout",
     "output_type": "stream",
     "text": [
      "37400.0\n",
      "61600.0\n"
     ]
    }
   ],
   "source": [
    "# define a Emp class to calculate salary with 10% hike\n",
    "class Emp:\n",
    "    hike=10\n",
    "    def __init__(self,e_id,sal):\n",
    "        self.id=e_id\n",
    "        self.sal=sal\n",
    "    def sal_calc(self):\n",
    "        return self.sal*(self.hike/100)+self.sal\n",
    "jay=Emp(\"6973\",34000)\n",
    "#jay.set_data(\"6973\",34000)\n",
    "print(jay.sal_calc())\n",
    "vedha=Emp(\"6874\",56000)\n",
    "print(vedha.sal_calc())"
   ]
  },
  {
   "cell_type": "code",
   "execution_count": 39,
   "metadata": {},
   "outputs": [
    {
     "ename": "SyntaxError",
     "evalue": "invalid syntax (<ipython-input-39-6e09ad12e409>, line 3)",
     "output_type": "error",
     "traceback": [
      "\u001b[0;36m  File \u001b[0;32m\"<ipython-input-39-6e09ad12e409>\"\u001b[0;36m, line \u001b[0;32m3\u001b[0m\n\u001b[0;31m    id=\u001b[0m\n\u001b[0m       ^\u001b[0m\n\u001b[0;31mSyntaxError\u001b[0m\u001b[0;31m:\u001b[0m invalid syntax\n"
     ]
    }
   ],
   "source": [
    "# define a Emp class to calculate salary with 10% hike\n",
    "class Emp:\n",
    "    id=None\n",
    "    hike=10\n",
    "    sal=10000\n",
    "    def __init__(self,*k):\n",
    "        if len(k)==2:\n",
    "            self.id,self.sal=k\n",
    "        elif len(k)==1:\n",
    "            self.id=k\n",
    "    def sal_calc(self):\n",
    "        return self.sal*(self.hike/100)+self.sal\n",
    "jay=Emp(\"6973\",34000)\n",
    "#jay.set_data(\"6973\",34000)\n",
    "print(jay.sal_calc())\n",
    "vedha=Emp(\"6874\",56000)\n",
    "print(vedha.sal_calc())"
   ]
  },
  {
   "cell_type": "code",
   "execution_count": 41,
   "metadata": {},
   "outputs": [
    {
     "name": "stdout",
     "output_type": "stream",
     "text": [
      "34340.0\n",
      "56560.0\n"
     ]
    }
   ],
   "source": [
    "# define a Emp class to calculate salary with 10% hike\n",
    "class Emp:\n",
    "    hike=10\n",
    "    def __init__(self,**k):\n",
    "        self.context = k\n",
    "    def sal_calc(self):\n",
    "        if \"sal\" in self.context:\n",
    "            emp_sal = self.context.get(\"sal\")\n",
    "            return emp_sal+emp_sal*(self.hike/1000)\n",
    "        else:\n",
    "            return 0\n",
    "jay=Emp(e_id=\"6973\",sal=34000)\n",
    "#jay.set_data(\"6973\",34000)\n",
    "print(jay.sal_calc())\n",
    "vedha=Emp(w_id=\"6874\",sal=56000)\n",
    "print(vedha.sal_calc())"
   ]
  },
  {
   "cell_type": "code",
   "execution_count": 42,
   "metadata": {},
   "outputs": [
    {
     "name": "stdout",
     "output_type": "stream",
     "text": [
      "34340.0\n",
      "56560.0\n",
      "0\n"
     ]
    }
   ],
   "source": [
    "# define a Emp class to calculate salary with 10% hike\n",
    "class Emp:\n",
    "    hike=10\n",
    "    def __init__(self,**k):\n",
    "        self.context = k\n",
    "    def sal_calc(self):\n",
    "        if \"sal\" in self.context:\n",
    "            emp_sal = self.context.get(\"sal\")\n",
    "            return emp_sal+emp_sal*(self.hike/1000)\n",
    "        else:\n",
    "            return 0\n",
    "jay=Emp(e_id=\"6973\",sal=34000)\n",
    "#jay.set_data(\"6973\",34000)\n",
    "print(jay.sal_calc())\n",
    "vedha=Emp(w_id=\"6874\",sal=56000)\n",
    "print(vedha.sal_calc())\n",
    "sai=Emp()\n",
    "print(sai.sal_calc())"
   ]
  },
  {
   "cell_type": "code",
   "execution_count": null,
   "metadata": {},
   "outputs": [],
   "source": [
    "# Redifie the Car class no_wheels as clas object attributes, color, cost, name as a data\n",
    "# object attributes. Make sure that the data object attributes are initialized in the \n",
    "# constructor.."
   ]
  }
 ],
 "metadata": {
  "kernelspec": {
   "display_name": "Python 3",
   "language": "python",
   "name": "python3"
  },
  "language_info": {
   "codemirror_mode": {
    "name": "ipython",
    "version": 3
   },
   "file_extension": ".py",
   "mimetype": "text/x-python",
   "name": "python",
   "nbconvert_exporter": "python",
   "pygments_lexer": "ipython3",
   "version": "3.7.0"
  }
 },
 "nbformat": 4,
 "nbformat_minor": 2
}
